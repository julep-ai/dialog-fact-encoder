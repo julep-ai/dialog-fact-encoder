{
 "cells": [
  {
   "cell_type": "markdown",
   "id": "8198fee9-000e-4ef9-bb13-82c649c2e816",
   "metadata": {},
   "source": [
    "## Training to retrieve beliefs for dialogs\n",
    "\n",
    "**Goal:** Train an embedding model to match dialogs with beliefs and facts\n",
    "**Method:**\n",
    "- [x] Use bge_small_en_15 model as base\n",
    "- [x] Use stacked_samsum + dialogsum as datasets\n",
    "- [x] Prepare datasets\n",
    "    - [x] remove unnecessary columns\n",
    "    - [x] remove '#' from dialogsum\n",
    "    - [x] expand the stacked dataset\n",
    "    - [x] truncate on the left to 512 tokens\n",
    "    - [x] combine and train_test_split\n",
    "- [x] evaluate embedding similarity using base on test split\n",
    "    - [x] calc embeddings\n",
    "    - [x] calc cosine scores\n",
    "    - [x] visualize using matplotlib\n",
    "- [x] finetune the model on train dataset\n",
    "    - [x] add prefix as necessary\n",
    "- [ ] Evaluate the final model on the test-set\n",
    "- [ ] Compare results"
   ]
  },
  {
   "cell_type": "markdown",
   "id": "6a1ec397-3b13-4e2b-8e0f-9cf127378b8f",
   "metadata": {},
   "source": [
    "### Imports and utils"
   ]
  },
  {
   "cell_type": "code",
   "execution_count": 1,
   "id": "94dea7bd-f87b-4559-bd82-dadf3dfd6025",
   "metadata": {},
   "outputs": [],
   "source": [
    "model_name = \"BAAI/bge-small-en-v1.5\"\n",
    "query_prefix = \"Represent this sentence for searching relevant passages:\"\n",
    "max_len = 512\n",
    "next_concept_sep = \"\\n[NEXT_CONCEPT]\\n\"\n",
    "training_input_data = \"./data/output.jsonl\"\n",
    "training_hn_data = \"./data/hn-output.jsonl\""
   ]
  },
  {
   "cell_type": "markdown",
   "id": "fe53fc09-0942-4e9a-921c-3804a1ede8ac",
   "metadata": {},
   "source": [
    "### Constants"
   ]
  },
  {
   "cell_type": "code",
   "execution_count": 2,
   "id": "5e40d321-04e7-4048-891c-6748c6354a28",
   "metadata": {},
   "outputs": [],
   "source": [
    "%matplotlib inline\n",
    "\n",
    "from functools import partial\n",
    "import os\n",
    "import random\n",
    "\n",
    "from datasets import load_dataset, concatenate_datasets\n",
    "from FlagEmbedding import FlagModel\n",
    "from FlagEmbedding.baai_general_embedding.finetune.hn_mine import find_knn_neg\n",
    "import jsonlines as jsonl\n",
    "import matplotlib.pyplot as plt\n",
    "import numpy as np\n",
    "from numpy import dot\n",
    "from numpy.linalg import norm\n",
    "from tqdm.auto import tqdm\n",
    "from transformers import AutoTokenizer\n",
    "\n",
    "os.environ[\"CUDA_VISIBLE_DEVICES\"] = \"0,1,2\"\n",
    "tokenizer = AutoTokenizer.from_pretrained(model_name)"
   ]
  },
  {
   "cell_type": "markdown",
   "id": "2eb6f55d-ec09-4bc5-8f1a-31e521ad3121",
   "metadata": {},
   "source": [
    "### Datasets\n",
    "\n",
    "#### Initial run\n",
    "\n",
    "- stacked_samsum: to be used as training\n",
    "- dialogsum: to be used as testing\n",
    "\n",
    "#### Final run\n",
    "\n",
    "- combined: stacked_samsum + dialogsum"
   ]
  },
  {
   "cell_type": "code",
   "execution_count": 3,
   "id": "3f5420aa-d327-4d3a-8e02-90473dcca1be",
   "metadata": {},
   "outputs": [],
   "source": [
    "datasets = {\n",
    "    \"stacked_samsum\": load_dataset(\n",
    "        \"stacked-summaries/stacked-samsum-1024\", \n",
    "        split=\"train+validation+test\",\n",
    "    ).remove_columns(['chapter_length', 'summary_length', 'is_stacked',]).filter(\n",
    "        lambda row: row[\"dialogue\"]\n",
    "    ).map(\n",
    "        lambda row: dict(dialogue=row[\"dialogue\"].replace(\"\\r\\n\", '\\n'))\n",
    "    ),\n",
    "    \"dialogsum\": load_dataset(\n",
    "        \"knkarthick/dialogsum\", \n",
    "        split=\"train+validation+test\",\n",
    "    ).remove_columns([\"id\", \"topic\"]).map(\n",
    "        lambda row: dict(dialogue=row[\"dialogue\"].replace(\"#\", ''))\n",
    "    ),\n",
    "}"
   ]
  },
  {
   "cell_type": "code",
   "execution_count": 4,
   "id": "999a7a8f-6875-49ea-bda2-c54602f0748f",
   "metadata": {},
   "outputs": [],
   "source": [
    "def count_tokens(row):\n",
    "\n",
    "    dialogue = row[\"dialogue\"]\n",
    "    tokens = tokenizer.encode(dialogue, add_special_tokens=False)\n",
    "\n",
    "    return dict(token_count=len(tokens))\n",
    "\n",
    "datasets[\"stacked_samsum\"] = datasets[\"stacked_samsum\"].map(count_tokens)\n",
    "datasets[\"dialogsum\"] = datasets[\"dialogsum\"].map(count_tokens)"
   ]
  },
  {
   "cell_type": "code",
   "execution_count": 5,
   "id": "a3ab49b0-a246-428b-8d7d-524341bcb4c5",
   "metadata": {},
   "outputs": [],
   "source": [
    "def truncate_dir(dialogue, left=False):\n",
    "    lines = dialogue.split(\"\\n\")\n",
    "    \n",
    "    toks_by_line = [\n",
    "        len(tokenizer.encode(line, add_special_tokens=False))\n",
    "        for line in lines\n",
    "    ]\n",
    "\n",
    "    idx = 0 if left else -1\n",
    "    \n",
    "    while sum(toks_by_line) > max_len:\n",
    "        toks_by_line.pop(idx)\n",
    "        lines.pop(idx)\n",
    "\n",
    "    return \"\\n\".join(lines)\n",
    "\n",
    "def expand_stacked(rows):\n",
    "    dialogues = rows[\"dialogue\"]\n",
    "    summaries = rows[\"summary\"]\n",
    "\n",
    "    final_dialogues = []\n",
    "    final_summaries = []\n",
    "    \n",
    "    for dialogue, summary in zip(dialogues, summaries):\n",
    "        \n",
    "        ss = summary.split(next_concept_sep)\n",
    "        dd = [\n",
    "            truncate_dir(dialogue, left=(i >= (len(ss) // 2)))\n",
    "            for i in range(len(ss))\n",
    "        ]\n",
    "\n",
    "        final_dialogues += dd\n",
    "        final_summaries += ss\n",
    "\n",
    "    return dict(\n",
    "        dialogue=final_dialogues,\n",
    "        summary=final_summaries,\n",
    "        token_count=[None]*len(final_summaries),\n",
    "    )\n",
    "\n",
    "datasets[\"stacked_samsum\"] = datasets[\"stacked_samsum\"].map(expand_stacked, batched=True).remove_columns([\"token_count\"])"
   ]
  },
  {
   "cell_type": "code",
   "execution_count": 6,
   "id": "1080dbe1-8958-4e13-93f7-ecfbf8da814f",
   "metadata": {},
   "outputs": [],
   "source": [
    "combined = concatenate_datasets(list(datasets.values()))"
   ]
  },
  {
   "cell_type": "code",
   "execution_count": 7,
   "id": "a557a00b-c593-4f54-b84e-8b7f9406d660",
   "metadata": {},
   "outputs": [],
   "source": [
    "combined = combined.train_test_split(test_size=0.1)"
   ]
  },
  {
   "cell_type": "markdown",
   "id": "bc7f4744-2c5d-452d-9693-583317d07aca",
   "metadata": {},
   "source": [
    "### Embed using base model (before tuning)"
   ]
  },
  {
   "cell_type": "code",
   "execution_count": 15,
   "id": "3a9b6e6a-4de7-4277-96c1-6b30e140131d",
   "metadata": {},
   "outputs": [],
   "source": [
    "def embed(rows, model_name=model_name, query_prefix=query_prefix):\n",
    "    from FlagEmbedding import FlagModel\n",
    "\n",
    "    model = FlagModel(\n",
    "        model_name,\n",
    "        query_instruction_for_retrieval=query_prefix,\n",
    "        use_fp16=False,\n",
    "    )\n",
    "\n",
    "    dialogues = rows[\"dialogue\"]\n",
    "    summaries = rows[\"summary\"]\n",
    "\n",
    "    dialogue_embs = model.encode(dialogues).tolist()\n",
    "    summary_embs = model.encode_queries(summaries).tolist()\n",
    "\n",
    "    return dict(\n",
    "        dialogue_emb=dialogue_embs,\n",
    "        summary_emb=summary_embs,\n",
    "    )"
   ]
  },
  {
   "cell_type": "code",
   "execution_count": 16,
   "id": "45b531eb-a85e-44f2-84af-1384bb79c58b",
   "metadata": {
    "scrolled": true
   },
   "outputs": [
    {
     "data": {
      "application/vnd.jupyter.widget-view+json": {
       "model_id": "278b691fe594420eaf07d6549694f1b2",
       "version_major": 2,
       "version_minor": 0
      },
      "text/plain": [
       "Map:   0%|          | 0/13968 [00:00<?, ? examples/s]"
      ]
     },
     "metadata": {},
     "output_type": "display_data"
    },
    {
     "name": "stdout",
     "output_type": "stream",
     "text": [
      "----------using 2*GPUs----------\n"
     ]
    },
    {
     "name": "stderr",
     "output_type": "stream",
     "text": [
      "\n",
      "Inference Embeddings:   0%|                                                                                                                                | 0/2 [00:00<?, ?it/s]\u001b[A\n",
      "Inference Embeddings:  50%|████████████████████████████████████████████████████████████                                                            | 1/2 [00:02<00:02,  2.27s/it]\u001b[A\n",
      "Inference Embeddings: 100%|████████████████████████████████████████████████████████████████████████████████████████████████████████████████████████| 2/2 [00:04<00:00,  2.22s/it]\u001b[A\n",
      "\n",
      "Inference Embeddings:   0%|                                                                                                                                | 0/2 [00:00<?, ?it/s]\u001b[A\n",
      "Inference Embeddings:  50%|████████████████████████████████████████████████████████████                                                            | 1/2 [00:00<00:00,  3.72it/s]\u001b[A\n",
      "Inference Embeddings: 100%|████████████████████████████████████████████████████████████████████████████████████████████████████████████████████████| 2/2 [00:00<00:00,  2.69it/s]\u001b[A\n"
     ]
    },
    {
     "name": "stdout",
     "output_type": "stream",
     "text": [
      "----------using 2*GPUs----------\n"
     ]
    },
    {
     "name": "stderr",
     "output_type": "stream",
     "text": [
      "\n",
      "Inference Embeddings:   0%|                                                                                                                                | 0/2 [00:00<?, ?it/s]\u001b[A\n",
      "Inference Embeddings:  50%|████████████████████████████████████████████████████████████                                                            | 1/2 [00:02<00:02,  2.25s/it]\u001b[A\n",
      "Inference Embeddings: 100%|████████████████████████████████████████████████████████████████████████████████████████████████████████████████████████| 2/2 [00:04<00:00,  2.25s/it]\u001b[A\n",
      "\n",
      "Inference Embeddings:   0%|                                                                                                                                | 0/2 [00:00<?, ?it/s]\u001b[A\n",
      "Inference Embeddings:  50%|████████████████████████████████████████████████████████████                                                            | 1/2 [00:00<00:00,  3.15it/s]\u001b[A\n",
      "Inference Embeddings: 100%|████████████████████████████████████████████████████████████████████████████████████████████████████████████████████████| 2/2 [00:00<00:00,  3.20it/s]\u001b[A\n"
     ]
    },
    {
     "name": "stdout",
     "output_type": "stream",
     "text": [
      "----------using 2*GPUs----------\n"
     ]
    },
    {
     "name": "stderr",
     "output_type": "stream",
     "text": [
      "\n",
      "Inference Embeddings:   0%|                                                                                                                                | 0/2 [00:00<?, ?it/s]\u001b[A\n",
      "Inference Embeddings:  50%|████████████████████████████████████████████████████████████                                                            | 1/2 [00:02<00:02,  2.34s/it]\u001b[A\n",
      "Inference Embeddings: 100%|████████████████████████████████████████████████████████████████████████████████████████████████████████████████████████| 2/2 [00:04<00:00,  2.25s/it]\u001b[A\n",
      "\n",
      "Inference Embeddings:   0%|                                                                                                                                | 0/2 [00:00<?, ?it/s]\u001b[A\n",
      "Inference Embeddings:  50%|████████████████████████████████████████████████████████████                                                            | 1/2 [00:00<00:00,  2.84it/s]\u001b[A\n",
      "Inference Embeddings: 100%|████████████████████████████████████████████████████████████████████████████████████████████████████████████████████████| 2/2 [00:00<00:00,  3.25it/s]\u001b[A\n"
     ]
    },
    {
     "name": "stdout",
     "output_type": "stream",
     "text": [
      "----------using 2*GPUs----------\n"
     ]
    },
    {
     "name": "stderr",
     "output_type": "stream",
     "text": [
      "\n",
      "Inference Embeddings:   0%|                                                                                                                                | 0/2 [00:00<?, ?it/s]\u001b[A\n",
      "Inference Embeddings:  50%|████████████████████████████████████████████████████████████                                                            | 1/2 [00:02<00:02,  2.29s/it]\u001b[A\n",
      "Inference Embeddings: 100%|████████████████████████████████████████████████████████████████████████████████████████████████████████████████████████| 2/2 [00:04<00:00,  2.26s/it]\u001b[A\n",
      "\n",
      "Inference Embeddings:   0%|                                                                                                                                | 0/2 [00:00<?, ?it/s]\u001b[A\n",
      "Inference Embeddings:  50%|████████████████████████████████████████████████████████████                                                            | 1/2 [00:00<00:00,  2.58it/s]\u001b[A\n",
      "Inference Embeddings: 100%|████████████████████████████████████████████████████████████████████████████████████████████████████████████████████████| 2/2 [00:00<00:00,  3.05it/s]\u001b[A\n"
     ]
    },
    {
     "name": "stdout",
     "output_type": "stream",
     "text": [
      "----------using 2*GPUs----------\n"
     ]
    },
    {
     "name": "stderr",
     "output_type": "stream",
     "text": [
      "\n",
      "Inference Embeddings:   0%|                                                                                                                                | 0/2 [00:00<?, ?it/s]\u001b[A\n",
      "Inference Embeddings:  50%|████████████████████████████████████████████████████████████                                                            | 1/2 [00:02<00:02,  2.30s/it]\u001b[A\n",
      "Inference Embeddings: 100%|████████████████████████████████████████████████████████████████████████████████████████████████████████████████████████| 2/2 [00:04<00:00,  2.26s/it]\u001b[A\n",
      "\n",
      "Inference Embeddings:   0%|                                                                                                                                | 0/2 [00:00<?, ?it/s]\u001b[A\n",
      "Inference Embeddings:  50%|████████████████████████████████████████████████████████████                                                            | 1/2 [00:00<00:00,  3.57it/s]\u001b[A\n",
      "Inference Embeddings: 100%|████████████████████████████████████████████████████████████████████████████████████████████████████████████████████████| 2/2 [00:00<00:00,  3.69it/s]\u001b[A\n"
     ]
    },
    {
     "name": "stdout",
     "output_type": "stream",
     "text": [
      "----------using 2*GPUs----------\n"
     ]
    },
    {
     "name": "stderr",
     "output_type": "stream",
     "text": [
      "\n",
      "Inference Embeddings:   0%|                                                                                                                                | 0/2 [00:00<?, ?it/s]\u001b[A\n",
      "Inference Embeddings:  50%|████████████████████████████████████████████████████████████                                                            | 1/2 [00:02<00:02,  2.35s/it]\u001b[A\n",
      "Inference Embeddings: 100%|████████████████████████████████████████████████████████████████████████████████████████████████████████████████████████| 2/2 [00:04<00:00,  2.30s/it]\u001b[A\n",
      "\n",
      "Inference Embeddings:   0%|                                                                                                                                | 0/2 [00:00<?, ?it/s]\u001b[A\n",
      "Inference Embeddings:  50%|████████████████████████████████████████████████████████████                                                            | 1/2 [00:00<00:00,  3.31it/s]\u001b[A\n",
      "Inference Embeddings: 100%|████████████████████████████████████████████████████████████████████████████████████████████████████████████████████████| 2/2 [00:00<00:00,  3.01it/s]\u001b[A\n"
     ]
    },
    {
     "name": "stdout",
     "output_type": "stream",
     "text": [
      "----------using 2*GPUs----------\n"
     ]
    },
    {
     "name": "stderr",
     "output_type": "stream",
     "text": [
      "\n",
      "Inference Embeddings:   0%|                                                                                                                                | 0/2 [00:00<?, ?it/s]\u001b[A\n",
      "Inference Embeddings:  50%|████████████████████████████████████████████████████████████                                                            | 1/2 [00:02<00:02,  2.34s/it]\u001b[A\n",
      "Inference Embeddings: 100%|████████████████████████████████████████████████████████████████████████████████████████████████████████████████████████| 2/2 [00:04<00:00,  2.30s/it]\u001b[A\n",
      "\n",
      "Inference Embeddings:   0%|                                                                                                                                | 0/2 [00:00<?, ?it/s]\u001b[A\n",
      "Inference Embeddings:  50%|████████████████████████████████████████████████████████████                                                            | 1/2 [00:00<00:00,  2.82it/s]\u001b[A\n",
      "Inference Embeddings: 100%|████████████████████████████████████████████████████████████████████████████████████████████████████████████████████████| 2/2 [00:00<00:00,  3.03it/s]\u001b[A\n"
     ]
    },
    {
     "name": "stdout",
     "output_type": "stream",
     "text": [
      "----------using 2*GPUs----------\n"
     ]
    },
    {
     "name": "stderr",
     "output_type": "stream",
     "text": [
      "\n",
      "Inference Embeddings:   0%|                                                                                                                                | 0/2 [00:00<?, ?it/s]\u001b[A\n",
      "Inference Embeddings:  50%|████████████████████████████████████████████████████████████                                                            | 1/2 [00:02<00:02,  2.43s/it]\u001b[A\n",
      "Inference Embeddings: 100%|████████████████████████████████████████████████████████████████████████████████████████████████████████████████████████| 2/2 [00:04<00:00,  2.40s/it]\u001b[A\n",
      "\n",
      "Inference Embeddings:   0%|                                                                                                                                | 0/2 [00:00<?, ?it/s]\u001b[A\n",
      "Inference Embeddings:  50%|████████████████████████████████████████████████████████████                                                            | 1/2 [00:00<00:00,  3.45it/s]\u001b[A\n",
      "Inference Embeddings: 100%|████████████████████████████████████████████████████████████████████████████████████████████████████████████████████████| 2/2 [00:00<00:00,  2.92it/s]\u001b[A\n"
     ]
    },
    {
     "name": "stdout",
     "output_type": "stream",
     "text": [
      "----------using 2*GPUs----------\n"
     ]
    },
    {
     "name": "stderr",
     "output_type": "stream",
     "text": [
      "\n",
      "Inference Embeddings:   0%|                                                                                                                                | 0/2 [00:00<?, ?it/s]\u001b[A\n",
      "Inference Embeddings:  50%|████████████████████████████████████████████████████████████                                                            | 1/2 [00:02<00:02,  2.55s/it]\u001b[A\n",
      "Inference Embeddings: 100%|████████████████████████████████████████████████████████████████████████████████████████████████████████████████████████| 2/2 [00:05<00:00,  2.52s/it]\u001b[A\n",
      "\n",
      "Inference Embeddings:   0%|                                                                                                                                | 0/2 [00:00<?, ?it/s]\u001b[A\n",
      "Inference Embeddings:  50%|████████████████████████████████████████████████████████████                                                            | 1/2 [00:00<00:00,  3.17it/s]\u001b[A\n",
      "Inference Embeddings: 100%|████████████████████████████████████████████████████████████████████████████████████████████████████████████████████████| 2/2 [00:00<00:00,  3.01it/s]\u001b[A\n"
     ]
    },
    {
     "name": "stdout",
     "output_type": "stream",
     "text": [
      "----------using 2*GPUs----------\n"
     ]
    },
    {
     "name": "stderr",
     "output_type": "stream",
     "text": [
      "\n",
      "Inference Embeddings:   0%|                                                                                                                                | 0/2 [00:00<?, ?it/s]\u001b[A\n",
      "Inference Embeddings:  50%|████████████████████████████████████████████████████████████                                                            | 1/2 [00:02<00:02,  2.61s/it]\u001b[A\n",
      "Inference Embeddings: 100%|████████████████████████████████████████████████████████████████████████████████████████████████████████████████████████| 2/2 [00:05<00:00,  2.59s/it]\u001b[A\n",
      "\n",
      "Inference Embeddings:   0%|                                                                                                                                | 0/2 [00:00<?, ?it/s]\u001b[A\n",
      "Inference Embeddings:  50%|████████████████████████████████████████████████████████████                                                            | 1/2 [00:00<00:00,  3.41it/s]\u001b[A\n",
      "Inference Embeddings: 100%|████████████████████████████████████████████████████████████████████████████████████████████████████████████████████████| 2/2 [00:00<00:00,  3.20it/s]\u001b[A\n"
     ]
    },
    {
     "name": "stdout",
     "output_type": "stream",
     "text": [
      "----------using 2*GPUs----------\n"
     ]
    },
    {
     "name": "stderr",
     "output_type": "stream",
     "text": [
      "\n",
      "Inference Embeddings:   0%|                                                                                                                                | 0/2 [00:00<?, ?it/s]\u001b[A\n",
      "Inference Embeddings:  50%|████████████████████████████████████████████████████████████                                                            | 1/2 [00:02<00:02,  2.86s/it]\u001b[A\n",
      "Inference Embeddings: 100%|████████████████████████████████████████████████████████████████████████████████████████████████████████████████████████| 2/2 [00:05<00:00,  2.70s/it]\u001b[A\n",
      "\n",
      "Inference Embeddings:   0%|                                                                                                                                | 0/2 [00:00<?, ?it/s]\u001b[A\n",
      "Inference Embeddings:  50%|████████████████████████████████████████████████████████████                                                            | 1/2 [00:00<00:00,  3.19it/s]\u001b[A\n",
      "Inference Embeddings: 100%|████████████████████████████████████████████████████████████████████████████████████████████████████████████████████████| 2/2 [00:00<00:00,  3.18it/s]\u001b[A\n"
     ]
    },
    {
     "name": "stdout",
     "output_type": "stream",
     "text": [
      "----------using 2*GPUs----------\n"
     ]
    },
    {
     "name": "stderr",
     "output_type": "stream",
     "text": [
      "\n",
      "Inference Embeddings:   0%|                                                                                                                                | 0/2 [00:00<?, ?it/s]\u001b[A\n",
      "Inference Embeddings:  50%|████████████████████████████████████████████████████████████                                                            | 1/2 [00:02<00:02,  2.65s/it]\u001b[A\n",
      "Inference Embeddings: 100%|████████████████████████████████████████████████████████████████████████████████████████████████████████████████████████| 2/2 [00:05<00:00,  2.61s/it]\u001b[A\n",
      "\n",
      "Inference Embeddings:   0%|                                                                                                                                | 0/2 [00:00<?, ?it/s]\u001b[A\n",
      "Inference Embeddings:  50%|████████████████████████████████████████████████████████████                                                            | 1/2 [00:00<00:00,  1.67it/s]\u001b[A\n",
      "Inference Embeddings: 100%|████████████████████████████████████████████████████████████████████████████████████████████████████████████████████████| 2/2 [00:00<00:00,  2.19it/s]\u001b[A\n"
     ]
    },
    {
     "name": "stdout",
     "output_type": "stream",
     "text": [
      "----------using 2*GPUs----------\n"
     ]
    },
    {
     "name": "stderr",
     "output_type": "stream",
     "text": [
      "\n",
      "Inference Embeddings:   0%|                                                                                                                                | 0/2 [00:00<?, ?it/s]\u001b[A\n",
      "Inference Embeddings:  50%|████████████████████████████████████████████████████████████                                                            | 1/2 [00:02<00:02,  2.56s/it]\u001b[A\n",
      "Inference Embeddings: 100%|████████████████████████████████████████████████████████████████████████████████████████████████████████████████████████| 2/2 [00:05<00:00,  2.56s/it]\u001b[A\n",
      "\n",
      "Inference Embeddings:   0%|                                                                                                                                | 0/2 [00:00<?, ?it/s]\u001b[A\n",
      "Inference Embeddings:  50%|████████████████████████████████████████████████████████████                                                            | 1/2 [00:00<00:00,  3.32it/s]\u001b[A\n",
      "Inference Embeddings: 100%|████████████████████████████████████████████████████████████████████████████████████████████████████████████████████████| 2/2 [00:00<00:00,  2.99it/s]\u001b[A\n"
     ]
    },
    {
     "name": "stdout",
     "output_type": "stream",
     "text": [
      "----------using 2*GPUs----------\n"
     ]
    },
    {
     "name": "stderr",
     "output_type": "stream",
     "text": [
      "\n",
      "Inference Embeddings:   0%|                                                                                                                                | 0/2 [00:00<?, ?it/s]\u001b[A\n",
      "Inference Embeddings:  50%|████████████████████████████████████████████████████████████                                                            | 1/2 [00:02<00:02,  2.64s/it]\u001b[A\n",
      "Inference Embeddings: 100%|████████████████████████████████████████████████████████████████████████████████████████████████████████████████████████| 2/2 [00:05<00:00,  2.52s/it]\u001b[A\n",
      "\n",
      "Inference Embeddings:   0%|                                                                                                                                | 0/2 [00:00<?, ?it/s]\u001b[A\n",
      "Inference Embeddings:  50%|████████████████████████████████████████████████████████████                                                            | 1/2 [00:00<00:00,  2.50it/s]\u001b[A\n",
      "Inference Embeddings: 100%|████████████████████████████████████████████████████████████████████████████████████████████████████████████████████████| 2/2 [00:00<00:00,  2.81it/s]\u001b[A\n"
     ]
    }
   ],
   "source": [
    "base_eval_ds = combined[\"test\"].map(embed, batched=True)"
   ]
  },
  {
   "cell_type": "code",
   "execution_count": 9,
   "id": "31c72fe6-834c-423a-8dfc-cd968024941a",
   "metadata": {},
   "outputs": [],
   "source": [
    "def calc_cos_sim(row):\n",
    "    dialogue_emb = row[\"dialogue_emb\"]\n",
    "    summary_emb = row[\"summary_emb\"]\n",
    "\n",
    "    a = np.array(dialogue_emb)\n",
    "    b = np.array(summary_emb)\n",
    "\n",
    "    cos_sim = dot(a, b)/(norm(a)*norm(b))\n",
    "\n",
    "    return dict(similarity=cos_sim)"
   ]
  },
  {
   "cell_type": "code",
   "execution_count": 17,
   "id": "908fd3a1-d705-4da3-8d0c-42268b112bc8",
   "metadata": {},
   "outputs": [
    {
     "data": {
      "application/vnd.jupyter.widget-view+json": {
       "model_id": "27a241f13c4d406bb343d6db25f7b3d5",
       "version_major": 2,
       "version_minor": 0
      },
      "text/plain": [
       "Map (num_proc=40):   0%|          | 0/13968 [00:00<?, ? examples/s]"
      ]
     },
     "metadata": {},
     "output_type": "display_data"
    }
   ],
   "source": [
    "base_eval_ds = base_eval_ds.map(calc_cos_sim, num_proc=40)"
   ]
  },
  {
   "cell_type": "markdown",
   "id": "ae9bd6f2-51d9-4d52-89ab-a931806aa1e7",
   "metadata": {},
   "source": [
    "### Evaluation (before tuning)"
   ]
  },
  {
   "cell_type": "code",
   "execution_count": 18,
   "id": "40990086-b854-4cce-a8ec-bc4faacb482f",
   "metadata": {},
   "outputs": [
    {
     "data": {
      "text/plain": [
       "1"
      ]
     },
     "execution_count": 18,
     "metadata": {},
     "output_type": "execute_result"
    },
    {
     "data": {
      "image/png": "[encoded data removed]",
      "text/plain": [
       "<Figure size 640x480 with 1 Axes>"
      ]
     },
     "metadata": {},
     "output_type": "display_data"
    }
   ],
   "source": [
    "plt.hist(base_eval_ds[\"similarity\"], bins=1000); 1"
   ]
  },
  {
   "cell_type": "markdown",
   "id": "767a4251-fab6-47ce-8cdc-e2416d70b440",
   "metadata": {},
   "source": [
    "### Prepare dataset for finetuning\n",
    "[Docs](https://github.com/FlagOpen/FlagEmbedding/tree/master/examples/finetune)\n",
    "\n",
    "Format:\n",
    "```json\n",
    "{\"query\": str, \"pos\": List[str], \"neg\":List[str]}\n",
    "```\n",
    "\n",
    "Keys:\n",
    "- query: belief\n",
    "- pos: list of matching conversations\n",
    "- neg: list of random conversations from dataset"
   ]
  },
  {
   "cell_type": "code",
   "execution_count": 13,
   "id": "10817e24-a6b5-49da-b1e7-6101b32a9135",
   "metadata": {},
   "outputs": [],
   "source": [
    "def pick_random(ds=combined[\"train\"], far_from=0):\n",
    "    ds_len = len(ds)\n",
    "    mid = ds_len // 2\n",
    "    which_half = far_from // mid\n",
    "    \n",
    "    start = (1 - which_half) * mid\n",
    "    end = ds_len - which_half * mid\n",
    "    idx = random.randrange(start, end)\n",
    "    \n",
    "    return ds[idx]"
   ]
  },
  {
   "cell_type": "code",
   "execution_count": 14,
   "id": "9bf3bf97-86c4-41f4-ab07-7de94ed72344",
   "metadata": {},
   "outputs": [
    {
     "data": {
      "application/vnd.jupyter.widget-view+json": {
       "model_id": "a20b849464484472b192d04719a6666a",
       "version_major": 2,
       "version_minor": 0
      },
      "text/plain": [
       "  0%|          | 0/125705 [00:00<?, ?it/s]"
      ]
     },
     "metadata": {},
     "output_type": "display_data"
    }
   ],
   "source": [
    "with jsonl.open(training_input_data, mode='w') as writer:\n",
    "    for i, row in enumerate(tqdm(combined[\"train\"], total=len(combined[\"train\"]))):\n",
    "        query = row[\"summary\"]\n",
    "        pos = [row[\"dialogue\"]]\n",
    "    \n",
    "        neg = [\n",
    "            pick_random(far_from=i)[\"dialogue\"]\n",
    "            for _ in range(3)\n",
    "        ]\n",
    "        \n",
    "        writer.write(dict(query=query, pos=pos, neg=neg))"
   ]
  },
  {
   "cell_type": "markdown",
   "id": "b6c895f9-9ef4-4edc-b65d-722188eaa8bd",
   "metadata": {},
   "source": [
    "### Mine hard negatives"
   ]
  },
  {
   "cell_type": "code",
   "execution_count": 15,
   "id": "b73cf693-4138-429f-8188-0a72b36ed44b",
   "metadata": {},
   "outputs": [
    {
     "name": "stdout",
     "output_type": "stream",
     "text": [
      "----------using 3*GPUs----------\n"
     ]
    }
   ],
   "source": [
    "model = FlagModel(\n",
    "    model_name,\n",
    "    query_instruction_for_retrieval=query_prefix,\n",
    ")"
   ]
  },
  {
   "cell_type": "code",
   "execution_count": 16,
   "id": "adc677e6-c28f-49f9-a812-5cd4e93084b3",
   "metadata": {},
   "outputs": [
    {
     "name": "stdout",
     "output_type": "stream",
     "text": [
      "inferencing embedding for corpus (number=51135)--------------\n"
     ]
    },
    {
     "name": "stderr",
     "output_type": "stream",
     "text": [
      "Inference Embeddings: 100%|██████████████████████████████████████████████████████████████████████████████████████████████████████████████████████| 67/67 [01:45<00:00,  1.58s/it]\n"
     ]
    },
    {
     "name": "stdout",
     "output_type": "stream",
     "text": [
      "inferencing embedding for queries (number=125705)--------------\n"
     ]
    },
    {
     "name": "stderr",
     "output_type": "stream",
     "text": [
      "Inference Embeddings: 100%|████████████████████████████████████████████████████████████████████████████████████████████████████████████████████| 164/164 [00:46<00:00,  3.54it/s]\n"
     ]
    },
    {
     "name": "stdout",
     "output_type": "stream",
     "text": [
      "create index and search------------------\n"
     ]
    },
    {
     "name": "stderr",
     "output_type": "stream",
     "text": [
      "Batches: 100%|██████████████████████████████████████████████████████████████████████████████████████████████████████████████████████████████| 1965/1965 [00:04<00:00, 428.59it/s]\n"
     ]
    }
   ],
   "source": [
    "find_knn_neg(\n",
    "    model,\n",
    "    input_file=training_input_data,\n",
    "    candidate_pool=None,\n",
    "    output_file=training_hn_data,\n",
    "    sample_range=list(range(2, 200)),\n",
    "    negative_number=15,\n",
    "    use_gpu=True,\n",
    ")"
   ]
  },
  {
   "cell_type": "markdown",
   "id": "1e76eafa-62a3-4aef-81c3-4c33eb2236ed",
   "metadata": {},
   "source": [
    "### Finetune"
   ]
  },
  {
   "cell_type": "code",
   "execution_count": 10,
   "id": "76a3c724-2d9e-4a8f-979f-7bf6f153e150",
   "metadata": {},
   "outputs": [],
   "source": [
    "# Done separately on command line"
   ]
  },
  {
   "cell_type": "markdown",
   "id": "0cf8b107-07ad-4655-a6ba-9ac6f04455b7",
   "metadata": {},
   "source": [
    "### Visualize results (after tuning)"
   ]
  },
  {
   "cell_type": "code",
   "execution_count": 19,
   "id": "141ac5c7-e669-474b-8357-39c2d9b5a6f1",
   "metadata": {
    "scrolled": true
   },
   "outputs": [
    {
     "data": {
      "application/vnd.jupyter.widget-view+json": {
       "model_id": "137aaaafecef450e952017706c0eb08c",
       "version_major": 2,
       "version_minor": 0
      },
      "text/plain": [
       "Map:   0%|          | 0/13968 [00:00<?, ? examples/s]"
      ]
     },
     "metadata": {},
     "output_type": "display_data"
    },
    {
     "name": "stdout",
     "output_type": "stream",
     "text": [
      "----------using 2*GPUs----------\n"
     ]
    },
    {
     "name": "stderr",
     "output_type": "stream",
     "text": [
      "\n",
      "Inference Embeddings:   0%|                                                                                                                                | 0/2 [00:00<?, ?it/s]\u001b[A\n",
      "Inference Embeddings:  50%|████████████████████████████████████████████████████████████                                                            | 1/2 [00:02<00:02,  2.44s/it]\u001b[A\n",
      "Inference Embeddings: 100%|████████████████████████████████████████████████████████████████████████████████████████████████████████████████████████| 2/2 [00:05<00:00,  2.55s/it]\u001b[A\n",
      "\n",
      "Inference Embeddings:   0%|                                                                                                                                | 0/2 [00:00<?, ?it/s]\u001b[A\n",
      "Inference Embeddings:  50%|████████████████████████████████████████████████████████████                                                            | 1/2 [00:00<00:00,  2.92it/s]\u001b[A\n",
      "Inference Embeddings: 100%|████████████████████████████████████████████████████████████████████████████████████████████████████████████████████████| 2/2 [00:00<00:00,  3.06it/s]\u001b[A\n"
     ]
    },
    {
     "name": "stdout",
     "output_type": "stream",
     "text": [
      "----------using 2*GPUs----------\n"
     ]
    },
    {
     "name": "stderr",
     "output_type": "stream",
     "text": [
      "\n",
      "Inference Embeddings:   0%|                                                                                                                                | 0/2 [00:00<?, ?it/s]\u001b[A\n",
      "Inference Embeddings:  50%|████████████████████████████████████████████████████████████                                                            | 1/2 [00:02<00:02,  2.57s/it]\u001b[A\n",
      "Inference Embeddings: 100%|████████████████████████████████████████████████████████████████████████████████████████████████████████████████████████| 2/2 [00:05<00:00,  2.56s/it]\u001b[A\n",
      "\n",
      "Inference Embeddings:   0%|                                                                                                                                | 0/2 [00:00<?, ?it/s]\u001b[A\n",
      "Inference Embeddings:  50%|████████████████████████████████████████████████████████████                                                            | 1/2 [00:00<00:00,  2.62it/s]\u001b[A\n",
      "Inference Embeddings: 100%|████████████████████████████████████████████████████████████████████████████████████████████████████████████████████████| 2/2 [00:00<00:00,  2.90it/s]\u001b[A\n"
     ]
    },
    {
     "name": "stdout",
     "output_type": "stream",
     "text": [
      "----------using 2*GPUs----------\n"
     ]
    },
    {
     "name": "stderr",
     "output_type": "stream",
     "text": [
      "\n",
      "Inference Embeddings:   0%|                                                                                                                                | 0/2 [00:00<?, ?it/s]\u001b[A\n",
      "Inference Embeddings:  50%|████████████████████████████████████████████████████████████                                                            | 1/2 [00:02<00:02,  2.66s/it]\u001b[A\n",
      "Inference Embeddings: 100%|████████████████████████████████████████████████████████████████████████████████████████████████████████████████████████| 2/2 [00:05<00:00,  2.63s/it]\u001b[A\n",
      "\n",
      "Inference Embeddings:   0%|                                                                                                                                | 0/2 [00:00<?, ?it/s]\u001b[A\n",
      "Inference Embeddings:  50%|████████████████████████████████████████████████████████████                                                            | 1/2 [00:00<00:00,  2.58it/s]\u001b[A\n",
      "Inference Embeddings: 100%|████████████████████████████████████████████████████████████████████████████████████████████████████████████████████████| 2/2 [00:00<00:00,  2.78it/s]\u001b[A\n"
     ]
    },
    {
     "name": "stdout",
     "output_type": "stream",
     "text": [
      "----------using 2*GPUs----------\n"
     ]
    },
    {
     "name": "stderr",
     "output_type": "stream",
     "text": [
      "\n",
      "Inference Embeddings:   0%|                                                                                                                                | 0/2 [00:00<?, ?it/s]\u001b[A\n",
      "Inference Embeddings:  50%|████████████████████████████████████████████████████████████                                                            | 1/2 [00:02<00:02,  2.71s/it]\u001b[A\n",
      "Inference Embeddings: 100%|████████████████████████████████████████████████████████████████████████████████████████████████████████████████████████| 2/2 [00:05<00:00,  2.69s/it]\u001b[A\n",
      "\n",
      "Inference Embeddings:   0%|                                                                                                                                | 0/2 [00:00<?, ?it/s]\u001b[A\n",
      "Inference Embeddings:  50%|████████████████████████████████████████████████████████████                                                            | 1/2 [00:00<00:00,  2.32it/s]\u001b[A\n",
      "Inference Embeddings: 100%|████████████████████████████████████████████████████████████████████████████████████████████████████████████████████████| 2/2 [00:00<00:00,  2.74it/s]\u001b[A\n"
     ]
    },
    {
     "name": "stdout",
     "output_type": "stream",
     "text": [
      "----------using 2*GPUs----------\n"
     ]
    },
    {
     "name": "stderr",
     "output_type": "stream",
     "text": [
      "\n",
      "Inference Embeddings:   0%|                                                                                                                                | 0/2 [00:00<?, ?it/s]\u001b[A\n",
      "Inference Embeddings:  50%|████████████████████████████████████████████████████████████                                                            | 1/2 [00:02<00:02,  2.84s/it]\u001b[A\n",
      "Inference Embeddings: 100%|████████████████████████████████████████████████████████████████████████████████████████████████████████████████████████| 2/2 [00:05<00:00,  2.77s/it]\u001b[A\n",
      "\n",
      "Inference Embeddings:   0%|                                                                                                                                | 0/2 [00:00<?, ?it/s]\u001b[A\n",
      "Inference Embeddings:  50%|████████████████████████████████████████████████████████████                                                            | 1/2 [00:00<00:00,  2.69it/s]\u001b[A\n",
      "Inference Embeddings: 100%|████████████████████████████████████████████████████████████████████████████████████████████████████████████████████████| 2/2 [00:00<00:00,  2.86it/s]\u001b[A\n"
     ]
    },
    {
     "name": "stdout",
     "output_type": "stream",
     "text": [
      "----------using 2*GPUs----------\n"
     ]
    },
    {
     "name": "stderr",
     "output_type": "stream",
     "text": [
      "\n",
      "Inference Embeddings:   0%|                                                                                                                                | 0/2 [00:00<?, ?it/s]\u001b[A\n",
      "Inference Embeddings:  50%|████████████████████████████████████████████████████████████                                                            | 1/2 [00:02<00:02,  2.79s/it]\u001b[A\n",
      "Inference Embeddings: 100%|████████████████████████████████████████████████████████████████████████████████████████████████████████████████████████| 2/2 [00:05<00:00,  2.73s/it]\u001b[A\n",
      "\n",
      "Inference Embeddings:   0%|                                                                                                                                | 0/2 [00:00<?, ?it/s]\u001b[A\n",
      "Inference Embeddings:  50%|████████████████████████████████████████████████████████████                                                            | 1/2 [00:00<00:00,  3.05it/s]\u001b[A\n",
      "Inference Embeddings: 100%|████████████████████████████████████████████████████████████████████████████████████████████████████████████████████████| 2/2 [00:00<00:00,  2.67it/s]\u001b[A\n"
     ]
    },
    {
     "name": "stdout",
     "output_type": "stream",
     "text": [
      "----------using 2*GPUs----------\n"
     ]
    },
    {
     "name": "stderr",
     "output_type": "stream",
     "text": [
      "\n",
      "Inference Embeddings:   0%|                                                                                                                                | 0/2 [00:00<?, ?it/s]\u001b[A\n",
      "Inference Embeddings:  50%|████████████████████████████████████████████████████████████                                                            | 1/2 [00:02<00:02,  2.84s/it]\u001b[A\n",
      "Inference Embeddings: 100%|████████████████████████████████████████████████████████████████████████████████████████████████████████████████████████| 2/2 [00:05<00:00,  2.78s/it]\u001b[A\n",
      "\n",
      "Inference Embeddings:   0%|                                                                                                                                | 0/2 [00:00<?, ?it/s]\u001b[A\n",
      "Inference Embeddings:  50%|████████████████████████████████████████████████████████████                                                            | 1/2 [00:00<00:00,  2.57it/s]\u001b[A\n",
      "Inference Embeddings: 100%|████████████████████████████████████████████████████████████████████████████████████████████████████████████████████████| 2/2 [00:00<00:00,  2.65it/s]\u001b[A\n"
     ]
    },
    {
     "name": "stdout",
     "output_type": "stream",
     "text": [
      "----------using 2*GPUs----------\n"
     ]
    },
    {
     "name": "stderr",
     "output_type": "stream",
     "text": [
      "\n",
      "Inference Embeddings:   0%|                                                                                                                                | 0/2 [00:00<?, ?it/s]\u001b[A\n",
      "Inference Embeddings:  50%|████████████████████████████████████████████████████████████                                                            | 1/2 [00:02<00:02,  2.81s/it]\u001b[A\n",
      "Inference Embeddings: 100%|████████████████████████████████████████████████████████████████████████████████████████████████████████████████████████| 2/2 [00:05<00:00,  2.77s/it]\u001b[A\n",
      "\n",
      "Inference Embeddings:   0%|                                                                                                                                | 0/2 [00:00<?, ?it/s]\u001b[A\n",
      "Inference Embeddings:  50%|████████████████████████████████████████████████████████████                                                            | 1/2 [00:00<00:00,  3.01it/s]\u001b[A\n",
      "Inference Embeddings: 100%|████████████████████████████████████████████████████████████████████████████████████████████████████████████████████████| 2/2 [00:00<00:00,  2.70it/s]\u001b[A\n"
     ]
    },
    {
     "name": "stdout",
     "output_type": "stream",
     "text": [
      "----------using 2*GPUs----------\n"
     ]
    },
    {
     "name": "stderr",
     "output_type": "stream",
     "text": [
      "\n",
      "Inference Embeddings:   0%|                                                                                                                                | 0/2 [00:00<?, ?it/s]\u001b[A\n",
      "Inference Embeddings:  50%|████████████████████████████████████████████████████████████                                                            | 1/2 [00:02<00:02,  2.85s/it]\u001b[A\n",
      "Inference Embeddings: 100%|████████████████████████████████████████████████████████████████████████████████████████████████████████████████████████| 2/2 [00:05<00:00,  2.78s/it]\u001b[A\n",
      "\n",
      "Inference Embeddings:   0%|                                                                                                                                | 0/2 [00:00<?, ?it/s]\u001b[A\n",
      "Inference Embeddings:  50%|████████████████████████████████████████████████████████████                                                            | 1/2 [00:00<00:00,  2.92it/s]\u001b[A\n",
      "Inference Embeddings: 100%|████████████████████████████████████████████████████████████████████████████████████████████████████████████████████████| 2/2 [00:00<00:00,  3.09it/s]\u001b[A\n"
     ]
    },
    {
     "name": "stdout",
     "output_type": "stream",
     "text": [
      "----------using 2*GPUs----------\n"
     ]
    },
    {
     "name": "stderr",
     "output_type": "stream",
     "text": [
      "\n",
      "Inference Embeddings:   0%|                                                                                                                                | 0/2 [00:00<?, ?it/s]\u001b[A\n",
      "Inference Embeddings:  50%|████████████████████████████████████████████████████████████                                                            | 1/2 [00:02<00:02,  2.85s/it]\u001b[A\n",
      "Inference Embeddings: 100%|████████████████████████████████████████████████████████████████████████████████████████████████████████████████████████| 2/2 [00:05<00:00,  2.77s/it]\u001b[A\n",
      "\n",
      "Inference Embeddings:   0%|                                                                                                                                | 0/2 [00:00<?, ?it/s]\u001b[A\n",
      "Inference Embeddings:  50%|████████████████████████████████████████████████████████████                                                            | 1/2 [00:00<00:00,  3.04it/s]\u001b[A\n",
      "Inference Embeddings: 100%|████████████████████████████████████████████████████████████████████████████████████████████████████████████████████████| 2/2 [00:00<00:00,  3.09it/s]\u001b[A\n"
     ]
    },
    {
     "name": "stdout",
     "output_type": "stream",
     "text": [
      "----------using 2*GPUs----------\n"
     ]
    },
    {
     "name": "stderr",
     "output_type": "stream",
     "text": [
      "\n",
      "Inference Embeddings:   0%|                                                                                                                                | 0/2 [00:00<?, ?it/s]\u001b[A\n",
      "Inference Embeddings:  50%|████████████████████████████████████████████████████████████                                                            | 1/2 [00:02<00:02,  2.86s/it]\u001b[A\n",
      "Inference Embeddings: 100%|████████████████████████████████████████████████████████████████████████████████████████████████████████████████████████| 2/2 [00:05<00:00,  2.77s/it]\u001b[A\n",
      "\n",
      "Inference Embeddings:   0%|                                                                                                                                | 0/2 [00:00<?, ?it/s]\u001b[A\n",
      "Inference Embeddings:  50%|████████████████████████████████████████████████████████████                                                            | 1/2 [00:00<00:00,  3.01it/s]\u001b[A\n",
      "Inference Embeddings: 100%|████████████████████████████████████████████████████████████████████████████████████████████████████████████████████████| 2/2 [00:00<00:00,  3.05it/s]\u001b[A\n"
     ]
    },
    {
     "name": "stdout",
     "output_type": "stream",
     "text": [
      "----------using 2*GPUs----------\n"
     ]
    },
    {
     "name": "stderr",
     "output_type": "stream",
     "text": [
      "\n",
      "Inference Embeddings:   0%|                                                                                                                                | 0/2 [00:00<?, ?it/s]\u001b[A\n",
      "Inference Embeddings:  50%|████████████████████████████████████████████████████████████                                                            | 1/2 [00:02<00:02,  2.83s/it]\u001b[A\n",
      "Inference Embeddings: 100%|████████████████████████████████████████████████████████████████████████████████████████████████████████████████████████| 2/2 [00:05<00:00,  2.77s/it]\u001b[A\n",
      "\n",
      "Inference Embeddings:   0%|                                                                                                                                | 0/2 [00:00<?, ?it/s]\u001b[A\n",
      "Inference Embeddings:  50%|████████████████████████████████████████████████████████████                                                            | 1/2 [00:00<00:00,  1.46it/s]\u001b[A\n",
      "Inference Embeddings: 100%|████████████████████████████████████████████████████████████████████████████████████████████████████████████████████████| 2/2 [00:01<00:00,  1.88it/s]\u001b[A\n"
     ]
    },
    {
     "name": "stdout",
     "output_type": "stream",
     "text": [
      "----------using 2*GPUs----------\n"
     ]
    },
    {
     "name": "stderr",
     "output_type": "stream",
     "text": [
      "\n",
      "Inference Embeddings:   0%|                                                                                                                                | 0/2 [00:00<?, ?it/s]\u001b[A\n",
      "Inference Embeddings:  50%|████████████████████████████████████████████████████████████                                                            | 1/2 [00:02<00:02,  2.81s/it]\u001b[A\n",
      "Inference Embeddings: 100%|████████████████████████████████████████████████████████████████████████████████████████████████████████████████████████| 2/2 [00:05<00:00,  2.76s/it]\u001b[A\n",
      "\n",
      "Inference Embeddings:   0%|                                                                                                                                | 0/2 [00:00<?, ?it/s]\u001b[A\n",
      "Inference Embeddings:  50%|████████████████████████████████████████████████████████████                                                            | 1/2 [00:00<00:00,  3.32it/s]\u001b[A\n",
      "Inference Embeddings: 100%|████████████████████████████████████████████████████████████████████████████████████████████████████████████████████████| 2/2 [00:00<00:00,  2.90it/s]\u001b[A\n"
     ]
    },
    {
     "name": "stdout",
     "output_type": "stream",
     "text": [
      "----------using 2*GPUs----------\n"
     ]
    },
    {
     "name": "stderr",
     "output_type": "stream",
     "text": [
      "\n",
      "Inference Embeddings:   0%|                                                                                                                                | 0/2 [00:00<?, ?it/s]\u001b[A\n",
      "Inference Embeddings:  50%|████████████████████████████████████████████████████████████                                                            | 1/2 [00:02<00:02,  2.81s/it]\u001b[A\n",
      "Inference Embeddings: 100%|████████████████████████████████████████████████████████████████████████████████████████████████████████████████████████| 2/2 [00:05<00:00,  2.67s/it]\u001b[A\n",
      "\n",
      "Inference Embeddings:   0%|                                                                                                                                | 0/2 [00:00<?, ?it/s]\u001b[A\n",
      "Inference Embeddings:  50%|████████████████████████████████████████████████████████████                                                            | 1/2 [00:00<00:00,  2.24it/s]\u001b[A\n",
      "Inference Embeddings: 100%|████████████████████████████████████████████████████████████████████████████████████████████████████████████████████████| 2/2 [00:00<00:00,  2.46it/s]\u001b[A\n"
     ]
    }
   ],
   "source": [
    "embed_with_trained = partial(embed, model_name=\"./model\")\n",
    "final_eval_ds = combined[\"test\"].map(embed_with_trained, batched=True)"
   ]
  },
  {
   "cell_type": "code",
   "execution_count": 20,
   "id": "3edf4f36-aeb7-481e-be13-f8157ed2e922",
   "metadata": {},
   "outputs": [
    {
     "data": {
      "application/vnd.jupyter.widget-view+json": {
       "model_id": "77daaa89ca72470893d8ffefc1785ad3",
       "version_major": 2,
       "version_minor": 0
      },
      "text/plain": [
       "Map (num_proc=40):   0%|          | 0/13968 [00:00<?, ? examples/s]"
      ]
     },
     "metadata": {},
     "output_type": "display_data"
    }
   ],
   "source": [
    "final_eval_ds = final_eval_ds.map(calc_cos_sim, num_proc=40)"
   ]
  },
  {
   "cell_type": "code",
   "execution_count": 21,
   "id": "47735b7f-0cc1-48f6-a2aa-55372f9c3191",
   "metadata": {},
   "outputs": [
    {
     "data": {
      "text/plain": [
       "1"
      ]
     },
     "execution_count": 21,
     "metadata": {},
     "output_type": "execute_result"
    },
    {
     "data": {
      "image/png": "[encoded data removed]",
      "text/plain": [
       "<Figure size 640x480 with 1 Axes>"
      ]
     },
     "metadata": {},
     "output_type": "display_data"
    }
   ],
   "source": [
    "plt.hist(final_eval_ds[\"similarity\"], bins=1000); 1"
   ]
  },
  {
   "cell_type": "code",
   "execution_count": null,
   "id": "9e61d2d1-efe6-47aa-a0d2-965c50a53f49",
   "metadata": {},
   "outputs": [],
   "source": []
  }
 ],
 "metadata": {
  "kernelspec": {
   "display_name": "Python 3 (ipykernel)",
   "language": "python",
   "name": "python3"
  },
  "language_info": {
   "codemirror_mode": {
    "name": "ipython",
    "version": 3
   },
   "file_extension": ".py",
   "mimetype": "text/x-python",
   "name": "python",
   "nbconvert_exporter": "python",
   "pygments_lexer": "ipython3",
   "version": "3.10.13"
  }
 },
 "nbformat": 4,
 "nbformat_minor": 5
}
