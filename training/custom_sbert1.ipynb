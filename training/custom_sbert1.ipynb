{
 "cells": [
  {
   "cell_type": "code",
   "execution_count": 1,
   "id": "7167d6e4-7a7f-4f7f-b4e7-92b9613afed8",
   "metadata": {},
   "outputs": [],
   "source": [
    "model_name = \"BAAI/bge-base-en-v1.5\"\n",
    "query_prefix = \"Represent this sentence for searching relevant passages: \"\n",
    "max_len = 512\n",
    "training_hn_file = \"./data/hn-output.jsonl\"\n",
    "eval_file = \"./data/eval-output.jsonl\"\n",
    "batch_size = 1280\n",
    "output_model_path = \"./bge-base-custom\""
   ]
  },
  {
   "cell_type": "code",
   "execution_count": 2,
   "id": "98d5e97e-df3b-43e4-b82c-2f4768a217b6",
   "metadata": {},
   "outputs": [],
   "source": [
    "%matplotlib inline\n",
    "\n",
    "from functools import partial\n",
    "import itertools as it\n",
    "import os\n",
    "import random\n",
    "\n",
    "from datasets import load_from_disk\n",
    "from FlagEmbedding import FlagModel\n",
    "import jsonlines as jsonl\n",
    "from lion_pytorch import Lion\n",
    "import matplotlib.pyplot as plt\n",
    "import numpy as np\n",
    "from numpy import dot\n",
    "from numpy.linalg import norm\n",
    "from sentence_transformers import InputExample, SentenceTransformer, losses as ls, models as ml, util\n",
    "from sentence_transformers.evaluation import SimilarityFunction, TripletEvaluator\n",
    "import torch\n",
    "from torch.utils.data import DataLoader, IterableDataset\n",
    "from tqdm.auto import tqdm\n",
    "\n",
    "os.environ[\"CUDA_VISIBLE_DEVICES\"] = \"0,1,2\""
   ]
  },
  {
   "cell_type": "code",
   "execution_count": 3,
   "id": "b17def02-f756-4973-a29f-dd628da34e58",
   "metadata": {},
   "outputs": [],
   "source": [
    "def hn_output(file):\n",
    "    with jsonl.open(file) as reader:\n",
    "        for entry in reader:\n",
    "            query = entry[\"query\"]\n",
    "            pos = [dict(dialog=dialog) for dialog in entry[\"pos\"]]\n",
    "            neg = [dict(dialog=dialog) for dialog in entry[\"neg\"]]\n",
    "\n",
    "            for combined in it.product(\n",
    "                [dict(fact=query)],\n",
    "                pos,\n",
    "                neg,\n",
    "            ):\n",
    "                yield InputExample(texts=list(combined))"
   ]
  },
  {
   "cell_type": "code",
   "execution_count": 12,
   "id": "34649f83-5bc3-4b1b-a1b2-3d406b84979d",
   "metadata": {},
   "outputs": [
    {
     "data": {
      "application/vnd.jupyter.widget-view+json": {
       "model_id": "10612aaa62424ddf81d3303c20a55d5e",
       "version_major": 2,
       "version_minor": 0
      },
      "text/plain": [
       "0it [00:00, ?it/s]"
      ]
     },
     "metadata": {},
     "output_type": "display_data"
    },
    {
     "data": {
      "application/vnd.jupyter.widget-view+json": {
       "model_id": "428f73689cda4f019bf7f5093ebf68a6",
       "version_major": 2,
       "version_minor": 0
      },
      "text/plain": [
       "0it [00:00, ?it/s]"
      ]
     },
     "metadata": {},
     "output_type": "display_data"
    }
   ],
   "source": [
    "training_data = list(tqdm(hn_output(training_hn_file)))\n",
    "eval_data = list(tqdm(hn_output(eval_file)))"
   ]
  },
  {
   "cell_type": "code",
   "execution_count": 13,
   "id": "8e817f20-4e80-4842-bf45-f7439a5e2b7a",
   "metadata": {},
   "outputs": [],
   "source": [
    "dataloader = DataLoader(training_data, shuffle=True, batch_size=batch_size)\n",
    "eval_dataloader = DataLoader(eval_data, shuffle=True, batch_size=batch_size // 10)"
   ]
  },
  {
   "cell_type": "code",
   "execution_count": 4,
   "id": "c8eea066-1f4e-4184-9215-0b5fdd1cdf16",
   "metadata": {},
   "outputs": [
    {
     "data": {
      "application/vnd.jupyter.widget-view+json": {
       "model_id": "129d8e36930145cf80fa1f7847aba09e",
       "version_major": 2,
       "version_minor": 0
      },
      "text/plain": [
       "Downloading (…)3ac3f/.gitattributes:   0%|          | 0.00/1.52k [00:00<?, ?B/s]"
      ]
     },
     "metadata": {},
     "output_type": "display_data"
    },
    {
     "data": {
      "application/vnd.jupyter.widget-view+json": {
       "model_id": "a6aa70fb00d8476885929b28984c91a6",
       "version_major": 2,
       "version_minor": 0
      },
      "text/plain": [
       "Downloading (…)_Pooling/config.json:   0%|          | 0.00/190 [00:00<?, ?B/s]"
      ]
     },
     "metadata": {},
     "output_type": "display_data"
    },
    {
     "data": {
      "application/vnd.jupyter.widget-view+json": {
       "model_id": "a852d7c424364b0a8a5f7e04982a525e",
       "version_major": 2,
       "version_minor": 0
      },
      "text/plain": [
       "Downloading (…)440fe3ac3f/README.md:   0%|          | 0.00/89.0k [00:00<?, ?B/s]"
      ]
     },
     "metadata": {},
     "output_type": "display_data"
    },
    {
     "data": {
      "application/vnd.jupyter.widget-view+json": {
       "model_id": "390b823d2303410fbd1b4017333a1aff",
       "version_major": 2,
       "version_minor": 0
      },
      "text/plain": [
       "Downloading (…)0fe3ac3f/config.json:   0%|          | 0.00/777 [00:00<?, ?B/s]"
      ]
     },
     "metadata": {},
     "output_type": "display_data"
    },
    {
     "data": {
      "application/vnd.jupyter.widget-view+json": {
       "model_id": "29954fe4e4474f0a8be738332b2d9777",
       "version_major": 2,
       "version_minor": 0
      },
      "text/plain": [
       "Downloading (…)ce_transformers.json:   0%|          | 0.00/124 [00:00<?, ?B/s]"
      ]
     },
     "metadata": {},
     "output_type": "display_data"
    },
    {
     "data": {
      "application/vnd.jupyter.widget-view+json": {
       "model_id": "215786e92ed04ec3b2576b741c0bf9d5",
       "version_major": 2,
       "version_minor": 0
      },
      "text/plain": [
       "Downloading pytorch_model.bin:   0%|          | 0.00/438M [00:00<?, ?B/s]"
      ]
     },
     "metadata": {},
     "output_type": "display_data"
    },
    {
     "data": {
      "application/vnd.jupyter.widget-view+json": {
       "model_id": "ea8b10762a424c90a890dea0c0f287b0",
       "version_major": 2,
       "version_minor": 0
      },
      "text/plain": [
       "Downloading (…)nce_bert_config.json:   0%|          | 0.00/52.0 [00:00<?, ?B/s]"
      ]
     },
     "metadata": {},
     "output_type": "display_data"
    },
    {
     "data": {
      "application/vnd.jupyter.widget-view+json": {
       "model_id": "dbba6d118f85437d84de94871ea487d1",
       "version_major": 2,
       "version_minor": 0
      },
      "text/plain": [
       "Downloading (…)cial_tokens_map.json:   0%|          | 0.00/125 [00:00<?, ?B/s]"
      ]
     },
     "metadata": {},
     "output_type": "display_data"
    },
    {
     "data": {
      "application/vnd.jupyter.widget-view+json": {
       "model_id": "d626a11347b54418a01aaadfbf8d42cd",
       "version_major": 2,
       "version_minor": 0
      },
      "text/plain": [
       "Downloading (…)3ac3f/tokenizer.json:   0%|          | 0.00/711k [00:00<?, ?B/s]"
      ]
     },
     "metadata": {},
     "output_type": "display_data"
    },
    {
     "data": {
      "application/vnd.jupyter.widget-view+json": {
       "model_id": "7b850a1056394d8d82f072d9ed3d1979",
       "version_major": 2,
       "version_minor": 0
      },
      "text/plain": [
       "Downloading (…)okenizer_config.json:   0%|          | 0.00/366 [00:00<?, ?B/s]"
      ]
     },
     "metadata": {},
     "output_type": "display_data"
    },
    {
     "data": {
      "application/vnd.jupyter.widget-view+json": {
       "model_id": "278ea1706c324bdcaa9061ca935ad384",
       "version_major": 2,
       "version_minor": 0
      },
      "text/plain": [
       "Downloading (…)440fe3ac3f/vocab.txt:   0%|          | 0.00/232k [00:00<?, ?B/s]"
      ]
     },
     "metadata": {},
     "output_type": "display_data"
    },
    {
     "data": {
      "application/vnd.jupyter.widget-view+json": {
       "model_id": "2da26da252e840ada9df362b5ab805e0",
       "version_major": 2,
       "version_minor": 0
      },
      "text/plain": [
       "Downloading (…)fe3ac3f/modules.json:   0%|          | 0.00/229 [00:00<?, ?B/s]"
      ]
     },
     "metadata": {},
     "output_type": "display_data"
    }
   ],
   "source": [
    "# Base model\n",
    "base_model = SentenceTransformer(model_name)"
   ]
  },
  {
   "cell_type": "code",
   "execution_count": 5,
   "id": "7f31eda8-d224-4d30-8a6b-ed4cb32a2c12",
   "metadata": {},
   "outputs": [],
   "source": [
    "# Freeze base transformer layers\n",
    "for param in base_model.parameters():\n",
    "    param.requires_grad = False"
   ]
  },
  {
   "cell_type": "code",
   "execution_count": 6,
   "id": "721c3897-9ef0-409f-9e9d-a693975486bf",
   "metadata": {},
   "outputs": [],
   "source": [
    "device = torch.device(\"cuda:0\")\n",
    "\n",
    "# Note that we must also set _target_device, or any SentenceTransformer.fit() call will reset\n",
    "# the body location\n",
    "base_model._target_device = device\n",
    "base_model = base_model.to(device)"
   ]
  },
  {
   "cell_type": "code",
   "execution_count": 7,
   "id": "6115d96b-fe35-4a23-9a21-f3da52304f3a",
   "metadata": {},
   "outputs": [],
   "source": [
    "emb_dims = base_model._first_module().get_word_embedding_dimension() # 768\n",
    "\n",
    "def dense_projector(dims: int):\n",
    "    proj_dims = dims * 2  # 1536\n",
    "    \n",
    "    return [\n",
    "        ml.Dense(dims, proj_dims),  # 768 -> 1536\n",
    "        # ml.Dropout(0.1),\n",
    "        ml.Dense(proj_dims, proj_dims), # 1536 -> 1536\n",
    "        # ml.Dropout(0.1),\n",
    "        ml.Dense(proj_dims, dims),  # 1536 -> 768\n",
    "    ]\n",
    "\n",
    "def asym_module(dims: int, keys: list[str], allow_empty_key: bool = False):\n",
    "    return ml.Asym(\n",
    "        {\n",
    "            key: dense_projector(dims)\n",
    "            for key in keys\n",
    "        },\n",
    "        allow_empty_key=allow_empty_key,\n",
    "    )"
   ]
  },
  {
   "cell_type": "code",
   "execution_count": 8,
   "id": "04a0a414-af19-40f1-80ba-03c33b1262d1",
   "metadata": {},
   "outputs": [
    {
     "data": {
      "text/plain": [
       "OrderedDict([('0',\n",
       "              Transformer({'max_seq_length': 512, 'do_lower_case': True}) with Transformer model: BertModel ),\n",
       "             ('1',\n",
       "              Pooling({'word_embedding_dimension': 768, 'pooling_mode_cls_token': True, 'pooling_mode_mean_tokens': False, 'pooling_mode_max_tokens': False, 'pooling_mode_mean_sqrt_len_tokens': False}))])"
      ]
     },
     "execution_count": 8,
     "metadata": {},
     "output_type": "execute_result"
    }
   ],
   "source": [
    "base_model._modules"
   ]
  },
  {
   "cell_type": "code",
   "execution_count": 9,
   "id": "2b273b52-b3b1-4f29-9d9a-1fe00d29c686",
   "metadata": {},
   "outputs": [],
   "source": [
    "base_model._modules[\"2\"] = asym_module(emb_dims, [\"dialog\", \"fact\"])"
   ]
  },
  {
   "cell_type": "code",
   "execution_count": 10,
   "id": "03004002-b9d1-4b71-8ea5-bd2a2072c751",
   "metadata": {},
   "outputs": [
    {
     "data": {
      "text/plain": [
       "OrderedDict([('0',\n",
       "              Transformer({'max_seq_length': 512, 'do_lower_case': True}) with Transformer model: BertModel ),\n",
       "             ('1',\n",
       "              Pooling({'word_embedding_dimension': 768, 'pooling_mode_cls_token': True, 'pooling_mode_mean_tokens': False, 'pooling_mode_max_tokens': False, 'pooling_mode_mean_sqrt_len_tokens': False})),\n",
       "             ('2',\n",
       "              Asym(\n",
       "                (dialog-0): Dense({'in_features': 768, 'out_features': 1536, 'bias': True, 'activation_function': 'torch.nn.modules.activation.Tanh'})\n",
       "                (dialog-1): Dense({'in_features': 1536, 'out_features': 1536, 'bias': True, 'activation_function': 'torch.nn.modules.activation.Tanh'})\n",
       "                (dialog-2): Dense({'in_features': 1536, 'out_features': 768, 'bias': True, 'activation_function': 'torch.nn.modules.activation.Tanh'})\n",
       "                (fact-0): Dense({'in_features': 768, 'out_features': 1536, 'bias': True, 'activation_function': 'torch.nn.modules.activation.Tanh'})\n",
       "                (fact-1): Dense({'in_features': 1536, 'out_features': 1536, 'bias': True, 'activation_function': 'torch.nn.modules.activation.Tanh'})\n",
       "                (fact-2): Dense({'in_features': 1536, 'out_features': 768, 'bias': True, 'activation_function': 'torch.nn.modules.activation.Tanh'})\n",
       "              ))])"
      ]
     },
     "execution_count": 10,
     "metadata": {},
     "output_type": "execute_result"
    }
   ],
   "source": [
    "base_model._modules"
   ]
  },
  {
   "cell_type": "code",
   "execution_count": 11,
   "id": "e0008a08-a08d-4523-b477-212083a93aa8",
   "metadata": {},
   "outputs": [],
   "source": [
    "train_loss = ls.TripletLoss(model=base_model)"
   ]
  },
  {
   "cell_type": "code",
   "execution_count": 14,
   "id": "53b0aba9-a279-4c90-8949-e0096b5ed4c7",
   "metadata": {},
   "outputs": [],
   "source": [
    "triplet_evaluator = TripletEvaluator.from_input_examples(\n",
    "    eval_data,  # Triplet is ({dialog: <some_dialog>}, {fact: <relevant_fact>}, [{fact: <negative_irrelevant_fact>}])\n",
    "    batch_size=batch_size // 10,\n",
    "    main_distance_function=SimilarityFunction.COSINE,\n",
    "    show_progress_bar=True,\n",
    "    write_csv=True,\n",
    ")"
   ]
  },
  {
   "cell_type": "code",
   "execution_count": null,
   "id": "dbf3b8c9-8ef8-4198-b284-910c57f2cbca",
   "metadata": {},
   "outputs": [
    {
     "data": {
      "application/vnd.jupyter.widget-view+json": {
       "model_id": "277438cb14ec42bc8901544a952ae320",
       "version_major": 2,
       "version_minor": 0
      },
      "text/plain": [
       "Epoch:   0%|          | 0/12 [00:00<?, ?it/s]"
      ]
     },
     "metadata": {},
     "output_type": "display_data"
    },
    {
     "data": {
      "application/vnd.jupyter.widget-view+json": {
       "model_id": "348f58167d744d23bbacc16114a115b4",
       "version_major": 2,
       "version_minor": 0
      },
      "text/plain": [
       "Iteration:   0%|          | 0/1321 [00:00<?, ?it/s]"
      ]
     },
     "metadata": {},
     "output_type": "display_data"
    },
    {
     "data": {
      "application/vnd.jupyter.widget-view+json": {
       "model_id": "fd39e01a090d4ae4876f6bdd509aa3e3",
       "version_major": 2,
       "version_minor": 0
      },
      "text/plain": [
       "Batches:   0%|          | 0/293 [00:00<?, ?it/s]"
      ]
     },
     "metadata": {},
     "output_type": "display_data"
    },
    {
     "data": {
      "application/vnd.jupyter.widget-view+json": {
       "model_id": "54db2a0808044587bc3044fa5858ab10",
       "version_major": 2,
       "version_minor": 0
      },
      "text/plain": [
       "Batches:   0%|          | 0/293 [00:00<?, ?it/s]"
      ]
     },
     "metadata": {},
     "output_type": "display_data"
    },
    {
     "data": {
      "application/vnd.jupyter.widget-view+json": {
       "model_id": "b42c58b55ae1420d831e6224bfbbf545",
       "version_major": 2,
       "version_minor": 0
      },
      "text/plain": [
       "Batches:   0%|          | 0/293 [00:00<?, ?it/s]"
      ]
     },
     "metadata": {},
     "output_type": "display_data"
    },
    {
     "data": {
      "application/vnd.jupyter.widget-view+json": {
       "model_id": "0991fde7e7094c15a741ae66638d0d2e",
       "version_major": 2,
       "version_minor": 0
      },
      "text/plain": [
       "Iteration:   0%|          | 0/1321 [00:00<?, ?it/s]"
      ]
     },
     "metadata": {},
     "output_type": "display_data"
    }
   ],
   "source": [
    "base_model.fit(\n",
    "    train_objectives=[(dataloader, train_loss)],\n",
    "    evaluator=triplet_evaluator,\n",
    "    checkpoint_save_steps=600,\n",
    "    checkpoint_path=f\"{output_model_path}/ckpts\",\n",
    "    scheduler=\"WarmupCosine\",\n",
    "    save_best_model=True,\n",
    "    epochs=12,\n",
    "    warmup_steps=100,\n",
    "    optimizer_class=Lion,\n",
    "    optimizer_params=dict(lr=1e-4, weight_decay=1e-2),\n",
    "    use_amp=True,\n",
    "    output_path=output_model_path,\n",
    "    checkpoint_save_total_limit=4,\n",
    ")"
   ]
  },
  {
   "cell_type": "code",
   "execution_count": null,
   "id": "21c91b44-4c0a-4fda-a72c-91dac70e72ae",
   "metadata": {},
   "outputs": [],
   "source": []
  }
 ],
 "metadata": {
  "kernelspec": {
   "display_name": "Python 3 (ipykernel)",
   "language": "python",
   "name": "python3"
  },
  "language_info": {
   "codemirror_mode": {
    "name": "ipython",
    "version": 3
   },
   "file_extension": ".py",
   "mimetype": "text/x-python",
   "name": "python",
   "nbconvert_exporter": "python",
   "pygments_lexer": "ipython3",
   "version": "3.10.6"
  }
 },
 "nbformat": 4,
 "nbformat_minor": 5
}
