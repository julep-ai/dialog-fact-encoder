{
 "cells": [
  {
   "cell_type": "markdown",
   "id": "fe53fc09-0942-4e9a-921c-3804a1ede8ac",
   "metadata": {},
   "source": [
    "### Constants"
   ]
  },
  {
   "cell_type": "code",
   "execution_count": 12,
   "id": "94dea7bd-f87b-4559-bd82-dadf3dfd6025",
   "metadata": {},
   "outputs": [],
   "source": [
    "model_name = \"BAAI/bge-base-en-v1.5\"\n",
    "custom_model_name = \"./dfe-base-en\"\n",
    "max_len = 512\n",
    "combined_path = \"./data/combined\""
   ]
  },
  {
   "cell_type": "markdown",
   "id": "6a1ec397-3b13-4e2b-8e0f-9cf127378b8f",
   "metadata": {},
   "source": [
    "### Imports and utils"
   ]
  },
  {
   "cell_type": "code",
   "execution_count": 2,
   "id": "5e40d321-04e7-4048-891c-6748c6354a28",
   "metadata": {},
   "outputs": [],
   "source": [
    "%matplotlib inline\n",
    "\n",
    "from functools import partial\n",
    "import itertools as it\n",
    "import os\n",
    "import random\n",
    "\n",
    "from datasets import load_from_disk\n",
    "from FlagEmbedding import FlagModel\n",
    "import jsonlines as jsonl\n",
    "from lion_pytorch import Lion\n",
    "import matplotlib.pyplot as plt\n",
    "import numpy as np\n",
    "from numpy import dot\n",
    "from numpy.linalg import norm\n",
    "from sentence_transformers import InputExample, SentenceTransformer, losses as ls, models as ml, util\n",
    "from sentence_transformers.evaluation import SimilarityFunction, TripletEvaluator\n",
    "import torch\n",
    "from torch.utils.data import DataLoader, IterableDataset\n",
    "from tqdm.auto import tqdm\n",
    "\n",
    "os.environ[\"CUDA_VISIBLE_DEVICES\"] = \"0,1,2\""
   ]
  },
  {
   "cell_type": "markdown",
   "id": "2eb6f55d-ec09-4bc5-8f1a-31e521ad3121",
   "metadata": {},
   "source": [
    "### Datasets\n",
    "\n",
    "- combined: stacked_samsum + dialogsum\n",
    "- hn_output: hard negatives mined triple set"
   ]
  },
  {
   "cell_type": "code",
   "execution_count": 3,
   "id": "a557a00b-c593-4f54-b84e-8b7f9406d660",
   "metadata": {},
   "outputs": [],
   "source": [
    "combined = load_from_disk(\"./data/combined\")"
   ]
  },
  {
   "cell_type": "markdown",
   "id": "bc7f4744-2c5d-452d-9693-583317d07aca",
   "metadata": {},
   "source": [
    "### Embed using base model (before tuning)"
   ]
  },
  {
   "cell_type": "code",
   "execution_count": 4,
   "id": "3a9b6e6a-4de7-4277-96c1-6b30e140131d",
   "metadata": {},
   "outputs": [],
   "source": [
    "def embed(rows, model_name=model_name, wrap_items=False):\n",
    "    from sentence_transformers import SentenceTransformer\n",
    "\n",
    "    model = SentenceTransformer(model_name)\n",
    "    \n",
    "    dialogues = rows[\"dialogue\"]\n",
    "    summaries = rows[\"summary\"]\n",
    "\n",
    "    if wrap_items:\n",
    "        dialogues = [dict(dialog=dialogue) for dialogue in dialogues]\n",
    "        summaries = [dict(fact=summary) for summary in summaries]\n",
    "\n",
    "    dialogue_embs = model.encode(dialogues).tolist()\n",
    "    summary_embs = model.encode(summaries).tolist()\n",
    "\n",
    "    return dict(\n",
    "        dialogue_emb=dialogue_embs,\n",
    "        summary_emb=summary_embs,\n",
    "    )"
   ]
  },
  {
   "cell_type": "code",
   "execution_count": 5,
   "id": "45b531eb-a85e-44f2-84af-1384bb79c58b",
   "metadata": {
    "scrolled": true
   },
   "outputs": [
    {
     "data": {
      "application/vnd.jupyter.widget-view+json": {
       "model_id": "0cc0b797fb624d26bfae765398dd3df0",
       "version_major": 2,
       "version_minor": 0
      },
      "text/plain": [
       "Map:   0%|          | 0/13968 [00:00<?, ? examples/s]"
      ]
     },
     "metadata": {},
     "output_type": "display_data"
    }
   ],
   "source": [
    "base_eval_ds = combined[\"test\"].map(embed, batch_size=500, batched=True)"
   ]
  },
  {
   "cell_type": "code",
   "execution_count": 6,
   "id": "31c72fe6-834c-423a-8dfc-cd968024941a",
   "metadata": {},
   "outputs": [],
   "source": [
    "def calc_cos_sim(row):\n",
    "    dialogue_emb = row[\"dialogue_emb\"]\n",
    "    summary_emb = row[\"summary_emb\"]\n",
    "\n",
    "    a = np.array(dialogue_emb)\n",
    "    b = np.array(summary_emb)\n",
    "\n",
    "    cos_sim = dot(a, b)/(norm(a)*norm(b))\n",
    "\n",
    "    return dict(similarity=cos_sim)"
   ]
  },
  {
   "cell_type": "code",
   "execution_count": 7,
   "id": "908fd3a1-d705-4da3-8d0c-42268b112bc8",
   "metadata": {},
   "outputs": [
    {
     "name": "stderr",
     "output_type": "stream",
     "text": [
      "Parameter 'function'=<function calc_cos_sim at 0x7f6590785e10> of the transform datasets.arrow_dataset.Dataset._map_single couldn't be hashed properly, a random hash was used instead. Make sure your transforms and parameters are serializable with pickle or dill for the dataset fingerprinting and caching to work. If you reuse this transform, the caching mechanism will consider it to be different from the previous calls and recompute everything. This warning is only showed once. Subsequent hashing failures won't be showed.\n"
     ]
    },
    {
     "data": {
      "application/vnd.jupyter.widget-view+json": {
       "model_id": "fb701ded9cf2429d9a766e99167f14ae",
       "version_major": 2,
       "version_minor": 0
      },
      "text/plain": [
       "Map (num_proc=40):   0%|          | 0/13968 [00:00<?, ? examples/s]"
      ]
     },
     "metadata": {},
     "output_type": "display_data"
    }
   ],
   "source": [
    "base_eval_ds = base_eval_ds.map(calc_cos_sim, num_proc=40)"
   ]
  },
  {
   "cell_type": "markdown",
   "id": "ae9bd6f2-51d9-4d52-89ab-a931806aa1e7",
   "metadata": {},
   "source": [
    "### Evaluation (before tuning)"
   ]
  },
  {
   "cell_type": "code",
   "execution_count": 8,
   "id": "40990086-b854-4cce-a8ec-bc4faacb482f",
   "metadata": {},
   "outputs": [
    {
     "data": {
      "text/plain": [
       "1"
      ]
     },
     "execution_count": 8,
     "metadata": {},
     "output_type": "execute_result"
    },
    {
     "data": {
      "image/png": "[encoded data removed]",
      "text/plain": [
       "<Figure size 640x480 with 1 Axes>"
      ]
     },
     "metadata": {},
     "output_type": "display_data"
    }
   ],
   "source": [
    "plt.hist(base_eval_ds[\"similarity\"], bins=1000); 1"
   ]
  },
  {
   "cell_type": "markdown",
   "id": "1e76eafa-62a3-4aef-81c3-4c33eb2236ed",
   "metadata": {},
   "source": [
    "### Evaluation (after tuning)"
   ]
  },
  {
   "cell_type": "code",
   "execution_count": 13,
   "id": "4e6a586e-e468-450d-9d2d-4b0538d8aaf1",
   "metadata": {
    "scrolled": true
   },
   "outputs": [
    {
     "data": {
      "application/vnd.jupyter.widget-view+json": {
       "model_id": "4940f5674e964222a1dfec3c587074ac",
       "version_major": 2,
       "version_minor": 0
      },
      "text/plain": [
       "Map:   0%|          | 0/13968 [00:00<?, ? examples/s]"
      ]
     },
     "metadata": {},
     "output_type": "display_data"
    }
   ],
   "source": [
    "custom_embed = partial(embed, model_name=custom_model_name, wrap_items=True)\n",
    "custom_eval_ds = combined[\"test\"].map(custom_embed, batched=True, batch_size=500)"
   ]
  },
  {
   "cell_type": "code",
   "execution_count": 14,
   "id": "211dccad-a6b9-4221-bc5d-6205d9949d81",
   "metadata": {},
   "outputs": [
    {
     "data": {
      "application/vnd.jupyter.widget-view+json": {
       "model_id": "9ea8c6f9fc604f9196b6c0221ae28d41",
       "version_major": 2,
       "version_minor": 0
      },
      "text/plain": [
       "Map (num_proc=40):   0%|          | 0/13968 [00:00<?, ? examples/s]"
      ]
     },
     "metadata": {},
     "output_type": "display_data"
    }
   ],
   "source": [
    "custom_eval_ds = custom_eval_ds.map(calc_cos_sim, num_proc=40)"
   ]
  },
  {
   "cell_type": "code",
   "execution_count": 11,
   "id": "e76be2e2-c7c5-4833-acf8-119a72ec6ac3",
   "metadata": {},
   "outputs": [
    {
     "data": {
      "text/plain": [
       "1"
      ]
     },
     "execution_count": 11,
     "metadata": {},
     "output_type": "execute_result"
    },
    {
     "data": {
      "image/png": "[encoded data removed]",
      "text/plain": [
       "<Figure size 640x480 with 1 Axes>"
      ]
     },
     "metadata": {},
     "output_type": "display_data"
    }
   ],
   "source": [
    "plt.hist(custom_eval_ds[\"similarity\"], bins=1000); 1"
   ]
  },
  {
   "cell_type": "code",
   "execution_count": 15,
   "id": "214ec2d6-348b-4969-a2b8-e0a45752c15a",
   "metadata": {},
   "outputs": [
    {
     "data": {
      "text/plain": [
       "1"
      ]
     },
     "execution_count": 15,
     "metadata": {},
     "output_type": "execute_result"
    },
    {
     "data": {
      "image/png": "[encoded data removed]",
      "text/plain": [
       "<Figure size 640x480 with 1 Axes>"
      ]
     },
     "metadata": {},
     "output_type": "display_data"
    }
   ],
   "source": [
    "plt.hist(custom_eval_ds[\"similarity\"], bins=1000); 1"
   ]
  },
  {
   "cell_type": "code",
   "execution_count": null,
   "id": "ed00a89d-fa59-45f3-b26b-151cadb74c18",
   "metadata": {},
   "outputs": [],
   "source": []
  }
 ],
 "metadata": {
  "kernelspec": {
   "display_name": "Python 3 (ipykernel)",
   "language": "python",
   "name": "python3"
  },
  "language_info": {
   "codemirror_mode": {
    "name": "ipython",
    "version": 3
   },
   "file_extension": ".py",
   "mimetype": "text/x-python",
   "name": "python",
   "nbconvert_exporter": "python",
   "pygments_lexer": "ipython3",
   "version": "3.10.6"
  }
 },
 "nbformat": 4,
 "nbformat_minor": 5
}
