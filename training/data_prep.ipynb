{
 "cells": [
  {
   "cell_type": "markdown",
   "id": "8198fee9-000e-4ef9-bb13-82c649c2e816",
   "metadata": {},
   "source": [
    "## Data prep for retrieving beliefs for dialogs\n",
    "\n",
    "**Goal:** Create a dataset to match dialogs with (possibly) relevant facts  \n",
    "  \n",
    "**Method:**\n",
    "- [x] Use stacked_samsum as training dataset\n",
    "- [x] Prepare datasets\n",
    "    - [x] remove unnecessary columns\n",
    "    - [x] expand the stacked dataset\n",
    "    - [x] truncate on the right to create dangling examples\n",
    "    - [x] augment dialog using openai to make longer"
   ]
  },
  {
   "cell_type": "markdown",
   "id": "fe53fc09-0942-4e9a-921c-3804a1ede8ac",
   "metadata": {},
   "source": [
    "### Constants"
   ]
  },
  {
   "cell_type": "code",
   "execution_count": 1,
   "id": "94dea7bd-f87b-4559-bd82-dadf3dfd6025",
   "metadata": {},
   "outputs": [],
   "source": [
    "model_name = \"BAAI/bge-small-en-v1.5\"\n",
    "max_len = 512\n",
    "next_concept_sep = \"\\n[NEXT_CONCEPT]\\n\"\n",
    "training_input_file = \"./data/train-soft.jsonl\"\n",
    "eval_input_file = \"./data/eval.jsonl\"\n",
    "training_hn_file = \"./data/train.jsonl\"\n",
    "eval_size = 12_500\n",
    "seed = 42\n",
    "query_prefix = \"Represent this sentence for searching relevant passages: \"\n",
    "hf_repo_name = \"julep-ai/dfe-stacked_samsum\""
   ]
  },
  {
   "cell_type": "markdown",
   "id": "6a1ec397-3b13-4e2b-8e0f-9cf127378b8f",
   "metadata": {},
   "source": [
    "### Imports and utils"
   ]
  },
  {
   "cell_type": "code",
   "execution_count": 2,
   "id": "7b69b396-1ef2-41f7-aea8-76cf902dec8b",
   "metadata": {},
   "outputs": [],
   "source": [
    "from functools import partial\n",
    "import os\n",
    "import random\n",
    "import time\n",
    "\n",
    "from datasets import load_dataset, load_from_disk\n",
    "from FlagEmbedding import FlagModel\n",
    "from FlagEmbedding.baai_general_embedding.finetune.hn_mine import find_knn_neg\n",
    "from huggingface_hub import HfApi\n",
    "import jsonlines as jsonl\n",
    "import langchain\n",
    "from langchain.cache import SQLiteCache\n",
    "from langchain.llms import OpenAI\n",
    "from langchain.prompts import PromptTemplate\n",
    "from math import ceil\n",
    "from numpy import cumsum, dot\n",
    "from numpy.linalg import norm\n",
    "from tqdm.auto import tqdm\n",
    "from transformers import AutoTokenizer"
   ]
  },
  {
   "cell_type": "markdown",
   "id": "8b7b4bfb-5b60-4a76-903d-cb528731745a",
   "metadata": {},
   "source": [
    "#### Tokenizer"
   ]
  },
  {
   "cell_type": "code",
   "execution_count": 3,
   "id": "7656e742-9baa-4acc-b536-b2a861fd1d75",
   "metadata": {},
   "outputs": [
    {
     "data": {
      "application/vnd.jupyter.widget-view+json": {
       "model_id": "3a38e57e35cd4c329cfd5790d6f3a181",
       "version_major": 2,
       "version_minor": 0
      },
      "text/plain": [
       "Downloading (…)okenizer_config.json:   0%|          | 0.00/394 [00:00<?, ?B/s]"
      ]
     },
     "metadata": {},
     "output_type": "display_data"
    },
    {
     "data": {
      "application/vnd.jupyter.widget-view+json": {
       "model_id": "1a4440a963dd4bb38abb325cbf8e237f",
       "version_major": 2,
       "version_minor": 0
      },
      "text/plain": [
       "Downloading (…)solve/main/vocab.txt:   0%|          | 0.00/232k [00:00<?, ?B/s]"
      ]
     },
     "metadata": {},
     "output_type": "display_data"
    },
    {
     "data": {
      "application/vnd.jupyter.widget-view+json": {
       "model_id": "43654b37e7284d28806920e2b7535716",
       "version_major": 2,
       "version_minor": 0
      },
      "text/plain": [
       "Downloading (…)/main/tokenizer.json:   0%|          | 0.00/711k [00:00<?, ?B/s]"
      ]
     },
     "metadata": {},
     "output_type": "display_data"
    },
    {
     "data": {
      "application/vnd.jupyter.widget-view+json": {
       "model_id": "842f4ff12f664ef79c390e8a6f6d7a8f",
       "version_major": 2,
       "version_minor": 0
      },
      "text/plain": [
       "Downloading (…)cial_tokens_map.json:   0%|          | 0.00/125 [00:00<?, ?B/s]"
      ]
     },
     "metadata": {},
     "output_type": "display_data"
    }
   ],
   "source": [
    "tokenizer = AutoTokenizer.from_pretrained(model_name)"
   ]
  },
  {
   "cell_type": "markdown",
   "id": "5473558d-45bb-430a-9d0d-9679ea6e2bcd",
   "metadata": {},
   "source": [
    "#### LLM"
   ]
  },
  {
   "cell_type": "code",
   "execution_count": 6,
   "id": "7dedef47-411d-4803-a2a5-4789f668e4ad",
   "metadata": {},
   "outputs": [],
   "source": [
    "langchain.llm_cache = SQLiteCache(database_path=\".langchain.db\")\n",
    "llm = OpenAI(model_name=\"gpt-3.5-turbo-instruct\", temperature=0.7)"
   ]
  },
  {
   "cell_type": "code",
   "execution_count": 7,
   "id": "552f665a-4d32-40d2-8269-ed6031473aec",
   "metadata": {},
   "outputs": [],
   "source": [
    "prompt_template = PromptTemplate.from_template(\n",
    "\"\"\"\\\n",
    "You are a dialog writer. Given a dialog continue it for {n} more turns in the same style as the original speakers. You can be creative in coming up with the next turns as long as you make sure that the new dialog is consistent with the previous messages.\n",
    "\n",
    "### Example Dialog\n",
    "\n",
    "Ken: Hi, how are you?\n",
    "Ang: Just peachy! You?\n",
    "Ken: I'm okay...\n",
    "Ang: Just okay? What's wrong?\n",
    "Ken: Just stressed; work stuff, fighting with Brad, too much going on at mom's.\n",
    "Ang: Hang in there, it will get better!\n",
    "Ken: I know, but it's a lot.\n",
    "Ang: Can I do anything to help?\n",
    "Ken: You are! Listening to me vent! LOL!\n",
    "Ang: Are you at least doing anything fun this weekend?\n",
    "Ken: Show Saturday night, then seeing the grandkids on Sunday at the zoo.\n",
    "\n",
    "### Continuation\n",
    "\n",
    "Ang: Sounds great! That will cheer you up!\n",
    "Ken: Gotta run, work calls. Love you!\n",
    "Ang: Love you too! Have a fantastic day!\n",
    "Ken: You too!\n",
    "\n",
    "### Input Dialog\n",
    "\n",
    "{input_dialog}\n",
    "\n",
    "### Continuation\n",
    "\"\"\"\n",
    ")\n",
    "\n",
    "def gen_continuation(input_dialog, n=4):\n",
    "    wait = round(random.uniform(0.3, 1.2), 3)\n",
    "    time.sleep(wait)\n",
    "\n",
    "    prompt = prompt_template.format(n=n, input_dialog=input_dialog)\n",
    "    continuation = llm(prompt).strip()\n",
    "    \n",
    "    return continuation"
   ]
  },
  {
   "cell_type": "markdown",
   "id": "2eb6f55d-ec09-4bc5-8f1a-31e521ad3121",
   "metadata": {},
   "source": [
    "#### Dataset load"
   ]
  },
  {
   "cell_type": "code",
   "execution_count": 8,
   "id": "3f5420aa-d327-4d3a-8e02-90473dcca1be",
   "metadata": {},
   "outputs": [
    {
     "data": {
      "application/vnd.jupyter.widget-view+json": {
       "model_id": "e37a3fa756ed4ba49d094685c8f369c0",
       "version_major": 2,
       "version_minor": 0
      },
      "text/plain": [
       "Downloading readme:   0%|          | 0.00/2.01k [00:00<?, ?B/s]"
      ]
     },
     "metadata": {},
     "output_type": "display_data"
    },
    {
     "data": {
      "application/vnd.jupyter.widget-view+json": {
       "model_id": "be3c7c3438d04cb09133a45db6e05af1",
       "version_major": 2,
       "version_minor": 0
      },
      "text/plain": [
       "Downloading data files:   0%|          | 0/3 [00:00<?, ?it/s]"
      ]
     },
     "metadata": {},
     "output_type": "display_data"
    },
    {
     "data": {
      "application/vnd.jupyter.widget-view+json": {
       "model_id": "30dba8a2fe2a48ae8be85f1ed889e41a",
       "version_major": 2,
       "version_minor": 0
      },
      "text/plain": [
       "Downloading data:   0%|          | 0.00/67.5M [00:00<?, ?B/s]"
      ]
     },
     "metadata": {},
     "output_type": "display_data"
    },
    {
     "data": {
      "application/vnd.jupyter.widget-view+json": {
       "model_id": "aadfeb1a54b24b3ca66b3b27fd86cb19",
       "version_major": 2,
       "version_minor": 0
      },
      "text/plain": [
       "Downloading data:   0%|          | 0.00/3.68M [00:00<?, ?B/s]"
      ]
     },
     "metadata": {},
     "output_type": "display_data"
    },
    {
     "data": {
      "application/vnd.jupyter.widget-view+json": {
       "model_id": "e62fec8b8e4d495484eb9527e0d74083",
       "version_major": 2,
       "version_minor": 0
      },
      "text/plain": [
       "Downloading data:   0%|          | 0.00/3.66M [00:00<?, ?B/s]"
      ]
     },
     "metadata": {},
     "output_type": "display_data"
    },
    {
     "data": {
      "application/vnd.jupyter.widget-view+json": {
       "model_id": "93b7d301883a4a8aa15dd521365b2f5e",
       "version_major": 2,
       "version_minor": 0
      },
      "text/plain": [
       "Extracting data files:   0%|          | 0/3 [00:00<?, ?it/s]"
      ]
     },
     "metadata": {},
     "output_type": "display_data"
    },
    {
     "data": {
      "application/vnd.jupyter.widget-view+json": {
       "model_id": "86a7908da3af40ca8b8b7077920a9c76",
       "version_major": 2,
       "version_minor": 0
      },
      "text/plain": [
       "Generating train split: 0 examples [00:00, ? examples/s]"
      ]
     },
     "metadata": {},
     "output_type": "display_data"
    },
    {
     "data": {
      "application/vnd.jupyter.widget-view+json": {
       "model_id": "542252d670ac4ccb9ea4ea55b2e07a8d",
       "version_major": 2,
       "version_minor": 0
      },
      "text/plain": [
       "Generating validation split: 0 examples [00:00, ? examples/s]"
      ]
     },
     "metadata": {},
     "output_type": "display_data"
    },
    {
     "data": {
      "application/vnd.jupyter.widget-view+json": {
       "model_id": "0afcfaba36d14d7fb2d390394d91019d",
       "version_major": 2,
       "version_minor": 0
      },
      "text/plain": [
       "Generating test split: 0 examples [00:00, ? examples/s]"
      ]
     },
     "metadata": {},
     "output_type": "display_data"
    },
    {
     "data": {
      "application/vnd.jupyter.widget-view+json": {
       "model_id": "c299b3fcc62e4e8e8ea9467dd8c5de5b",
       "version_major": 2,
       "version_minor": 0
      },
      "text/plain": [
       "Filter:   0%|          | 0/29442 [00:00<?, ? examples/s]"
      ]
     },
     "metadata": {},
     "output_type": "display_data"
    },
    {
     "data": {
      "application/vnd.jupyter.widget-view+json": {
       "model_id": "5f1e738d9a6f408e91de247176e28231",
       "version_major": 2,
       "version_minor": 0
      },
      "text/plain": [
       "Filter:   0%|          | 0/1633 [00:00<?, ? examples/s]"
      ]
     },
     "metadata": {},
     "output_type": "display_data"
    },
    {
     "data": {
      "application/vnd.jupyter.widget-view+json": {
       "model_id": "ab2155b540704f38a2221fd5daad996f",
       "version_major": 2,
       "version_minor": 0
      },
      "text/plain": [
       "Filter:   0%|          | 0/1637 [00:00<?, ? examples/s]"
      ]
     },
     "metadata": {},
     "output_type": "display_data"
    },
    {
     "data": {
      "application/vnd.jupyter.widget-view+json": {
       "model_id": "e07cc667f767497fbdc69a30def6e848",
       "version_major": 2,
       "version_minor": 0
      },
      "text/plain": [
       "Map:   0%|          | 0/29441 [00:00<?, ? examples/s]"
      ]
     },
     "metadata": {},
     "output_type": "display_data"
    },
    {
     "data": {
      "application/vnd.jupyter.widget-view+json": {
       "model_id": "028f010412144f6ca006c60bfe38f141",
       "version_major": 2,
       "version_minor": 0
      },
      "text/plain": [
       "Map:   0%|          | 0/1633 [00:00<?, ? examples/s]"
      ]
     },
     "metadata": {},
     "output_type": "display_data"
    },
    {
     "data": {
      "application/vnd.jupyter.widget-view+json": {
       "model_id": "5ab9c3006f3b43c990504c2ebe4dfb35",
       "version_major": 2,
       "version_minor": 0
      },
      "text/plain": [
       "Map:   0%|          | 0/1637 [00:00<?, ? examples/s]"
      ]
     },
     "metadata": {},
     "output_type": "display_data"
    }
   ],
   "source": [
    "# Get everything, we'll split it later\n",
    "dataset = load_dataset(\n",
    "    \"stacked-summaries/stacked-samsum-1024\", \n",
    ")\n",
    "\n",
    "\n",
    "# Remove unnecessary columns\n",
    "dataset = dataset.remove_columns(['chapter_length', 'summary_length', 'is_stacked',])\n",
    "\n",
    "# Remove empty/null dialogs\n",
    "dataset = dataset.filter(\n",
    "    lambda row: row[\"dialogue\"]\n",
    ")\n",
    "\n",
    "# Convert windows-style line endings to unix-style\n",
    "dataset = dataset.map(\n",
    "    lambda row: dict(dialogue=row[\"dialogue\"].replace(\"\\r\\n\", '\\n'))\n",
    ")"
   ]
  },
  {
   "cell_type": "markdown",
   "id": "1d728969-c3bc-42e5-8a49-2e8fb16f582c",
   "metadata": {},
   "source": [
    "#### Dataset prep"
   ]
  },
  {
   "cell_type": "code",
   "execution_count": 9,
   "id": "c56780b7-1e2f-458d-b370-82b6c95f5173",
   "metadata": {},
   "outputs": [],
   "source": [
    "def count_tokens(row):\n",
    "    \"\"\"Count tokens using the tokenizer\"\"\"\n",
    "\n",
    "    dialogue = row[\"dialogue\"]\n",
    "    tokens = tokenizer.encode(dialogue, add_special_tokens=False)\n",
    "\n",
    "    return dict(token_count=len(tokens))"
   ]
  },
  {
   "cell_type": "code",
   "execution_count": 10,
   "id": "416b074f-9660-40c3-9774-7ea17bfae5bb",
   "metadata": {},
   "outputs": [
    {
     "data": {
      "application/vnd.jupyter.widget-view+json": {
       "model_id": "6d1fbe00844e4754bd2977cb220a60e9",
       "version_major": 2,
       "version_minor": 0
      },
      "text/plain": [
       "Map:   0%|          | 0/29441 [00:00<?, ? examples/s]"
      ]
     },
     "metadata": {},
     "output_type": "display_data"
    },
    {
     "data": {
      "application/vnd.jupyter.widget-view+json": {
       "model_id": "fa4a9ae5bc3d44b29054f136f7a83e37",
       "version_major": 2,
       "version_minor": 0
      },
      "text/plain": [
       "Map:   0%|          | 0/1633 [00:00<?, ? examples/s]"
      ]
     },
     "metadata": {},
     "output_type": "display_data"
    },
    {
     "data": {
      "application/vnd.jupyter.widget-view+json": {
       "model_id": "810216b358cc435f964c7e48e9f6c9b5",
       "version_major": 2,
       "version_minor": 0
      },
      "text/plain": [
       "Map:   0%|          | 0/1637 [00:00<?, ? examples/s]"
      ]
     },
     "metadata": {},
     "output_type": "display_data"
    }
   ],
   "source": [
    "# Add token count to every row in dataset\n",
    "dataset = dataset.map(count_tokens)"
   ]
  },
  {
   "cell_type": "code",
   "execution_count": 11,
   "id": "5c3666f1-0457-4304-aeff-10060405f72e",
   "metadata": {},
   "outputs": [],
   "source": [
    "def offset_left(\n",
    "    dialogue: str,\n",
    "    split_offset=0,\n",
    "    splits=1,\n",
    "    max_len=max_len,\n",
    "):\n",
    "    # Split dialog lines\n",
    "    lines = dialogue.split(\"\\n\")\n",
    "\n",
    "    # Count tokens per line\n",
    "    toks_by_line = [\n",
    "        len(tokenizer.encode(line, add_special_tokens=False))\n",
    "        for line in lines\n",
    "    ]\n",
    "\n",
    "    # Cumulative sum of tokens per line\n",
    "    cum_toks_by_line = cumsum(toks_by_line)\n",
    "\n",
    "    # Total no. of tokens\n",
    "    total_tokens = sum(toks_by_line)\n",
    "\n",
    "    # Return as is if total tokens is less than max len of model\n",
    "    if total_tokens <= max_len:\n",
    "        return dialogue\n",
    "\n",
    "    # Calculate step size\n",
    "    step_size = ceil(total_tokens / (splits * 2))\n",
    "\n",
    "    # Calculate left index\n",
    "    left_index = 0\n",
    "    for cum_toks in cum_toks_by_line:\n",
    "        if cum_toks > (split_offset * step_size):\n",
    "            break\n",
    "            \n",
    "        left_index += 1\n",
    "\n",
    "    # Calculate right index\n",
    "    right_index = 0\n",
    "    for last_cum_toks in cum_toks_by_line[::-1]:\n",
    "        if last_cum_toks < max_len:\n",
    "            break\n",
    "            \n",
    "        right_index -= 1\n",
    "\n",
    "    # Calc final section\n",
    "    if right_index == 0:\n",
    "        lines = lines[left_index:]\n",
    "    else:\n",
    "        lines = lines[left_index:right_index]\n",
    "\n",
    "    return \"\\n\".join(lines)"
   ]
  },
  {
   "cell_type": "code",
   "execution_count": 12,
   "id": "580d654b-ed6a-4cf5-b81a-886905d0bd30",
   "metadata": {},
   "outputs": [],
   "source": [
    "def truncate_lines(dialog, num=3, min=5):\n",
    "    \"\"\"\n",
    "    Split dialog into lines and then drop the last `num` lines,\n",
    "    making sure there are at least `min` lines remaining.\n",
    "    \"\"\"\n",
    "    \n",
    "    lines = dialog.split(\"\\n\")\n",
    "\n",
    "    # If too short, return as is\n",
    "    if len(lines) - num < min:\n",
    "        return dialog\n",
    "\n",
    "    if num > 0:\n",
    "        return \"\\n\".join(lines[:-num])\n",
    "    else:\n",
    "        return \"\\n\".join(lines[-num:])\n"
   ]
  },
  {
   "cell_type": "code",
   "execution_count": 13,
   "id": "6f8b5214-1f51-4974-8c20-b3e4a6aa33ab",
   "metadata": {},
   "outputs": [],
   "source": [
    "def expand_stacked(rows):\n",
    "    \"\"\"Expand stacked samsum dataset by splitting concepts in every summary per dialog\"\"\"\n",
    "    \n",
    "    # Get fields by batch\n",
    "    dialogues = rows[\"dialogue\"]\n",
    "    summaries = rows[\"summary\"]\n",
    "\n",
    "    # Containers for final results\n",
    "    is_augmented = []\n",
    "    is_truncated = []\n",
    "    final_dialogues = []\n",
    "    final_summaries = []\n",
    "\n",
    "    # Process every dialog and summary\n",
    "    for dialogue, summary in tqdm(zip(dialogues, summaries)):\n",
    "        # Split the summary by the NEXT_CONCEPT separator from the dataset\n",
    "        ss = summary.split(next_concept_sep)\n",
    "\n",
    "        # Split different conversations within the sample\n",
    "        #   offset on the left to try to match relevance\n",
    "        dd = [\n",
    "            offset_left(d, split_offset=1) for d in dialogue.split(\"\\n\\n\")\n",
    "        ]\n",
    "\n",
    "        is_truncated += [False] * len(dd)\n",
    "        is_augmented += [False] * len(dd)\n",
    "        final_dialogues += dd\n",
    "        final_summaries += ss\n",
    "\n",
    "        # ---\n",
    "        # Now truncate and add\n",
    "        truncated = [truncate_lines(d) for d in dd]\n",
    "\n",
    "        is_augmented += [False] * len(dd)\n",
    "        is_truncated += [t != d for t, d in zip(truncated, dd)]\n",
    "        final_dialogues += truncated\n",
    "        final_summaries += ss\n",
    "\n",
    "        # ---\n",
    "        # Now augment and add\n",
    "\n",
    "        augmented = [\n",
    "            truncate_lines(d + gen_continuation(d), num=-4)\n",
    "            for d in dd\n",
    "        ]\n",
    "        \n",
    "        is_truncated += [False] * len(dd)\n",
    "        is_augmented += [True] * len(dd)\n",
    "        final_dialogues += augmented\n",
    "        final_summaries += ss\n",
    "\n",
    "    return dict(\n",
    "        dialogue=final_dialogues,\n",
    "        summary=final_summaries,\n",
    "        is_truncated=is_truncated,\n",
    "        is_augmented\n",
    "        token_count=[None]*len(final_summaries),\n",
    "    )"
   ]
  },
  {
   "cell_type": "code",
   "execution_count": null,
   "id": "e79f4bb3-614a-4a5a-9135-fda2dce33c55",
   "metadata": {
    "scrolled": true
   },
   "outputs": [
    {
     "data": {
      "application/vnd.jupyter.widget-view+json": {
       "model_id": "c8f380f567b34d948d9cd7fbb6b332a1",
       "version_major": 2,
       "version_minor": 0
      },
      "text/plain": [
       "Map (num_proc=100):   0%|          | 0/29441 [00:00<?, ? examples/s]"
      ]
     },
     "metadata": {},
     "output_type": "display_data"
    },
    {
     "name": "stderr",
     "output_type": "stream",
     "text": [
      "Retrying langchain.llms.openai.completion_with_retry.<locals>._completion_with_retry in 4.0 seconds as it raised RateLimitError: Rate limit reached for default-global-with-image-limits in organization org-ZZK1tdpov2aMcMdRfIOVNTcr on tokens_usage_based per min. Limit: 250000 / min. Current: 249870 / min. Contact us through our help center at help.openai.com if you continue to have issues..\n",
      "Retrying langchain.llms.openai.completion_with_retry.<locals>._completion_with_retry in 4.0 seconds as it raised RateLimitError: Rate limit reached for default-global-with-image-limits in organization org-ZZK1tdpov2aMcMdRfIOVNTcr on tokens_usage_based per min. Limit: 250000 / min. Current: 249916 / min. Contact us through our help center at help.openai.com if you continue to have issues..\n",
      "Retrying langchain.llms.openai.completion_with_retry.<locals>._completion_with_retry in 4.0 seconds as it raised RateLimitError: Rate limit reached for default-global-with-image-limits in organization org-ZZK1tdpov2aMcMdRfIOVNTcr on tokens_usage_based per min. Limit: 250000 / min. Current: 249946 / min. Contact us through our help center at help.openai.com if you continue to have issues..\n",
      "Retrying langchain.llms.openai.completion_with_retry.<locals>._completion_with_retry in 4.0 seconds as it raised RateLimitError: Rate limit reached for default-global-with-image-limits in organization org-ZZK1tdpov2aMcMdRfIOVNTcr on tokens_usage_based per min. Limit: 250000 / min. Current: 249955 / min. Contact us through our help center at help.openai.com if you continue to have issues..\n",
      "Retrying langchain.llms.openai.completion_with_retry.<locals>._completion_with_retry in 4.0 seconds as it raised RateLimitError: Rate limit reached for default-global-with-image-limits in organization org-ZZK1tdpov2aMcMdRfIOVNTcr on tokens_usage_based per min. Limit: 250000 / min. Current: 249871 / min. Contact us through our help center at help.openai.com if you continue to have issues..\n",
      "Retrying langchain.llms.openai.completion_with_retry.<locals>._completion_with_retry in 4.0 seconds as it raised RateLimitError: Rate limit reached for default-global-with-image-limits in organization org-ZZK1tdpov2aMcMdRfIOVNTcr on tokens_usage_based per min. Limit: 250000 / min. Current: 249847 / min. Contact us through our help center at help.openai.com if you continue to have issues..\n",
      "Retrying langchain.llms.openai.completion_with_retry.<locals>._completion_with_retry in 4.0 seconds as it raised RateLimitError: Rate limit reached for default-global-with-image-limits in organization org-ZZK1tdpov2aMcMdRfIOVNTcr on tokens_usage_based per min. Limit: 250000 / min. Current: 249815 / min. Contact us through our help center at help.openai.com if you continue to have issues..\n",
      "Retrying langchain.llms.openai.completion_with_retry.<locals>._completion_with_retry in 4.0 seconds as it raised RateLimitError: Rate limit reached for default-global-with-image-limits in organization org-ZZK1tdpov2aMcMdRfIOVNTcr on tokens_usage_based per min. Limit: 250000 / min. Current: 249753 / min. Contact us through our help center at help.openai.com if you continue to have issues..\n",
      "Retrying langchain.llms.openai.completion_with_retry.<locals>._completion_with_retry in 4.0 seconds as it raised RateLimitError: Rate limit reached for default-global-with-image-limits in organization org-ZZK1tdpov2aMcMdRfIOVNTcr on tokens_usage_based per min. Limit: 250000 / min. Current: 249857 / min. Contact us through our help center at help.openai.com if you continue to have issues..\n",
      "Retrying langchain.llms.openai.completion_with_retry.<locals>._completion_with_retry in 4.0 seconds as it raised RateLimitError: Rate limit reached for default-global-with-image-limits in organization org-ZZK1tdpov2aMcMdRfIOVNTcr on tokens_usage_based per min. Limit: 250000 / min. Current: 249810 / min. Contact us through our help center at help.openai.com if you continue to have issues..\n",
      "Retrying langchain.llms.openai.completion_with_retry.<locals>._completion_with_retry in 4.0 seconds as it raised RateLimitError: Rate limit reached for default-global-with-image-limits in organization org-ZZK1tdpov2aMcMdRfIOVNTcr on tokens_usage_based per min. Limit: 250000 / min. Current: 249795 / min. Contact us through our help center at help.openai.com if you continue to have issues..\n",
      "Retrying langchain.llms.openai.completion_with_retry.<locals>._completion_with_retry in 4.0 seconds as it raised RateLimitError: Rate limit reached for default-global-with-image-limits in organization org-ZZK1tdpov2aMcMdRfIOVNTcr on tokens_usage_based per min. Limit: 250000 / min. Current: 249771 / min. Contact us through our help center at help.openai.com if you continue to have issues..\n",
      "Retrying langchain.llms.openai.completion_with_retry.<locals>._completion_with_retry in 4.0 seconds as it raised RateLimitError: Rate limit reached for default-global-with-image-limits in organization org-ZZK1tdpov2aMcMdRfIOVNTcr on tokens_usage_based per min. Limit: 250000 / min. Current: 249894 / min. Contact us through our help center at help.openai.com if you continue to have issues..\n",
      "Retrying langchain.llms.openai.completion_with_retry.<locals>._completion_with_retry in 4.0 seconds as it raised RateLimitError: Rate limit reached for default-global-with-image-limits in organization org-ZZK1tdpov2aMcMdRfIOVNTcr on tokens_usage_based per min. Limit: 250000 / min. Current: 249884 / min. Contact us through our help center at help.openai.com if you continue to have issues..\n",
      "Retrying langchain.llms.openai.completion_with_retry.<locals>._completion_with_retry in 4.0 seconds as it raised RateLimitError: Rate limit reached for default-global-with-image-limits in organization org-ZZK1tdpov2aMcMdRfIOVNTcr on tokens_usage_based per min. Limit: 250000 / min. Current: 249940 / min. Contact us through our help center at help.openai.com if you continue to have issues..\n",
      "Retrying langchain.llms.openai.completion_with_retry.<locals>._completion_with_retry in 4.0 seconds as it raised RateLimitError: Rate limit reached for default-global-with-image-limits in organization org-ZZK1tdpov2aMcMdRfIOVNTcr on tokens_usage_based per min. Limit: 250000 / min. Current: 249829 / min. Contact us through our help center at help.openai.com if you continue to have issues..\n",
      "Retrying langchain.llms.openai.completion_with_retry.<locals>._completion_with_retry in 4.0 seconds as it raised RateLimitError: Rate limit reached for default-global-with-image-limits in organization org-ZZK1tdpov2aMcMdRfIOVNTcr on tokens_usage_based per min. Limit: 250000 / min. Current: 249828 / min. Contact us through our help center at help.openai.com if you continue to have issues..\n",
      "Retrying langchain.llms.openai.completion_with_retry.<locals>._completion_with_retry in 4.0 seconds as it raised RateLimitError: Rate limit reached for default-global-with-image-limits in organization org-ZZK1tdpov2aMcMdRfIOVNTcr on tokens_usage_based per min. Limit: 250000 / min. Current: 249848 / min. Contact us through our help center at help.openai.com if you continue to have issues..\n",
      "Retrying langchain.llms.openai.completion_with_retry.<locals>._completion_with_retry in 4.0 seconds as it raised RateLimitError: Rate limit reached for default-global-with-image-limits in organization org-ZZK1tdpov2aMcMdRfIOVNTcr on tokens_usage_based per min. Limit: 250000 / min. Current: 249939 / min. Contact us through our help center at help.openai.com if you continue to have issues..\n",
      "Retrying langchain.llms.openai.completion_with_retry.<locals>._completion_with_retry in 4.0 seconds as it raised RateLimitError: Rate limit reached for default-global-with-image-limits in organization org-ZZK1tdpov2aMcMdRfIOVNTcr on tokens_usage_based per min. Limit: 250000 / min. Current: 249882 / min. Contact us through our help center at help.openai.com if you continue to have issues..\n",
      "Retrying langchain.llms.openai.completion_with_retry.<locals>._completion_with_retry in 4.0 seconds as it raised RateLimitError: Rate limit reached for default-global-with-image-limits in organization org-ZZK1tdpov2aMcMdRfIOVNTcr on tokens_usage_based per min. Limit: 250000 / min. Current: 249895 / min. Contact us through our help center at help.openai.com if you continue to have issues..\n",
      "Retrying langchain.llms.openai.completion_with_retry.<locals>._completion_with_retry in 4.0 seconds as it raised RateLimitError: Rate limit reached for default-global-with-image-limits in organization org-ZZK1tdpov2aMcMdRfIOVNTcr on tokens_usage_based per min. Limit: 250000 / min. Current: 249891 / min. Contact us through our help center at help.openai.com if you continue to have issues..\n",
      "Retrying langchain.llms.openai.completion_with_retry.<locals>._completion_with_retry in 4.0 seconds as it raised RateLimitError: Rate limit reached for default-global-with-image-limits in organization org-ZZK1tdpov2aMcMdRfIOVNTcr on tokens_usage_based per min. Limit: 250000 / min. Current: 249895 / min. Contact us through our help center at help.openai.com if you continue to have issues..\n",
      "Retrying langchain.llms.openai.completion_with_retry.<locals>._completion_with_retry in 4.0 seconds as it raised RateLimitError: Rate limit reached for default-global-with-image-limits in organization org-ZZK1tdpov2aMcMdRfIOVNTcr on tokens_usage_based per min. Limit: 250000 / min. Current: 249754 / min. Contact us through our help center at help.openai.com if you continue to have issues..\n",
      "Retrying langchain.llms.openai.completion_with_retry.<locals>._completion_with_retry in 4.0 seconds as it raised RateLimitError: Rate limit reached for default-global-with-image-limits in organization org-ZZK1tdpov2aMcMdRfIOVNTcr on tokens_usage_based per min. Limit: 250000 / min. Current: 249804 / min. Contact us through our help center at help.openai.com if you continue to have issues..\n",
      "Retrying langchain.llms.openai.completion_with_retry.<locals>._completion_with_retry in 4.0 seconds as it raised RateLimitError: Rate limit reached for default-global-with-image-limits in organization org-ZZK1tdpov2aMcMdRfIOVNTcr on tokens_usage_based per min. Limit: 250000 / min. Current: 249971 / min. Contact us through our help center at help.openai.com if you continue to have issues..\n",
      "Retrying langchain.llms.openai.completion_with_retry.<locals>._completion_with_retry in 4.0 seconds as it raised RateLimitError: Rate limit reached for default-global-with-image-limits in organization org-ZZK1tdpov2aMcMdRfIOVNTcr on tokens_usage_based per min. Limit: 250000 / min. Current: 249880 / min. Contact us through our help center at help.openai.com if you continue to have issues..\n",
      "Retrying langchain.llms.openai.completion_with_retry.<locals>._completion_with_retry in 4.0 seconds as it raised RateLimitError: Rate limit reached for default-global-with-image-limits in organization org-ZZK1tdpov2aMcMdRfIOVNTcr on tokens_usage_based per min. Limit: 250000 / min. Current: 249887 / min. Contact us through our help center at help.openai.com if you continue to have issues..\n",
      "Retrying langchain.llms.openai.completion_with_retry.<locals>._completion_with_retry in 4.0 seconds as it raised RateLimitError: Rate limit reached for default-global-with-image-limits in organization org-ZZK1tdpov2aMcMdRfIOVNTcr on tokens_usage_based per min. Limit: 250000 / min. Current: 249921 / min. Contact us through our help center at help.openai.com if you continue to have issues..\n",
      "Retrying langchain.llms.openai.completion_with_retry.<locals>._completion_with_retry in 4.0 seconds as it raised RateLimitError: Rate limit reached for default-global-with-image-limits in organization org-ZZK1tdpov2aMcMdRfIOVNTcr on tokens_usage_based per min. Limit: 250000 / min. Current: 249797 / min. Contact us through our help center at help.openai.com if you continue to have issues..\n",
      "Retrying langchain.llms.openai.completion_with_retry.<locals>._completion_with_retry in 4.0 seconds as it raised RateLimitError: Rate limit reached for default-global-with-image-limits in organization org-ZZK1tdpov2aMcMdRfIOVNTcr on tokens_usage_based per min. Limit: 250000 / min. Current: 249754 / min. Contact us through our help center at help.openai.com if you continue to have issues..\n",
      "Retrying langchain.llms.openai.completion_with_retry.<locals>._completion_with_retry in 4.0 seconds as it raised RateLimitError: Rate limit reached for default-global-with-image-limits in organization org-ZZK1tdpov2aMcMdRfIOVNTcr on tokens_usage_based per min. Limit: 250000 / min. Current: 249898 / min. Contact us through our help center at help.openai.com if you continue to have issues..\n",
      "Retrying langchain.llms.openai.completion_with_retry.<locals>._completion_with_retry in 4.0 seconds as it raised RateLimitError: Rate limit reached for default-global-with-image-limits in organization org-ZZK1tdpov2aMcMdRfIOVNTcr on tokens_usage_based per min. Limit: 250000 / min. Current: 249791 / min. Contact us through our help center at help.openai.com if you continue to have issues..\n",
      "Retrying langchain.llms.openai.completion_with_retry.<locals>._completion_with_retry in 4.0 seconds as it raised RateLimitError: Rate limit reached for default-global-with-image-limits in organization org-ZZK1tdpov2aMcMdRfIOVNTcr on tokens_usage_based per min. Limit: 250000 / min. Current: 249833 / min. Contact us through our help center at help.openai.com if you continue to have issues..\n",
      "Retrying langchain.llms.openai.completion_with_retry.<locals>._completion_with_retry in 4.0 seconds as it raised RateLimitError: Rate limit reached for default-global-with-image-limits in organization org-ZZK1tdpov2aMcMdRfIOVNTcr on tokens_usage_based per min. Limit: 250000 / min. Current: 249887 / min. Contact us through our help center at help.openai.com if you continue to have issues..\n",
      "Retrying langchain.llms.openai.completion_with_retry.<locals>._completion_with_retry in 4.0 seconds as it raised RateLimitError: Rate limit reached for default-global-with-image-limits in organization org-ZZK1tdpov2aMcMdRfIOVNTcr on tokens_usage_based per min. Limit: 250000 / min. Current: 249872 / min. Contact us through our help center at help.openai.com if you continue to have issues..\n",
      "Retrying langchain.llms.openai.completion_with_retry.<locals>._completion_with_retry in 4.0 seconds as it raised RateLimitError: Rate limit reached for default-global-with-image-limits in organization org-ZZK1tdpov2aMcMdRfIOVNTcr on tokens_usage_based per min. Limit: 250000 / min. Current: 249749 / min. Contact us through our help center at help.openai.com if you continue to have issues..\n",
      "Retrying langchain.llms.openai.completion_with_retry.<locals>._completion_with_retry in 4.0 seconds as it raised RateLimitError: Rate limit reached for default-global-with-image-limits in organization org-ZZK1tdpov2aMcMdRfIOVNTcr on tokens_usage_based per min. Limit: 250000 / min. Current: 249859 / min. Contact us through our help center at help.openai.com if you continue to have issues..\n",
      "Retrying langchain.llms.openai.completion_with_retry.<locals>._completion_with_retry in 4.0 seconds as it raised RateLimitError: Rate limit reached for default-global-with-image-limits in organization org-ZZK1tdpov2aMcMdRfIOVNTcr on tokens_usage_based per min. Limit: 250000 / min. Current: 249811 / min. Contact us through our help center at help.openai.com if you continue to have issues..\n",
      "Retrying langchain.llms.openai.completion_with_retry.<locals>._completion_with_retry in 4.0 seconds as it raised RateLimitError: Rate limit reached for default-global-with-image-limits in organization org-ZZK1tdpov2aMcMdRfIOVNTcr on tokens_usage_based per min. Limit: 250000 / min. Current: 249912 / min. Contact us through our help center at help.openai.com if you continue to have issues..\n",
      "Retrying langchain.llms.openai.completion_with_retry.<locals>._completion_with_retry in 4.0 seconds as it raised RateLimitError: Rate limit reached for default-global-with-image-limits in organization org-ZZK1tdpov2aMcMdRfIOVNTcr on tokens_usage_based per min. Limit: 250000 / min. Current: 249918 / min. Contact us through our help center at help.openai.com if you continue to have issues..\n",
      "Retrying langchain.llms.openai.completion_with_retry.<locals>._completion_with_retry in 4.0 seconds as it raised RateLimitError: Rate limit reached for default-global-with-image-limits in organization org-ZZK1tdpov2aMcMdRfIOVNTcr on tokens_usage_based per min. Limit: 250000 / min. Current: 249853 / min. Contact us through our help center at help.openai.com if you continue to have issues..\n",
      "Retrying langchain.llms.openai.completion_with_retry.<locals>._completion_with_retry in 4.0 seconds as it raised RateLimitError: Rate limit reached for default-global-with-image-limits in organization org-ZZK1tdpov2aMcMdRfIOVNTcr on tokens_usage_based per min. Limit: 250000 / min. Current: 249843 / min. Contact us through our help center at help.openai.com if you continue to have issues..\n",
      "Retrying langchain.llms.openai.completion_with_retry.<locals>._completion_with_retry in 4.0 seconds as it raised RateLimitError: Rate limit reached for default-global-with-image-limits in organization org-ZZK1tdpov2aMcMdRfIOVNTcr on tokens_usage_based per min. Limit: 250000 / min. Current: 249790 / min. Contact us through our help center at help.openai.com if you continue to have issues..\n",
      "Retrying langchain.llms.openai.completion_with_retry.<locals>._completion_with_retry in 4.0 seconds as it raised RateLimitError: Rate limit reached for default-global-with-image-limits in organization org-ZZK1tdpov2aMcMdRfIOVNTcr on tokens_usage_based per min. Limit: 250000 / min. Current: 249939 / min. Contact us through our help center at help.openai.com if you continue to have issues..\n",
      "Retrying langchain.llms.openai.completion_with_retry.<locals>._completion_with_retry in 4.0 seconds as it raised RateLimitError: Rate limit reached for default-global-with-image-limits in organization org-ZZK1tdpov2aMcMdRfIOVNTcr on tokens_usage_based per min. Limit: 250000 / min. Current: 249848 / min. Contact us through our help center at help.openai.com if you continue to have issues..\n",
      "Retrying langchain.llms.openai.completion_with_retry.<locals>._completion_with_retry in 4.0 seconds as it raised RateLimitError: Rate limit reached for default-global-with-image-limits in organization org-ZZK1tdpov2aMcMdRfIOVNTcr on tokens_usage_based per min. Limit: 250000 / min. Current: 249775 / min. Contact us through our help center at help.openai.com if you continue to have issues..\n",
      "Retrying langchain.llms.openai.completion_with_retry.<locals>._completion_with_retry in 4.0 seconds as it raised RateLimitError: Rate limit reached for default-global-with-image-limits in organization org-ZZK1tdpov2aMcMdRfIOVNTcr on tokens_usage_based per min. Limit: 250000 / min. Current: 249824 / min. Contact us through our help center at help.openai.com if you continue to have issues..\n",
      "Retrying langchain.llms.openai.completion_with_retry.<locals>._completion_with_retry in 4.0 seconds as it raised RateLimitError: Rate limit reached for default-global-with-image-limits in organization org-ZZK1tdpov2aMcMdRfIOVNTcr on tokens_usage_based per min. Limit: 250000 / min. Current: 249767 / min. Contact us through our help center at help.openai.com if you continue to have issues..\n",
      "Retrying langchain.llms.openai.completion_with_retry.<locals>._completion_with_retry in 4.0 seconds as it raised RateLimitError: Rate limit reached for default-global-with-image-limits in organization org-ZZK1tdpov2aMcMdRfIOVNTcr on tokens_usage_based per min. Limit: 250000 / min. Current: 249814 / min. Contact us through our help center at help.openai.com if you continue to have issues..\n",
      "Retrying langchain.llms.openai.completion_with_retry.<locals>._completion_with_retry in 4.0 seconds as it raised RateLimitError: Rate limit reached for default-global-with-image-limits in organization org-ZZK1tdpov2aMcMdRfIOVNTcr on tokens_usage_based per min. Limit: 250000 / min. Current: 249930 / min. Contact us through our help center at help.openai.com if you continue to have issues..\n",
      "Retrying langchain.llms.openai.completion_with_retry.<locals>._completion_with_retry in 4.0 seconds as it raised RateLimitError: Rate limit reached for default-global-with-image-limits in organization org-ZZK1tdpov2aMcMdRfIOVNTcr on tokens_usage_based per min. Limit: 250000 / min. Current: 249911 / min. Contact us through our help center at help.openai.com if you continue to have issues..\n",
      "Retrying langchain.llms.openai.completion_with_retry.<locals>._completion_with_retry in 4.0 seconds as it raised RateLimitError: Rate limit reached for default-global-with-image-limits in organization org-ZZK1tdpov2aMcMdRfIOVNTcr on tokens_usage_based per min. Limit: 250000 / min. Current: 249944 / min. Contact us through our help center at help.openai.com if you continue to have issues..\n",
      "Retrying langchain.llms.openai.completion_with_retry.<locals>._completion_with_retry in 4.0 seconds as it raised RateLimitError: Rate limit reached for default-global-with-image-limits in organization org-ZZK1tdpov2aMcMdRfIOVNTcr on tokens_usage_based per min. Limit: 250000 / min. Current: 249897 / min. Contact us through our help center at help.openai.com if you continue to have issues..\n",
      "Retrying langchain.llms.openai.completion_with_retry.<locals>._completion_with_retry in 4.0 seconds as it raised RateLimitError: Rate limit reached for default-global-with-image-limits in organization org-ZZK1tdpov2aMcMdRfIOVNTcr on tokens_usage_based per min. Limit: 250000 / min. Current: 249913 / min. Contact us through our help center at help.openai.com if you continue to have issues..\n",
      "Retrying langchain.llms.openai.completion_with_retry.<locals>._completion_with_retry in 4.0 seconds as it raised RateLimitError: Rate limit reached for default-global-with-image-limits in organization org-ZZK1tdpov2aMcMdRfIOVNTcr on tokens_usage_based per min. Limit: 250000 / min. Current: 249982 / min. Contact us through our help center at help.openai.com if you continue to have issues..\n",
      "Retrying langchain.llms.openai.completion_with_retry.<locals>._completion_with_retry in 4.0 seconds as it raised RateLimitError: Rate limit reached for default-global-with-image-limits in organization org-ZZK1tdpov2aMcMdRfIOVNTcr on tokens_usage_based per min. Limit: 250000 / min. Current: 249979 / min. Contact us through our help center at help.openai.com if you continue to have issues..\n",
      "Retrying langchain.llms.openai.completion_with_retry.<locals>._completion_with_retry in 4.0 seconds as it raised RateLimitError: Rate limit reached for default-global-with-image-limits in organization org-ZZK1tdpov2aMcMdRfIOVNTcr on tokens_usage_based per min. Limit: 250000 / min. Current: 249926 / min. Contact us through our help center at help.openai.com if you continue to have issues..\n",
      "Retrying langchain.llms.openai.completion_with_retry.<locals>._completion_with_retry in 4.0 seconds as it raised RateLimitError: Rate limit reached for default-global-with-image-limits in organization org-ZZK1tdpov2aMcMdRfIOVNTcr on tokens_usage_based per min. Limit: 250000 / min. Current: 249759 / min. Contact us through our help center at help.openai.com if you continue to have issues..\n",
      "Retrying langchain.llms.openai.completion_with_retry.<locals>._completion_with_retry in 4.0 seconds as it raised RateLimitError: Rate limit reached for default-global-with-image-limits in organization org-ZZK1tdpov2aMcMdRfIOVNTcr on tokens_usage_based per min. Limit: 250000 / min. Current: 249776 / min. Contact us through our help center at help.openai.com if you continue to have issues..\n",
      "Retrying langchain.llms.openai.completion_with_retry.<locals>._completion_with_retry in 4.0 seconds as it raised RateLimitError: Rate limit reached for default-global-with-image-limits in organization org-ZZK1tdpov2aMcMdRfIOVNTcr on tokens_usage_based per min. Limit: 250000 / min. Current: 249847 / min. Contact us through our help center at help.openai.com if you continue to have issues..\n",
      "Retrying langchain.llms.openai.completion_with_retry.<locals>._completion_with_retry in 4.0 seconds as it raised RateLimitError: Rate limit reached for default-global-with-image-limits in organization org-ZZK1tdpov2aMcMdRfIOVNTcr on tokens_usage_based per min. Limit: 250000 / min. Current: 249749 / min. Contact us through our help center at help.openai.com if you continue to have issues..\n",
      "Retrying langchain.llms.openai.completion_with_retry.<locals>._completion_with_retry in 4.0 seconds as it raised RateLimitError: Rate limit reached for default-global-with-image-limits in organization org-ZZK1tdpov2aMcMdRfIOVNTcr on tokens_usage_based per min. Limit: 250000 / min. Current: 249808 / min. Contact us through our help center at help.openai.com if you continue to have issues..\n",
      "Retrying langchain.llms.openai.completion_with_retry.<locals>._completion_with_retry in 4.0 seconds as it raised RateLimitError: Rate limit reached for default-global-with-image-limits in organization org-ZZK1tdpov2aMcMdRfIOVNTcr on tokens_usage_based per min. Limit: 250000 / min. Current: 249831 / min. Contact us through our help center at help.openai.com if you continue to have issues..\n",
      "Retrying langchain.llms.openai.completion_with_retry.<locals>._completion_with_retry in 4.0 seconds as it raised RateLimitError: Rate limit reached for default-global-with-image-limits in organization org-ZZK1tdpov2aMcMdRfIOVNTcr on tokens_usage_based per min. Limit: 250000 / min. Current: 249848 / min. Contact us through our help center at help.openai.com if you continue to have issues..\n",
      "Retrying langchain.llms.openai.completion_with_retry.<locals>._completion_with_retry in 4.0 seconds as it raised RateLimitError: Rate limit reached for default-global-with-image-limits in organization org-ZZK1tdpov2aMcMdRfIOVNTcr on tokens_usage_based per min. Limit: 250000 / min. Current: 249844 / min. Contact us through our help center at help.openai.com if you continue to have issues..\n",
      "Retrying langchain.llms.openai.completion_with_retry.<locals>._completion_with_retry in 4.0 seconds as it raised RateLimitError: Rate limit reached for default-global-with-image-limits in organization org-ZZK1tdpov2aMcMdRfIOVNTcr on tokens_usage_based per min. Limit: 250000 / min. Current: 249778 / min. Contact us through our help center at help.openai.com if you continue to have issues..\n",
      "Retrying langchain.llms.openai.completion_with_retry.<locals>._completion_with_retry in 4.0 seconds as it raised RateLimitError: Rate limit reached for default-global-with-image-limits in organization org-ZZK1tdpov2aMcMdRfIOVNTcr on tokens_usage_based per min. Limit: 250000 / min. Current: 249906 / min. Contact us through our help center at help.openai.com if you continue to have issues..\n",
      "Retrying langchain.llms.openai.completion_with_retry.<locals>._completion_with_retry in 4.0 seconds as it raised RateLimitError: Rate limit reached for default-global-with-image-limits in organization org-ZZK1tdpov2aMcMdRfIOVNTcr on tokens_usage_based per min. Limit: 250000 / min. Current: 249808 / min. Contact us through our help center at help.openai.com if you continue to have issues..\n",
      "Retrying langchain.llms.openai.completion_with_retry.<locals>._completion_with_retry in 4.0 seconds as it raised RateLimitError: Rate limit reached for default-global-with-image-limits in organization org-ZZK1tdpov2aMcMdRfIOVNTcr on tokens_usage_based per min. Limit: 250000 / min. Current: 249829 / min. Contact us through our help center at help.openai.com if you continue to have issues..\n",
      "Retrying langchain.llms.openai.completion_with_retry.<locals>._completion_with_retry in 4.0 seconds as it raised RateLimitError: Rate limit reached for default-global-with-image-limits in organization org-ZZK1tdpov2aMcMdRfIOVNTcr on tokens_usage_based per min. Limit: 250000 / min. Current: 249765 / min. Contact us through our help center at help.openai.com if you continue to have issues..\n",
      "Retrying langchain.llms.openai.completion_with_retry.<locals>._completion_with_retry in 4.0 seconds as it raised RateLimitError: Rate limit reached for default-global-with-image-limits in organization org-ZZK1tdpov2aMcMdRfIOVNTcr on tokens_usage_based per min. Limit: 250000 / min. Current: 249914 / min. Contact us through our help center at help.openai.com if you continue to have issues..\n",
      "Retrying langchain.llms.openai.completion_with_retry.<locals>._completion_with_retry in 4.0 seconds as it raised RateLimitError: Rate limit reached for default-global-with-image-limits in organization org-ZZK1tdpov2aMcMdRfIOVNTcr on tokens_usage_based per min. Limit: 250000 / min. Current: 249904 / min. Contact us through our help center at help.openai.com if you continue to have issues..\n",
      "Retrying langchain.llms.openai.completion_with_retry.<locals>._completion_with_retry in 4.0 seconds as it raised RateLimitError: Rate limit reached for default-global-with-image-limits in organization org-ZZK1tdpov2aMcMdRfIOVNTcr on tokens_usage_based per min. Limit: 250000 / min. Current: 249874 / min. Contact us through our help center at help.openai.com if you continue to have issues..\n",
      "Retrying langchain.llms.openai.completion_with_retry.<locals>._completion_with_retry in 4.0 seconds as it raised RateLimitError: Rate limit reached for default-global-with-image-limits in organization org-ZZK1tdpov2aMcMdRfIOVNTcr on tokens_usage_based per min. Limit: 250000 / min. Current: 249926 / min. Contact us through our help center at help.openai.com if you continue to have issues..\n",
      "Retrying langchain.llms.openai.completion_with_retry.<locals>._completion_with_retry in 4.0 seconds as it raised RateLimitError: Rate limit reached for default-global-with-image-limits in organization org-ZZK1tdpov2aMcMdRfIOVNTcr on tokens_usage_based per min. Limit: 250000 / min. Current: 249800 / min. Contact us through our help center at help.openai.com if you continue to have issues..\n",
      "Retrying langchain.llms.openai.completion_with_retry.<locals>._completion_with_retry in 4.0 seconds as it raised RateLimitError: Rate limit reached for default-global-with-image-limits in organization org-ZZK1tdpov2aMcMdRfIOVNTcr on tokens_usage_based per min. Limit: 250000 / min. Current: 249783 / min. Contact us through our help center at help.openai.com if you continue to have issues..\n",
      "Retrying langchain.llms.openai.completion_with_retry.<locals>._completion_with_retry in 4.0 seconds as it raised RateLimitError: Rate limit reached for default-global-with-image-limits in organization org-ZZK1tdpov2aMcMdRfIOVNTcr on tokens_usage_based per min. Limit: 250000 / min. Current: 249912 / min. Contact us through our help center at help.openai.com if you continue to have issues..\n",
      "Retrying langchain.llms.openai.completion_with_retry.<locals>._completion_with_retry in 4.0 seconds as it raised RateLimitError: Rate limit reached for default-global-with-image-limits in organization org-ZZK1tdpov2aMcMdRfIOVNTcr on tokens_usage_based per min. Limit: 250000 / min. Current: 249891 / min. Contact us through our help center at help.openai.com if you continue to have issues..\n",
      "Retrying langchain.llms.openai.completion_with_retry.<locals>._completion_with_retry in 4.0 seconds as it raised RateLimitError: Rate limit reached for default-global-with-image-limits in organization org-ZZK1tdpov2aMcMdRfIOVNTcr on tokens_usage_based per min. Limit: 250000 / min. Current: 249811 / min. Contact us through our help center at help.openai.com if you continue to have issues..\n",
      "Retrying langchain.llms.openai.completion_with_retry.<locals>._completion_with_retry in 4.0 seconds as it raised RateLimitError: Rate limit reached for default-global-with-image-limits in organization org-ZZK1tdpov2aMcMdRfIOVNTcr on tokens_usage_based per min. Limit: 250000 / min. Current: 249768 / min. Contact us through our help center at help.openai.com if you continue to have issues..\n",
      "Retrying langchain.llms.openai.completion_with_retry.<locals>._completion_with_retry in 4.0 seconds as it raised RateLimitError: Rate limit reached for default-global-with-image-limits in organization org-ZZK1tdpov2aMcMdRfIOVNTcr on tokens_usage_based per min. Limit: 250000 / min. Current: 249913 / min. Contact us through our help center at help.openai.com if you continue to have issues..\n",
      "Retrying langchain.llms.openai.completion_with_retry.<locals>._completion_with_retry in 4.0 seconds as it raised RateLimitError: Rate limit reached for default-global-with-image-limits in organization org-ZZK1tdpov2aMcMdRfIOVNTcr on tokens_usage_based per min. Limit: 250000 / min. Current: 249872 / min. Contact us through our help center at help.openai.com if you continue to have issues..\n",
      "Retrying langchain.llms.openai.completion_with_retry.<locals>._completion_with_retry in 4.0 seconds as it raised RateLimitError: Rate limit reached for default-global-with-image-limits in organization org-ZZK1tdpov2aMcMdRfIOVNTcr on tokens_usage_based per min. Limit: 250000 / min. Current: 249807 / min. Contact us through our help center at help.openai.com if you continue to have issues..\n",
      "Retrying langchain.llms.openai.completion_with_retry.<locals>._completion_with_retry in 4.0 seconds as it raised RateLimitError: Rate limit reached for default-global-with-image-limits in organization org-ZZK1tdpov2aMcMdRfIOVNTcr on tokens_usage_based per min. Limit: 250000 / min. Current: 249797 / min. Contact us through our help center at help.openai.com if you continue to have issues..\n",
      "Retrying langchain.llms.openai.completion_with_retry.<locals>._completion_with_retry in 4.0 seconds as it raised RateLimitError: Rate limit reached for default-global-with-image-limits in organization org-ZZK1tdpov2aMcMdRfIOVNTcr on tokens_usage_based per min. Limit: 250000 / min. Current: 249777 / min. Contact us through our help center at help.openai.com if you continue to have issues..\n",
      "Retrying langchain.llms.openai.completion_with_retry.<locals>._completion_with_retry in 4.0 seconds as it raised RateLimitError: Rate limit reached for default-global-with-image-limits in organization org-ZZK1tdpov2aMcMdRfIOVNTcr on tokens_usage_based per min. Limit: 250000 / min. Current: 249808 / min. Contact us through our help center at help.openai.com if you continue to have issues..\n",
      "Retrying langchain.llms.openai.completion_with_retry.<locals>._completion_with_retry in 4.0 seconds as it raised RateLimitError: Rate limit reached for default-global-with-image-limits in organization org-ZZK1tdpov2aMcMdRfIOVNTcr on tokens_usage_based per min. Limit: 250000 / min. Current: 249800 / min. Contact us through our help center at help.openai.com if you continue to have issues..\n",
      "Retrying langchain.llms.openai.completion_with_retry.<locals>._completion_with_retry in 4.0 seconds as it raised RateLimitError: Rate limit reached for default-global-with-image-limits in organization org-ZZK1tdpov2aMcMdRfIOVNTcr on tokens_usage_based per min. Limit: 250000 / min. Current: 249831 / min. Contact us through our help center at help.openai.com if you continue to have issues..\n",
      "Retrying langchain.llms.openai.completion_with_retry.<locals>._completion_with_retry in 4.0 seconds as it raised RateLimitError: Rate limit reached for default-global-with-image-limits in organization org-ZZK1tdpov2aMcMdRfIOVNTcr on tokens_usage_based per min. Limit: 250000 / min. Current: 249867 / min. Contact us through our help center at help.openai.com if you continue to have issues..\n",
      "Retrying langchain.llms.openai.completion_with_retry.<locals>._completion_with_retry in 4.0 seconds as it raised RateLimitError: Rate limit reached for default-global-with-image-limits in organization org-ZZK1tdpov2aMcMdRfIOVNTcr on tokens_usage_based per min. Limit: 250000 / min. Current: 249842 / min. Contact us through our help center at help.openai.com if you continue to have issues..\n",
      "Retrying langchain.llms.openai.completion_with_retry.<locals>._completion_with_retry in 4.0 seconds as it raised RateLimitError: Rate limit reached for default-global-with-image-limits in organization org-ZZK1tdpov2aMcMdRfIOVNTcr on tokens_usage_based per min. Limit: 250000 / min. Current: 249766 / min. Contact us through our help center at help.openai.com if you continue to have issues..\n",
      "Retrying langchain.llms.openai.completion_with_retry.<locals>._completion_with_retry in 4.0 seconds as it raised RateLimitError: Rate limit reached for default-global-with-image-limits in organization org-ZZK1tdpov2aMcMdRfIOVNTcr on tokens_usage_based per min. Limit: 250000 / min. Current: 249790 / min. Contact us through our help center at help.openai.com if you continue to have issues..\n",
      "Retrying langchain.llms.openai.completion_with_retry.<locals>._completion_with_retry in 4.0 seconds as it raised RateLimitError: Rate limit reached for default-global-with-image-limits in organization org-ZZK1tdpov2aMcMdRfIOVNTcr on tokens_usage_based per min. Limit: 250000 / min. Current: 249745 / min. Contact us through our help center at help.openai.com if you continue to have issues..\n",
      "Retrying langchain.llms.openai.completion_with_retry.<locals>._completion_with_retry in 4.0 seconds as it raised RateLimitError: Rate limit reached for default-global-with-image-limits in organization org-ZZK1tdpov2aMcMdRfIOVNTcr on tokens_usage_based per min. Limit: 250000 / min. Current: 249845 / min. Contact us through our help center at help.openai.com if you continue to have issues..\n",
      "Retrying langchain.llms.openai.completion_with_retry.<locals>._completion_with_retry in 4.0 seconds as it raised RateLimitError: Rate limit reached for default-global-with-image-limits in organization org-ZZK1tdpov2aMcMdRfIOVNTcr on tokens_usage_based per min. Limit: 250000 / min. Current: 249819 / min. Contact us through our help center at help.openai.com if you continue to have issues..\n",
      "Retrying langchain.llms.openai.completion_with_retry.<locals>._completion_with_retry in 4.0 seconds as it raised RateLimitError: Rate limit reached for default-global-with-image-limits in organization org-ZZK1tdpov2aMcMdRfIOVNTcr on tokens_usage_based per min. Limit: 250000 / min. Current: 249813 / min. Contact us through our help center at help.openai.com if you continue to have issues..\n",
      "Retrying langchain.llms.openai.completion_with_retry.<locals>._completion_with_retry in 4.0 seconds as it raised RateLimitError: Rate limit reached for default-global-with-image-limits in organization org-ZZK1tdpov2aMcMdRfIOVNTcr on tokens_usage_based per min. Limit: 250000 / min. Current: 249876 / min. Contact us through our help center at help.openai.com if you continue to have issues..\n",
      "Retrying langchain.llms.openai.completion_with_retry.<locals>._completion_with_retry in 4.0 seconds as it raised RateLimitError: Rate limit reached for default-global-with-image-limits in organization org-ZZK1tdpov2aMcMdRfIOVNTcr on tokens_usage_based per min. Limit: 250000 / min. Current: 249820 / min. Contact us through our help center at help.openai.com if you continue to have issues..\n",
      "Retrying langchain.llms.openai.completion_with_retry.<locals>._completion_with_retry in 4.0 seconds as it raised RateLimitError: Rate limit reached for default-global-with-image-limits in organization org-ZZK1tdpov2aMcMdRfIOVNTcr on tokens_usage_based per min. Limit: 250000 / min. Current: 249783 / min. Contact us through our help center at help.openai.com if you continue to have issues..\n",
      "Retrying langchain.llms.openai.completion_with_retry.<locals>._completion_with_retry in 4.0 seconds as it raised RateLimitError: Rate limit reached for default-global-with-image-limits in organization org-ZZK1tdpov2aMcMdRfIOVNTcr on tokens_usage_based per min. Limit: 250000 / min. Current: 249921 / min. Contact us through our help center at help.openai.com if you continue to have issues..\n",
      "Retrying langchain.llms.openai.completion_with_retry.<locals>._completion_with_retry in 4.0 seconds as it raised RateLimitError: Rate limit reached for default-global-with-image-limits in organization org-ZZK1tdpov2aMcMdRfIOVNTcr on tokens_usage_based per min. Limit: 250000 / min. Current: 249746 / min. Contact us through our help center at help.openai.com if you continue to have issues..\n",
      "Retrying langchain.llms.openai.completion_with_retry.<locals>._completion_with_retry in 4.0 seconds as it raised RateLimitError: Rate limit reached for default-global-with-image-limits in organization org-ZZK1tdpov2aMcMdRfIOVNTcr on tokens_usage_based per min. Limit: 250000 / min. Current: 249796 / min. Contact us through our help center at help.openai.com if you continue to have issues..\n",
      "Retrying langchain.llms.openai.completion_with_retry.<locals>._completion_with_retry in 4.0 seconds as it raised RateLimitError: Rate limit reached for default-global-with-image-limits in organization org-ZZK1tdpov2aMcMdRfIOVNTcr on tokens_usage_based per min. Limit: 250000 / min. Current: 249827 / min. Contact us through our help center at help.openai.com if you continue to have issues..\n",
      "Retrying langchain.llms.openai.completion_with_retry.<locals>._completion_with_retry in 4.0 seconds as it raised RateLimitError: Rate limit reached for default-global-with-image-limits in organization org-ZZK1tdpov2aMcMdRfIOVNTcr on tokens_usage_based per min. Limit: 250000 / min. Current: 249804 / min. Contact us through our help center at help.openai.com if you continue to have issues..\n",
      "Retrying langchain.llms.openai.completion_with_retry.<locals>._completion_with_retry in 4.0 seconds as it raised RateLimitError: Rate limit reached for default-global-with-image-limits in organization org-ZZK1tdpov2aMcMdRfIOVNTcr on tokens_usage_based per min. Limit: 250000 / min. Current: 249769 / min. Contact us through our help center at help.openai.com if you continue to have issues..\n",
      "Retrying langchain.llms.openai.completion_with_retry.<locals>._completion_with_retry in 4.0 seconds as it raised RateLimitError: Rate limit reached for default-global-with-image-limits in organization org-ZZK1tdpov2aMcMdRfIOVNTcr on tokens_usage_based per min. Limit: 250000 / min. Current: 249787 / min. Contact us through our help center at help.openai.com if you continue to have issues..\n",
      "Retrying langchain.llms.openai.completion_with_retry.<locals>._completion_with_retry in 4.0 seconds as it raised RateLimitError: Rate limit reached for default-global-with-image-limits in organization org-ZZK1tdpov2aMcMdRfIOVNTcr on tokens_usage_based per min. Limit: 250000 / min. Current: 249767 / min. Contact us through our help center at help.openai.com if you continue to have issues..\n",
      "Retrying langchain.llms.openai.completion_with_retry.<locals>._completion_with_retry in 4.0 seconds as it raised RateLimitError: Rate limit reached for default-global-with-image-limits in organization org-ZZK1tdpov2aMcMdRfIOVNTcr on tokens_usage_based per min. Limit: 250000 / min. Current: 249751 / min. Contact us through our help center at help.openai.com if you continue to have issues..\n",
      "Retrying langchain.llms.openai.completion_with_retry.<locals>._completion_with_retry in 4.0 seconds as it raised RateLimitError: Rate limit reached for default-global-with-image-limits in organization org-ZZK1tdpov2aMcMdRfIOVNTcr on tokens_usage_based per min. Limit: 250000 / min. Current: 249771 / min. Contact us through our help center at help.openai.com if you continue to have issues..\n",
      "Retrying langchain.llms.openai.completion_with_retry.<locals>._completion_with_retry in 4.0 seconds as it raised RateLimitError: Rate limit reached for default-global-with-image-limits in organization org-ZZK1tdpov2aMcMdRfIOVNTcr on tokens_usage_based per min. Limit: 250000 / min. Current: 249915 / min. Contact us through our help center at help.openai.com if you continue to have issues..\n",
      "Retrying langchain.llms.openai.completion_with_retry.<locals>._completion_with_retry in 4.0 seconds as it raised RateLimitError: Rate limit reached for default-global-with-image-limits in organization org-ZZK1tdpov2aMcMdRfIOVNTcr on tokens_usage_based per min. Limit: 250000 / min. Current: 249944 / min. Contact us through our help center at help.openai.com if you continue to have issues..\n",
      "Retrying langchain.llms.openai.completion_with_retry.<locals>._completion_with_retry in 4.0 seconds as it raised RateLimitError: Rate limit reached for default-global-with-image-limits in organization org-ZZK1tdpov2aMcMdRfIOVNTcr on tokens_usage_based per min. Limit: 250000 / min. Current: 249789 / min. Contact us through our help center at help.openai.com if you continue to have issues..\n",
      "Retrying langchain.llms.openai.completion_with_retry.<locals>._completion_with_retry in 4.0 seconds as it raised RateLimitError: Rate limit reached for default-global-with-image-limits in organization org-ZZK1tdpov2aMcMdRfIOVNTcr on tokens_usage_based per min. Limit: 250000 / min. Current: 249805 / min. Contact us through our help center at help.openai.com if you continue to have issues..\n",
      "Retrying langchain.llms.openai.completion_with_retry.<locals>._completion_with_retry in 4.0 seconds as it raised RateLimitError: Rate limit reached for default-global-with-image-limits in organization org-ZZK1tdpov2aMcMdRfIOVNTcr on tokens_usage_based per min. Limit: 250000 / min. Current: 249781 / min. Contact us through our help center at help.openai.com if you continue to have issues..\n",
      "Retrying langchain.llms.openai.completion_with_retry.<locals>._completion_with_retry in 4.0 seconds as it raised RateLimitError: Rate limit reached for default-global-with-image-limits in organization org-ZZK1tdpov2aMcMdRfIOVNTcr on tokens_usage_based per min. Limit: 250000 / min. Current: 249897 / min. Contact us through our help center at help.openai.com if you continue to have issues..\n",
      "Retrying langchain.llms.openai.completion_with_retry.<locals>._completion_with_retry in 4.0 seconds as it raised RateLimitError: Rate limit reached for default-global-with-image-limits in organization org-ZZK1tdpov2aMcMdRfIOVNTcr on tokens_usage_based per min. Limit: 250000 / min. Current: 249852 / min. Contact us through our help center at help.openai.com if you continue to have issues..\n",
      "Retrying langchain.llms.openai.completion_with_retry.<locals>._completion_with_retry in 4.0 seconds as it raised RateLimitError: Rate limit reached for default-global-with-image-limits in organization org-ZZK1tdpov2aMcMdRfIOVNTcr on tokens_usage_based per min. Limit: 250000 / min. Current: 249784 / min. Contact us through our help center at help.openai.com if you continue to have issues..\n",
      "Retrying langchain.llms.openai.completion_with_retry.<locals>._completion_with_retry in 4.0 seconds as it raised RateLimitError: Rate limit reached for default-global-with-image-limits in organization org-ZZK1tdpov2aMcMdRfIOVNTcr on tokens_usage_based per min. Limit: 250000 / min. Current: 249758 / min. Contact us through our help center at help.openai.com if you continue to have issues..\n",
      "Retrying langchain.llms.openai.completion_with_retry.<locals>._completion_with_retry in 4.0 seconds as it raised RateLimitError: Rate limit reached for default-global-with-image-limits in organization org-ZZK1tdpov2aMcMdRfIOVNTcr on tokens_usage_based per min. Limit: 250000 / min. Current: 249775 / min. Contact us through our help center at help.openai.com if you continue to have issues..\n",
      "Retrying langchain.llms.openai.completion_with_retry.<locals>._completion_with_retry in 4.0 seconds as it raised RateLimitError: Rate limit reached for default-global-with-image-limits in organization org-ZZK1tdpov2aMcMdRfIOVNTcr on tokens_usage_based per min. Limit: 250000 / min. Current: 249850 / min. Contact us through our help center at help.openai.com if you continue to have issues..\n",
      "Retrying langchain.llms.openai.completion_with_retry.<locals>._completion_with_retry in 4.0 seconds as it raised RateLimitError: Rate limit reached for default-global-with-image-limits in organization org-ZZK1tdpov2aMcMdRfIOVNTcr on tokens_usage_based per min. Limit: 250000 / min. Current: 249905 / min. Contact us through our help center at help.openai.com if you continue to have issues..\n",
      "Retrying langchain.llms.openai.completion_with_retry.<locals>._completion_with_retry in 4.0 seconds as it raised RateLimitError: Rate limit reached for default-global-with-image-limits in organization org-ZZK1tdpov2aMcMdRfIOVNTcr on tokens_usage_based per min. Limit: 250000 / min. Current: 249883 / min. Contact us through our help center at help.openai.com if you continue to have issues..\n",
      "Retrying langchain.llms.openai.completion_with_retry.<locals>._completion_with_retry in 4.0 seconds as it raised RateLimitError: Rate limit reached for default-global-with-image-limits in organization org-ZZK1tdpov2aMcMdRfIOVNTcr on tokens_usage_based per min. Limit: 250000 / min. Current: 249833 / min. Contact us through our help center at help.openai.com if you continue to have issues..\n",
      "Retrying langchain.llms.openai.completion_with_retry.<locals>._completion_with_retry in 4.0 seconds as it raised RateLimitError: Rate limit reached for default-global-with-image-limits in organization org-ZZK1tdpov2aMcMdRfIOVNTcr on tokens_usage_based per min. Limit: 250000 / min. Current: 249843 / min. Contact us through our help center at help.openai.com if you continue to have issues..\n",
      "Retrying langchain.llms.openai.completion_with_retry.<locals>._completion_with_retry in 4.0 seconds as it raised RateLimitError: Rate limit reached for default-global-with-image-limits in organization org-ZZK1tdpov2aMcMdRfIOVNTcr on tokens_usage_based per min. Limit: 250000 / min. Current: 249815 / min. Contact us through our help center at help.openai.com if you continue to have issues..\n",
      "Retrying langchain.llms.openai.completion_with_retry.<locals>._completion_with_retry in 4.0 seconds as it raised RateLimitError: Rate limit reached for default-global-with-image-limits in organization org-ZZK1tdpov2aMcMdRfIOVNTcr on tokens_usage_based per min. Limit: 250000 / min. Current: 249751 / min. Contact us through our help center at help.openai.com if you continue to have issues..\n",
      "Retrying langchain.llms.openai.completion_with_retry.<locals>._completion_with_retry in 4.0 seconds as it raised RateLimitError: Rate limit reached for default-global-with-image-limits in organization org-ZZK1tdpov2aMcMdRfIOVNTcr on tokens_usage_based per min. Limit: 250000 / min. Current: 250013 / min. Contact us through our help center at help.openai.com if you continue to have issues..\n",
      "Retrying langchain.llms.openai.completion_with_retry.<locals>._completion_with_retry in 4.0 seconds as it raised RateLimitError: Rate limit reached for default-global-with-image-limits in organization org-ZZK1tdpov2aMcMdRfIOVNTcr on tokens_usage_based per min. Limit: 250000 / min. Current: 249785 / min. Contact us through our help center at help.openai.com if you continue to have issues..\n",
      "Retrying langchain.llms.openai.completion_with_retry.<locals>._completion_with_retry in 4.0 seconds as it raised RateLimitError: Rate limit reached for default-global-with-image-limits in organization org-ZZK1tdpov2aMcMdRfIOVNTcr on tokens_usage_based per min. Limit: 250000 / min. Current: 249938 / min. Contact us through our help center at help.openai.com if you continue to have issues..\n",
      "Retrying langchain.llms.openai.completion_with_retry.<locals>._completion_with_retry in 4.0 seconds as it raised RateLimitError: Rate limit reached for default-global-with-image-limits in organization org-ZZK1tdpov2aMcMdRfIOVNTcr on tokens_usage_based per min. Limit: 250000 / min. Current: 249895 / min. Contact us through our help center at help.openai.com if you continue to have issues..\n",
      "Retrying langchain.llms.openai.completion_with_retry.<locals>._completion_with_retry in 4.0 seconds as it raised RateLimitError: Rate limit reached for default-global-with-image-limits in organization org-ZZK1tdpov2aMcMdRfIOVNTcr on tokens_usage_based per min. Limit: 250000 / min. Current: 249857 / min. Contact us through our help center at help.openai.com if you continue to have issues..\n",
      "Retrying langchain.llms.openai.completion_with_retry.<locals>._completion_with_retry in 4.0 seconds as it raised RateLimitError: Rate limit reached for default-global-with-image-limits in organization org-ZZK1tdpov2aMcMdRfIOVNTcr on tokens_usage_based per min. Limit: 250000 / min. Current: 249776 / min. Contact us through our help center at help.openai.com if you continue to have issues..\n",
      "Retrying langchain.llms.openai.completion_with_retry.<locals>._completion_with_retry in 4.0 seconds as it raised RateLimitError: Rate limit reached for default-global-with-image-limits in organization org-ZZK1tdpov2aMcMdRfIOVNTcr on tokens_usage_based per min. Limit: 250000 / min. Current: 249907 / min. Contact us through our help center at help.openai.com if you continue to have issues..\n",
      "Retrying langchain.llms.openai.completion_with_retry.<locals>._completion_with_retry in 4.0 seconds as it raised RateLimitError: Rate limit reached for default-global-with-image-limits in organization org-ZZK1tdpov2aMcMdRfIOVNTcr on tokens_usage_based per min. Limit: 250000 / min. Current: 249752 / min. Contact us through our help center at help.openai.com if you continue to have issues..\n",
      "Retrying langchain.llms.openai.completion_with_retry.<locals>._completion_with_retry in 4.0 seconds as it raised RateLimitError: Rate limit reached for default-global-with-image-limits in organization org-ZZK1tdpov2aMcMdRfIOVNTcr on tokens_usage_based per min. Limit: 250000 / min. Current: 249840 / min. Contact us through our help center at help.openai.com if you continue to have issues..\n",
      "Retrying langchain.llms.openai.completion_with_retry.<locals>._completion_with_retry in 4.0 seconds as it raised RateLimitError: Rate limit reached for default-global-with-image-limits in organization org-ZZK1tdpov2aMcMdRfIOVNTcr on tokens_usage_based per min. Limit: 250000 / min. Current: 249991 / min. Contact us through our help center at help.openai.com if you continue to have issues..\n",
      "Retrying langchain.llms.openai.completion_with_retry.<locals>._completion_with_retry in 4.0 seconds as it raised RateLimitError: Rate limit reached for default-global-with-image-limits in organization org-ZZK1tdpov2aMcMdRfIOVNTcr on tokens_usage_based per min. Limit: 250000 / min. Current: 249789 / min. Contact us through our help center at help.openai.com if you continue to have issues..\n",
      "Retrying langchain.llms.openai.completion_with_retry.<locals>._completion_with_retry in 4.0 seconds as it raised RateLimitError: Rate limit reached for default-global-with-image-limits in organization org-ZZK1tdpov2aMcMdRfIOVNTcr on tokens_usage_based per min. Limit: 250000 / min. Current: 249759 / min. Contact us through our help center at help.openai.com if you continue to have issues..\n",
      "Retrying langchain.llms.openai.completion_with_retry.<locals>._completion_with_retry in 4.0 seconds as it raised RateLimitError: Rate limit reached for default-global-with-image-limits in organization org-ZZK1tdpov2aMcMdRfIOVNTcr on tokens_usage_based per min. Limit: 250000 / min. Current: 249872 / min. Contact us through our help center at help.openai.com if you continue to have issues..\n",
      "Retrying langchain.llms.openai.completion_with_retry.<locals>._completion_with_retry in 4.0 seconds as it raised RateLimitError: Rate limit reached for default-global-with-image-limits in organization org-ZZK1tdpov2aMcMdRfIOVNTcr on tokens_usage_based per min. Limit: 250000 / min. Current: 249928 / min. Contact us through our help center at help.openai.com if you continue to have issues..\n",
      "Retrying langchain.llms.openai.completion_with_retry.<locals>._completion_with_retry in 4.0 seconds as it raised RateLimitError: Rate limit reached for default-global-with-image-limits in organization org-ZZK1tdpov2aMcMdRfIOVNTcr on tokens_usage_based per min. Limit: 250000 / min. Current: 249955 / min. Contact us through our help center at help.openai.com if you continue to have issues..\n",
      "Retrying langchain.llms.openai.completion_with_retry.<locals>._completion_with_retry in 4.0 seconds as it raised RateLimitError: Rate limit reached for default-global-with-image-limits in organization org-ZZK1tdpov2aMcMdRfIOVNTcr on tokens_usage_based per min. Limit: 250000 / min. Current: 250001 / min. Contact us through our help center at help.openai.com if you continue to have issues..\n",
      "Retrying langchain.llms.openai.completion_with_retry.<locals>._completion_with_retry in 4.0 seconds as it raised RateLimitError: Rate limit reached for default-global-with-image-limits in organization org-ZZK1tdpov2aMcMdRfIOVNTcr on tokens_usage_based per min. Limit: 250000 / min. Current: 249787 / min. Contact us through our help center at help.openai.com if you continue to have issues..\n",
      "Retrying langchain.llms.openai.completion_with_retry.<locals>._completion_with_retry in 4.0 seconds as it raised RateLimitError: Rate limit reached for default-global-with-image-limits in organization org-ZZK1tdpov2aMcMdRfIOVNTcr on tokens_usage_based per min. Limit: 250000 / min. Current: 249844 / min. Contact us through our help center at help.openai.com if you continue to have issues..\n",
      "Retrying langchain.llms.openai.completion_with_retry.<locals>._completion_with_retry in 4.0 seconds as it raised RateLimitError: Rate limit reached for default-global-with-image-limits in organization org-ZZK1tdpov2aMcMdRfIOVNTcr on tokens_usage_based per min. Limit: 250000 / min. Current: 249800 / min. Contact us through our help center at help.openai.com if you continue to have issues..\n",
      "Retrying langchain.llms.openai.completion_with_retry.<locals>._completion_with_retry in 4.0 seconds as it raised RateLimitError: Rate limit reached for default-global-with-image-limits in organization org-ZZK1tdpov2aMcMdRfIOVNTcr on tokens_usage_based per min. Limit: 250000 / min. Current: 249766 / min. Contact us through our help center at help.openai.com if you continue to have issues..\n",
      "Retrying langchain.llms.openai.completion_with_retry.<locals>._completion_with_retry in 4.0 seconds as it raised RateLimitError: Rate limit reached for default-global-with-image-limits in organization org-ZZK1tdpov2aMcMdRfIOVNTcr on tokens_usage_based per min. Limit: 250000 / min. Current: 249820 / min. Contact us through our help center at help.openai.com if you continue to have issues..\n",
      "Retrying langchain.llms.openai.completion_with_retry.<locals>._completion_with_retry in 4.0 seconds as it raised RateLimitError: Rate limit reached for default-global-with-image-limits in organization org-ZZK1tdpov2aMcMdRfIOVNTcr on tokens_usage_based per min. Limit: 250000 / min. Current: 249751 / min. Contact us through our help center at help.openai.com if you continue to have issues..\n",
      "Retrying langchain.llms.openai.completion_with_retry.<locals>._completion_with_retry in 4.0 seconds as it raised RateLimitError: Rate limit reached for default-global-with-image-limits in organization org-ZZK1tdpov2aMcMdRfIOVNTcr on tokens_usage_based per min. Limit: 250000 / min. Current: 249884 / min. Contact us through our help center at help.openai.com if you continue to have issues..\n",
      "Retrying langchain.llms.openai.completion_with_retry.<locals>._completion_with_retry in 4.0 seconds as it raised RateLimitError: Rate limit reached for default-global-with-image-limits in organization org-ZZK1tdpov2aMcMdRfIOVNTcr on tokens_usage_based per min. Limit: 250000 / min. Current: 249970 / min. Contact us through our help center at help.openai.com if you continue to have issues..\n",
      "Retrying langchain.llms.openai.completion_with_retry.<locals>._completion_with_retry in 4.0 seconds as it raised RateLimitError: Rate limit reached for default-global-with-image-limits in organization org-ZZK1tdpov2aMcMdRfIOVNTcr on tokens_usage_based per min. Limit: 250000 / min. Current: 249960 / min. Contact us through our help center at help.openai.com if you continue to have issues..\n",
      "Retrying langchain.llms.openai.completion_with_retry.<locals>._completion_with_retry in 4.0 seconds as it raised RateLimitError: Rate limit reached for default-global-with-image-limits in organization org-ZZK1tdpov2aMcMdRfIOVNTcr on tokens_usage_based per min. Limit: 250000 / min. Current: 249788 / min. Contact us through our help center at help.openai.com if you continue to have issues..\n",
      "Retrying langchain.llms.openai.completion_with_retry.<locals>._completion_with_retry in 4.0 seconds as it raised RateLimitError: Rate limit reached for default-global-with-image-limits in organization org-ZZK1tdpov2aMcMdRfIOVNTcr on tokens_usage_based per min. Limit: 250000 / min. Current: 249852 / min. Contact us through our help center at help.openai.com if you continue to have issues..\n",
      "Retrying langchain.llms.openai.completion_with_retry.<locals>._completion_with_retry in 4.0 seconds as it raised RateLimitError: Rate limit reached for default-global-with-image-limits in organization org-ZZK1tdpov2aMcMdRfIOVNTcr on tokens_usage_based per min. Limit: 250000 / min. Current: 249924 / min. Contact us through our help center at help.openai.com if you continue to have issues..\n",
      "Retrying langchain.llms.openai.completion_with_retry.<locals>._completion_with_retry in 4.0 seconds as it raised RateLimitError: Rate limit reached for default-global-with-image-limits in organization org-ZZK1tdpov2aMcMdRfIOVNTcr on tokens_usage_based per min. Limit: 250000 / min. Current: 249792 / min. Contact us through our help center at help.openai.com if you continue to have issues..\n",
      "Retrying langchain.llms.openai.completion_with_retry.<locals>._completion_with_retry in 4.0 seconds as it raised RateLimitError: Rate limit reached for default-global-with-image-limits in organization org-ZZK1tdpov2aMcMdRfIOVNTcr on tokens_usage_based per min. Limit: 250000 / min. Current: 249834 / min. Contact us through our help center at help.openai.com if you continue to have issues..\n",
      "Retrying langchain.llms.openai.completion_with_retry.<locals>._completion_with_retry in 4.0 seconds as it raised RateLimitError: Rate limit reached for default-global-with-image-limits in organization org-ZZK1tdpov2aMcMdRfIOVNTcr on tokens_usage_based per min. Limit: 250000 / min. Current: 249815 / min. Contact us through our help center at help.openai.com if you continue to have issues..\n",
      "Retrying langchain.llms.openai.completion_with_retry.<locals>._completion_with_retry in 4.0 seconds as it raised RateLimitError: Rate limit reached for default-global-with-image-limits in organization org-ZZK1tdpov2aMcMdRfIOVNTcr on tokens_usage_based per min. Limit: 250000 / min. Current: 249873 / min. Contact us through our help center at help.openai.com if you continue to have issues..\n",
      "Retrying langchain.llms.openai.completion_with_retry.<locals>._completion_with_retry in 4.0 seconds as it raised RateLimitError: Rate limit reached for default-global-with-image-limits in organization org-ZZK1tdpov2aMcMdRfIOVNTcr on tokens_usage_based per min. Limit: 250000 / min. Current: 249829 / min. Contact us through our help center at help.openai.com if you continue to have issues..\n",
      "Retrying langchain.llms.openai.completion_with_retry.<locals>._completion_with_retry in 4.0 seconds as it raised RateLimitError: Rate limit reached for default-global-with-image-limits in organization org-ZZK1tdpov2aMcMdRfIOVNTcr on tokens_usage_based per min. Limit: 250000 / min. Current: 249987 / min. Contact us through our help center at help.openai.com if you continue to have issues..\n",
      "Retrying langchain.llms.openai.completion_with_retry.<locals>._completion_with_retry in 4.0 seconds as it raised RateLimitError: Rate limit reached for default-global-with-image-limits in organization org-ZZK1tdpov2aMcMdRfIOVNTcr on tokens_usage_based per min. Limit: 250000 / min. Current: 249986 / min. Contact us through our help center at help.openai.com if you continue to have issues..\n",
      "Retrying langchain.llms.openai.completion_with_retry.<locals>._completion_with_retry in 4.0 seconds as it raised RateLimitError: Rate limit reached for default-global-with-image-limits in organization org-ZZK1tdpov2aMcMdRfIOVNTcr on tokens_usage_based per min. Limit: 250000 / min. Current: 249770 / min. Contact us through our help center at help.openai.com if you continue to have issues..\n",
      "Retrying langchain.llms.openai.completion_with_retry.<locals>._completion_with_retry in 4.0 seconds as it raised RateLimitError: Rate limit reached for default-global-with-image-limits in organization org-ZZK1tdpov2aMcMdRfIOVNTcr on tokens_usage_based per min. Limit: 250000 / min. Current: 249901 / min. Contact us through our help center at help.openai.com if you continue to have issues..\n",
      "Retrying langchain.llms.openai.completion_with_retry.<locals>._completion_with_retry in 4.0 seconds as it raised RateLimitError: Rate limit reached for default-global-with-image-limits in organization org-ZZK1tdpov2aMcMdRfIOVNTcr on tokens_usage_based per min. Limit: 250000 / min. Current: 249801 / min. Contact us through our help center at help.openai.com if you continue to have issues..\n",
      "Retrying langchain.llms.openai.completion_with_retry.<locals>._completion_with_retry in 4.0 seconds as it raised RateLimitError: Rate limit reached for default-global-with-image-limits in organization org-ZZK1tdpov2aMcMdRfIOVNTcr on tokens_usage_based per min. Limit: 250000 / min. Current: 249884 / min. Contact us through our help center at help.openai.com if you continue to have issues..\n",
      "Retrying langchain.llms.openai.completion_with_retry.<locals>._completion_with_retry in 4.0 seconds as it raised RateLimitError: Rate limit reached for default-global-with-image-limits in organization org-ZZK1tdpov2aMcMdRfIOVNTcr on tokens_usage_based per min. Limit: 250000 / min. Current: 249933 / min. Contact us through our help center at help.openai.com if you continue to have issues..\n",
      "Retrying langchain.llms.openai.completion_with_retry.<locals>._completion_with_retry in 4.0 seconds as it raised RateLimitError: Rate limit reached for default-global-with-image-limits in organization org-ZZK1tdpov2aMcMdRfIOVNTcr on tokens_usage_based per min. Limit: 250000 / min. Current: 249894 / min. Contact us through our help center at help.openai.com if you continue to have issues..\n",
      "Retrying langchain.llms.openai.completion_with_retry.<locals>._completion_with_retry in 4.0 seconds as it raised RateLimitError: Rate limit reached for default-global-with-image-limits in organization org-ZZK1tdpov2aMcMdRfIOVNTcr on tokens_usage_based per min. Limit: 250000 / min. Current: 249826 / min. Contact us through our help center at help.openai.com if you continue to have issues..\n",
      "Retrying langchain.llms.openai.completion_with_retry.<locals>._completion_with_retry in 4.0 seconds as it raised RateLimitError: Rate limit reached for default-global-with-image-limits in organization org-ZZK1tdpov2aMcMdRfIOVNTcr on tokens_usage_based per min. Limit: 250000 / min. Current: 249820 / min. Contact us through our help center at help.openai.com if you continue to have issues..\n",
      "Retrying langchain.llms.openai.completion_with_retry.<locals>._completion_with_retry in 4.0 seconds as it raised RateLimitError: Rate limit reached for default-global-with-image-limits in organization org-ZZK1tdpov2aMcMdRfIOVNTcr on tokens_usage_based per min. Limit: 250000 / min. Current: 249807 / min. Contact us through our help center at help.openai.com if you continue to have issues..\n",
      "Retrying langchain.llms.openai.completion_with_retry.<locals>._completion_with_retry in 4.0 seconds as it raised RateLimitError: Rate limit reached for default-global-with-image-limits in organization org-ZZK1tdpov2aMcMdRfIOVNTcr on tokens_usage_based per min. Limit: 250000 / min. Current: 249797 / min. Contact us through our help center at help.openai.com if you continue to have issues..\n",
      "Retrying langchain.llms.openai.completion_with_retry.<locals>._completion_with_retry in 4.0 seconds as it raised RateLimitError: Rate limit reached for default-global-with-image-limits in organization org-ZZK1tdpov2aMcMdRfIOVNTcr on tokens_usage_based per min. Limit: 250000 / min. Current: 249761 / min. Contact us through our help center at help.openai.com if you continue to have issues..\n",
      "Retrying langchain.llms.openai.completion_with_retry.<locals>._completion_with_retry in 4.0 seconds as it raised RateLimitError: Rate limit reached for default-global-with-image-limits in organization org-ZZK1tdpov2aMcMdRfIOVNTcr on tokens_usage_based per min. Limit: 250000 / min. Current: 249903 / min. Contact us through our help center at help.openai.com if you continue to have issues..\n",
      "Retrying langchain.llms.openai.completion_with_retry.<locals>._completion_with_retry in 4.0 seconds as it raised RateLimitError: Rate limit reached for default-global-with-image-limits in organization org-ZZK1tdpov2aMcMdRfIOVNTcr on tokens_usage_based per min. Limit: 250000 / min. Current: 249914 / min. Contact us through our help center at help.openai.com if you continue to have issues..\n",
      "Retrying langchain.llms.openai.completion_with_retry.<locals>._completion_with_retry in 4.0 seconds as it raised RateLimitError: Rate limit reached for default-global-with-image-limits in organization org-ZZK1tdpov2aMcMdRfIOVNTcr on tokens_usage_based per min. Limit: 250000 / min. Current: 249826 / min. Contact us through our help center at help.openai.com if you continue to have issues..\n",
      "Retrying langchain.llms.openai.completion_with_retry.<locals>._completion_with_retry in 4.0 seconds as it raised RateLimitError: Rate limit reached for default-global-with-image-limits in organization org-ZZK1tdpov2aMcMdRfIOVNTcr on tokens_usage_based per min. Limit: 250000 / min. Current: 249983 / min. Contact us through our help center at help.openai.com if you continue to have issues..\n",
      "Retrying langchain.llms.openai.completion_with_retry.<locals>._completion_with_retry in 4.0 seconds as it raised RateLimitError: Rate limit reached for default-global-with-image-limits in organization org-ZZK1tdpov2aMcMdRfIOVNTcr on tokens_usage_based per min. Limit: 250000 / min. Current: 249784 / min. Contact us through our help center at help.openai.com if you continue to have issues..\n",
      "Retrying langchain.llms.openai.completion_with_retry.<locals>._completion_with_retry in 4.0 seconds as it raised RateLimitError: Rate limit reached for default-global-with-image-limits in organization org-ZZK1tdpov2aMcMdRfIOVNTcr on tokens_usage_based per min. Limit: 250000 / min. Current: 249750 / min. Contact us through our help center at help.openai.com if you continue to have issues..\n",
      "Retrying langchain.llms.openai.completion_with_retry.<locals>._completion_with_retry in 4.0 seconds as it raised RateLimitError: Rate limit reached for default-global-with-image-limits in organization org-ZZK1tdpov2aMcMdRfIOVNTcr on tokens_usage_based per min. Limit: 250000 / min. Current: 249960 / min. Contact us through our help center at help.openai.com if you continue to have issues..\n",
      "Retrying langchain.llms.openai.completion_with_retry.<locals>._completion_with_retry in 4.0 seconds as it raised RateLimitError: Rate limit reached for default-global-with-image-limits in organization org-ZZK1tdpov2aMcMdRfIOVNTcr on tokens_usage_based per min. Limit: 250000 / min. Current: 249920 / min. Contact us through our help center at help.openai.com if you continue to have issues..\n",
      "Retrying langchain.llms.openai.completion_with_retry.<locals>._completion_with_retry in 4.0 seconds as it raised RateLimitError: Rate limit reached for default-global-with-image-limits in organization org-ZZK1tdpov2aMcMdRfIOVNTcr on tokens_usage_based per min. Limit: 250000 / min. Current: 249898 / min. Contact us through our help center at help.openai.com if you continue to have issues..\n",
      "Retrying langchain.llms.openai.completion_with_retry.<locals>._completion_with_retry in 4.0 seconds as it raised RateLimitError: Rate limit reached for default-global-with-image-limits in organization org-ZZK1tdpov2aMcMdRfIOVNTcr on tokens_usage_based per min. Limit: 250000 / min. Current: 249874 / min. Contact us through our help center at help.openai.com if you continue to have issues..\n",
      "Retrying langchain.llms.openai.completion_with_retry.<locals>._completion_with_retry in 4.0 seconds as it raised RateLimitError: Rate limit reached for default-global-with-image-limits in organization org-ZZK1tdpov2aMcMdRfIOVNTcr on tokens_usage_based per min. Limit: 250000 / min. Current: 249794 / min. Contact us through our help center at help.openai.com if you continue to have issues..\n",
      "Retrying langchain.llms.openai.completion_with_retry.<locals>._completion_with_retry in 4.0 seconds as it raised RateLimitError: Rate limit reached for default-global-with-image-limits in organization org-ZZK1tdpov2aMcMdRfIOVNTcr on tokens_usage_based per min. Limit: 250000 / min. Current: 249788 / min. Contact us through our help center at help.openai.com if you continue to have issues..\n",
      "Retrying langchain.llms.openai.completion_with_retry.<locals>._completion_with_retry in 4.0 seconds as it raised RateLimitError: Rate limit reached for default-global-with-image-limits in organization org-ZZK1tdpov2aMcMdRfIOVNTcr on tokens_usage_based per min. Limit: 250000 / min. Current: 249960 / min. Contact us through our help center at help.openai.com if you continue to have issues..\n",
      "Retrying langchain.llms.openai.completion_with_retry.<locals>._completion_with_retry in 4.0 seconds as it raised RateLimitError: Rate limit reached for default-global-with-image-limits in organization org-ZZK1tdpov2aMcMdRfIOVNTcr on tokens_usage_based per min. Limit: 250000 / min. Current: 249853 / min. Contact us through our help center at help.openai.com if you continue to have issues..\n",
      "Retrying langchain.llms.openai.completion_with_retry.<locals>._completion_with_retry in 4.0 seconds as it raised RateLimitError: Rate limit reached for default-global-with-image-limits in organization org-ZZK1tdpov2aMcMdRfIOVNTcr on tokens_usage_based per min. Limit: 250000 / min. Current: 249847 / min. Contact us through our help center at help.openai.com if you continue to have issues..\n",
      "Retrying langchain.llms.openai.completion_with_retry.<locals>._completion_with_retry in 4.0 seconds as it raised RateLimitError: Rate limit reached for default-global-with-image-limits in organization org-ZZK1tdpov2aMcMdRfIOVNTcr on tokens_usage_based per min. Limit: 250000 / min. Current: 249765 / min. Contact us through our help center at help.openai.com if you continue to have issues..\n",
      "Retrying langchain.llms.openai.completion_with_retry.<locals>._completion_with_retry in 4.0 seconds as it raised RateLimitError: Rate limit reached for default-global-with-image-limits in organization org-ZZK1tdpov2aMcMdRfIOVNTcr on tokens_usage_based per min. Limit: 250000 / min. Current: 249849 / min. Contact us through our help center at help.openai.com if you continue to have issues..\n",
      "Retrying langchain.llms.openai.completion_with_retry.<locals>._completion_with_retry in 4.0 seconds as it raised RateLimitError: Rate limit reached for default-global-with-image-limits in organization org-ZZK1tdpov2aMcMdRfIOVNTcr on tokens_usage_based per min. Limit: 250000 / min. Current: 249828 / min. Contact us through our help center at help.openai.com if you continue to have issues..\n",
      "Retrying langchain.llms.openai.completion_with_retry.<locals>._completion_with_retry in 4.0 seconds as it raised RateLimitError: Rate limit reached for default-global-with-image-limits in organization org-ZZK1tdpov2aMcMdRfIOVNTcr on tokens_usage_based per min. Limit: 250000 / min. Current: 249802 / min. Contact us through our help center at help.openai.com if you continue to have issues..\n",
      "Retrying langchain.llms.openai.completion_with_retry.<locals>._completion_with_retry in 4.0 seconds as it raised RateLimitError: Rate limit reached for default-global-with-image-limits in organization org-ZZK1tdpov2aMcMdRfIOVNTcr on tokens_usage_based per min. Limit: 250000 / min. Current: 249815 / min. Contact us through our help center at help.openai.com if you continue to have issues..\n",
      "Retrying langchain.llms.openai.completion_with_retry.<locals>._completion_with_retry in 4.0 seconds as it raised RateLimitError: Rate limit reached for default-global-with-image-limits in organization org-ZZK1tdpov2aMcMdRfIOVNTcr on tokens_usage_based per min. Limit: 250000 / min. Current: 249815 / min. Contact us through our help center at help.openai.com if you continue to have issues..\n",
      "Retrying langchain.llms.openai.completion_with_retry.<locals>._completion_with_retry in 4.0 seconds as it raised RateLimitError: Rate limit reached for default-global-with-image-limits in organization org-ZZK1tdpov2aMcMdRfIOVNTcr on tokens_usage_based per min. Limit: 250000 / min. Current: 249793 / min. Contact us through our help center at help.openai.com if you continue to have issues..\n",
      "Retrying langchain.llms.openai.completion_with_retry.<locals>._completion_with_retry in 4.0 seconds as it raised RateLimitError: Rate limit reached for default-global-with-image-limits in organization org-ZZK1tdpov2aMcMdRfIOVNTcr on tokens_usage_based per min. Limit: 250000 / min. Current: 249910 / min. Contact us through our help center at help.openai.com if you continue to have issues..\n",
      "Retrying langchain.llms.openai.completion_with_retry.<locals>._completion_with_retry in 4.0 seconds as it raised RateLimitError: Rate limit reached for default-global-with-image-limits in organization org-ZZK1tdpov2aMcMdRfIOVNTcr on tokens_usage_based per min. Limit: 250000 / min. Current: 249918 / min. Contact us through our help center at help.openai.com if you continue to have issues..\n",
      "Retrying langchain.llms.openai.completion_with_retry.<locals>._completion_with_retry in 4.0 seconds as it raised RateLimitError: Rate limit reached for default-global-with-image-limits in organization org-ZZK1tdpov2aMcMdRfIOVNTcr on tokens_usage_based per min. Limit: 250000 / min. Current: 249929 / min. Contact us through our help center at help.openai.com if you continue to have issues..\n",
      "Retrying langchain.llms.openai.completion_with_retry.<locals>._completion_with_retry in 4.0 seconds as it raised RateLimitError: Rate limit reached for default-global-with-image-limits in organization org-ZZK1tdpov2aMcMdRfIOVNTcr on tokens_usage_based per min. Limit: 250000 / min. Current: 249837 / min. Contact us through our help center at help.openai.com if you continue to have issues..\n",
      "Retrying langchain.llms.openai.completion_with_retry.<locals>._completion_with_retry in 4.0 seconds as it raised RateLimitError: Rate limit reached for default-global-with-image-limits in organization org-ZZK1tdpov2aMcMdRfIOVNTcr on tokens_usage_based per min. Limit: 250000 / min. Current: 249884 / min. Contact us through our help center at help.openai.com if you continue to have issues..\n",
      "Retrying langchain.llms.openai.completion_with_retry.<locals>._completion_with_retry in 4.0 seconds as it raised RateLimitError: Rate limit reached for default-global-with-image-limits in organization org-ZZK1tdpov2aMcMdRfIOVNTcr on tokens_usage_based per min. Limit: 250000 / min. Current: 249801 / min. Contact us through our help center at help.openai.com if you continue to have issues..\n",
      "Retrying langchain.llms.openai.completion_with_retry.<locals>._completion_with_retry in 4.0 seconds as it raised RateLimitError: Rate limit reached for default-global-with-image-limits in organization org-ZZK1tdpov2aMcMdRfIOVNTcr on tokens_usage_based per min. Limit: 250000 / min. Current: 249945 / min. Contact us through our help center at help.openai.com if you continue to have issues..\n",
      "Retrying langchain.llms.openai.completion_with_retry.<locals>._completion_with_retry in 4.0 seconds as it raised RateLimitError: Rate limit reached for default-global-with-image-limits in organization org-ZZK1tdpov2aMcMdRfIOVNTcr on tokens_usage_based per min. Limit: 250000 / min. Current: 249877 / min. Contact us through our help center at help.openai.com if you continue to have issues..\n",
      "Retrying langchain.llms.openai.completion_with_retry.<locals>._completion_with_retry in 4.0 seconds as it raised RateLimitError: Rate limit reached for default-global-with-image-limits in organization org-ZZK1tdpov2aMcMdRfIOVNTcr on tokens_usage_based per min. Limit: 250000 / min. Current: 249916 / min. Contact us through our help center at help.openai.com if you continue to have issues..\n",
      "Retrying langchain.llms.openai.completion_with_retry.<locals>._completion_with_retry in 4.0 seconds as it raised RateLimitError: Rate limit reached for default-global-with-image-limits in organization org-ZZK1tdpov2aMcMdRfIOVNTcr on tokens_usage_based per min. Limit: 250000 / min. Current: 249765 / min. Contact us through our help center at help.openai.com if you continue to have issues..\n",
      "Retrying langchain.llms.openai.completion_with_retry.<locals>._completion_with_retry in 4.0 seconds as it raised RateLimitError: Rate limit reached for default-global-with-image-limits in organization org-ZZK1tdpov2aMcMdRfIOVNTcr on tokens_usage_based per min. Limit: 250000 / min. Current: 249796 / min. Contact us through our help center at help.openai.com if you continue to have issues..\n",
      "Retrying langchain.llms.openai.completion_with_retry.<locals>._completion_with_retry in 4.0 seconds as it raised RateLimitError: Rate limit reached for default-global-with-image-limits in organization org-ZZK1tdpov2aMcMdRfIOVNTcr on tokens_usage_based per min. Limit: 250000 / min. Current: 249872 / min. Contact us through our help center at help.openai.com if you continue to have issues..\n",
      "Retrying langchain.llms.openai.completion_with_retry.<locals>._completion_with_retry in 4.0 seconds as it raised RateLimitError: Rate limit reached for default-global-with-image-limits in organization org-ZZK1tdpov2aMcMdRfIOVNTcr on tokens_usage_based per min. Limit: 250000 / min. Current: 249933 / min. Contact us through our help center at help.openai.com if you continue to have issues..\n",
      "Retrying langchain.llms.openai.completion_with_retry.<locals>._completion_with_retry in 4.0 seconds as it raised RateLimitError: Rate limit reached for default-global-with-image-limits in organization org-ZZK1tdpov2aMcMdRfIOVNTcr on tokens_usage_based per min. Limit: 250000 / min. Current: 249841 / min. Contact us through our help center at help.openai.com if you continue to have issues..\n",
      "Retrying langchain.llms.openai.completion_with_retry.<locals>._completion_with_retry in 4.0 seconds as it raised RateLimitError: Rate limit reached for default-global-with-image-limits in organization org-ZZK1tdpov2aMcMdRfIOVNTcr on tokens_usage_based per min. Limit: 250000 / min. Current: 249783 / min. Contact us through our help center at help.openai.com if you continue to have issues..\n",
      "Retrying langchain.llms.openai.completion_with_retry.<locals>._completion_with_retry in 4.0 seconds as it raised RateLimitError: Rate limit reached for default-global-with-image-limits in organization org-ZZK1tdpov2aMcMdRfIOVNTcr on tokens_usage_based per min. Limit: 250000 / min. Current: 249938 / min. Contact us through our help center at help.openai.com if you continue to have issues..\n",
      "Retrying langchain.llms.openai.completion_with_retry.<locals>._completion_with_retry in 4.0 seconds as it raised RateLimitError: Rate limit reached for default-global-with-image-limits in organization org-ZZK1tdpov2aMcMdRfIOVNTcr on tokens_usage_based per min. Limit: 250000 / min. Current: 249869 / min. Contact us through our help center at help.openai.com if you continue to have issues..\n",
      "Retrying langchain.llms.openai.completion_with_retry.<locals>._completion_with_retry in 4.0 seconds as it raised RateLimitError: Rate limit reached for default-global-with-image-limits in organization org-ZZK1tdpov2aMcMdRfIOVNTcr on tokens_usage_based per min. Limit: 250000 / min. Current: 249893 / min. Contact us through our help center at help.openai.com if you continue to have issues..\n",
      "Retrying langchain.llms.openai.completion_with_retry.<locals>._completion_with_retry in 4.0 seconds as it raised RateLimitError: Rate limit reached for default-global-with-image-limits in organization org-ZZK1tdpov2aMcMdRfIOVNTcr on tokens_usage_based per min. Limit: 250000 / min. Current: 249761 / min. Contact us through our help center at help.openai.com if you continue to have issues..\n",
      "Retrying langchain.llms.openai.completion_with_retry.<locals>._completion_with_retry in 4.0 seconds as it raised RateLimitError: Rate limit reached for default-global-with-image-limits in organization org-ZZK1tdpov2aMcMdRfIOVNTcr on tokens_usage_based per min. Limit: 250000 / min. Current: 249940 / min. Contact us through our help center at help.openai.com if you continue to have issues..\n",
      "Retrying langchain.llms.openai.completion_with_retry.<locals>._completion_with_retry in 4.0 seconds as it raised RateLimitError: Rate limit reached for default-global-with-image-limits in organization org-ZZK1tdpov2aMcMdRfIOVNTcr on tokens_usage_based per min. Limit: 250000 / min. Current: 249781 / min. Contact us through our help center at help.openai.com if you continue to have issues..\n",
      "Retrying langchain.llms.openai.completion_with_retry.<locals>._completion_with_retry in 4.0 seconds as it raised RateLimitError: Rate limit reached for default-global-with-image-limits in organization org-ZZK1tdpov2aMcMdRfIOVNTcr on tokens_usage_based per min. Limit: 250000 / min. Current: 249880 / min. Contact us through our help center at help.openai.com if you continue to have issues..\n",
      "Retrying langchain.llms.openai.completion_with_retry.<locals>._completion_with_retry in 4.0 seconds as it raised RateLimitError: Rate limit reached for default-global-with-image-limits in organization org-ZZK1tdpov2aMcMdRfIOVNTcr on tokens_usage_based per min. Limit: 250000 / min. Current: 249764 / min. Contact us through our help center at help.openai.com if you continue to have issues..\n",
      "Retrying langchain.llms.openai.completion_with_retry.<locals>._completion_with_retry in 4.0 seconds as it raised RateLimitError: Rate limit reached for default-global-with-image-limits in organization org-ZZK1tdpov2aMcMdRfIOVNTcr on tokens_usage_based per min. Limit: 250000 / min. Current: 249768 / min. Contact us through our help center at help.openai.com if you continue to have issues..\n",
      "Retrying langchain.llms.openai.completion_with_retry.<locals>._completion_with_retry in 4.0 seconds as it raised RateLimitError: Rate limit reached for default-global-with-image-limits in organization org-ZZK1tdpov2aMcMdRfIOVNTcr on tokens_usage_based per min. Limit: 250000 / min. Current: 249761 / min. Contact us through our help center at help.openai.com if you continue to have issues..\n",
      "Retrying langchain.llms.openai.completion_with_retry.<locals>._completion_with_retry in 4.0 seconds as it raised RateLimitError: Rate limit reached for default-global-with-image-limits in organization org-ZZK1tdpov2aMcMdRfIOVNTcr on tokens_usage_based per min. Limit: 250000 / min. Current: 249761 / min. Contact us through our help center at help.openai.com if you continue to have issues..\n",
      "Retrying langchain.llms.openai.completion_with_retry.<locals>._completion_with_retry in 4.0 seconds as it raised RateLimitError: Rate limit reached for default-global-with-image-limits in organization org-ZZK1tdpov2aMcMdRfIOVNTcr on tokens_usage_based per min. Limit: 250000 / min. Current: 249800 / min. Contact us through our help center at help.openai.com if you continue to have issues..\n",
      "Retrying langchain.llms.openai.completion_with_retry.<locals>._completion_with_retry in 4.0 seconds as it raised RateLimitError: Rate limit reached for default-global-with-image-limits in organization org-ZZK1tdpov2aMcMdRfIOVNTcr on tokens_usage_based per min. Limit: 250000 / min. Current: 249969 / min. Contact us through our help center at help.openai.com if you continue to have issues..\n",
      "Retrying langchain.llms.openai.completion_with_retry.<locals>._completion_with_retry in 4.0 seconds as it raised RateLimitError: Rate limit reached for default-global-with-image-limits in organization org-ZZK1tdpov2aMcMdRfIOVNTcr on tokens_usage_based per min. Limit: 250000 / min. Current: 249967 / min. Contact us through our help center at help.openai.com if you continue to have issues..\n",
      "Retrying langchain.llms.openai.completion_with_retry.<locals>._completion_with_retry in 4.0 seconds as it raised RateLimitError: Rate limit reached for default-global-with-image-limits in organization org-ZZK1tdpov2aMcMdRfIOVNTcr on tokens_usage_based per min. Limit: 250000 / min. Current: 249766 / min. Contact us through our help center at help.openai.com if you continue to have issues..\n",
      "Retrying langchain.llms.openai.completion_with_retry.<locals>._completion_with_retry in 8.0 seconds as it raised RateLimitError: Rate limit reached for default-global-with-image-limits in organization org-ZZK1tdpov2aMcMdRfIOVNTcr on tokens_usage_based per min. Limit: 250000 / min. Current: 249851 / min. Contact us through our help center at help.openai.com if you continue to have issues..\n",
      "Retrying langchain.llms.openai.completion_with_retry.<locals>._completion_with_retry in 8.0 seconds as it raised RateLimitError: Rate limit reached for default-global-with-image-limits in organization org-ZZK1tdpov2aMcMdRfIOVNTcr on tokens_usage_based per min. Limit: 250000 / min. Current: 249839 / min. Contact us through our help center at help.openai.com if you continue to have issues..\n",
      "Retrying langchain.llms.openai.completion_with_retry.<locals>._completion_with_retry in 4.0 seconds as it raised RateLimitError: Rate limit reached for default-global-with-image-limits in organization org-ZZK1tdpov2aMcMdRfIOVNTcr on tokens_usage_based per min. Limit: 250000 / min. Current: 249852 / min. Contact us through our help center at help.openai.com if you continue to have issues..\n",
      "Retrying langchain.llms.openai.completion_with_retry.<locals>._completion_with_retry in 8.0 seconds as it raised RateLimitError: Rate limit reached for default-global-with-image-limits in organization org-ZZK1tdpov2aMcMdRfIOVNTcr on tokens_usage_based per min. Limit: 250000 / min. Current: 249930 / min. Contact us through our help center at help.openai.com if you continue to have issues..\n",
      "Retrying langchain.llms.openai.completion_with_retry.<locals>._completion_with_retry in 4.0 seconds as it raised RateLimitError: Rate limit reached for default-global-with-image-limits in organization org-ZZK1tdpov2aMcMdRfIOVNTcr on tokens_usage_based per min. Limit: 250000 / min. Current: 249876 / min. Contact us through our help center at help.openai.com if you continue to have issues..\n",
      "Retrying langchain.llms.openai.completion_with_retry.<locals>._completion_with_retry in 8.0 seconds as it raised RateLimitError: Rate limit reached for default-global-with-image-limits in organization org-ZZK1tdpov2aMcMdRfIOVNTcr on tokens_usage_based per min. Limit: 250000 / min. Current: 249769 / min. Contact us through our help center at help.openai.com if you continue to have issues..\n",
      "Retrying langchain.llms.openai.completion_with_retry.<locals>._completion_with_retry in 4.0 seconds as it raised RateLimitError: Rate limit reached for default-global-with-image-limits in organization org-ZZK1tdpov2aMcMdRfIOVNTcr on tokens_usage_based per min. Limit: 250000 / min. Current: 249757 / min. Contact us through our help center at help.openai.com if you continue to have issues..\n",
      "Retrying langchain.llms.openai.completion_with_retry.<locals>._completion_with_retry in 4.0 seconds as it raised RateLimitError: Rate limit reached for default-global-with-image-limits in organization org-ZZK1tdpov2aMcMdRfIOVNTcr on tokens_usage_based per min. Limit: 250000 / min. Current: 249862 / min. Contact us through our help center at help.openai.com if you continue to have issues..\n",
      "Retrying langchain.llms.openai.completion_with_retry.<locals>._completion_with_retry in 4.0 seconds as it raised RateLimitError: Rate limit reached for default-global-with-image-limits in organization org-ZZK1tdpov2aMcMdRfIOVNTcr on tokens_usage_based per min. Limit: 250000 / min. Current: 249869 / min. Contact us through our help center at help.openai.com if you continue to have issues..\n",
      "Retrying langchain.llms.openai.completion_with_retry.<locals>._completion_with_retry in 4.0 seconds as it raised RateLimitError: Rate limit reached for default-global-with-image-limits in organization org-ZZK1tdpov2aMcMdRfIOVNTcr on tokens_usage_based per min. Limit: 250000 / min. Current: 249851 / min. Contact us through our help center at help.openai.com if you continue to have issues..\n",
      "Retrying langchain.llms.openai.completion_with_retry.<locals>._completion_with_retry in 8.0 seconds as it raised RateLimitError: Rate limit reached for default-global-with-image-limits in organization org-ZZK1tdpov2aMcMdRfIOVNTcr on tokens_usage_based per min. Limit: 250000 / min. Current: 249760 / min. Contact us through our help center at help.openai.com if you continue to have issues..\n",
      "Retrying langchain.llms.openai.completion_with_retry.<locals>._completion_with_retry in 4.0 seconds as it raised RateLimitError: Rate limit reached for default-global-with-image-limits in organization org-ZZK1tdpov2aMcMdRfIOVNTcr on tokens_usage_based per min. Limit: 250000 / min. Current: 249764 / min. Contact us through our help center at help.openai.com if you continue to have issues..\n",
      "Retrying langchain.llms.openai.completion_with_retry.<locals>._completion_with_retry in 4.0 seconds as it raised RateLimitError: Rate limit reached for default-global-with-image-limits in organization org-ZZK1tdpov2aMcMdRfIOVNTcr on tokens_usage_based per min. Limit: 250000 / min. Current: 249840 / min. Contact us through our help center at help.openai.com if you continue to have issues..\n",
      "Retrying langchain.llms.openai.completion_with_retry.<locals>._completion_with_retry in 8.0 seconds as it raised RateLimitError: Rate limit reached for default-global-with-image-limits in organization org-ZZK1tdpov2aMcMdRfIOVNTcr on tokens_usage_based per min. Limit: 250000 / min. Current: 249745 / min. Contact us through our help center at help.openai.com if you continue to have issues..\n",
      "Retrying langchain.llms.openai.completion_with_retry.<locals>._completion_with_retry in 4.0 seconds as it raised RateLimitError: Rate limit reached for default-global-with-image-limits in organization org-ZZK1tdpov2aMcMdRfIOVNTcr on tokens_usage_based per min. Limit: 250000 / min. Current: 249939 / min. Contact us through our help center at help.openai.com if you continue to have issues..\n",
      "Retrying langchain.llms.openai.completion_with_retry.<locals>._completion_with_retry in 8.0 seconds as it raised RateLimitError: Rate limit reached for default-global-with-image-limits in organization org-ZZK1tdpov2aMcMdRfIOVNTcr on tokens_usage_based per min. Limit: 250000 / min. Current: 249905 / min. Contact us through our help center at help.openai.com if you continue to have issues..\n",
      "Retrying langchain.llms.openai.completion_with_retry.<locals>._completion_with_retry in 4.0 seconds as it raised RateLimitError: Rate limit reached for default-global-with-image-limits in organization org-ZZK1tdpov2aMcMdRfIOVNTcr on tokens_usage_based per min. Limit: 250000 / min. Current: 249863 / min. Contact us through our help center at help.openai.com if you continue to have issues..\n",
      "Retrying langchain.llms.openai.completion_with_retry.<locals>._completion_with_retry in 4.0 seconds as it raised RateLimitError: Rate limit reached for default-global-with-image-limits in organization org-ZZK1tdpov2aMcMdRfIOVNTcr on tokens_usage_based per min. Limit: 250000 / min. Current: 249870 / min. Contact us through our help center at help.openai.com if you continue to have issues..\n",
      "Retrying langchain.llms.openai.completion_with_retry.<locals>._completion_with_retry in 4.0 seconds as it raised RateLimitError: Rate limit reached for default-global-with-image-limits in organization org-ZZK1tdpov2aMcMdRfIOVNTcr on tokens_usage_based per min. Limit: 250000 / min. Current: 249798 / min. Contact us through our help center at help.openai.com if you continue to have issues..\n",
      "Retrying langchain.llms.openai.completion_with_retry.<locals>._completion_with_retry in 4.0 seconds as it raised RateLimitError: Rate limit reached for default-global-with-image-limits in organization org-ZZK1tdpov2aMcMdRfIOVNTcr on tokens_usage_based per min. Limit: 250000 / min. Current: 249926 / min. Contact us through our help center at help.openai.com if you continue to have issues..\n",
      "Retrying langchain.llms.openai.completion_with_retry.<locals>._completion_with_retry in 8.0 seconds as it raised RateLimitError: Rate limit reached for default-global-with-image-limits in organization org-ZZK1tdpov2aMcMdRfIOVNTcr on tokens_usage_based per min. Limit: 250000 / min. Current: 249887 / min. Contact us through our help center at help.openai.com if you continue to have issues..\n",
      "Retrying langchain.llms.openai.completion_with_retry.<locals>._completion_with_retry in 4.0 seconds as it raised RateLimitError: Rate limit reached for default-global-with-image-limits in organization org-ZZK1tdpov2aMcMdRfIOVNTcr on tokens_usage_based per min. Limit: 250000 / min. Current: 249847 / min. Contact us through our help center at help.openai.com if you continue to have issues..\n",
      "Retrying langchain.llms.openai.completion_with_retry.<locals>._completion_with_retry in 4.0 seconds as it raised RateLimitError: Rate limit reached for default-global-with-image-limits in organization org-ZZK1tdpov2aMcMdRfIOVNTcr on tokens_usage_based per min. Limit: 250000 / min. Current: 249840 / min. Contact us through our help center at help.openai.com if you continue to have issues..\n",
      "Retrying langchain.llms.openai.completion_with_retry.<locals>._completion_with_retry in 4.0 seconds as it raised RateLimitError: Rate limit reached for default-global-with-image-limits in organization org-ZZK1tdpov2aMcMdRfIOVNTcr on tokens_usage_based per min. Limit: 250000 / min. Current: 249761 / min. Contact us through our help center at help.openai.com if you continue to have issues..\n",
      "Retrying langchain.llms.openai.completion_with_retry.<locals>._completion_with_retry in 4.0 seconds as it raised RateLimitError: Rate limit reached for default-global-with-image-limits in organization org-ZZK1tdpov2aMcMdRfIOVNTcr on tokens_usage_based per min. Limit: 250000 / min. Current: 249893 / min. Contact us through our help center at help.openai.com if you continue to have issues..\n",
      "Retrying langchain.llms.openai.completion_with_retry.<locals>._completion_with_retry in 4.0 seconds as it raised RateLimitError: Rate limit reached for default-global-with-image-limits in organization org-ZZK1tdpov2aMcMdRfIOVNTcr on tokens_usage_based per min. Limit: 250000 / min. Current: 249777 / min. Contact us through our help center at help.openai.com if you continue to have issues..\n",
      "Retrying langchain.llms.openai.completion_with_retry.<locals>._completion_with_retry in 8.0 seconds as it raised RateLimitError: Rate limit reached for default-global-with-image-limits in organization org-ZZK1tdpov2aMcMdRfIOVNTcr on tokens_usage_based per min. Limit: 250000 / min. Current: 249872 / min. Contact us through our help center at help.openai.com if you continue to have issues..\n",
      "Retrying langchain.llms.openai.completion_with_retry.<locals>._completion_with_retry in 4.0 seconds as it raised RateLimitError: Rate limit reached for default-global-with-image-limits in organization org-ZZK1tdpov2aMcMdRfIOVNTcr on tokens_usage_based per min. Limit: 250000 / min. Current: 249819 / min. Contact us through our help center at help.openai.com if you continue to have issues..\n",
      "Retrying langchain.llms.openai.completion_with_retry.<locals>._completion_with_retry in 4.0 seconds as it raised RateLimitError: Rate limit reached for default-global-with-image-limits in organization org-ZZK1tdpov2aMcMdRfIOVNTcr on tokens_usage_based per min. Limit: 250000 / min. Current: 249797 / min. Contact us through our help center at help.openai.com if you continue to have issues..\n",
      "Retrying langchain.llms.openai.completion_with_retry.<locals>._completion_with_retry in 8.0 seconds as it raised RateLimitError: Rate limit reached for default-global-with-image-limits in organization org-ZZK1tdpov2aMcMdRfIOVNTcr on tokens_usage_based per min. Limit: 250000 / min. Current: 249870 / min. Contact us through our help center at help.openai.com if you continue to have issues..\n",
      "Retrying langchain.llms.openai.completion_with_retry.<locals>._completion_with_retry in 8.0 seconds as it raised RateLimitError: Rate limit reached for default-global-with-image-limits in organization org-ZZK1tdpov2aMcMdRfIOVNTcr on tokens_usage_based per min. Limit: 250000 / min. Current: 249916 / min. Contact us through our help center at help.openai.com if you continue to have issues..\n",
      "Retrying langchain.llms.openai.completion_with_retry.<locals>._completion_with_retry in 8.0 seconds as it raised RateLimitError: Rate limit reached for default-global-with-image-limits in organization org-ZZK1tdpov2aMcMdRfIOVNTcr on tokens_usage_based per min. Limit: 250000 / min. Current: 249905 / min. Contact us through our help center at help.openai.com if you continue to have issues..\n",
      "Retrying langchain.llms.openai.completion_with_retry.<locals>._completion_with_retry in 4.0 seconds as it raised RateLimitError: Rate limit reached for default-global-with-image-limits in organization org-ZZK1tdpov2aMcMdRfIOVNTcr on tokens_usage_based per min. Limit: 250000 / min. Current: 249746 / min. Contact us through our help center at help.openai.com if you continue to have issues..\n",
      "Retrying langchain.llms.openai.completion_with_retry.<locals>._completion_with_retry in 4.0 seconds as it raised RateLimitError: Rate limit reached for default-global-with-image-limits in organization org-ZZK1tdpov2aMcMdRfIOVNTcr on tokens_usage_based per min. Limit: 250000 / min. Current: 249792 / min. Contact us through our help center at help.openai.com if you continue to have issues..\n",
      "Retrying langchain.llms.openai.completion_with_retry.<locals>._completion_with_retry in 4.0 seconds as it raised RateLimitError: Rate limit reached for default-global-with-image-limits in organization org-ZZK1tdpov2aMcMdRfIOVNTcr on tokens_usage_based per min. Limit: 250000 / min. Current: 249962 / min. Contact us through our help center at help.openai.com if you continue to have issues..\n",
      "Retrying langchain.llms.openai.completion_with_retry.<locals>._completion_with_retry in 4.0 seconds as it raised RateLimitError: Rate limit reached for default-global-with-image-limits in organization org-ZZK1tdpov2aMcMdRfIOVNTcr on tokens_usage_based per min. Limit: 250000 / min. Current: 249753 / min. Contact us through our help center at help.openai.com if you continue to have issues..\n",
      "Retrying langchain.llms.openai.completion_with_retry.<locals>._completion_with_retry in 8.0 seconds as it raised RateLimitError: Rate limit reached for default-global-with-image-limits in organization org-ZZK1tdpov2aMcMdRfIOVNTcr on tokens_usage_based per min. Limit: 250000 / min. Current: 249923 / min. Contact us through our help center at help.openai.com if you continue to have issues..\n",
      "Retrying langchain.llms.openai.completion_with_retry.<locals>._completion_with_retry in 8.0 seconds as it raised RateLimitError: Rate limit reached for default-global-with-image-limits in organization org-ZZK1tdpov2aMcMdRfIOVNTcr on tokens_usage_based per min. Limit: 250000 / min. Current: 249890 / min. Contact us through our help center at help.openai.com if you continue to have issues..\n",
      "Retrying langchain.llms.openai.completion_with_retry.<locals>._completion_with_retry in 4.0 seconds as it raised RateLimitError: Rate limit reached for default-global-with-image-limits in organization org-ZZK1tdpov2aMcMdRfIOVNTcr on tokens_usage_based per min. Limit: 250000 / min. Current: 249844 / min. Contact us through our help center at help.openai.com if you continue to have issues..\n",
      "Retrying langchain.llms.openai.completion_with_retry.<locals>._completion_with_retry in 8.0 seconds as it raised RateLimitError: Rate limit reached for default-global-with-image-limits in organization org-ZZK1tdpov2aMcMdRfIOVNTcr on tokens_usage_based per min. Limit: 250000 / min. Current: 249838 / min. Contact us through our help center at help.openai.com if you continue to have issues..\n",
      "Retrying langchain.llms.openai.completion_with_retry.<locals>._completion_with_retry in 8.0 seconds as it raised RateLimitError: Rate limit reached for default-global-with-image-limits in organization org-ZZK1tdpov2aMcMdRfIOVNTcr on tokens_usage_based per min. Limit: 250000 / min. Current: 249961 / min. Contact us through our help center at help.openai.com if you continue to have issues..\n",
      "Retrying langchain.llms.openai.completion_with_retry.<locals>._completion_with_retry in 8.0 seconds as it raised RateLimitError: Rate limit reached for default-global-with-image-limits in organization org-ZZK1tdpov2aMcMdRfIOVNTcr on tokens_usage_based per min. Limit: 250000 / min. Current: 249791 / min. Contact us through our help center at help.openai.com if you continue to have issues..\n",
      "Retrying langchain.llms.openai.completion_with_retry.<locals>._completion_with_retry in 8.0 seconds as it raised RateLimitError: Rate limit reached for default-global-with-image-limits in organization org-ZZK1tdpov2aMcMdRfIOVNTcr on tokens_usage_based per min. Limit: 250000 / min. Current: 249841 / min. Contact us through our help center at help.openai.com if you continue to have issues..\n",
      "Retrying langchain.llms.openai.completion_with_retry.<locals>._completion_with_retry in 8.0 seconds as it raised RateLimitError: Rate limit reached for default-global-with-image-limits in organization org-ZZK1tdpov2aMcMdRfIOVNTcr on tokens_usage_based per min. Limit: 250000 / min. Current: 249790 / min. Contact us through our help center at help.openai.com if you continue to have issues..\n",
      "Retrying langchain.llms.openai.completion_with_retry.<locals>._completion_with_retry in 4.0 seconds as it raised RateLimitError: Rate limit reached for default-global-with-image-limits in organization org-ZZK1tdpov2aMcMdRfIOVNTcr on tokens_usage_based per min. Limit: 250000 / min. Current: 249876 / min. Contact us through our help center at help.openai.com if you continue to have issues..\n",
      "Retrying langchain.llms.openai.completion_with_retry.<locals>._completion_with_retry in 4.0 seconds as it raised RateLimitError: Rate limit reached for default-global-with-image-limits in organization org-ZZK1tdpov2aMcMdRfIOVNTcr on tokens_usage_based per min. Limit: 250000 / min. Current: 249823 / min. Contact us through our help center at help.openai.com if you continue to have issues..\n",
      "Retrying langchain.llms.openai.completion_with_retry.<locals>._completion_with_retry in 8.0 seconds as it raised RateLimitError: Rate limit reached for default-global-with-image-limits in organization org-ZZK1tdpov2aMcMdRfIOVNTcr on tokens_usage_based per min. Limit: 250000 / min. Current: 249800 / min. Contact us through our help center at help.openai.com if you continue to have issues..\n",
      "Retrying langchain.llms.openai.completion_with_retry.<locals>._completion_with_retry in 8.0 seconds as it raised RateLimitError: Rate limit reached for default-global-with-image-limits in organization org-ZZK1tdpov2aMcMdRfIOVNTcr on tokens_usage_based per min. Limit: 250000 / min. Current: 249758 / min. Contact us through our help center at help.openai.com if you continue to have issues..\n",
      "Retrying langchain.llms.openai.completion_with_retry.<locals>._completion_with_retry in 4.0 seconds as it raised RateLimitError: Rate limit reached for default-global-with-image-limits in organization org-ZZK1tdpov2aMcMdRfIOVNTcr on tokens_usage_based per min. Limit: 250000 / min. Current: 249748 / min. Contact us through our help center at help.openai.com if you continue to have issues..\n",
      "Retrying langchain.llms.openai.completion_with_retry.<locals>._completion_with_retry in 4.0 seconds as it raised RateLimitError: Rate limit reached for default-global-with-image-limits in organization org-ZZK1tdpov2aMcMdRfIOVNTcr on tokens_usage_based per min. Limit: 250000 / min. Current: 249871 / min. Contact us through our help center at help.openai.com if you continue to have issues..\n",
      "Retrying langchain.llms.openai.completion_with_retry.<locals>._completion_with_retry in 4.0 seconds as it raised RateLimitError: Rate limit reached for default-global-with-image-limits in organization org-ZZK1tdpov2aMcMdRfIOVNTcr on tokens_usage_based per min. Limit: 250000 / min. Current: 249838 / min. Contact us through our help center at help.openai.com if you continue to have issues..\n",
      "Retrying langchain.llms.openai.completion_with_retry.<locals>._completion_with_retry in 8.0 seconds as it raised RateLimitError: Rate limit reached for default-global-with-image-limits in organization org-ZZK1tdpov2aMcMdRfIOVNTcr on tokens_usage_based per min. Limit: 250000 / min. Current: 249884 / min. Contact us through our help center at help.openai.com if you continue to have issues..\n",
      "Retrying langchain.llms.openai.completion_with_retry.<locals>._completion_with_retry in 4.0 seconds as it raised RateLimitError: Rate limit reached for default-global-with-image-limits in organization org-ZZK1tdpov2aMcMdRfIOVNTcr on tokens_usage_based per min. Limit: 250000 / min. Current: 249803 / min. Contact us through our help center at help.openai.com if you continue to have issues..\n",
      "Retrying langchain.llms.openai.completion_with_retry.<locals>._completion_with_retry in 4.0 seconds as it raised RateLimitError: Rate limit reached for default-global-with-image-limits in organization org-ZZK1tdpov2aMcMdRfIOVNTcr on tokens_usage_based per min. Limit: 250000 / min. Current: 249942 / min. Contact us through our help center at help.openai.com if you continue to have issues..\n",
      "Retrying langchain.llms.openai.completion_with_retry.<locals>._completion_with_retry in 4.0 seconds as it raised RateLimitError: Rate limit reached for default-global-with-image-limits in organization org-ZZK1tdpov2aMcMdRfIOVNTcr on tokens_usage_based per min. Limit: 250000 / min. Current: 249840 / min. Contact us through our help center at help.openai.com if you continue to have issues..\n",
      "Retrying langchain.llms.openai.completion_with_retry.<locals>._completion_with_retry in 4.0 seconds as it raised RateLimitError: Rate limit reached for default-global-with-image-limits in organization org-ZZK1tdpov2aMcMdRfIOVNTcr on tokens_usage_based per min. Limit: 250000 / min. Current: 249925 / min. Contact us through our help center at help.openai.com if you continue to have issues..\n",
      "Retrying langchain.llms.openai.completion_with_retry.<locals>._completion_with_retry in 4.0 seconds as it raised RateLimitError: Rate limit reached for default-global-with-image-limits in organization org-ZZK1tdpov2aMcMdRfIOVNTcr on tokens_usage_based per min. Limit: 250000 / min. Current: 249769 / min. Contact us through our help center at help.openai.com if you continue to have issues..\n",
      "Retrying langchain.llms.openai.completion_with_retry.<locals>._completion_with_retry in 4.0 seconds as it raised RateLimitError: Rate limit reached for default-global-with-image-limits in organization org-ZZK1tdpov2aMcMdRfIOVNTcr on tokens_usage_based per min. Limit: 250000 / min. Current: 249909 / min. Contact us through our help center at help.openai.com if you continue to have issues..\n",
      "Retrying langchain.llms.openai.completion_with_retry.<locals>._completion_with_retry in 4.0 seconds as it raised RateLimitError: Rate limit reached for default-global-with-image-limits in organization org-ZZK1tdpov2aMcMdRfIOVNTcr on tokens_usage_based per min. Limit: 250000 / min. Current: 249933 / min. Contact us through our help center at help.openai.com if you continue to have issues..\n",
      "Retrying langchain.llms.openai.completion_with_retry.<locals>._completion_with_retry in 4.0 seconds as it raised RateLimitError: Rate limit reached for default-global-with-image-limits in organization org-ZZK1tdpov2aMcMdRfIOVNTcr on tokens_usage_based per min. Limit: 250000 / min. Current: 249768 / min. Contact us through our help center at help.openai.com if you continue to have issues..\n",
      "Retrying langchain.llms.openai.completion_with_retry.<locals>._completion_with_retry in 4.0 seconds as it raised RateLimitError: Rate limit reached for default-global-with-image-limits in organization org-ZZK1tdpov2aMcMdRfIOVNTcr on tokens_usage_based per min. Limit: 250000 / min. Current: 249781 / min. Contact us through our help center at help.openai.com if you continue to have issues..\n",
      "Retrying langchain.llms.openai.completion_with_retry.<locals>._completion_with_retry in 4.0 seconds as it raised RateLimitError: Rate limit reached for default-global-with-image-limits in organization org-ZZK1tdpov2aMcMdRfIOVNTcr on tokens_usage_based per min. Limit: 250000 / min. Current: 249938 / min. Contact us through our help center at help.openai.com if you continue to have issues..\n",
      "Retrying langchain.llms.openai.completion_with_retry.<locals>._completion_with_retry in 4.0 seconds as it raised RateLimitError: Rate limit reached for default-global-with-image-limits in organization org-ZZK1tdpov2aMcMdRfIOVNTcr on tokens_usage_based per min. Limit: 250000 / min. Current: 249845 / min. Contact us through our help center at help.openai.com if you continue to have issues..\n",
      "Retrying langchain.llms.openai.completion_with_retry.<locals>._completion_with_retry in 4.0 seconds as it raised RateLimitError: Rate limit reached for default-global-with-image-limits in organization org-ZZK1tdpov2aMcMdRfIOVNTcr on tokens_usage_based per min. Limit: 250000 / min. Current: 249880 / min. Contact us through our help center at help.openai.com if you continue to have issues..\n",
      "Retrying langchain.llms.openai.completion_with_retry.<locals>._completion_with_retry in 4.0 seconds as it raised RateLimitError: Rate limit reached for default-global-with-image-limits in organization org-ZZK1tdpov2aMcMdRfIOVNTcr on tokens_usage_based per min. Limit: 250000 / min. Current: 249822 / min. Contact us through our help center at help.openai.com if you continue to have issues..\n",
      "Retrying langchain.llms.openai.completion_with_retry.<locals>._completion_with_retry in 4.0 seconds as it raised RateLimitError: Rate limit reached for default-global-with-image-limits in organization org-ZZK1tdpov2aMcMdRfIOVNTcr on tokens_usage_based per min. Limit: 250000 / min. Current: 249849 / min. Contact us through our help center at help.openai.com if you continue to have issues..\n",
      "Retrying langchain.llms.openai.completion_with_retry.<locals>._completion_with_retry in 4.0 seconds as it raised RateLimitError: Rate limit reached for default-global-with-image-limits in organization org-ZZK1tdpov2aMcMdRfIOVNTcr on tokens_usage_based per min. Limit: 250000 / min. Current: 249791 / min. Contact us through our help center at help.openai.com if you continue to have issues..\n",
      "Retrying langchain.llms.openai.completion_with_retry.<locals>._completion_with_retry in 4.0 seconds as it raised RateLimitError: Rate limit reached for default-global-with-image-limits in organization org-ZZK1tdpov2aMcMdRfIOVNTcr on tokens_usage_based per min. Limit: 250000 / min. Current: 249993 / min. Contact us through our help center at help.openai.com if you continue to have issues..\n",
      "Retrying langchain.llms.openai.completion_with_retry.<locals>._completion_with_retry in 4.0 seconds as it raised RateLimitError: Rate limit reached for default-global-with-image-limits in organization org-ZZK1tdpov2aMcMdRfIOVNTcr on tokens_usage_based per min. Limit: 250000 / min. Current: 249921 / min. Contact us through our help center at help.openai.com if you continue to have issues..\n",
      "Retrying langchain.llms.openai.completion_with_retry.<locals>._completion_with_retry in 4.0 seconds as it raised RateLimitError: Rate limit reached for default-global-with-image-limits in organization org-ZZK1tdpov2aMcMdRfIOVNTcr on tokens_usage_based per min. Limit: 250000 / min. Current: 249923 / min. Contact us through our help center at help.openai.com if you continue to have issues..\n",
      "Retrying langchain.llms.openai.completion_with_retry.<locals>._completion_with_retry in 4.0 seconds as it raised RateLimitError: Rate limit reached for default-global-with-image-limits in organization org-ZZK1tdpov2aMcMdRfIOVNTcr on tokens_usage_based per min. Limit: 250000 / min. Current: 249866 / min. Contact us through our help center at help.openai.com if you continue to have issues..\n",
      "Retrying langchain.llms.openai.completion_with_retry.<locals>._completion_with_retry in 4.0 seconds as it raised RateLimitError: Rate limit reached for default-global-with-image-limits in organization org-ZZK1tdpov2aMcMdRfIOVNTcr on tokens_usage_based per min. Limit: 250000 / min. Current: 249757 / min. Contact us through our help center at help.openai.com if you continue to have issues..\n",
      "Retrying langchain.llms.openai.completion_with_retry.<locals>._completion_with_retry in 4.0 seconds as it raised RateLimitError: Rate limit reached for default-global-with-image-limits in organization org-ZZK1tdpov2aMcMdRfIOVNTcr on tokens_usage_based per min. Limit: 250000 / min. Current: 249764 / min. Contact us through our help center at help.openai.com if you continue to have issues..\n",
      "Retrying langchain.llms.openai.completion_with_retry.<locals>._completion_with_retry in 4.0 seconds as it raised RateLimitError: Rate limit reached for default-global-with-image-limits in organization org-ZZK1tdpov2aMcMdRfIOVNTcr on tokens_usage_based per min. Limit: 250000 / min. Current: 249954 / min. Contact us through our help center at help.openai.com if you continue to have issues..\n",
      "Retrying langchain.llms.openai.completion_with_retry.<locals>._completion_with_retry in 4.0 seconds as it raised RateLimitError: Rate limit reached for default-global-with-image-limits in organization org-ZZK1tdpov2aMcMdRfIOVNTcr on tokens_usage_based per min. Limit: 250000 / min. Current: 249800 / min. Contact us through our help center at help.openai.com if you continue to have issues..\n",
      "Retrying langchain.llms.openai.completion_with_retry.<locals>._completion_with_retry in 4.0 seconds as it raised RateLimitError: Rate limit reached for default-global-with-image-limits in organization org-ZZK1tdpov2aMcMdRfIOVNTcr on tokens_usage_based per min. Limit: 250000 / min. Current: 249933 / min. Contact us through our help center at help.openai.com if you continue to have issues..\n",
      "Retrying langchain.llms.openai.completion_with_retry.<locals>._completion_with_retry in 4.0 seconds as it raised RateLimitError: Rate limit reached for default-global-with-image-limits in organization org-ZZK1tdpov2aMcMdRfIOVNTcr on tokens_usage_based per min. Limit: 250000 / min. Current: 249781 / min. Contact us through our help center at help.openai.com if you continue to have issues..\n",
      "Retrying langchain.llms.openai.completion_with_retry.<locals>._completion_with_retry in 4.0 seconds as it raised RateLimitError: Rate limit reached for default-global-with-image-limits in organization org-ZZK1tdpov2aMcMdRfIOVNTcr on tokens_usage_based per min. Limit: 250000 / min. Current: 249765 / min. Contact us through our help center at help.openai.com if you continue to have issues..\n",
      "Retrying langchain.llms.openai.completion_with_retry.<locals>._completion_with_retry in 4.0 seconds as it raised RateLimitError: Rate limit reached for default-global-with-image-limits in organization org-ZZK1tdpov2aMcMdRfIOVNTcr on tokens_usage_based per min. Limit: 250000 / min. Current: 249883 / min. Contact us through our help center at help.openai.com if you continue to have issues..\n",
      "Retrying langchain.llms.openai.completion_with_retry.<locals>._completion_with_retry in 8.0 seconds as it raised RateLimitError: Rate limit reached for default-global-with-image-limits in organization org-ZZK1tdpov2aMcMdRfIOVNTcr on tokens_usage_based per min. Limit: 250000 / min. Current: 249878 / min. Contact us through our help center at help.openai.com if you continue to have issues..\n",
      "Retrying langchain.llms.openai.completion_with_retry.<locals>._completion_with_retry in 4.0 seconds as it raised RateLimitError: Rate limit reached for default-global-with-image-limits in organization org-ZZK1tdpov2aMcMdRfIOVNTcr on tokens_usage_based per min. Limit: 250000 / min. Current: 249928 / min. Contact us through our help center at help.openai.com if you continue to have issues..\n",
      "Retrying langchain.llms.openai.completion_with_retry.<locals>._completion_with_retry in 4.0 seconds as it raised RateLimitError: Rate limit reached for default-global-with-image-limits in organization org-ZZK1tdpov2aMcMdRfIOVNTcr on tokens_usage_based per min. Limit: 250000 / min. Current: 249950 / min. Contact us through our help center at help.openai.com if you continue to have issues..\n",
      "Retrying langchain.llms.openai.completion_with_retry.<locals>._completion_with_retry in 4.0 seconds as it raised RateLimitError: Rate limit reached for default-global-with-image-limits in organization org-ZZK1tdpov2aMcMdRfIOVNTcr on tokens_usage_based per min. Limit: 250000 / min. Current: 249931 / min. Contact us through our help center at help.openai.com if you continue to have issues..\n",
      "Retrying langchain.llms.openai.completion_with_retry.<locals>._completion_with_retry in 4.0 seconds as it raised RateLimitError: Rate limit reached for default-global-with-image-limits in organization org-ZZK1tdpov2aMcMdRfIOVNTcr on tokens_usage_based per min. Limit: 250000 / min. Current: 249830 / min. Contact us through our help center at help.openai.com if you continue to have issues..\n",
      "Retrying langchain.llms.openai.completion_with_retry.<locals>._completion_with_retry in 8.0 seconds as it raised RateLimitError: Rate limit reached for default-global-with-image-limits in organization org-ZZK1tdpov2aMcMdRfIOVNTcr on tokens_usage_based per min. Limit: 250000 / min. Current: 249822 / min. Contact us through our help center at help.openai.com if you continue to have issues..\n",
      "Retrying langchain.llms.openai.completion_with_retry.<locals>._completion_with_retry in 4.0 seconds as it raised RateLimitError: Rate limit reached for default-global-with-image-limits in organization org-ZZK1tdpov2aMcMdRfIOVNTcr on tokens_usage_based per min. Limit: 250000 / min. Current: 249774 / min. Contact us through our help center at help.openai.com if you continue to have issues..\n",
      "Retrying langchain.llms.openai.completion_with_retry.<locals>._completion_with_retry in 4.0 seconds as it raised RateLimitError: Rate limit reached for default-global-with-image-limits in organization org-ZZK1tdpov2aMcMdRfIOVNTcr on tokens_usage_based per min. Limit: 250000 / min. Current: 249803 / min. Contact us through our help center at help.openai.com if you continue to have issues..\n",
      "Retrying langchain.llms.openai.completion_with_retry.<locals>._completion_with_retry in 4.0 seconds as it raised RateLimitError: Rate limit reached for default-global-with-image-limits in organization org-ZZK1tdpov2aMcMdRfIOVNTcr on tokens_usage_based per min. Limit: 250000 / min. Current: 249757 / min. Contact us through our help center at help.openai.com if you continue to have issues..\n",
      "Retrying langchain.llms.openai.completion_with_retry.<locals>._completion_with_retry in 4.0 seconds as it raised RateLimitError: Rate limit reached for default-global-with-image-limits in organization org-ZZK1tdpov2aMcMdRfIOVNTcr on tokens_usage_based per min. Limit: 250000 / min. Current: 249775 / min. Contact us through our help center at help.openai.com if you continue to have issues..\n",
      "Retrying langchain.llms.openai.completion_with_retry.<locals>._completion_with_retry in 4.0 seconds as it raised RateLimitError: Rate limit reached for default-global-with-image-limits in organization org-ZZK1tdpov2aMcMdRfIOVNTcr on tokens_usage_based per min. Limit: 250000 / min. Current: 249754 / min. Contact us through our help center at help.openai.com if you continue to have issues..\n",
      "Retrying langchain.llms.openai.completion_with_retry.<locals>._completion_with_retry in 8.0 seconds as it raised RateLimitError: Rate limit reached for default-global-with-image-limits in organization org-ZZK1tdpov2aMcMdRfIOVNTcr on tokens_usage_based per min. Limit: 250000 / min. Current: 249777 / min. Contact us through our help center at help.openai.com if you continue to have issues..\n",
      "Retrying langchain.llms.openai.completion_with_retry.<locals>._completion_with_retry in 4.0 seconds as it raised RateLimitError: Rate limit reached for default-global-with-image-limits in organization org-ZZK1tdpov2aMcMdRfIOVNTcr on tokens_usage_based per min. Limit: 250000 / min. Current: 249775 / min. Contact us through our help center at help.openai.com if you continue to have issues..\n",
      "Retrying langchain.llms.openai.completion_with_retry.<locals>._completion_with_retry in 4.0 seconds as it raised RateLimitError: Rate limit reached for default-global-with-image-limits in organization org-ZZK1tdpov2aMcMdRfIOVNTcr on tokens_usage_based per min. Limit: 250000 / min. Current: 249850 / min. Contact us through our help center at help.openai.com if you continue to have issues..\n",
      "Retrying langchain.llms.openai.completion_with_retry.<locals>._completion_with_retry in 8.0 seconds as it raised RateLimitError: Rate limit reached for default-global-with-image-limits in organization org-ZZK1tdpov2aMcMdRfIOVNTcr on tokens_usage_based per min. Limit: 250000 / min. Current: 249797 / min. Contact us through our help center at help.openai.com if you continue to have issues..\n",
      "Retrying langchain.llms.openai.completion_with_retry.<locals>._completion_with_retry in 4.0 seconds as it raised RateLimitError: Rate limit reached for default-global-with-image-limits in organization org-ZZK1tdpov2aMcMdRfIOVNTcr on tokens_usage_based per min. Limit: 250000 / min. Current: 249861 / min. Contact us through our help center at help.openai.com if you continue to have issues..\n",
      "Retrying langchain.llms.openai.completion_with_retry.<locals>._completion_with_retry in 4.0 seconds as it raised RateLimitError: Rate limit reached for default-global-with-image-limits in organization org-ZZK1tdpov2aMcMdRfIOVNTcr on tokens_usage_based per min. Limit: 250000 / min. Current: 249759 / min. Contact us through our help center at help.openai.com if you continue to have issues..\n",
      "Retrying langchain.llms.openai.completion_with_retry.<locals>._completion_with_retry in 4.0 seconds as it raised RateLimitError: Rate limit reached for default-global-with-image-limits in organization org-ZZK1tdpov2aMcMdRfIOVNTcr on tokens_usage_based per min. Limit: 250000 / min. Current: 249794 / min. Contact us through our help center at help.openai.com if you continue to have issues..\n",
      "Retrying langchain.llms.openai.completion_with_retry.<locals>._completion_with_retry in 4.0 seconds as it raised RateLimitError: Rate limit reached for default-global-with-image-limits in organization org-ZZK1tdpov2aMcMdRfIOVNTcr on tokens_usage_based per min. Limit: 250000 / min. Current: 249842 / min. Contact us through our help center at help.openai.com if you continue to have issues..\n",
      "Retrying langchain.llms.openai.completion_with_retry.<locals>._completion_with_retry in 4.0 seconds as it raised RateLimitError: Rate limit reached for default-global-with-image-limits in organization org-ZZK1tdpov2aMcMdRfIOVNTcr on tokens_usage_based per min. Limit: 250000 / min. Current: 249805 / min. Contact us through our help center at help.openai.com if you continue to have issues..\n",
      "Retrying langchain.llms.openai.completion_with_retry.<locals>._completion_with_retry in 4.0 seconds as it raised RateLimitError: Rate limit reached for default-global-with-image-limits in organization org-ZZK1tdpov2aMcMdRfIOVNTcr on tokens_usage_based per min. Limit: 250000 / min. Current: 249805 / min. Contact us through our help center at help.openai.com if you continue to have issues..\n",
      "Retrying langchain.llms.openai.completion_with_retry.<locals>._completion_with_retry in 4.0 seconds as it raised RateLimitError: Rate limit reached for default-global-with-image-limits in organization org-ZZK1tdpov2aMcMdRfIOVNTcr on tokens_usage_based per min. Limit: 250000 / min. Current: 249803 / min. Contact us through our help center at help.openai.com if you continue to have issues..\n",
      "Retrying langchain.llms.openai.completion_with_retry.<locals>._completion_with_retry in 4.0 seconds as it raised RateLimitError: Rate limit reached for default-global-with-image-limits in organization org-ZZK1tdpov2aMcMdRfIOVNTcr on tokens_usage_based per min. Limit: 250000 / min. Current: 249947 / min. Contact us through our help center at help.openai.com if you continue to have issues..\n",
      "Retrying langchain.llms.openai.completion_with_retry.<locals>._completion_with_retry in 4.0 seconds as it raised RateLimitError: Rate limit reached for default-global-with-image-limits in organization org-ZZK1tdpov2aMcMdRfIOVNTcr on tokens_usage_based per min. Limit: 250000 / min. Current: 249907 / min. Contact us through our help center at help.openai.com if you continue to have issues..\n",
      "Retrying langchain.llms.openai.completion_with_retry.<locals>._completion_with_retry in 4.0 seconds as it raised RateLimitError: Rate limit reached for default-global-with-image-limits in organization org-ZZK1tdpov2aMcMdRfIOVNTcr on tokens_usage_based per min. Limit: 250000 / min. Current: 249832 / min. Contact us through our help center at help.openai.com if you continue to have issues..\n",
      "Retrying langchain.llms.openai.completion_with_retry.<locals>._completion_with_retry in 4.0 seconds as it raised RateLimitError: Rate limit reached for default-global-with-image-limits in organization org-ZZK1tdpov2aMcMdRfIOVNTcr on tokens_usage_based per min. Limit: 250000 / min. Current: 249797 / min. Contact us through our help center at help.openai.com if you continue to have issues..\n",
      "Retrying langchain.llms.openai.completion_with_retry.<locals>._completion_with_retry in 4.0 seconds as it raised RateLimitError: Rate limit reached for default-global-with-image-limits in organization org-ZZK1tdpov2aMcMdRfIOVNTcr on tokens_usage_based per min. Limit: 250000 / min. Current: 249801 / min. Contact us through our help center at help.openai.com if you continue to have issues..\n",
      "Retrying langchain.llms.openai.completion_with_retry.<locals>._completion_with_retry in 4.0 seconds as it raised RateLimitError: Rate limit reached for default-global-with-image-limits in organization org-ZZK1tdpov2aMcMdRfIOVNTcr on tokens_usage_based per min. Limit: 250000 / min. Current: 249868 / min. Contact us through our help center at help.openai.com if you continue to have issues..\n",
      "Retrying langchain.llms.openai.completion_with_retry.<locals>._completion_with_retry in 4.0 seconds as it raised RateLimitError: Rate limit reached for default-global-with-image-limits in organization org-ZZK1tdpov2aMcMdRfIOVNTcr on tokens_usage_based per min. Limit: 250000 / min. Current: 249925 / min. Contact us through our help center at help.openai.com if you continue to have issues..\n",
      "Retrying langchain.llms.openai.completion_with_retry.<locals>._completion_with_retry in 4.0 seconds as it raised RateLimitError: Rate limit reached for default-global-with-image-limits in organization org-ZZK1tdpov2aMcMdRfIOVNTcr on tokens_usage_based per min. Limit: 250000 / min. Current: 249748 / min. Contact us through our help center at help.openai.com if you continue to have issues..\n",
      "Retrying langchain.llms.openai.completion_with_retry.<locals>._completion_with_retry in 4.0 seconds as it raised RateLimitError: Rate limit reached for default-global-with-image-limits in organization org-ZZK1tdpov2aMcMdRfIOVNTcr on tokens_usage_based per min. Limit: 250000 / min. Current: 249797 / min. Contact us through our help center at help.openai.com if you continue to have issues..\n",
      "Retrying langchain.llms.openai.completion_with_retry.<locals>._completion_with_retry in 4.0 seconds as it raised RateLimitError: Rate limit reached for default-global-with-image-limits in organization org-ZZK1tdpov2aMcMdRfIOVNTcr on tokens_usage_based per min. Limit: 250000 / min. Current: 249782 / min. Contact us through our help center at help.openai.com if you continue to have issues..\n",
      "Retrying langchain.llms.openai.completion_with_retry.<locals>._completion_with_retry in 4.0 seconds as it raised RateLimitError: Rate limit reached for default-global-with-image-limits in organization org-ZZK1tdpov2aMcMdRfIOVNTcr on tokens_usage_based per min. Limit: 250000 / min. Current: 249833 / min. Contact us through our help center at help.openai.com if you continue to have issues..\n",
      "Retrying langchain.llms.openai.completion_with_retry.<locals>._completion_with_retry in 4.0 seconds as it raised RateLimitError: Rate limit reached for default-global-with-image-limits in organization org-ZZK1tdpov2aMcMdRfIOVNTcr on tokens_usage_based per min. Limit: 250000 / min. Current: 249835 / min. Contact us through our help center at help.openai.com if you continue to have issues..\n",
      "Retrying langchain.llms.openai.completion_with_retry.<locals>._completion_with_retry in 4.0 seconds as it raised RateLimitError: Rate limit reached for default-global-with-image-limits in organization org-ZZK1tdpov2aMcMdRfIOVNTcr on tokens_usage_based per min. Limit: 250000 / min. Current: 249840 / min. Contact us through our help center at help.openai.com if you continue to have issues..\n",
      "Retrying langchain.llms.openai.completion_with_retry.<locals>._completion_with_retry in 4.0 seconds as it raised RateLimitError: Rate limit reached for default-global-with-image-limits in organization org-ZZK1tdpov2aMcMdRfIOVNTcr on tokens_usage_based per min. Limit: 250000 / min. Current: 249856 / min. Contact us through our help center at help.openai.com if you continue to have issues..\n",
      "Retrying langchain.llms.openai.completion_with_retry.<locals>._completion_with_retry in 4.0 seconds as it raised RateLimitError: Rate limit reached for default-global-with-image-limits in organization org-ZZK1tdpov2aMcMdRfIOVNTcr on tokens_usage_based per min. Limit: 250000 / min. Current: 249831 / min. Contact us through our help center at help.openai.com if you continue to have issues..\n",
      "Retrying langchain.llms.openai.completion_with_retry.<locals>._completion_with_retry in 4.0 seconds as it raised RateLimitError: Rate limit reached for default-global-with-image-limits in organization org-ZZK1tdpov2aMcMdRfIOVNTcr on tokens_usage_based per min. Limit: 250000 / min. Current: 249783 / min. Contact us through our help center at help.openai.com if you continue to have issues..\n",
      "Retrying langchain.llms.openai.completion_with_retry.<locals>._completion_with_retry in 4.0 seconds as it raised RateLimitError: Rate limit reached for default-global-with-image-limits in organization org-ZZK1tdpov2aMcMdRfIOVNTcr on tokens_usage_based per min. Limit: 250000 / min. Current: 249796 / min. Contact us through our help center at help.openai.com if you continue to have issues..\n",
      "Retrying langchain.llms.openai.completion_with_retry.<locals>._completion_with_retry in 4.0 seconds as it raised RateLimitError: Rate limit reached for default-global-with-image-limits in organization org-ZZK1tdpov2aMcMdRfIOVNTcr on tokens_usage_based per min. Limit: 250000 / min. Current: 249754 / min. Contact us through our help center at help.openai.com if you continue to have issues..\n",
      "Retrying langchain.llms.openai.completion_with_retry.<locals>._completion_with_retry in 4.0 seconds as it raised RateLimitError: Rate limit reached for default-global-with-image-limits in organization org-ZZK1tdpov2aMcMdRfIOVNTcr on tokens_usage_based per min. Limit: 250000 / min. Current: 249877 / min. Contact us through our help center at help.openai.com if you continue to have issues..\n",
      "Retrying langchain.llms.openai.completion_with_retry.<locals>._completion_with_retry in 4.0 seconds as it raised RateLimitError: Rate limit reached for default-global-with-image-limits in organization org-ZZK1tdpov2aMcMdRfIOVNTcr on tokens_usage_based per min. Limit: 250000 / min. Current: 249877 / min. Contact us through our help center at help.openai.com if you continue to have issues..\n",
      "Retrying langchain.llms.openai.completion_with_retry.<locals>._completion_with_retry in 4.0 seconds as it raised RateLimitError: Rate limit reached for default-global-with-image-limits in organization org-ZZK1tdpov2aMcMdRfIOVNTcr on tokens_usage_based per min. Limit: 250000 / min. Current: 249959 / min. Contact us through our help center at help.openai.com if you continue to have issues..\n",
      "Retrying langchain.llms.openai.completion_with_retry.<locals>._completion_with_retry in 8.0 seconds as it raised RateLimitError: Rate limit reached for default-global-with-image-limits in organization org-ZZK1tdpov2aMcMdRfIOVNTcr on tokens_usage_based per min. Limit: 250000 / min. Current: 249867 / min. Contact us through our help center at help.openai.com if you continue to have issues..\n",
      "Retrying langchain.llms.openai.completion_with_retry.<locals>._completion_with_retry in 4.0 seconds as it raised RateLimitError: Rate limit reached for default-global-with-image-limits in organization org-ZZK1tdpov2aMcMdRfIOVNTcr on tokens_usage_based per min. Limit: 250000 / min. Current: 249861 / min. Contact us through our help center at help.openai.com if you continue to have issues..\n",
      "Retrying langchain.llms.openai.completion_with_retry.<locals>._completion_with_retry in 4.0 seconds as it raised RateLimitError: Rate limit reached for default-global-with-image-limits in organization org-ZZK1tdpov2aMcMdRfIOVNTcr on tokens_usage_based per min. Limit: 250000 / min. Current: 249807 / min. Contact us through our help center at help.openai.com if you continue to have issues..\n",
      "Retrying langchain.llms.openai.completion_with_retry.<locals>._completion_with_retry in 10.0 seconds as it raised RateLimitError: Rate limit reached for default-global-with-image-limits in organization org-ZZK1tdpov2aMcMdRfIOVNTcr on tokens_usage_based per min. Limit: 250000 / min. Current: 249761 / min. Contact us through our help center at help.openai.com if you continue to have issues..\n",
      "Retrying langchain.llms.openai.completion_with_retry.<locals>._completion_with_retry in 4.0 seconds as it raised RateLimitError: Rate limit reached for default-global-with-image-limits in organization org-ZZK1tdpov2aMcMdRfIOVNTcr on tokens_usage_based per min. Limit: 250000 / min. Current: 249876 / min. Contact us through our help center at help.openai.com if you continue to have issues..\n",
      "Retrying langchain.llms.openai.completion_with_retry.<locals>._completion_with_retry in 4.0 seconds as it raised RateLimitError: Rate limit reached for default-global-with-image-limits in organization org-ZZK1tdpov2aMcMdRfIOVNTcr on tokens_usage_based per min. Limit: 250000 / min. Current: 249908 / min. Contact us through our help center at help.openai.com if you continue to have issues..\n",
      "Retrying langchain.llms.openai.completion_with_retry.<locals>._completion_with_retry in 4.0 seconds as it raised RateLimitError: Rate limit reached for default-global-with-image-limits in organization org-ZZK1tdpov2aMcMdRfIOVNTcr on tokens_usage_based per min. Limit: 250000 / min. Current: 249931 / min. Contact us through our help center at help.openai.com if you continue to have issues..\n",
      "Retrying langchain.llms.openai.completion_with_retry.<locals>._completion_with_retry in 4.0 seconds as it raised RateLimitError: Rate limit reached for default-global-with-image-limits in organization org-ZZK1tdpov2aMcMdRfIOVNTcr on tokens_usage_based per min. Limit: 250000 / min. Current: 249814 / min. Contact us through our help center at help.openai.com if you continue to have issues..\n",
      "Retrying langchain.llms.openai.completion_with_retry.<locals>._completion_with_retry in 4.0 seconds as it raised RateLimitError: Rate limit reached for default-global-with-image-limits in organization org-ZZK1tdpov2aMcMdRfIOVNTcr on tokens_usage_based per min. Limit: 250000 / min. Current: 249756 / min. Contact us through our help center at help.openai.com if you continue to have issues..\n",
      "Retrying langchain.llms.openai.completion_with_retry.<locals>._completion_with_retry in 10.0 seconds as it raised RateLimitError: Rate limit reached for default-global-with-image-limits in organization org-ZZK1tdpov2aMcMdRfIOVNTcr on tokens_usage_based per min. Limit: 250000 / min. Current: 249905 / min. Contact us through our help center at help.openai.com if you continue to have issues..\n",
      "Retrying langchain.llms.openai.completion_with_retry.<locals>._completion_with_retry in 4.0 seconds as it raised RateLimitError: Rate limit reached for default-global-with-image-limits in organization org-ZZK1tdpov2aMcMdRfIOVNTcr on tokens_usage_based per min. Limit: 250000 / min. Current: 249844 / min. Contact us through our help center at help.openai.com if you continue to have issues..\n",
      "Retrying langchain.llms.openai.completion_with_retry.<locals>._completion_with_retry in 8.0 seconds as it raised RateLimitError: Rate limit reached for default-global-with-image-limits in organization org-ZZK1tdpov2aMcMdRfIOVNTcr on tokens_usage_based per min. Limit: 250000 / min. Current: 249774 / min. Contact us through our help center at help.openai.com if you continue to have issues..\n",
      "Retrying langchain.llms.openai.completion_with_retry.<locals>._completion_with_retry in 4.0 seconds as it raised RateLimitError: Rate limit reached for default-global-with-image-limits in organization org-ZZK1tdpov2aMcMdRfIOVNTcr on tokens_usage_based per min. Limit: 250000 / min. Current: 249897 / min. Contact us through our help center at help.openai.com if you continue to have issues..\n",
      "Retrying langchain.llms.openai.completion_with_retry.<locals>._completion_with_retry in 4.0 seconds as it raised RateLimitError: Rate limit reached for default-global-with-image-limits in organization org-ZZK1tdpov2aMcMdRfIOVNTcr on tokens_usage_based per min. Limit: 250000 / min. Current: 249891 / min. Contact us through our help center at help.openai.com if you continue to have issues..\n",
      "Retrying langchain.llms.openai.completion_with_retry.<locals>._completion_with_retry in 10.0 seconds as it raised RateLimitError: Rate limit reached for default-global-with-image-limits in organization org-ZZK1tdpov2aMcMdRfIOVNTcr on tokens_usage_based per min. Limit: 250000 / min. Current: 249873 / min. Contact us through our help center at help.openai.com if you continue to have issues..\n",
      "Retrying langchain.llms.openai.completion_with_retry.<locals>._completion_with_retry in 4.0 seconds as it raised RateLimitError: Rate limit reached for default-global-with-image-limits in organization org-ZZK1tdpov2aMcMdRfIOVNTcr on tokens_usage_based per min. Limit: 250000 / min. Current: 249808 / min. Contact us through our help center at help.openai.com if you continue to have issues..\n",
      "Retrying langchain.llms.openai.completion_with_retry.<locals>._completion_with_retry in 8.0 seconds as it raised RateLimitError: Rate limit reached for default-global-with-image-limits in organization org-ZZK1tdpov2aMcMdRfIOVNTcr on tokens_usage_based per min. Limit: 250000 / min. Current: 249884 / min. Contact us through our help center at help.openai.com if you continue to have issues..\n",
      "Retrying langchain.llms.openai.completion_with_retry.<locals>._completion_with_retry in 4.0 seconds as it raised RateLimitError: Rate limit reached for default-global-with-image-limits in organization org-ZZK1tdpov2aMcMdRfIOVNTcr on tokens_usage_based per min. Limit: 250000 / min. Current: 249871 / min. Contact us through our help center at help.openai.com if you continue to have issues..\n",
      "Retrying langchain.llms.openai.completion_with_retry.<locals>._completion_with_retry in 10.0 seconds as it raised RateLimitError: Rate limit reached for default-global-with-image-limits in organization org-ZZK1tdpov2aMcMdRfIOVNTcr on tokens_usage_based per min. Limit: 250000 / min. Current: 249970 / min. Contact us through our help center at help.openai.com if you continue to have issues..\n",
      "Retrying langchain.llms.openai.completion_with_retry.<locals>._completion_with_retry in 4.0 seconds as it raised RateLimitError: Rate limit reached for default-global-with-image-limits in organization org-ZZK1tdpov2aMcMdRfIOVNTcr on tokens_usage_based per min. Limit: 250000 / min. Current: 249885 / min. Contact us through our help center at help.openai.com if you continue to have issues..\n",
      "Retrying langchain.llms.openai.completion_with_retry.<locals>._completion_with_retry in 10.0 seconds as it raised RateLimitError: Rate limit reached for default-global-with-image-limits in organization org-ZZK1tdpov2aMcMdRfIOVNTcr on tokens_usage_based per min. Limit: 250000 / min. Current: 249925 / min. Contact us through our help center at help.openai.com if you continue to have issues..\n",
      "Retrying langchain.llms.openai.completion_with_retry.<locals>._completion_with_retry in 10.0 seconds as it raised RateLimitError: Rate limit reached for default-global-with-image-limits in organization org-ZZK1tdpov2aMcMdRfIOVNTcr on tokens_usage_based per min. Limit: 250000 / min. Current: 249948 / min. Contact us through our help center at help.openai.com if you continue to have issues..\n",
      "Retrying langchain.llms.openai.completion_with_retry.<locals>._completion_with_retry in 4.0 seconds as it raised RateLimitError: Rate limit reached for default-global-with-image-limits in organization org-ZZK1tdpov2aMcMdRfIOVNTcr on tokens_usage_based per min. Limit: 250000 / min. Current: 249857 / min. Contact us through our help center at help.openai.com if you continue to have issues..\n",
      "Retrying langchain.llms.openai.completion_with_retry.<locals>._completion_with_retry in 4.0 seconds as it raised RateLimitError: Rate limit reached for default-global-with-image-limits in organization org-ZZK1tdpov2aMcMdRfIOVNTcr on tokens_usage_based per min. Limit: 250000 / min. Current: 249820 / min. Contact us through our help center at help.openai.com if you continue to have issues..\n",
      "Retrying langchain.llms.openai.completion_with_retry.<locals>._completion_with_retry in 10.0 seconds as it raised RateLimitError: Rate limit reached for default-global-with-image-limits in organization org-ZZK1tdpov2aMcMdRfIOVNTcr on tokens_usage_based per min. Limit: 250000 / min. Current: 249988 / min. Contact us through our help center at help.openai.com if you continue to have issues..\n",
      "Retrying langchain.llms.openai.completion_with_retry.<locals>._completion_with_retry in 8.0 seconds as it raised RateLimitError: Rate limit reached for default-global-with-image-limits in organization org-ZZK1tdpov2aMcMdRfIOVNTcr on tokens_usage_based per min. Limit: 250000 / min. Current: 249811 / min. Contact us through our help center at help.openai.com if you continue to have issues..\n",
      "Retrying langchain.llms.openai.completion_with_retry.<locals>._completion_with_retry in 10.0 seconds as it raised RateLimitError: Rate limit reached for default-global-with-image-limits in organization org-ZZK1tdpov2aMcMdRfIOVNTcr on tokens_usage_based per min. Limit: 250000 / min. Current: 249864 / min. Contact us through our help center at help.openai.com if you continue to have issues..\n",
      "Retrying langchain.llms.openai.completion_with_retry.<locals>._completion_with_retry in 4.0 seconds as it raised RateLimitError: Rate limit reached for default-global-with-image-limits in organization org-ZZK1tdpov2aMcMdRfIOVNTcr on tokens_usage_based per min. Limit: 250000 / min. Current: 249835 / min. Contact us through our help center at help.openai.com if you continue to have issues..\n",
      "Retrying langchain.llms.openai.completion_with_retry.<locals>._completion_with_retry in 4.0 seconds as it raised RateLimitError: Rate limit reached for default-global-with-image-limits in organization org-ZZK1tdpov2aMcMdRfIOVNTcr on tokens_usage_based per min. Limit: 250000 / min. Current: 249804 / min. Contact us through our help center at help.openai.com if you continue to have issues..\n",
      "Retrying langchain.llms.openai.completion_with_retry.<locals>._completion_with_retry in 10.0 seconds as it raised RateLimitError: Rate limit reached for default-global-with-image-limits in organization org-ZZK1tdpov2aMcMdRfIOVNTcr on tokens_usage_based per min. Limit: 250000 / min. Current: 249910 / min. Contact us through our help center at help.openai.com if you continue to have issues..\n",
      "Retrying langchain.llms.openai.completion_with_retry.<locals>._completion_with_retry in 4.0 seconds as it raised RateLimitError: Rate limit reached for default-global-with-image-limits in organization org-ZZK1tdpov2aMcMdRfIOVNTcr on tokens_usage_based per min. Limit: 250000 / min. Current: 249875 / min. Contact us through our help center at help.openai.com if you continue to have issues..\n",
      "Retrying langchain.llms.openai.completion_with_retry.<locals>._completion_with_retry in 10.0 seconds as it raised RateLimitError: Rate limit reached for default-global-with-image-limits in organization org-ZZK1tdpov2aMcMdRfIOVNTcr on tokens_usage_based per min. Limit: 250000 / min. Current: 249787 / min. Contact us through our help center at help.openai.com if you continue to have issues..\n",
      "Retrying langchain.llms.openai.completion_with_retry.<locals>._completion_with_retry in 10.0 seconds as it raised RateLimitError: Rate limit reached for default-global-with-image-limits in organization org-ZZK1tdpov2aMcMdRfIOVNTcr on tokens_usage_based per min. Limit: 250000 / min. Current: 249755 / min. Contact us through our help center at help.openai.com if you continue to have issues..\n",
      "Retrying langchain.llms.openai.completion_with_retry.<locals>._completion_with_retry in 10.0 seconds as it raised RateLimitError: Rate limit reached for default-global-with-image-limits in organization org-ZZK1tdpov2aMcMdRfIOVNTcr on tokens_usage_based per min. Limit: 250000 / min. Current: 249945 / min. Contact us through our help center at help.openai.com if you continue to have issues..\n",
      "Retrying langchain.llms.openai.completion_with_retry.<locals>._completion_with_retry in 4.0 seconds as it raised RateLimitError: Rate limit reached for default-global-with-image-limits in organization org-ZZK1tdpov2aMcMdRfIOVNTcr on tokens_usage_based per min. Limit: 250000 / min. Current: 249873 / min. Contact us through our help center at help.openai.com if you continue to have issues..\n",
      "Retrying langchain.llms.openai.completion_with_retry.<locals>._completion_with_retry in 8.0 seconds as it raised RateLimitError: Rate limit reached for default-global-with-image-limits in organization org-ZZK1tdpov2aMcMdRfIOVNTcr on tokens_usage_based per min. Limit: 250000 / min. Current: 249927 / min. Contact us through our help center at help.openai.com if you continue to have issues..\n",
      "Retrying langchain.llms.openai.completion_with_retry.<locals>._completion_with_retry in 4.0 seconds as it raised RateLimitError: Rate limit reached for default-global-with-image-limits in organization org-ZZK1tdpov2aMcMdRfIOVNTcr on tokens_usage_based per min. Limit: 250000 / min. Current: 249933 / min. Contact us through our help center at help.openai.com if you continue to have issues..\n",
      "Retrying langchain.llms.openai.completion_with_retry.<locals>._completion_with_retry in 4.0 seconds as it raised RateLimitError: Rate limit reached for default-global-with-image-limits in organization org-ZZK1tdpov2aMcMdRfIOVNTcr on tokens_usage_based per min. Limit: 250000 / min. Current: 249764 / min. Contact us through our help center at help.openai.com if you continue to have issues..\n",
      "Retrying langchain.llms.openai.completion_with_retry.<locals>._completion_with_retry in 4.0 seconds as it raised RateLimitError: Rate limit reached for default-global-with-image-limits in organization org-ZZK1tdpov2aMcMdRfIOVNTcr on tokens_usage_based per min. Limit: 250000 / min. Current: 249751 / min. Contact us through our help center at help.openai.com if you continue to have issues..\n",
      "Retrying langchain.llms.openai.completion_with_retry.<locals>._completion_with_retry in 4.0 seconds as it raised RateLimitError: Rate limit reached for default-global-with-image-limits in organization org-ZZK1tdpov2aMcMdRfIOVNTcr on tokens_usage_based per min. Limit: 250000 / min. Current: 249943 / min. Contact us through our help center at help.openai.com if you continue to have issues..\n",
      "Retrying langchain.llms.openai.completion_with_retry.<locals>._completion_with_retry in 4.0 seconds as it raised RateLimitError: Rate limit reached for default-global-with-image-limits in organization org-ZZK1tdpov2aMcMdRfIOVNTcr on tokens_usage_based per min. Limit: 250000 / min. Current: 249964 / min. Contact us through our help center at help.openai.com if you continue to have issues..\n",
      "Retrying langchain.llms.openai.completion_with_retry.<locals>._completion_with_retry in 8.0 seconds as it raised RateLimitError: Rate limit reached for default-global-with-image-limits in organization org-ZZK1tdpov2aMcMdRfIOVNTcr on tokens_usage_based per min. Limit: 250000 / min. Current: 249922 / min. Contact us through our help center at help.openai.com if you continue to have issues..\n",
      "Retrying langchain.llms.openai.completion_with_retry.<locals>._completion_with_retry in 4.0 seconds as it raised RateLimitError: Rate limit reached for default-global-with-image-limits in organization org-ZZK1tdpov2aMcMdRfIOVNTcr on tokens_usage_based per min. Limit: 250000 / min. Current: 249909 / min. Contact us through our help center at help.openai.com if you continue to have issues..\n",
      "Retrying langchain.llms.openai.completion_with_retry.<locals>._completion_with_retry in 4.0 seconds as it raised RateLimitError: Rate limit reached for default-global-with-image-limits in organization org-ZZK1tdpov2aMcMdRfIOVNTcr on tokens_usage_based per min. Limit: 250000 / min. Current: 249767 / min. Contact us through our help center at help.openai.com if you continue to have issues..\n",
      "Retrying langchain.llms.openai.completion_with_retry.<locals>._completion_with_retry in 4.0 seconds as it raised RateLimitError: Rate limit reached for default-global-with-image-limits in organization org-ZZK1tdpov2aMcMdRfIOVNTcr on tokens_usage_based per min. Limit: 250000 / min. Current: 249830 / min. Contact us through our help center at help.openai.com if you continue to have issues..\n",
      "Retrying langchain.llms.openai.completion_with_retry.<locals>._completion_with_retry in 4.0 seconds as it raised RateLimitError: Rate limit reached for default-global-with-image-limits in organization org-ZZK1tdpov2aMcMdRfIOVNTcr on tokens_usage_based per min. Limit: 250000 / min. Current: 249785 / min. Contact us through our help center at help.openai.com if you continue to have issues..\n",
      "Retrying langchain.llms.openai.completion_with_retry.<locals>._completion_with_retry in 4.0 seconds as it raised RateLimitError: Rate limit reached for default-global-with-image-limits in organization org-ZZK1tdpov2aMcMdRfIOVNTcr on tokens_usage_based per min. Limit: 250000 / min. Current: 249789 / min. Contact us through our help center at help.openai.com if you continue to have issues..\n",
      "Retrying langchain.llms.openai.completion_with_retry.<locals>._completion_with_retry in 4.0 seconds as it raised RateLimitError: Rate limit reached for default-global-with-image-limits in organization org-ZZK1tdpov2aMcMdRfIOVNTcr on tokens_usage_based per min. Limit: 250000 / min. Current: 249843 / min. Contact us through our help center at help.openai.com if you continue to have issues..\n",
      "Retrying langchain.llms.openai.completion_with_retry.<locals>._completion_with_retry in 4.0 seconds as it raised RateLimitError: Rate limit reached for default-global-with-image-limits in organization org-ZZK1tdpov2aMcMdRfIOVNTcr on tokens_usage_based per min. Limit: 250000 / min. Current: 249761 / min. Contact us through our help center at help.openai.com if you continue to have issues..\n",
      "Retrying langchain.llms.openai.completion_with_retry.<locals>._completion_with_retry in 4.0 seconds as it raised RateLimitError: Rate limit reached for default-global-with-image-limits in organization org-ZZK1tdpov2aMcMdRfIOVNTcr on tokens_usage_based per min. Limit: 250000 / min. Current: 249761 / min. Contact us through our help center at help.openai.com if you continue to have issues..\n",
      "Retrying langchain.llms.openai.completion_with_retry.<locals>._completion_with_retry in 4.0 seconds as it raised RateLimitError: Rate limit reached for default-global-with-image-limits in organization org-ZZK1tdpov2aMcMdRfIOVNTcr on tokens_usage_based per min. Limit: 250000 / min. Current: 249756 / min. Contact us through our help center at help.openai.com if you continue to have issues..\n",
      "Retrying langchain.llms.openai.completion_with_retry.<locals>._completion_with_retry in 4.0 seconds as it raised RateLimitError: Rate limit reached for default-global-with-image-limits in organization org-ZZK1tdpov2aMcMdRfIOVNTcr on tokens_usage_based per min. Limit: 250000 / min. Current: 249824 / min. Contact us through our help center at help.openai.com if you continue to have issues..\n",
      "Retrying langchain.llms.openai.completion_with_retry.<locals>._completion_with_retry in 4.0 seconds as it raised RateLimitError: Rate limit reached for default-global-with-image-limits in organization org-ZZK1tdpov2aMcMdRfIOVNTcr on tokens_usage_based per min. Limit: 250000 / min. Current: 249843 / min. Contact us through our help center at help.openai.com if you continue to have issues..\n",
      "Retrying langchain.llms.openai.completion_with_retry.<locals>._completion_with_retry in 4.0 seconds as it raised RateLimitError: Rate limit reached for default-global-with-image-limits in organization org-ZZK1tdpov2aMcMdRfIOVNTcr on tokens_usage_based per min. Limit: 250000 / min. Current: 249791 / min. Contact us through our help center at help.openai.com if you continue to have issues..\n",
      "Retrying langchain.llms.openai.completion_with_retry.<locals>._completion_with_retry in 4.0 seconds as it raised RateLimitError: Rate limit reached for default-global-with-image-limits in organization org-ZZK1tdpov2aMcMdRfIOVNTcr on tokens_usage_based per min. Limit: 250000 / min. Current: 249859 / min. Contact us through our help center at help.openai.com if you continue to have issues..\n",
      "Retrying langchain.llms.openai.completion_with_retry.<locals>._completion_with_retry in 4.0 seconds as it raised RateLimitError: Rate limit reached for default-global-with-image-limits in organization org-ZZK1tdpov2aMcMdRfIOVNTcr on tokens_usage_based per min. Limit: 250000 / min. Current: 249916 / min. Contact us through our help center at help.openai.com if you continue to have issues..\n",
      "Retrying langchain.llms.openai.completion_with_retry.<locals>._completion_with_retry in 4.0 seconds as it raised RateLimitError: Rate limit reached for default-global-with-image-limits in organization org-ZZK1tdpov2aMcMdRfIOVNTcr on tokens_usage_based per min. Limit: 250000 / min. Current: 249869 / min. Contact us through our help center at help.openai.com if you continue to have issues..\n",
      "Retrying langchain.llms.openai.completion_with_retry.<locals>._completion_with_retry in 4.0 seconds as it raised RateLimitError: Rate limit reached for default-global-with-image-limits in organization org-ZZK1tdpov2aMcMdRfIOVNTcr on tokens_usage_based per min. Limit: 250000 / min. Current: 249771 / min. Contact us through our help center at help.openai.com if you continue to have issues..\n",
      "Retrying langchain.llms.openai.completion_with_retry.<locals>._completion_with_retry in 4.0 seconds as it raised RateLimitError: Rate limit reached for default-global-with-image-limits in organization org-ZZK1tdpov2aMcMdRfIOVNTcr on tokens_usage_based per min. Limit: 250000 / min. Current: 249778 / min. Contact us through our help center at help.openai.com if you continue to have issues..\n",
      "Retrying langchain.llms.openai.completion_with_retry.<locals>._completion_with_retry in 4.0 seconds as it raised RateLimitError: Rate limit reached for default-global-with-image-limits in organization org-ZZK1tdpov2aMcMdRfIOVNTcr on tokens_usage_based per min. Limit: 250000 / min. Current: 249812 / min. Contact us through our help center at help.openai.com if you continue to have issues..\n",
      "Retrying langchain.llms.openai.completion_with_retry.<locals>._completion_with_retry in 4.0 seconds as it raised RateLimitError: Rate limit reached for default-global-with-image-limits in organization org-ZZK1tdpov2aMcMdRfIOVNTcr on tokens_usage_based per min. Limit: 250000 / min. Current: 249760 / min. Contact us through our help center at help.openai.com if you continue to have issues..\n",
      "Retrying langchain.llms.openai.completion_with_retry.<locals>._completion_with_retry in 4.0 seconds as it raised RateLimitError: Rate limit reached for default-global-with-image-limits in organization org-ZZK1tdpov2aMcMdRfIOVNTcr on tokens_usage_based per min. Limit: 250000 / min. Current: 249966 / min. Contact us through our help center at help.openai.com if you continue to have issues..\n",
      "Retrying langchain.llms.openai.completion_with_retry.<locals>._completion_with_retry in 8.0 seconds as it raised RateLimitError: Rate limit reached for default-global-with-image-limits in organization org-ZZK1tdpov2aMcMdRfIOVNTcr on tokens_usage_based per min. Limit: 250000 / min. Current: 249953 / min. Contact us through our help center at help.openai.com if you continue to have issues..\n",
      "Retrying langchain.llms.openai.completion_with_retry.<locals>._completion_with_retry in 4.0 seconds as it raised RateLimitError: Rate limit reached for default-global-with-image-limits in organization org-ZZK1tdpov2aMcMdRfIOVNTcr on tokens_usage_based per min. Limit: 250000 / min. Current: 249902 / min. Contact us through our help center at help.openai.com if you continue to have issues..\n",
      "Retrying langchain.llms.openai.completion_with_retry.<locals>._completion_with_retry in 4.0 seconds as it raised RateLimitError: Rate limit reached for default-global-with-image-limits in organization org-ZZK1tdpov2aMcMdRfIOVNTcr on tokens_usage_based per min. Limit: 250000 / min. Current: 249906 / min. Contact us through our help center at help.openai.com if you continue to have issues..\n",
      "Retrying langchain.llms.openai.completion_with_retry.<locals>._completion_with_retry in 4.0 seconds as it raised RateLimitError: Rate limit reached for default-global-with-image-limits in organization org-ZZK1tdpov2aMcMdRfIOVNTcr on tokens_usage_based per min. Limit: 250000 / min. Current: 249749 / min. Contact us through our help center at help.openai.com if you continue to have issues..\n",
      "Retrying langchain.llms.openai.completion_with_retry.<locals>._completion_with_retry in 4.0 seconds as it raised RateLimitError: Rate limit reached for default-global-with-image-limits in organization org-ZZK1tdpov2aMcMdRfIOVNTcr on tokens_usage_based per min. Limit: 250000 / min. Current: 249918 / min. Contact us through our help center at help.openai.com if you continue to have issues..\n",
      "Retrying langchain.llms.openai.completion_with_retry.<locals>._completion_with_retry in 4.0 seconds as it raised RateLimitError: Rate limit reached for default-global-with-image-limits in organization org-ZZK1tdpov2aMcMdRfIOVNTcr on tokens_usage_based per min. Limit: 250000 / min. Current: 249908 / min. Contact us through our help center at help.openai.com if you continue to have issues..\n",
      "Retrying langchain.llms.openai.completion_with_retry.<locals>._completion_with_retry in 4.0 seconds as it raised RateLimitError: Rate limit reached for default-global-with-image-limits in organization org-ZZK1tdpov2aMcMdRfIOVNTcr on tokens_usage_based per min. Limit: 250000 / min. Current: 249902 / min. Contact us through our help center at help.openai.com if you continue to have issues..\n",
      "Retrying langchain.llms.openai.completion_with_retry.<locals>._completion_with_retry in 8.0 seconds as it raised RateLimitError: Rate limit reached for default-global-with-image-limits in organization org-ZZK1tdpov2aMcMdRfIOVNTcr on tokens_usage_based per min. Limit: 250000 / min. Current: 249911 / min. Contact us through our help center at help.openai.com if you continue to have issues..\n",
      "Retrying langchain.llms.openai.completion_with_retry.<locals>._completion_with_retry in 4.0 seconds as it raised RateLimitError: Rate limit reached for default-global-with-image-limits in organization org-ZZK1tdpov2aMcMdRfIOVNTcr on tokens_usage_based per min. Limit: 250000 / min. Current: 249893 / min. Contact us through our help center at help.openai.com if you continue to have issues..\n",
      "Retrying langchain.llms.openai.completion_with_retry.<locals>._completion_with_retry in 8.0 seconds as it raised RateLimitError: Rate limit reached for default-global-with-image-limits in organization org-ZZK1tdpov2aMcMdRfIOVNTcr on tokens_usage_based per min. Limit: 250000 / min. Current: 249810 / min. Contact us through our help center at help.openai.com if you continue to have issues..\n",
      "Retrying langchain.llms.openai.completion_with_retry.<locals>._completion_with_retry in 4.0 seconds as it raised RateLimitError: Rate limit reached for default-global-with-image-limits in organization org-ZZK1tdpov2aMcMdRfIOVNTcr on tokens_usage_based per min. Limit: 250000 / min. Current: 249804 / min. Contact us through our help center at help.openai.com if you continue to have issues..\n",
      "Retrying langchain.llms.openai.completion_with_retry.<locals>._completion_with_retry in 4.0 seconds as it raised RateLimitError: Rate limit reached for default-global-with-image-limits in organization org-ZZK1tdpov2aMcMdRfIOVNTcr on tokens_usage_based per min. Limit: 250000 / min. Current: 249798 / min. Contact us through our help center at help.openai.com if you continue to have issues..\n",
      "Retrying langchain.llms.openai.completion_with_retry.<locals>._completion_with_retry in 4.0 seconds as it raised RateLimitError: Rate limit reached for default-global-with-image-limits in organization org-ZZK1tdpov2aMcMdRfIOVNTcr on tokens_usage_based per min. Limit: 250000 / min. Current: 249803 / min. Contact us through our help center at help.openai.com if you continue to have issues..\n",
      "Retrying langchain.llms.openai.completion_with_retry.<locals>._completion_with_retry in 4.0 seconds as it raised RateLimitError: Rate limit reached for default-global-with-image-limits in organization org-ZZK1tdpov2aMcMdRfIOVNTcr on tokens_usage_based per min. Limit: 250000 / min. Current: 249825 / min. Contact us through our help center at help.openai.com if you continue to have issues..\n",
      "Retrying langchain.llms.openai.completion_with_retry.<locals>._completion_with_retry in 4.0 seconds as it raised RateLimitError: Rate limit reached for default-global-with-image-limits in organization org-ZZK1tdpov2aMcMdRfIOVNTcr on tokens_usage_based per min. Limit: 250000 / min. Current: 249775 / min. Contact us through our help center at help.openai.com if you continue to have issues..\n",
      "Retrying langchain.llms.openai.completion_with_retry.<locals>._completion_with_retry in 4.0 seconds as it raised RateLimitError: Rate limit reached for default-global-with-image-limits in organization org-ZZK1tdpov2aMcMdRfIOVNTcr on tokens_usage_based per min. Limit: 250000 / min. Current: 249908 / min. Contact us through our help center at help.openai.com if you continue to have issues..\n",
      "Retrying langchain.llms.openai.completion_with_retry.<locals>._completion_with_retry in 4.0 seconds as it raised RateLimitError: Rate limit reached for default-global-with-image-limits in organization org-ZZK1tdpov2aMcMdRfIOVNTcr on tokens_usage_based per min. Limit: 250000 / min. Current: 249960 / min. Contact us through our help center at help.openai.com if you continue to have issues..\n",
      "Retrying langchain.llms.openai.completion_with_retry.<locals>._completion_with_retry in 4.0 seconds as it raised RateLimitError: Rate limit reached for default-global-with-image-limits in organization org-ZZK1tdpov2aMcMdRfIOVNTcr on tokens_usage_based per min. Limit: 250000 / min. Current: 249828 / min. Contact us through our help center at help.openai.com if you continue to have issues..\n",
      "Retrying langchain.llms.openai.completion_with_retry.<locals>._completion_with_retry in 4.0 seconds as it raised RateLimitError: Rate limit reached for default-global-with-image-limits in organization org-ZZK1tdpov2aMcMdRfIOVNTcr on tokens_usage_based per min. Limit: 250000 / min. Current: 249746 / min. Contact us through our help center at help.openai.com if you continue to have issues..\n",
      "Retrying langchain.llms.openai.completion_with_retry.<locals>._completion_with_retry in 10.0 seconds as it raised RateLimitError: Rate limit reached for default-global-with-image-limits in organization org-ZZK1tdpov2aMcMdRfIOVNTcr on tokens_usage_based per min. Limit: 250000 / min. Current: 249877 / min. Contact us through our help center at help.openai.com if you continue to have issues..\n",
      "Retrying langchain.llms.openai.completion_with_retry.<locals>._completion_with_retry in 4.0 seconds as it raised RateLimitError: Rate limit reached for default-global-with-image-limits in organization org-ZZK1tdpov2aMcMdRfIOVNTcr on tokens_usage_based per min. Limit: 250000 / min. Current: 249757 / min. Contact us through our help center at help.openai.com if you continue to have issues..\n",
      "Retrying langchain.llms.openai.completion_with_retry.<locals>._completion_with_retry in 4.0 seconds as it raised RateLimitError: Rate limit reached for default-global-with-image-limits in organization org-ZZK1tdpov2aMcMdRfIOVNTcr on tokens_usage_based per min. Limit: 250000 / min. Current: 249813 / min. Contact us through our help center at help.openai.com if you continue to have issues..\n",
      "Retrying langchain.llms.openai.completion_with_retry.<locals>._completion_with_retry in 4.0 seconds as it raised RateLimitError: Rate limit reached for default-global-with-image-limits in organization org-ZZK1tdpov2aMcMdRfIOVNTcr on tokens_usage_based per min. Limit: 250000 / min. Current: 249965 / min. Contact us through our help center at help.openai.com if you continue to have issues..\n",
      "Retrying langchain.llms.openai.completion_with_retry.<locals>._completion_with_retry in 10.0 seconds as it raised RateLimitError: Rate limit reached for default-global-with-image-limits in organization org-ZZK1tdpov2aMcMdRfIOVNTcr on tokens_usage_based per min. Limit: 250000 / min. Current: 249834 / min. Contact us through our help center at help.openai.com if you continue to have issues..\n",
      "Retrying langchain.llms.openai.completion_with_retry.<locals>._completion_with_retry in 4.0 seconds as it raised RateLimitError: Rate limit reached for default-global-with-image-limits in organization org-ZZK1tdpov2aMcMdRfIOVNTcr on tokens_usage_based per min. Limit: 250000 / min. Current: 249799 / min. Contact us through our help center at help.openai.com if you continue to have issues..\n",
      "Retrying langchain.llms.openai.completion_with_retry.<locals>._completion_with_retry in 4.0 seconds as it raised RateLimitError: Rate limit reached for default-global-with-image-limits in organization org-ZZK1tdpov2aMcMdRfIOVNTcr on tokens_usage_based per min. Limit: 250000 / min. Current: 249877 / min. Contact us through our help center at help.openai.com if you continue to have issues..\n",
      "Retrying langchain.llms.openai.completion_with_retry.<locals>._completion_with_retry in 4.0 seconds as it raised RateLimitError: Rate limit reached for default-global-with-image-limits in organization org-ZZK1tdpov2aMcMdRfIOVNTcr on tokens_usage_based per min. Limit: 250000 / min. Current: 249847 / min. Contact us through our help center at help.openai.com if you continue to have issues..\n",
      "Retrying langchain.llms.openai.completion_with_retry.<locals>._completion_with_retry in 4.0 seconds as it raised RateLimitError: Rate limit reached for default-global-with-image-limits in organization org-ZZK1tdpov2aMcMdRfIOVNTcr on tokens_usage_based per min. Limit: 250000 / min. Current: 249838 / min. Contact us through our help center at help.openai.com if you continue to have issues..\n",
      "Retrying langchain.llms.openai.completion_with_retry.<locals>._completion_with_retry in 4.0 seconds as it raised RateLimitError: Rate limit reached for default-global-with-image-limits in organization org-ZZK1tdpov2aMcMdRfIOVNTcr on tokens_usage_based per min. Limit: 250000 / min. Current: 249818 / min. Contact us through our help center at help.openai.com if you continue to have issues..\n",
      "Retrying langchain.llms.openai.completion_with_retry.<locals>._completion_with_retry in 4.0 seconds as it raised RateLimitError: Rate limit reached for default-global-with-image-limits in organization org-ZZK1tdpov2aMcMdRfIOVNTcr on tokens_usage_based per min. Limit: 250000 / min. Current: 249755 / min. Contact us through our help center at help.openai.com if you continue to have issues..\n",
      "Retrying langchain.llms.openai.completion_with_retry.<locals>._completion_with_retry in 4.0 seconds as it raised RateLimitError: Rate limit reached for default-global-with-image-limits in organization org-ZZK1tdpov2aMcMdRfIOVNTcr on tokens_usage_based per min. Limit: 250000 / min. Current: 249830 / min. Contact us through our help center at help.openai.com if you continue to have issues..\n",
      "Retrying langchain.llms.openai.completion_with_retry.<locals>._completion_with_retry in 8.0 seconds as it raised RateLimitError: Rate limit reached for default-global-with-image-limits in organization org-ZZK1tdpov2aMcMdRfIOVNTcr on tokens_usage_based per min. Limit: 250000 / min. Current: 249759 / min. Contact us through our help center at help.openai.com if you continue to have issues..\n",
      "Retrying langchain.llms.openai.completion_with_retry.<locals>._completion_with_retry in 4.0 seconds as it raised RateLimitError: Rate limit reached for default-global-with-image-limits in organization org-ZZK1tdpov2aMcMdRfIOVNTcr on tokens_usage_based per min. Limit: 250000 / min. Current: 249902 / min. Contact us through our help center at help.openai.com if you continue to have issues..\n",
      "Retrying langchain.llms.openai.completion_with_retry.<locals>._completion_with_retry in 4.0 seconds as it raised RateLimitError: Rate limit reached for default-global-with-image-limits in organization org-ZZK1tdpov2aMcMdRfIOVNTcr on tokens_usage_based per min. Limit: 250000 / min. Current: 249838 / min. Contact us through our help center at help.openai.com if you continue to have issues..\n",
      "Retrying langchain.llms.openai.completion_with_retry.<locals>._completion_with_retry in 4.0 seconds as it raised RateLimitError: Rate limit reached for default-global-with-image-limits in organization org-ZZK1tdpov2aMcMdRfIOVNTcr on tokens_usage_based per min. Limit: 250000 / min. Current: 249813 / min. Contact us through our help center at help.openai.com if you continue to have issues..\n",
      "Retrying langchain.llms.openai.completion_with_retry.<locals>._completion_with_retry in 4.0 seconds as it raised RateLimitError: Rate limit reached for default-global-with-image-limits in organization org-ZZK1tdpov2aMcMdRfIOVNTcr on tokens_usage_based per min. Limit: 250000 / min. Current: 249920 / min. Contact us through our help center at help.openai.com if you continue to have issues..\n",
      "Retrying langchain.llms.openai.completion_with_retry.<locals>._completion_with_retry in 4.0 seconds as it raised RateLimitError: Rate limit reached for default-global-with-image-limits in organization org-ZZK1tdpov2aMcMdRfIOVNTcr on tokens_usage_based per min. Limit: 250000 / min. Current: 249819 / min. Contact us through our help center at help.openai.com if you continue to have issues..\n",
      "Retrying langchain.llms.openai.completion_with_retry.<locals>._completion_with_retry in 4.0 seconds as it raised RateLimitError: Rate limit reached for default-global-with-image-limits in organization org-ZZK1tdpov2aMcMdRfIOVNTcr on tokens_usage_based per min. Limit: 250000 / min. Current: 249867 / min. Contact us through our help center at help.openai.com if you continue to have issues..\n",
      "Retrying langchain.llms.openai.completion_with_retry.<locals>._completion_with_retry in 4.0 seconds as it raised RateLimitError: Rate limit reached for default-global-with-image-limits in organization org-ZZK1tdpov2aMcMdRfIOVNTcr on tokens_usage_based per min. Limit: 250000 / min. Current: 249809 / min. Contact us through our help center at help.openai.com if you continue to have issues..\n",
      "Retrying langchain.llms.openai.completion_with_retry.<locals>._completion_with_retry in 4.0 seconds as it raised RateLimitError: Rate limit reached for default-global-with-image-limits in organization org-ZZK1tdpov2aMcMdRfIOVNTcr on tokens_usage_based per min. Limit: 250000 / min. Current: 249816 / min. Contact us through our help center at help.openai.com if you continue to have issues..\n",
      "Retrying langchain.llms.openai.completion_with_retry.<locals>._completion_with_retry in 4.0 seconds as it raised RateLimitError: Rate limit reached for default-global-with-image-limits in organization org-ZZK1tdpov2aMcMdRfIOVNTcr on tokens_usage_based per min. Limit: 250000 / min. Current: 249794 / min. Contact us through our help center at help.openai.com if you continue to have issues..\n",
      "Retrying langchain.llms.openai.completion_with_retry.<locals>._completion_with_retry in 4.0 seconds as it raised RateLimitError: Rate limit reached for default-global-with-image-limits in organization org-ZZK1tdpov2aMcMdRfIOVNTcr on tokens_usage_based per min. Limit: 250000 / min. Current: 249811 / min. Contact us through our help center at help.openai.com if you continue to have issues..\n",
      "Retrying langchain.llms.openai.completion_with_retry.<locals>._completion_with_retry in 4.0 seconds as it raised RateLimitError: Rate limit reached for default-global-with-image-limits in organization org-ZZK1tdpov2aMcMdRfIOVNTcr on tokens_usage_based per min. Limit: 250000 / min. Current: 249781 / min. Contact us through our help center at help.openai.com if you continue to have issues..\n",
      "Retrying langchain.llms.openai.completion_with_retry.<locals>._completion_with_retry in 4.0 seconds as it raised RateLimitError: Rate limit reached for default-global-with-image-limits in organization org-ZZK1tdpov2aMcMdRfIOVNTcr on tokens_usage_based per min. Limit: 250000 / min. Current: 249775 / min. Contact us through our help center at help.openai.com if you continue to have issues..\n",
      "Retrying langchain.llms.openai.completion_with_retry.<locals>._completion_with_retry in 4.0 seconds as it raised RateLimitError: Rate limit reached for default-global-with-image-limits in organization org-ZZK1tdpov2aMcMdRfIOVNTcr on tokens_usage_based per min. Limit: 250000 / min. Current: 249810 / min. Contact us through our help center at help.openai.com if you continue to have issues..\n",
      "Retrying langchain.llms.openai.completion_with_retry.<locals>._completion_with_retry in 4.0 seconds as it raised RateLimitError: Rate limit reached for default-global-with-image-limits in organization org-ZZK1tdpov2aMcMdRfIOVNTcr on tokens_usage_based per min. Limit: 250000 / min. Current: 249840 / min. Contact us through our help center at help.openai.com if you continue to have issues..\n",
      "Retrying langchain.llms.openai.completion_with_retry.<locals>._completion_with_retry in 4.0 seconds as it raised RateLimitError: Rate limit reached for default-global-with-image-limits in organization org-ZZK1tdpov2aMcMdRfIOVNTcr on tokens_usage_based per min. Limit: 250000 / min. Current: 249858 / min. Contact us through our help center at help.openai.com if you continue to have issues..\n",
      "Retrying langchain.llms.openai.completion_with_retry.<locals>._completion_with_retry in 4.0 seconds as it raised RateLimitError: Rate limit reached for default-global-with-image-limits in organization org-ZZK1tdpov2aMcMdRfIOVNTcr on tokens_usage_based per min. Limit: 250000 / min. Current: 249855 / min. Contact us through our help center at help.openai.com if you continue to have issues..\n",
      "Retrying langchain.llms.openai.completion_with_retry.<locals>._completion_with_retry in 4.0 seconds as it raised RateLimitError: Rate limit reached for default-global-with-image-limits in organization org-ZZK1tdpov2aMcMdRfIOVNTcr on tokens_usage_based per min. Limit: 250000 / min. Current: 249777 / min. Contact us through our help center at help.openai.com if you continue to have issues..\n",
      "Retrying langchain.llms.openai.completion_with_retry.<locals>._completion_with_retry in 4.0 seconds as it raised RateLimitError: Rate limit reached for default-global-with-image-limits in organization org-ZZK1tdpov2aMcMdRfIOVNTcr on tokens_usage_based per min. Limit: 250000 / min. Current: 249815 / min. Contact us through our help center at help.openai.com if you continue to have issues..\n",
      "Retrying langchain.llms.openai.completion_with_retry.<locals>._completion_with_retry in 4.0 seconds as it raised RateLimitError: Rate limit reached for default-global-with-image-limits in organization org-ZZK1tdpov2aMcMdRfIOVNTcr on tokens_usage_based per min. Limit: 250000 / min. Current: 249774 / min. Contact us through our help center at help.openai.com if you continue to have issues..\n",
      "Retrying langchain.llms.openai.completion_with_retry.<locals>._completion_with_retry in 4.0 seconds as it raised RateLimitError: Rate limit reached for default-global-with-image-limits in organization org-ZZK1tdpov2aMcMdRfIOVNTcr on tokens_usage_based per min. Limit: 250000 / min. Current: 249891 / min. Contact us through our help center at help.openai.com if you continue to have issues..\n",
      "Retrying langchain.llms.openai.completion_with_retry.<locals>._completion_with_retry in 4.0 seconds as it raised RateLimitError: Rate limit reached for default-global-with-image-limits in organization org-ZZK1tdpov2aMcMdRfIOVNTcr on tokens_usage_based per min. Limit: 250000 / min. Current: 249869 / min. Contact us through our help center at help.openai.com if you continue to have issues..\n",
      "Retrying langchain.llms.openai.completion_with_retry.<locals>._completion_with_retry in 4.0 seconds as it raised RateLimitError: Rate limit reached for default-global-with-image-limits in organization org-ZZK1tdpov2aMcMdRfIOVNTcr on tokens_usage_based per min. Limit: 250000 / min. Current: 249887 / min. Contact us through our help center at help.openai.com if you continue to have issues..\n",
      "Retrying langchain.llms.openai.completion_with_retry.<locals>._completion_with_retry in 4.0 seconds as it raised RateLimitError: Rate limit reached for default-global-with-image-limits in organization org-ZZK1tdpov2aMcMdRfIOVNTcr on tokens_usage_based per min. Limit: 250000 / min. Current: 249783 / min. Contact us through our help center at help.openai.com if you continue to have issues..\n",
      "Retrying langchain.llms.openai.completion_with_retry.<locals>._completion_with_retry in 8.0 seconds as it raised RateLimitError: Rate limit reached for default-global-with-image-limits in organization org-ZZK1tdpov2aMcMdRfIOVNTcr on tokens_usage_based per min. Limit: 250000 / min. Current: 249873 / min. Contact us through our help center at help.openai.com if you continue to have issues..\n",
      "Retrying langchain.llms.openai.completion_with_retry.<locals>._completion_with_retry in 4.0 seconds as it raised RateLimitError: Rate limit reached for default-global-with-image-limits in organization org-ZZK1tdpov2aMcMdRfIOVNTcr on tokens_usage_based per min. Limit: 250000 / min. Current: 249856 / min. Contact us through our help center at help.openai.com if you continue to have issues..\n",
      "Retrying langchain.llms.openai.completion_with_retry.<locals>._completion_with_retry in 4.0 seconds as it raised RateLimitError: Rate limit reached for default-global-with-image-limits in organization org-ZZK1tdpov2aMcMdRfIOVNTcr on tokens_usage_based per min. Limit: 250000 / min. Current: 249887 / min. Contact us through our help center at help.openai.com if you continue to have issues..\n",
      "Retrying langchain.llms.openai.completion_with_retry.<locals>._completion_with_retry in 4.0 seconds as it raised RateLimitError: Rate limit reached for default-global-with-image-limits in organization org-ZZK1tdpov2aMcMdRfIOVNTcr on tokens_usage_based per min. Limit: 250000 / min. Current: 249822 / min. Contact us through our help center at help.openai.com if you continue to have issues..\n",
      "Retrying langchain.llms.openai.completion_with_retry.<locals>._completion_with_retry in 4.0 seconds as it raised RateLimitError: Rate limit reached for default-global-with-image-limits in organization org-ZZK1tdpov2aMcMdRfIOVNTcr on tokens_usage_based per min. Limit: 250000 / min. Current: 249953 / min. Contact us through our help center at help.openai.com if you continue to have issues..\n",
      "Retrying langchain.llms.openai.completion_with_retry.<locals>._completion_with_retry in 4.0 seconds as it raised RateLimitError: Rate limit reached for default-global-with-image-limits in organization org-ZZK1tdpov2aMcMdRfIOVNTcr on tokens_usage_based per min. Limit: 250000 / min. Current: 249918 / min. Contact us through our help center at help.openai.com if you continue to have issues..\n",
      "Retrying langchain.llms.openai.completion_with_retry.<locals>._completion_with_retry in 4.0 seconds as it raised RateLimitError: Rate limit reached for default-global-with-image-limits in organization org-ZZK1tdpov2aMcMdRfIOVNTcr on tokens_usage_based per min. Limit: 250000 / min. Current: 249760 / min. Contact us through our help center at help.openai.com if you continue to have issues..\n",
      "Retrying langchain.llms.openai.completion_with_retry.<locals>._completion_with_retry in 8.0 seconds as it raised RateLimitError: Rate limit reached for default-global-with-image-limits in organization org-ZZK1tdpov2aMcMdRfIOVNTcr on tokens_usage_based per min. Limit: 250000 / min. Current: 249793 / min. Contact us through our help center at help.openai.com if you continue to have issues..\n",
      "Retrying langchain.llms.openai.completion_with_retry.<locals>._completion_with_retry in 4.0 seconds as it raised RateLimitError: Rate limit reached for default-global-with-image-limits in organization org-ZZK1tdpov2aMcMdRfIOVNTcr on tokens_usage_based per min. Limit: 250000 / min. Current: 249873 / min. Contact us through our help center at help.openai.com if you continue to have issues..\n",
      "Retrying langchain.llms.openai.completion_with_retry.<locals>._completion_with_retry in 4.0 seconds as it raised RateLimitError: Rate limit reached for default-global-with-image-limits in organization org-ZZK1tdpov2aMcMdRfIOVNTcr on tokens_usage_based per min. Limit: 250000 / min. Current: 249915 / min. Contact us through our help center at help.openai.com if you continue to have issues..\n",
      "Retrying langchain.llms.openai.completion_with_retry.<locals>._completion_with_retry in 4.0 seconds as it raised RateLimitError: Rate limit reached for default-global-with-image-limits in organization org-ZZK1tdpov2aMcMdRfIOVNTcr on tokens_usage_based per min. Limit: 250000 / min. Current: 249800 / min. Contact us through our help center at help.openai.com if you continue to have issues..\n",
      "Retrying langchain.llms.openai.completion_with_retry.<locals>._completion_with_retry in 4.0 seconds as it raised RateLimitError: Rate limit reached for default-global-with-image-limits in organization org-ZZK1tdpov2aMcMdRfIOVNTcr on tokens_usage_based per min. Limit: 250000 / min. Current: 249804 / min. Contact us through our help center at help.openai.com if you continue to have issues..\n",
      "Retrying langchain.llms.openai.completion_with_retry.<locals>._completion_with_retry in 4.0 seconds as it raised RateLimitError: Rate limit reached for default-global-with-image-limits in organization org-ZZK1tdpov2aMcMdRfIOVNTcr on tokens_usage_based per min. Limit: 250000 / min. Current: 249846 / min. Contact us through our help center at help.openai.com if you continue to have issues..\n",
      "Retrying langchain.llms.openai.completion_with_retry.<locals>._completion_with_retry in 4.0 seconds as it raised RateLimitError: Rate limit reached for default-global-with-image-limits in organization org-ZZK1tdpov2aMcMdRfIOVNTcr on tokens_usage_based per min. Limit: 250000 / min. Current: 249848 / min. Contact us through our help center at help.openai.com if you continue to have issues..\n",
      "Retrying langchain.llms.openai.completion_with_retry.<locals>._completion_with_retry in 4.0 seconds as it raised RateLimitError: Rate limit reached for default-global-with-image-limits in organization org-ZZK1tdpov2aMcMdRfIOVNTcr on tokens_usage_based per min. Limit: 250000 / min. Current: 249756 / min. Contact us through our help center at help.openai.com if you continue to have issues..\n",
      "Retrying langchain.llms.openai.completion_with_retry.<locals>._completion_with_retry in 4.0 seconds as it raised RateLimitError: Rate limit reached for default-global-with-image-limits in organization org-ZZK1tdpov2aMcMdRfIOVNTcr on tokens_usage_based per min. Limit: 250000 / min. Current: 249842 / min. Contact us through our help center at help.openai.com if you continue to have issues..\n",
      "Retrying langchain.llms.openai.completion_with_retry.<locals>._completion_with_retry in 4.0 seconds as it raised RateLimitError: Rate limit reached for default-global-with-image-limits in organization org-ZZK1tdpov2aMcMdRfIOVNTcr on tokens_usage_based per min. Limit: 250000 / min. Current: 249905 / min. Contact us through our help center at help.openai.com if you continue to have issues..\n",
      "Retrying langchain.llms.openai.completion_with_retry.<locals>._completion_with_retry in 4.0 seconds as it raised RateLimitError: Rate limit reached for default-global-with-image-limits in organization org-ZZK1tdpov2aMcMdRfIOVNTcr on tokens_usage_based per min. Limit: 250000 / min. Current: 249958 / min. Contact us through our help center at help.openai.com if you continue to have issues..\n",
      "Retrying langchain.llms.openai.completion_with_retry.<locals>._completion_with_retry in 4.0 seconds as it raised RateLimitError: Rate limit reached for default-global-with-image-limits in organization org-ZZK1tdpov2aMcMdRfIOVNTcr on tokens_usage_based per min. Limit: 250000 / min. Current: 249756 / min. Contact us through our help center at help.openai.com if you continue to have issues..\n",
      "Retrying langchain.llms.openai.completion_with_retry.<locals>._completion_with_retry in 4.0 seconds as it raised RateLimitError: Rate limit reached for default-global-with-image-limits in organization org-ZZK1tdpov2aMcMdRfIOVNTcr on tokens_usage_based per min. Limit: 250000 / min. Current: 249753 / min. Contact us through our help center at help.openai.com if you continue to have issues..\n",
      "Retrying langchain.llms.openai.completion_with_retry.<locals>._completion_with_retry in 4.0 seconds as it raised RateLimitError: Rate limit reached for default-global-with-image-limits in organization org-ZZK1tdpov2aMcMdRfIOVNTcr on tokens_usage_based per min. Limit: 250000 / min. Current: 249815 / min. Contact us through our help center at help.openai.com if you continue to have issues..\n",
      "Retrying langchain.llms.openai.completion_with_retry.<locals>._completion_with_retry in 4.0 seconds as it raised RateLimitError: Rate limit reached for default-global-with-image-limits in organization org-ZZK1tdpov2aMcMdRfIOVNTcr on tokens_usage_based per min. Limit: 250000 / min. Current: 249880 / min. Contact us through our help center at help.openai.com if you continue to have issues..\n",
      "Retrying langchain.llms.openai.completion_with_retry.<locals>._completion_with_retry in 4.0 seconds as it raised RateLimitError: Rate limit reached for default-global-with-image-limits in organization org-ZZK1tdpov2aMcMdRfIOVNTcr on tokens_usage_based per min. Limit: 250000 / min. Current: 249888 / min. Contact us through our help center at help.openai.com if you continue to have issues..\n",
      "Retrying langchain.llms.openai.completion_with_retry.<locals>._completion_with_retry in 4.0 seconds as it raised RateLimitError: Rate limit reached for default-global-with-image-limits in organization org-ZZK1tdpov2aMcMdRfIOVNTcr on tokens_usage_based per min. Limit: 250000 / min. Current: 249857 / min. Contact us through our help center at help.openai.com if you continue to have issues..\n",
      "Retrying langchain.llms.openai.completion_with_retry.<locals>._completion_with_retry in 8.0 seconds as it raised RateLimitError: Rate limit reached for default-global-with-image-limits in organization org-ZZK1tdpov2aMcMdRfIOVNTcr on tokens_usage_based per min. Limit: 250000 / min. Current: 249790 / min. Contact us through our help center at help.openai.com if you continue to have issues..\n",
      "Retrying langchain.llms.openai.completion_with_retry.<locals>._completion_with_retry in 4.0 seconds as it raised RateLimitError: Rate limit reached for default-global-with-image-limits in organization org-ZZK1tdpov2aMcMdRfIOVNTcr on tokens_usage_based per min. Limit: 250000 / min. Current: 249777 / min. Contact us through our help center at help.openai.com if you continue to have issues..\n",
      "Retrying langchain.llms.openai.completion_with_retry.<locals>._completion_with_retry in 8.0 seconds as it raised RateLimitError: Rate limit reached for default-global-with-image-limits in organization org-ZZK1tdpov2aMcMdRfIOVNTcr on tokens_usage_based per min. Limit: 250000 / min. Current: 249753 / min. Contact us through our help center at help.openai.com if you continue to have issues..\n",
      "Retrying langchain.llms.openai.completion_with_retry.<locals>._completion_with_retry in 4.0 seconds as it raised RateLimitError: Rate limit reached for default-global-with-image-limits in organization org-ZZK1tdpov2aMcMdRfIOVNTcr on tokens_usage_based per min. Limit: 250000 / min. Current: 249784 / min. Contact us through our help center at help.openai.com if you continue to have issues..\n",
      "Retrying langchain.llms.openai.completion_with_retry.<locals>._completion_with_retry in 4.0 seconds as it raised RateLimitError: Rate limit reached for default-global-with-image-limits in organization org-ZZK1tdpov2aMcMdRfIOVNTcr on tokens_usage_based per min. Limit: 250000 / min. Current: 249805 / min. Contact us through our help center at help.openai.com if you continue to have issues..\n",
      "Retrying langchain.llms.openai.completion_with_retry.<locals>._completion_with_retry in 4.0 seconds as it raised RateLimitError: Rate limit reached for default-global-with-image-limits in organization org-ZZK1tdpov2aMcMdRfIOVNTcr on tokens_usage_based per min. Limit: 250000 / min. Current: 249769 / min. Contact us through our help center at help.openai.com if you continue to have issues..\n",
      "Retrying langchain.llms.openai.completion_with_retry.<locals>._completion_with_retry in 8.0 seconds as it raised RateLimitError: Rate limit reached for default-global-with-image-limits in organization org-ZZK1tdpov2aMcMdRfIOVNTcr on tokens_usage_based per min. Limit: 250000 / min. Current: 249902 / min. Contact us through our help center at help.openai.com if you continue to have issues..\n",
      "Retrying langchain.llms.openai.completion_with_retry.<locals>._completion_with_retry in 4.0 seconds as it raised RateLimitError: Rate limit reached for default-global-with-image-limits in organization org-ZZK1tdpov2aMcMdRfIOVNTcr on tokens_usage_based per min. Limit: 250000 / min. Current: 249802 / min. Contact us through our help center at help.openai.com if you continue to have issues..\n",
      "Retrying langchain.llms.openai.completion_with_retry.<locals>._completion_with_retry in 4.0 seconds as it raised RateLimitError: Rate limit reached for default-global-with-image-limits in organization org-ZZK1tdpov2aMcMdRfIOVNTcr on tokens_usage_based per min. Limit: 250000 / min. Current: 249871 / min. Contact us through our help center at help.openai.com if you continue to have issues..\n",
      "Retrying langchain.llms.openai.completion_with_retry.<locals>._completion_with_retry in 4.0 seconds as it raised RateLimitError: Rate limit reached for default-global-with-image-limits in organization org-ZZK1tdpov2aMcMdRfIOVNTcr on tokens_usage_based per min. Limit: 250000 / min. Current: 249863 / min. Contact us through our help center at help.openai.com if you continue to have issues..\n",
      "Retrying langchain.llms.openai.completion_with_retry.<locals>._completion_with_retry in 4.0 seconds as it raised RateLimitError: Rate limit reached for default-global-with-image-limits in organization org-ZZK1tdpov2aMcMdRfIOVNTcr on tokens_usage_based per min. Limit: 250000 / min. Current: 249796 / min. Contact us through our help center at help.openai.com if you continue to have issues..\n",
      "Retrying langchain.llms.openai.completion_with_retry.<locals>._completion_with_retry in 4.0 seconds as it raised RateLimitError: Rate limit reached for default-global-with-image-limits in organization org-ZZK1tdpov2aMcMdRfIOVNTcr on tokens_usage_based per min. Limit: 250000 / min. Current: 249802 / min. Contact us through our help center at help.openai.com if you continue to have issues..\n",
      "Retrying langchain.llms.openai.completion_with_retry.<locals>._completion_with_retry in 4.0 seconds as it raised RateLimitError: Rate limit reached for default-global-with-image-limits in organization org-ZZK1tdpov2aMcMdRfIOVNTcr on tokens_usage_based per min. Limit: 250000 / min. Current: 249747 / min. Contact us through our help center at help.openai.com if you continue to have issues..\n",
      "Retrying langchain.llms.openai.completion_with_retry.<locals>._completion_with_retry in 4.0 seconds as it raised RateLimitError: Rate limit reached for default-global-with-image-limits in organization org-ZZK1tdpov2aMcMdRfIOVNTcr on tokens_usage_based per min. Limit: 250000 / min. Current: 249901 / min. Contact us through our help center at help.openai.com if you continue to have issues..\n",
      "Retrying langchain.llms.openai.completion_with_retry.<locals>._completion_with_retry in 4.0 seconds as it raised RateLimitError: Rate limit reached for default-global-with-image-limits in organization org-ZZK1tdpov2aMcMdRfIOVNTcr on tokens_usage_based per min. Limit: 250000 / min. Current: 249843 / min. Contact us through our help center at help.openai.com if you continue to have issues..\n",
      "Retrying langchain.llms.openai.completion_with_retry.<locals>._completion_with_retry in 4.0 seconds as it raised RateLimitError: Rate limit reached for default-global-with-image-limits in organization org-ZZK1tdpov2aMcMdRfIOVNTcr on tokens_usage_based per min. Limit: 250000 / min. Current: 249799 / min. Contact us through our help center at help.openai.com if you continue to have issues..\n",
      "Retrying langchain.llms.openai.completion_with_retry.<locals>._completion_with_retry in 4.0 seconds as it raised RateLimitError: Rate limit reached for default-global-with-image-limits in organization org-ZZK1tdpov2aMcMdRfIOVNTcr on tokens_usage_based per min. Limit: 250000 / min. Current: 249793 / min. Contact us through our help center at help.openai.com if you continue to have issues..\n",
      "Retrying langchain.llms.openai.completion_with_retry.<locals>._completion_with_retry in 4.0 seconds as it raised RateLimitError: Rate limit reached for default-global-with-image-limits in organization org-ZZK1tdpov2aMcMdRfIOVNTcr on tokens_usage_based per min. Limit: 250000 / min. Current: 249770 / min. Contact us through our help center at help.openai.com if you continue to have issues..\n",
      "Retrying langchain.llms.openai.completion_with_retry.<locals>._completion_with_retry in 4.0 seconds as it raised RateLimitError: Rate limit reached for default-global-with-image-limits in organization org-ZZK1tdpov2aMcMdRfIOVNTcr on tokens_usage_based per min. Limit: 250000 / min. Current: 249913 / min. Contact us through our help center at help.openai.com if you continue to have issues..\n",
      "Retrying langchain.llms.openai.completion_with_retry.<locals>._completion_with_retry in 4.0 seconds as it raised RateLimitError: Rate limit reached for default-global-with-image-limits in organization org-ZZK1tdpov2aMcMdRfIOVNTcr on tokens_usage_based per min. Limit: 250000 / min. Current: 249847 / min. Contact us through our help center at help.openai.com if you continue to have issues..\n",
      "Retrying langchain.llms.openai.completion_with_retry.<locals>._completion_with_retry in 4.0 seconds as it raised RateLimitError: Rate limit reached for default-global-with-image-limits in organization org-ZZK1tdpov2aMcMdRfIOVNTcr on tokens_usage_based per min. Limit: 250000 / min. Current: 249776 / min. Contact us through our help center at help.openai.com if you continue to have issues..\n",
      "Retrying langchain.llms.openai.completion_with_retry.<locals>._completion_with_retry in 4.0 seconds as it raised RateLimitError: Rate limit reached for default-global-with-image-limits in organization org-ZZK1tdpov2aMcMdRfIOVNTcr on tokens_usage_based per min. Limit: 250000 / min. Current: 249905 / min. Contact us through our help center at help.openai.com if you continue to have issues..\n",
      "Retrying langchain.llms.openai.completion_with_retry.<locals>._completion_with_retry in 4.0 seconds as it raised RateLimitError: Rate limit reached for default-global-with-image-limits in organization org-ZZK1tdpov2aMcMdRfIOVNTcr on tokens_usage_based per min. Limit: 250000 / min. Current: 249883 / min. Contact us through our help center at help.openai.com if you continue to have issues..\n",
      "Retrying langchain.llms.openai.completion_with_retry.<locals>._completion_with_retry in 4.0 seconds as it raised RateLimitError: Rate limit reached for default-global-with-image-limits in organization org-ZZK1tdpov2aMcMdRfIOVNTcr on tokens_usage_based per min. Limit: 250000 / min. Current: 249758 / min. Contact us through our help center at help.openai.com if you continue to have issues..\n",
      "Retrying langchain.llms.openai.completion_with_retry.<locals>._completion_with_retry in 4.0 seconds as it raised RateLimitError: Rate limit reached for default-global-with-image-limits in organization org-ZZK1tdpov2aMcMdRfIOVNTcr on tokens_usage_based per min. Limit: 250000 / min. Current: 249778 / min. Contact us through our help center at help.openai.com if you continue to have issues..\n",
      "Retrying langchain.llms.openai.completion_with_retry.<locals>._completion_with_retry in 4.0 seconds as it raised RateLimitError: Rate limit reached for default-global-with-image-limits in organization org-ZZK1tdpov2aMcMdRfIOVNTcr on tokens_usage_based per min. Limit: 250000 / min. Current: 249804 / min. Contact us through our help center at help.openai.com if you continue to have issues..\n",
      "Retrying langchain.llms.openai.completion_with_retry.<locals>._completion_with_retry in 4.0 seconds as it raised RateLimitError: Rate limit reached for default-global-with-image-limits in organization org-ZZK1tdpov2aMcMdRfIOVNTcr on tokens_usage_based per min. Limit: 250000 / min. Current: 249849 / min. Contact us through our help center at help.openai.com if you continue to have issues..\n",
      "Retrying langchain.llms.openai.completion_with_retry.<locals>._completion_with_retry in 4.0 seconds as it raised RateLimitError: Rate limit reached for default-global-with-image-limits in organization org-ZZK1tdpov2aMcMdRfIOVNTcr on tokens_usage_based per min. Limit: 250000 / min. Current: 249897 / min. Contact us through our help center at help.openai.com if you continue to have issues..\n",
      "Retrying langchain.llms.openai.completion_with_retry.<locals>._completion_with_retry in 4.0 seconds as it raised RateLimitError: Rate limit reached for default-global-with-image-limits in organization org-ZZK1tdpov2aMcMdRfIOVNTcr on tokens_usage_based per min. Limit: 250000 / min. Current: 249856 / min. Contact us through our help center at help.openai.com if you continue to have issues..\n",
      "Retrying langchain.llms.openai.completion_with_retry.<locals>._completion_with_retry in 4.0 seconds as it raised RateLimitError: Rate limit reached for default-global-with-image-limits in organization org-ZZK1tdpov2aMcMdRfIOVNTcr on tokens_usage_based per min. Limit: 250000 / min. Current: 249950 / min. Contact us through our help center at help.openai.com if you continue to have issues..\n",
      "Retrying langchain.llms.openai.completion_with_retry.<locals>._completion_with_retry in 4.0 seconds as it raised RateLimitError: Rate limit reached for default-global-with-image-limits in organization org-ZZK1tdpov2aMcMdRfIOVNTcr on tokens_usage_based per min. Limit: 250000 / min. Current: 249908 / min. Contact us through our help center at help.openai.com if you continue to have issues..\n",
      "Retrying langchain.llms.openai.completion_with_retry.<locals>._completion_with_retry in 10.0 seconds as it raised RateLimitError: Rate limit reached for default-global-with-image-limits in organization org-ZZK1tdpov2aMcMdRfIOVNTcr on tokens_usage_based per min. Limit: 250000 / min. Current: 249981 / min. Contact us through our help center at help.openai.com if you continue to have issues..\n",
      "Retrying langchain.llms.openai.completion_with_retry.<locals>._completion_with_retry in 4.0 seconds as it raised RateLimitError: Rate limit reached for default-global-with-image-limits in organization org-ZZK1tdpov2aMcMdRfIOVNTcr on tokens_usage_based per min. Limit: 250000 / min. Current: 249869 / min. Contact us through our help center at help.openai.com if you continue to have issues..\n",
      "Retrying langchain.llms.openai.completion_with_retry.<locals>._completion_with_retry in 10.0 seconds as it raised RateLimitError: Rate limit reached for default-global-with-image-limits in organization org-ZZK1tdpov2aMcMdRfIOVNTcr on tokens_usage_based per min. Limit: 250000 / min. Current: 249880 / min. Contact us through our help center at help.openai.com if you continue to have issues..\n",
      "Retrying langchain.llms.openai.completion_with_retry.<locals>._completion_with_retry in 4.0 seconds as it raised RateLimitError: Rate limit reached for default-global-with-image-limits in organization org-ZZK1tdpov2aMcMdRfIOVNTcr on tokens_usage_based per min. Limit: 250000 / min. Current: 249887 / min. Contact us through our help center at help.openai.com if you continue to have issues..\n",
      "Retrying langchain.llms.openai.completion_with_retry.<locals>._completion_with_retry in 4.0 seconds as it raised RateLimitError: Rate limit reached for default-global-with-image-limits in organization org-ZZK1tdpov2aMcMdRfIOVNTcr on tokens_usage_based per min. Limit: 250000 / min. Current: 249867 / min. Contact us through our help center at help.openai.com if you continue to have issues..\n",
      "Retrying langchain.llms.openai.completion_with_retry.<locals>._completion_with_retry in 4.0 seconds as it raised RateLimitError: Rate limit reached for default-global-with-image-limits in organization org-ZZK1tdpov2aMcMdRfIOVNTcr on tokens_usage_based per min. Limit: 250000 / min. Current: 249826 / min. Contact us through our help center at help.openai.com if you continue to have issues..\n",
      "Retrying langchain.llms.openai.completion_with_retry.<locals>._completion_with_retry in 4.0 seconds as it raised RateLimitError: Rate limit reached for default-global-with-image-limits in organization org-ZZK1tdpov2aMcMdRfIOVNTcr on tokens_usage_based per min. Limit: 250000 / min. Current: 249840 / min. Contact us through our help center at help.openai.com if you continue to have issues..\n",
      "Retrying langchain.llms.openai.completion_with_retry.<locals>._completion_with_retry in 4.0 seconds as it raised RateLimitError: Rate limit reached for default-global-with-image-limits in organization org-ZZK1tdpov2aMcMdRfIOVNTcr on tokens_usage_based per min. Limit: 250000 / min. Current: 249799 / min. Contact us through our help center at help.openai.com if you continue to have issues..\n",
      "Retrying langchain.llms.openai.completion_with_retry.<locals>._completion_with_retry in 4.0 seconds as it raised RateLimitError: Rate limit reached for default-global-with-image-limits in organization org-ZZK1tdpov2aMcMdRfIOVNTcr on tokens_usage_based per min. Limit: 250000 / min. Current: 249798 / min. Contact us through our help center at help.openai.com if you continue to have issues..\n",
      "Retrying langchain.llms.openai.completion_with_retry.<locals>._completion_with_retry in 8.0 seconds as it raised RateLimitError: Rate limit reached for default-global-with-image-limits in organization org-ZZK1tdpov2aMcMdRfIOVNTcr on tokens_usage_based per min. Limit: 250000 / min. Current: 249942 / min. Contact us through our help center at help.openai.com if you continue to have issues..\n",
      "Retrying langchain.llms.openai.completion_with_retry.<locals>._completion_with_retry in 8.0 seconds as it raised RateLimitError: Rate limit reached for default-global-with-image-limits in organization org-ZZK1tdpov2aMcMdRfIOVNTcr on tokens_usage_based per min. Limit: 250000 / min. Current: 249976 / min. Contact us through our help center at help.openai.com if you continue to have issues..\n",
      "Retrying langchain.llms.openai.completion_with_retry.<locals>._completion_with_retry in 4.0 seconds as it raised RateLimitError: Rate limit reached for default-global-with-image-limits in organization org-ZZK1tdpov2aMcMdRfIOVNTcr on tokens_usage_based per min. Limit: 250000 / min. Current: 249885 / min. Contact us through our help center at help.openai.com if you continue to have issues..\n",
      "Retrying langchain.llms.openai.completion_with_retry.<locals>._completion_with_retry in 4.0 seconds as it raised RateLimitError: Rate limit reached for default-global-with-image-limits in organization org-ZZK1tdpov2aMcMdRfIOVNTcr on tokens_usage_based per min. Limit: 250000 / min. Current: 249800 / min. Contact us through our help center at help.openai.com if you continue to have issues..\n",
      "Retrying langchain.llms.openai.completion_with_retry.<locals>._completion_with_retry in 4.0 seconds as it raised RateLimitError: Rate limit reached for default-global-with-image-limits in organization org-ZZK1tdpov2aMcMdRfIOVNTcr on tokens_usage_based per min. Limit: 250000 / min. Current: 249783 / min. Contact us through our help center at help.openai.com if you continue to have issues..\n",
      "Retrying langchain.llms.openai.completion_with_retry.<locals>._completion_with_retry in 4.0 seconds as it raised RateLimitError: Rate limit reached for default-global-with-image-limits in organization org-ZZK1tdpov2aMcMdRfIOVNTcr on tokens_usage_based per min. Limit: 250000 / min. Current: 249747 / min. Contact us through our help center at help.openai.com if you continue to have issues..\n",
      "Process ForkPoolWorker-106:\n",
      "Process ForkPoolWorker-78:\n",
      "Process ForkPoolWorker-31:\n",
      "Process ForkPoolWorker-62:\n",
      "Process ForkPoolWorker-71:\n",
      "Process ForkPoolWorker-29:\n",
      "Process ForkPoolWorker-67:\n",
      "Traceback (most recent call last):\n",
      "Process ForkPoolWorker-65:\n",
      "Process ForkPoolWorker-64:\n",
      "Traceback (most recent call last):\n",
      "Process ForkPoolWorker-97:\n",
      "Traceback (most recent call last):\n",
      "Traceback (most recent call last):\n",
      "Traceback (most recent call last):\n",
      "Traceback (most recent call last):\n",
      "Traceback (most recent call last):\n",
      "Process ForkPoolWorker-94:\n",
      "  File \"/usr/local/lib/python3.10/dist-packages/multiprocess/process.py\", line 314, in _bootstrap\n",
      "    self.run()\n",
      "  File \"/usr/local/lib/python3.10/dist-packages/multiprocess/process.py\", line 314, in _bootstrap\n",
      "    self.run()\n",
      "  File \"/usr/local/lib/python3.10/dist-packages/multiprocess/process.py\", line 314, in _bootstrap\n",
      "    self.run()\n",
      "  File \"/usr/local/lib/python3.10/dist-packages/multiprocess/process.py\", line 314, in _bootstrap\n",
      "    self.run()\n",
      "  File \"/usr/local/lib/python3.10/dist-packages/multiprocess/process.py\", line 314, in _bootstrap\n",
      "    self.run()\n",
      "  File \"/usr/local/lib/python3.10/dist-packages/multiprocess/process.py\", line 314, in _bootstrap\n",
      "    self.run()\n",
      "Traceback (most recent call last):\n",
      "Traceback (most recent call last):\n",
      "  File \"/usr/local/lib/python3.10/dist-packages/multiprocess/process.py\", line 108, in run\n",
      "    self._target(*self._args, **self._kwargs)\n",
      "  File \"/usr/local/lib/python3.10/dist-packages/multiprocess/process.py\", line 108, in run\n",
      "    self._target(*self._args, **self._kwargs)\n",
      "Traceback (most recent call last):\n",
      "  File \"/usr/local/lib/python3.10/dist-packages/multiprocess/process.py\", line 108, in run\n",
      "    self._target(*self._args, **self._kwargs)\n",
      "  File \"/usr/local/lib/python3.10/dist-packages/multiprocess/process.py\", line 108, in run\n",
      "    self._target(*self._args, **self._kwargs)\n",
      "  File \"/usr/local/lib/python3.10/dist-packages/multiprocess/process.py\", line 314, in _bootstrap\n",
      "    self.run()\n",
      "  File \"/usr/local/lib/python3.10/dist-packages/multiprocess/process.py\", line 108, in run\n",
      "    self._target(*self._args, **self._kwargs)\n",
      "  File \"/usr/local/lib/python3.10/dist-packages/multiprocess/process.py\", line 108, in run\n",
      "    self._target(*self._args, **self._kwargs)\n",
      "Traceback (most recent call last):\n",
      "  File \"/usr/local/lib/python3.10/dist-packages/multiprocess/process.py\", line 314, in _bootstrap\n",
      "    self.run()\n",
      "  File \"/usr/local/lib/python3.10/dist-packages/multiprocess/pool.py\", line 114, in worker\n",
      "    task = get()\n",
      "  File \"/usr/local/lib/python3.10/dist-packages/multiprocess/process.py\", line 314, in _bootstrap\n",
      "    self.run()\n",
      "  File \"/usr/local/lib/python3.10/dist-packages/multiprocess/pool.py\", line 114, in worker\n",
      "    task = get()\n",
      "  File \"/usr/local/lib/python3.10/dist-packages/multiprocess/process.py\", line 314, in _bootstrap\n",
      "    self.run()\n",
      "  File \"/usr/local/lib/python3.10/dist-packages/multiprocess/pool.py\", line 114, in worker\n",
      "    task = get()\n",
      "  File \"/usr/local/lib/python3.10/dist-packages/multiprocess/pool.py\", line 114, in worker\n",
      "    task = get()\n",
      "  File \"/usr/local/lib/python3.10/dist-packages/multiprocess/process.py\", line 108, in run\n",
      "    self._target(*self._args, **self._kwargs)\n",
      "  File \"/usr/local/lib/python3.10/dist-packages/multiprocess/process.py\", line 108, in run\n",
      "    self._target(*self._args, **self._kwargs)\n",
      "  File \"/usr/local/lib/python3.10/dist-packages/multiprocess/pool.py\", line 114, in worker\n",
      "    task = get()\n",
      "  File \"/usr/local/lib/python3.10/dist-packages/multiprocess/pool.py\", line 114, in worker\n",
      "    task = get()\n",
      "  File \"/usr/local/lib/python3.10/dist-packages/multiprocess/process.py\", line 314, in _bootstrap\n",
      "    self.run()\n",
      "  File \"/usr/local/lib/python3.10/dist-packages/multiprocess/process.py\", line 108, in run\n",
      "    self._target(*self._args, **self._kwargs)\n",
      "  File \"/usr/local/lib/python3.10/dist-packages/multiprocess/queues.py\", line 367, in get\n",
      "    with self._rlock:\n",
      "  File \"/usr/local/lib/python3.10/dist-packages/multiprocess/queues.py\", line 367, in get\n",
      "    with self._rlock:\n",
      "  File \"/usr/local/lib/python3.10/dist-packages/multiprocess/process.py\", line 108, in run\n",
      "    self._target(*self._args, **self._kwargs)\n",
      "  File \"/usr/local/lib/python3.10/dist-packages/multiprocess/queues.py\", line 367, in get\n",
      "    with self._rlock:\n",
      "  File \"/usr/local/lib/python3.10/dist-packages/multiprocess/queues.py\", line 368, in get\n",
      "    res = self._reader.recv_bytes()\n",
      "  File \"/usr/local/lib/python3.10/dist-packages/multiprocess/pool.py\", line 114, in worker\n",
      "    task = get()\n",
      "  File \"/usr/local/lib/python3.10/dist-packages/multiprocess/pool.py\", line 125, in worker\n",
      "    result = (True, func(*args, **kwds))\n",
      "  File \"/usr/local/lib/python3.10/dist-packages/multiprocess/queues.py\", line 367, in get\n",
      "    with self._rlock:\n",
      "  File \"/usr/local/lib/python3.10/dist-packages/multiprocess/process.py\", line 108, in run\n",
      "    self._target(*self._args, **self._kwargs)\n",
      "  File \"/usr/local/lib/python3.10/dist-packages/multiprocess/pool.py\", line 125, in worker\n",
      "    result = (True, func(*args, **kwds))\n",
      "  File \"/usr/local/lib/python3.10/dist-packages/multiprocess/synchronize.py\", line 101, in __enter__\n",
      "    return self._semlock.__enter__()\n",
      "  File \"/usr/local/lib/python3.10/dist-packages/multiprocess/synchronize.py\", line 101, in __enter__\n",
      "    return self._semlock.__enter__()\n",
      "  File \"/usr/local/lib/python3.10/dist-packages/multiprocess/synchronize.py\", line 101, in __enter__\n",
      "    return self._semlock.__enter__()\n",
      "  File \"/usr/local/lib/python3.10/dist-packages/multiprocess/pool.py\", line 125, in worker\n",
      "    result = (True, func(*args, **kwds))\n",
      "  File \"/usr/local/lib/python3.10/dist-packages/multiprocess/connection.py\", line 219, in recv_bytes\n",
      "    buf = self._recv_bytes(maxlength)\n",
      "  File \"/usr/local/lib/python3.10/dist-packages/multiprocess/queues.py\", line 367, in get\n",
      "    with self._rlock:\n",
      "  File \"/usr/local/lib/python3.10/dist-packages/multiprocess/queues.py\", line 367, in get\n",
      "    with self._rlock:\n",
      "  File \"/usr/local/lib/python3.10/dist-packages/datasets/utils/py_utils.py\", line 1354, in _write_generator_to_queue\n",
      "    for i, result in enumerate(func(**kwargs)):\n",
      "  File \"/usr/local/lib/python3.10/dist-packages/multiprocess/pool.py\", line 125, in worker\n",
      "    result = (True, func(*args, **kwds))\n",
      "  File \"/usr/local/lib/python3.10/dist-packages/multiprocess/synchronize.py\", line 101, in __enter__\n",
      "    return self._semlock.__enter__()\n",
      "  File \"/usr/local/lib/python3.10/dist-packages/datasets/utils/py_utils.py\", line 1354, in _write_generator_to_queue\n",
      "    for i, result in enumerate(func(**kwargs)):\n",
      "KeyboardInterrupt\n",
      "KeyboardInterrupt\n",
      "KeyboardInterrupt\n",
      "  File \"/usr/local/lib/python3.10/dist-packages/datasets/utils/py_utils.py\", line 1354, in _write_generator_to_queue\n",
      "    for i, result in enumerate(func(**kwargs)):\n",
      "  File \"/usr/local/lib/python3.10/dist-packages/multiprocess/connection.py\", line 417, in _recv_bytes\n",
      "    buf = self._recv(4)\n",
      "  File \"/usr/local/lib/python3.10/dist-packages/multiprocess/synchronize.py\", line 101, in __enter__\n",
      "    return self._semlock.__enter__()\n",
      "  File \"/usr/local/lib/python3.10/dist-packages/datasets/arrow_dataset.py\", line 3474, in _map_single\n",
      "    batch = apply_function_on_filtered_inputs(\n",
      "KeyboardInterrupt\n",
      "  File \"/usr/local/lib/python3.10/dist-packages/datasets/utils/py_utils.py\", line 1354, in _write_generator_to_queue\n",
      "    for i, result in enumerate(func(**kwargs)):\n",
      "  File \"/usr/local/lib/python3.10/dist-packages/datasets/arrow_dataset.py\", line 3474, in _map_single\n",
      "    batch = apply_function_on_filtered_inputs(\n",
      "  File \"/usr/local/lib/python3.10/dist-packages/multiprocess/synchronize.py\", line 101, in __enter__\n",
      "    return self._semlock.__enter__()\n",
      "  File \"/usr/local/lib/python3.10/dist-packages/multiprocess/connection.py\", line 382, in _recv\n",
      "    chunk = read(handle, remaining)\n",
      "  File \"/usr/local/lib/python3.10/dist-packages/datasets/arrow_dataset.py\", line 3474, in _map_single\n",
      "    batch = apply_function_on_filtered_inputs(\n",
      "KeyboardInterrupt\n",
      "  File \"/usr/local/lib/python3.10/dist-packages/datasets/arrow_dataset.py\", line 3353, in apply_function_on_filtered_inputs\n",
      "    processed_inputs = function(*fn_args, *additional_args, **fn_kwargs)\n",
      "  File \"/usr/local/lib/python3.10/dist-packages/datasets/arrow_dataset.py\", line 3353, in apply_function_on_filtered_inputs\n",
      "    processed_inputs = function(*fn_args, *additional_args, **fn_kwargs)\n",
      "  File \"/usr/local/lib/python3.10/dist-packages/datasets/arrow_dataset.py\", line 3474, in _map_single\n",
      "    batch = apply_function_on_filtered_inputs(\n",
      "KeyboardInterrupt\n",
      "  File \"/usr/local/lib/python3.10/dist-packages/datasets/arrow_dataset.py\", line 3353, in apply_function_on_filtered_inputs\n",
      "    processed_inputs = function(*fn_args, *additional_args, **fn_kwargs)\n",
      "KeyboardInterrupt\n",
      "  File \"/usr/local/lib/python3.10/dist-packages/datasets/arrow_dataset.py\", line 3353, in apply_function_on_filtered_inputs\n",
      "    processed_inputs = function(*fn_args, *additional_args, **fn_kwargs)\n",
      "  File \"/tmp/ipykernel_209899/4275363498.py\", line 42, in expand_stacked\n",
      "    augmented = [\n",
      "  File \"/tmp/ipykernel_209899/4275363498.py\", line 42, in expand_stacked\n",
      "    augmented = [\n",
      "  File \"/tmp/ipykernel_209899/4275363498.py\", line 42, in expand_stacked\n",
      "    augmented = [\n",
      "  File \"/tmp/ipykernel_209899/4275363498.py\", line 43, in <listcomp>\n",
      "    truncate_lines(d + gen_continuation(d), num=-4)\n",
      "  File \"/tmp/ipykernel_209899/4275363498.py\", line 42, in expand_stacked\n",
      "    augmented = [\n",
      "  File \"/tmp/ipykernel_209899/4275363498.py\", line 43, in <listcomp>\n",
      "    truncate_lines(d + gen_continuation(d), num=-4)\n",
      "  File \"/tmp/ipykernel_209899/4275363498.py\", line 43, in <listcomp>\n",
      "    truncate_lines(d + gen_continuation(d), num=-4)\n",
      "  File \"/tmp/ipykernel_209899/226220231.py\", line 36, in gen_continuation\n",
      "    time.sleep(wait)\n",
      "  File \"/tmp/ipykernel_209899/4275363498.py\", line 43, in <listcomp>\n",
      "    truncate_lines(d + gen_continuation(d), num=-4)\n",
      "  File \"/tmp/ipykernel_209899/226220231.py\", line 36, in gen_continuation\n",
      "    time.sleep(wait)\n",
      "  File \"/tmp/ipykernel_209899/226220231.py\", line 39, in gen_continuation\n",
      "    continuation = llm(prompt).strip()\n",
      "KeyboardInterrupt\n",
      "  File \"/tmp/ipykernel_209899/226220231.py\", line 36, in gen_continuation\n",
      "    time.sleep(wait)\n",
      "KeyboardInterrupt\n",
      "  File \"/usr/local/lib/python3.10/dist-packages/langchain/llms/base.py\", line 867, in __call__\n",
      "    self.generate(\n",
      "KeyboardInterrupt\n",
      "  File \"/usr/local/lib/python3.10/dist-packages/langchain/llms/base.py\", line 662, in generate\n",
      "    new_results = self._generate_helper(\n",
      "  File \"/usr/local/lib/python3.10/dist-packages/langchain/llms/base.py\", line 535, in _generate_helper\n",
      "    raise e\n",
      "  File \"/usr/local/lib/python3.10/dist-packages/langchain/llms/base.py\", line 522, in _generate_helper\n",
      "    self._generate(\n",
      "  File \"/usr/local/lib/python3.10/dist-packages/langchain/llms/openai.py\", line 387, in _generate\n",
      "    response = completion_with_retry(\n",
      "  File \"/usr/local/lib/python3.10/dist-packages/langchain/llms/openai.py\", line 115, in completion_with_retry\n",
      "    return _completion_with_retry(**kwargs)\n",
      "  File \"/usr/local/lib/python3.10/dist-packages/tenacity/__init__.py\", line 289, in wrapped_f\n",
      "    return self(f, *args, **kw)\n",
      "  File \"/usr/local/lib/python3.10/dist-packages/tenacity/__init__.py\", line 389, in __call__\n",
      "    self.sleep(do)\n",
      "  File \"/usr/local/lib/python3.10/dist-packages/tenacity/nap.py\", line 31, in sleep\n",
      "    time.sleep(seconds)\n",
      "KeyboardInterrupt\n",
      "Process ForkPoolWorker-20:\n",
      "Traceback (most recent call last):\n",
      "  File \"/usr/local/lib/python3.10/dist-packages/multiprocess/process.py\", line 314, in _bootstrap\n",
      "    self.run()\n",
      "  File \"/usr/local/lib/python3.10/dist-packages/multiprocess/process.py\", line 108, in run\n",
      "    self._target(*self._args, **self._kwargs)\n",
      "  File \"/usr/local/lib/python3.10/dist-packages/multiprocess/pool.py\", line 125, in worker\n",
      "    result = (True, func(*args, **kwds))\n",
      "  File \"/usr/local/lib/python3.10/dist-packages/datasets/utils/py_utils.py\", line 1354, in _write_generator_to_queue\n",
      "    for i, result in enumerate(func(**kwargs)):\n",
      "Process ForkPoolWorker-88:\n",
      "  File \"/usr/local/lib/python3.10/dist-packages/datasets/arrow_dataset.py\", line 3474, in _map_single\n",
      "    batch = apply_function_on_filtered_inputs(\n",
      "  File \"/usr/local/lib/python3.10/dist-packages/datasets/arrow_dataset.py\", line 3353, in apply_function_on_filtered_inputs\n",
      "    processed_inputs = function(*fn_args, *additional_args, **fn_kwargs)\n",
      "Process ForkPoolWorker-51:\n",
      "Traceback (most recent call last):\n",
      "  File \"/tmp/ipykernel_209899/4275363498.py\", line 42, in expand_stacked\n",
      "    augmented = [\n",
      "  File \"/tmp/ipykernel_209899/4275363498.py\", line 43, in <listcomp>\n",
      "    truncate_lines(d + gen_continuation(d), num=-4)\n",
      "  File \"/usr/local/lib/python3.10/dist-packages/multiprocess/process.py\", line 314, in _bootstrap\n",
      "    self.run()\n",
      "  File \"/tmp/ipykernel_209899/226220231.py\", line 39, in gen_continuation\n",
      "    continuation = llm(prompt).strip()\n",
      "  File \"/usr/local/lib/python3.10/dist-packages/multiprocess/process.py\", line 108, in run\n",
      "    self._target(*self._args, **self._kwargs)\n",
      "  File \"/usr/local/lib/python3.10/dist-packages/langchain/llms/base.py\", line 867, in __call__\n",
      "    self.generate(\n",
      "Traceback (most recent call last):\n",
      "  File \"/usr/local/lib/python3.10/dist-packages/multiprocess/pool.py\", line 125, in worker\n",
      "    result = (True, func(*args, **kwds))\n",
      "  File \"/usr/local/lib/python3.10/dist-packages/langchain/llms/base.py\", line 662, in generate\n",
      "    new_results = self._generate_helper(\n",
      "  File \"/usr/local/lib/python3.10/dist-packages/datasets/utils/py_utils.py\", line 1354, in _write_generator_to_queue\n",
      "    for i, result in enumerate(func(**kwargs)):\n",
      "  File \"/usr/local/lib/python3.10/dist-packages/multiprocess/process.py\", line 314, in _bootstrap\n",
      "    self.run()\n",
      "  File \"/usr/local/lib/python3.10/dist-packages/langchain/llms/base.py\", line 535, in _generate_helper\n",
      "    raise e\n",
      "  File \"/usr/local/lib/python3.10/dist-packages/multiprocess/process.py\", line 108, in run\n",
      "    self._target(*self._args, **self._kwargs)\n",
      "  File \"/usr/local/lib/python3.10/dist-packages/datasets/arrow_dataset.py\", line 3474, in _map_single\n",
      "    batch = apply_function_on_filtered_inputs(\n",
      "  File \"/usr/local/lib/python3.10/dist-packages/langchain/llms/base.py\", line 522, in _generate_helper\n",
      "    self._generate(\n",
      "  File \"/usr/local/lib/python3.10/dist-packages/datasets/arrow_dataset.py\", line 3353, in apply_function_on_filtered_inputs\n",
      "    processed_inputs = function(*fn_args, *additional_args, **fn_kwargs)\n",
      "  File \"/usr/local/lib/python3.10/dist-packages/multiprocess/pool.py\", line 125, in worker\n",
      "    result = (True, func(*args, **kwds))\n",
      "  File \"/tmp/ipykernel_209899/4275363498.py\", line 42, in expand_stacked\n",
      "    augmented = [\n",
      "  File \"/usr/local/lib/python3.10/dist-packages/langchain/llms/openai.py\", line 387, in _generate\n",
      "    response = completion_with_retry(\n",
      "  File \"/usr/local/lib/python3.10/dist-packages/datasets/utils/py_utils.py\", line 1354, in _write_generator_to_queue\n",
      "    for i, result in enumerate(func(**kwargs)):\n",
      "  File \"/tmp/ipykernel_209899/4275363498.py\", line 43, in <listcomp>\n",
      "    truncate_lines(d + gen_continuation(d), num=-4)\n",
      "  File \"/usr/local/lib/python3.10/dist-packages/langchain/llms/openai.py\", line 115, in completion_with_retry\n",
      "    return _completion_with_retry(**kwargs)\n",
      "  File \"/tmp/ipykernel_209899/226220231.py\", line 39, in gen_continuation\n",
      "    continuation = llm(prompt).strip()\n",
      "  File \"/usr/local/lib/python3.10/dist-packages/datasets/arrow_dataset.py\", line 3474, in _map_single\n",
      "    batch = apply_function_on_filtered_inputs(\n",
      "  File \"/usr/local/lib/python3.10/dist-packages/tenacity/__init__.py\", line 289, in wrapped_f\n",
      "    return self(f, *args, **kw)\n",
      "  File \"/usr/local/lib/python3.10/dist-packages/langchain/llms/base.py\", line 867, in __call__\n",
      "    self.generate(\n",
      "  File \"/usr/local/lib/python3.10/dist-packages/datasets/arrow_dataset.py\", line 3353, in apply_function_on_filtered_inputs\n",
      "    processed_inputs = function(*fn_args, *additional_args, **fn_kwargs)\n",
      "  File \"/usr/local/lib/python3.10/dist-packages/langchain/llms/base.py\", line 662, in generate\n",
      "    new_results = self._generate_helper(\n",
      "  File \"/usr/local/lib/python3.10/dist-packages/tenacity/__init__.py\", line 389, in __call__\n",
      "    self.sleep(do)\n",
      "  File \"/tmp/ipykernel_209899/4275363498.py\", line 42, in expand_stacked\n",
      "    augmented = [\n",
      "  File \"/usr/local/lib/python3.10/dist-packages/langchain/llms/base.py\", line 535, in _generate_helper\n",
      "    raise e\n",
      "  File \"/usr/local/lib/python3.10/dist-packages/tenacity/nap.py\", line 31, in sleep\n",
      "    time.sleep(seconds)\n",
      "  File \"/usr/local/lib/python3.10/dist-packages/langchain/llms/base.py\", line 522, in _generate_helper\n",
      "    self._generate(\n",
      "  File \"/tmp/ipykernel_209899/4275363498.py\", line 43, in <listcomp>\n",
      "    truncate_lines(d + gen_continuation(d), num=-4)\n",
      "Process ForkPoolWorker-72:\n",
      "Process ForkPoolWorker-70:\n",
      "Process ForkPoolWorker-89:\n",
      "Process ForkPoolWorker-103:\n",
      "KeyboardInterrupt\n",
      "  File \"/usr/local/lib/python3.10/dist-packages/langchain/llms/openai.py\", line 387, in _generate\n",
      "    response = completion_with_retry(\n",
      "  File \"/tmp/ipykernel_209899/226220231.py\", line 39, in gen_continuation\n",
      "    continuation = llm(prompt).strip()\n",
      "Traceback (most recent call last):\n",
      "Traceback (most recent call last):\n",
      "  File \"/usr/local/lib/python3.10/dist-packages/langchain/llms/openai.py\", line 115, in completion_with_retry\n",
      "    return _completion_with_retry(**kwargs)\n",
      "  File \"/usr/local/lib/python3.10/dist-packages/multiprocess/process.py\", line 314, in _bootstrap\n",
      "    self.run()\n",
      "  File \"/usr/local/lib/python3.10/dist-packages/langchain/llms/base.py\", line 867, in __call__\n",
      "    self.generate(\n",
      "  File \"/usr/local/lib/python3.10/dist-packages/multiprocess/process.py\", line 314, in _bootstrap\n",
      "    self.run()\n",
      "Traceback (most recent call last):\n",
      "Traceback (most recent call last):\n",
      "  File \"/usr/local/lib/python3.10/dist-packages/multiprocess/process.py\", line 108, in run\n",
      "    self._target(*self._args, **self._kwargs)\n",
      "  File \"/usr/local/lib/python3.10/dist-packages/tenacity/__init__.py\", line 289, in wrapped_f\n",
      "    return self(f, *args, **kw)\n",
      "  File \"/usr/local/lib/python3.10/dist-packages/multiprocess/process.py\", line 108, in run\n",
      "    self._target(*self._args, **self._kwargs)\n",
      "  File \"/usr/local/lib/python3.10/dist-packages/langchain/llms/base.py\", line 662, in generate\n",
      "    new_results = self._generate_helper(\n",
      "  File \"/usr/local/lib/python3.10/dist-packages/multiprocess/pool.py\", line 125, in worker\n",
      "    result = (True, func(*args, **kwds))\n",
      "  File \"/usr/local/lib/python3.10/dist-packages/multiprocess/process.py\", line 314, in _bootstrap\n",
      "    self.run()\n",
      "  File \"/usr/local/lib/python3.10/dist-packages/multiprocess/process.py\", line 314, in _bootstrap\n",
      "    self.run()\n",
      "  File \"/usr/local/lib/python3.10/dist-packages/tenacity/__init__.py\", line 389, in __call__\n",
      "    self.sleep(do)\n",
      "  File \"/usr/local/lib/python3.10/dist-packages/multiprocess/pool.py\", line 125, in worker\n",
      "    result = (True, func(*args, **kwds))\n",
      "  File \"/usr/local/lib/python3.10/dist-packages/langchain/llms/base.py\", line 535, in _generate_helper\n",
      "    raise e\n",
      "  File \"/usr/local/lib/python3.10/dist-packages/datasets/utils/py_utils.py\", line 1354, in _write_generator_to_queue\n",
      "    for i, result in enumerate(func(**kwargs)):\n",
      "  File \"/usr/local/lib/python3.10/dist-packages/multiprocess/process.py\", line 108, in run\n",
      "    self._target(*self._args, **self._kwargs)\n",
      "  File \"/usr/local/lib/python3.10/dist-packages/multiprocess/process.py\", line 108, in run\n",
      "    self._target(*self._args, **self._kwargs)\n",
      "  File \"/usr/local/lib/python3.10/dist-packages/tenacity/nap.py\", line 31, in sleep\n",
      "    time.sleep(seconds)\n",
      "  File \"/usr/local/lib/python3.10/dist-packages/datasets/utils/py_utils.py\", line 1354, in _write_generator_to_queue\n",
      "    for i, result in enumerate(func(**kwargs)):\n",
      "  File \"/usr/local/lib/python3.10/dist-packages/multiprocess/pool.py\", line 125, in worker\n",
      "    result = (True, func(*args, **kwds))\n",
      "  File \"/usr/local/lib/python3.10/dist-packages/langchain/llms/base.py\", line 522, in _generate_helper\n",
      "    self._generate(\n",
      "  File \"/usr/local/lib/python3.10/dist-packages/multiprocess/pool.py\", line 125, in worker\n",
      "    result = (True, func(*args, **kwds))\n",
      "  File \"/usr/local/lib/python3.10/dist-packages/datasets/arrow_dataset.py\", line 3474, in _map_single\n",
      "    batch = apply_function_on_filtered_inputs(\n",
      "  File \"/usr/local/lib/python3.10/dist-packages/datasets/arrow_dataset.py\", line 3474, in _map_single\n",
      "    batch = apply_function_on_filtered_inputs(\n",
      "KeyboardInterrupt\n",
      "  File \"/usr/local/lib/python3.10/dist-packages/datasets/utils/py_utils.py\", line 1354, in _write_generator_to_queue\n",
      "    for i, result in enumerate(func(**kwargs)):\n",
      "  File \"/usr/local/lib/python3.10/dist-packages/langchain/llms/openai.py\", line 387, in _generate\n",
      "    response = completion_with_retry(\n",
      "  File \"/usr/local/lib/python3.10/dist-packages/datasets/utils/py_utils.py\", line 1354, in _write_generator_to_queue\n",
      "    for i, result in enumerate(func(**kwargs)):\n",
      "  File \"/usr/local/lib/python3.10/dist-packages/datasets/arrow_dataset.py\", line 3353, in apply_function_on_filtered_inputs\n",
      "    processed_inputs = function(*fn_args, *additional_args, **fn_kwargs)\n",
      "  File \"/usr/local/lib/python3.10/dist-packages/langchain/llms/openai.py\", line 115, in completion_with_retry\n",
      "    return _completion_with_retry(**kwargs)\n",
      "  File \"/usr/local/lib/python3.10/dist-packages/datasets/arrow_dataset.py\", line 3474, in _map_single\n",
      "    batch = apply_function_on_filtered_inputs(\n",
      "  File \"/usr/local/lib/python3.10/dist-packages/datasets/arrow_dataset.py\", line 3353, in apply_function_on_filtered_inputs\n",
      "    processed_inputs = function(*fn_args, *additional_args, **fn_kwargs)\n",
      "  File \"/usr/local/lib/python3.10/dist-packages/datasets/arrow_dataset.py\", line 3474, in _map_single\n",
      "    batch = apply_function_on_filtered_inputs(\n",
      "  File \"/tmp/ipykernel_209899/4275363498.py\", line 42, in expand_stacked\n",
      "    augmented = [\n",
      "  File \"/usr/local/lib/python3.10/dist-packages/tenacity/__init__.py\", line 289, in wrapped_f\n",
      "    return self(f, *args, **kw)\n",
      "  File \"/usr/local/lib/python3.10/dist-packages/datasets/arrow_dataset.py\", line 3353, in apply_function_on_filtered_inputs\n",
      "    processed_inputs = function(*fn_args, *additional_args, **fn_kwargs)\n",
      "  File \"/tmp/ipykernel_209899/4275363498.py\", line 42, in expand_stacked\n",
      "    augmented = [\n",
      "  File \"/usr/local/lib/python3.10/dist-packages/datasets/arrow_dataset.py\", line 3353, in apply_function_on_filtered_inputs\n",
      "    processed_inputs = function(*fn_args, *additional_args, **fn_kwargs)\n",
      "  File \"/tmp/ipykernel_209899/4275363498.py\", line 43, in <listcomp>\n",
      "    truncate_lines(d + gen_continuation(d), num=-4)\n",
      "  File \"/usr/local/lib/python3.10/dist-packages/tenacity/__init__.py\", line 389, in __call__\n",
      "    self.sleep(do)\n",
      "  File \"/tmp/ipykernel_209899/4275363498.py\", line 43, in <listcomp>\n",
      "    truncate_lines(d + gen_continuation(d), num=-4)\n",
      "  File \"/tmp/ipykernel_209899/4275363498.py\", line 42, in expand_stacked\n",
      "    augmented = [\n",
      "\n",
      "KeyboardInterrupt\n",
      "\n",
      "  File \"/tmp/ipykernel_209899/4275363498.py\", line 42, in expand_stacked\n",
      "    augmented = [\n",
      "  File \"/tmp/ipykernel_209899/226220231.py\", line 36, in gen_continuation\n",
      "    time.sleep(wait)\n",
      "Process ForkPoolWorker-105:\n",
      "Process ForkPoolWorker-79:\n",
      "Process ForkPoolWorker-109:\n",
      "Process ForkPoolWorker-108:\n",
      "Process ForkPoolWorker-87:\n",
      "Process ForkPoolWorker-82:\n",
      "Process ForkPoolWorker-86:\n",
      "Process ForkPoolWorker-102:\n",
      "Process ForkPoolWorker-104:\n",
      "Process ForkPoolWorker-114:\n",
      "Process ForkPoolWorker-26:\n",
      "Process ForkPoolWorker-95:\n",
      "  File \"/usr/local/lib/python3.10/dist-packages/tenacity/nap.py\", line 31, in sleep\n",
      "    time.sleep(seconds)\n",
      "Process ForkPoolWorker-100:\n",
      "Process ForkPoolWorker-57:\n",
      "  File \"/tmp/ipykernel_209899/4275363498.py\", line 43, in <listcomp>\n",
      "    truncate_lines(d + gen_continuation(d), num=-4)\n",
      "KeyboardInterrupt\n",
      "  File \"/tmp/ipykernel_209899/226220231.py\", line 36, in gen_continuation\n",
      "    time.sleep(wait)\n",
      "Process ForkPoolWorker-81:\n",
      "Process ForkPoolWorker-96:\n",
      "  File \"/tmp/ipykernel_209899/4275363498.py\", line 43, in <listcomp>\n",
      "    truncate_lines(d + gen_continuation(d), num=-4)\n",
      "Process ForkPoolWorker-107:\n",
      "Traceback (most recent call last):\n",
      "Process ForkPoolWorker-36:\n",
      "Traceback (most recent call last):\n",
      "Traceback (most recent call last):\n",
      "Traceback (most recent call last):\n",
      "Traceback (most recent call last):\n",
      "Process ForkPoolWorker-22:\n",
      "Process ForkPoolWorker-49:\n",
      "Process ForkPoolWorker-44:\n",
      "  File \"/tmp/ipykernel_209899/226220231.py\", line 39, in gen_continuation\n",
      "    continuation = llm(prompt).strip()\n",
      "Traceback (most recent call last):\n",
      "Process ForkPoolWorker-101:\n",
      "Traceback (most recent call last):\n",
      "KeyboardInterrupt\n",
      "Traceback (most recent call last):\n",
      "  File \"/tmp/ipykernel_209899/226220231.py\", line 39, in gen_continuation\n",
      "    continuation = llm(prompt).strip()\n",
      "KeyboardInterrupt\n",
      "Traceback (most recent call last):\n",
      "  File \"/usr/local/lib/python3.10/dist-packages/multiprocess/process.py\", line 314, in _bootstrap\n",
      "    self.run()\n",
      "Traceback (most recent call last):\n",
      "Traceback (most recent call last):\n",
      "Traceback (most recent call last):\n",
      "  File \"/usr/local/lib/python3.10/dist-packages/multiprocess/process.py\", line 314, in _bootstrap\n",
      "    self.run()\n",
      "  File \"/usr/local/lib/python3.10/dist-packages/multiprocess/process.py\", line 314, in _bootstrap\n",
      "    self.run()\n",
      "Traceback (most recent call last):\n",
      "Traceback (most recent call last):\n",
      "  File \"/usr/local/lib/python3.10/dist-packages/multiprocess/process.py\", line 314, in _bootstrap\n",
      "    self.run()\n",
      "Traceback (most recent call last):\n",
      "Process ForkPoolWorker-35:\n",
      "  File \"/usr/local/lib/python3.10/dist-packages/multiprocess/process.py\", line 314, in _bootstrap\n",
      "    self.run()\n",
      "  File \"/usr/local/lib/python3.10/dist-packages/multiprocess/process.py\", line 314, in _bootstrap\n",
      "    self.run()\n",
      "Traceback (most recent call last):\n",
      "Traceback (most recent call last):\n",
      "Traceback (most recent call last):\n",
      "  File \"/usr/local/lib/python3.10/dist-packages/langchain/llms/base.py\", line 867, in __call__\n",
      "    self.generate(\n",
      "Process ForkPoolWorker-54:\n",
      "Traceback (most recent call last):\n",
      "  File \"/usr/local/lib/python3.10/dist-packages/langchain/llms/base.py\", line 867, in __call__\n",
      "    self.generate(\n",
      "  File \"/usr/local/lib/python3.10/dist-packages/multiprocess/process.py\", line 314, in _bootstrap\n",
      "    self.run()\n",
      "Process ForkPoolWorker-45:\n",
      "Process ForkPoolWorker-27:\n",
      "  File \"/usr/local/lib/python3.10/dist-packages/multiprocess/process.py\", line 314, in _bootstrap\n",
      "    self.run()\n",
      "  File \"/usr/local/lib/python3.10/dist-packages/multiprocess/process.py\", line 108, in run\n",
      "    self._target(*self._args, **self._kwargs)\n",
      "  File \"/usr/local/lib/python3.10/dist-packages/multiprocess/process.py\", line 314, in _bootstrap\n",
      "    self.run()\n",
      "  File \"/usr/local/lib/python3.10/dist-packages/multiprocess/process.py\", line 314, in _bootstrap\n",
      "    self.run()\n",
      "  File \"/usr/local/lib/python3.10/dist-packages/multiprocess/process.py\", line 314, in _bootstrap\n",
      "    self.run()\n",
      "Traceback (most recent call last):\n",
      "  File \"/usr/local/lib/python3.10/dist-packages/multiprocess/process.py\", line 108, in run\n",
      "    self._target(*self._args, **self._kwargs)\n",
      "  File \"/usr/local/lib/python3.10/dist-packages/multiprocess/process.py\", line 108, in run\n",
      "    self._target(*self._args, **self._kwargs)\n",
      "Traceback (most recent call last):\n",
      "Process ForkPoolWorker-42:\n",
      "  File \"/usr/local/lib/python3.10/dist-packages/multiprocess/process.py\", line 314, in _bootstrap\n",
      "    self.run()\n",
      "  File \"/usr/local/lib/python3.10/dist-packages/multiprocess/process.py\", line 108, in run\n",
      "    self._target(*self._args, **self._kwargs)\n",
      "Traceback (most recent call last):\n",
      "  File \"/usr/local/lib/python3.10/dist-packages/multiprocess/process.py\", line 314, in _bootstrap\n",
      "    self.run()\n",
      "  File \"/usr/local/lib/python3.10/dist-packages/multiprocess/process.py\", line 314, in _bootstrap\n",
      "    self.run()\n",
      "  File \"/usr/local/lib/python3.10/dist-packages/multiprocess/process.py\", line 314, in _bootstrap\n",
      "    self.run()\n",
      "Process ForkPoolWorker-83:\n",
      "Process ForkPoolWorker-69:\n",
      "  File \"/usr/local/lib/python3.10/dist-packages/multiprocess/process.py\", line 108, in run\n",
      "    self._target(*self._args, **self._kwargs)\n",
      "  File \"/usr/local/lib/python3.10/dist-packages/multiprocess/process.py\", line 108, in run\n",
      "    self._target(*self._args, **self._kwargs)\n",
      "Process ForkPoolWorker-84:\n"
     ]
    }
   ],
   "source": [
    "# Use batched mode to be able to expand the size of the dataset\n",
    "dataset = dataset.map(expand_stacked, batch_size=100, batched=True, num_proc=100)\n",
    "dataset = dataset.remove_columns([\"token_count\"])"
   ]
  },
  {
   "cell_type": "code",
   "execution_count": null,
   "id": "22beb7aa-f191-4660-a860-ef4169c229b1",
   "metadata": {},
   "outputs": [],
   "source": [
    "dataset.push_to_hub(hf_repo_name)"
   ]
  },
  {
   "cell_type": "markdown",
   "id": "767a4251-fab6-47ce-8cdc-e2416d70b440",
   "metadata": {},
   "source": [
    "### Prepare dataset for finetuning\n",
    "[Docs](https://github.com/FlagOpen/FlagEmbedding/tree/master/examples/finetune)\n",
    "\n",
    "Format:\n",
    "```json\n",
    "{\"query\": str, \"pos\": List[str], \"neg\":List[str]}\n",
    "```\n",
    "\n",
    "Keys:\n",
    "- query: belief\n",
    "- pos: list of matching conversations\n",
    "- neg: list of random conversations from dataset"
   ]
  },
  {
   "cell_type": "code",
   "execution_count": 4,
   "id": "ea1f2c3c-211d-4740-be1b-5eac3f57416c",
   "metadata": {},
   "outputs": [
    {
     "data": {
      "application/vnd.jupyter.widget-view+json": {
       "model_id": "bc180cbde424436193fbaef12800d924",
       "version_major": 2,
       "version_minor": 0
      },
      "text/plain": [
       "Downloading readme:   0%|          | 0.00/752 [00:00<?, ?B/s]"
      ]
     },
     "metadata": {},
     "output_type": "display_data"
    },
    {
     "data": {
      "application/vnd.jupyter.widget-view+json": {
       "model_id": "4e8a26389c2b4ed6ba6be892cf0c594d",
       "version_major": 2,
       "version_minor": 0
      },
      "text/plain": [
       "Downloading data files:   0%|          | 0/3 [00:00<?, ?it/s]"
      ]
     },
     "metadata": {},
     "output_type": "display_data"
    },
    {
     "data": {
      "application/vnd.jupyter.widget-view+json": {
       "model_id": "dfbe638ec7424b6d99552ccf00d3703b",
       "version_major": 2,
       "version_minor": 0
      },
      "text/plain": [
       "Downloading data:   0%|          | 0.00/81.5M [00:00<?, ?B/s]"
      ]
     },
     "metadata": {},
     "output_type": "display_data"
    },
    {
     "data": {
      "application/vnd.jupyter.widget-view+json": {
       "model_id": "b88de79e28d643f38ab0b3def530c008",
       "version_major": 2,
       "version_minor": 0
      },
      "text/plain": [
       "Downloading data:   0%|          | 0.00/3.91M [00:00<?, ?B/s]"
      ]
     },
     "metadata": {},
     "output_type": "display_data"
    },
    {
     "data": {
      "application/vnd.jupyter.widget-view+json": {
       "model_id": "e9daf99846404246ab60f02caabf66ef",
       "version_major": 2,
       "version_minor": 0
      },
      "text/plain": [
       "Downloading data:   0%|          | 0.00/3.84M [00:00<?, ?B/s]"
      ]
     },
     "metadata": {},
     "output_type": "display_data"
    },
    {
     "data": {
      "application/vnd.jupyter.widget-view+json": {
       "model_id": "6c441707e6b04ff8ba0a3d68790eced7",
       "version_major": 2,
       "version_minor": 0
      },
      "text/plain": [
       "Extracting data files:   0%|          | 0/3 [00:00<?, ?it/s]"
      ]
     },
     "metadata": {},
     "output_type": "display_data"
    },
    {
     "data": {
      "application/vnd.jupyter.widget-view+json": {
       "model_id": "29fe824823394171b01394b813cabb1e",
       "version_major": 2,
       "version_minor": 0
      },
      "text/plain": [
       "Generating train split:   0%|          | 0/338127 [00:00<?, ? examples/s]"
      ]
     },
     "metadata": {},
     "output_type": "display_data"
    },
    {
     "data": {
      "application/vnd.jupyter.widget-view+json": {
       "model_id": "04895f3438bd40e6b3e34c2e7934f920",
       "version_major": 2,
       "version_minor": 0
      },
      "text/plain": [
       "Generating validation split:   0%|          | 0/19131 [00:00<?, ? examples/s]"
      ]
     },
     "metadata": {},
     "output_type": "display_data"
    },
    {
     "data": {
      "application/vnd.jupyter.widget-view+json": {
       "model_id": "4c21386349cc4e15b259f3b462fe8d9a",
       "version_major": 2,
       "version_minor": 0
      },
      "text/plain": [
       "Generating test split:   0%|          | 0/18381 [00:00<?, ? examples/s]"
      ]
     },
     "metadata": {},
     "output_type": "display_data"
    }
   ],
   "source": [
    "dataset = load_dataset(hf_repo_name)"
   ]
  },
  {
   "cell_type": "code",
   "execution_count": 5,
   "id": "10817e24-a6b5-49da-b1e7-6101b32a9135",
   "metadata": {},
   "outputs": [],
   "source": [
    "def pick_random(dataset, split=\"train\", far_from=0):\n",
    "    ds = dataset[split]\n",
    "    ds_len = len(ds)\n",
    "    mid = ds_len // 2\n",
    "    which_half = far_from // mid\n",
    "    \n",
    "    start = (1 - which_half) * mid\n",
    "    end = ds_len - which_half * mid\n",
    "    idx = random.randrange(start, end)\n",
    "    \n",
    "    return ds[idx]"
   ]
  },
  {
   "cell_type": "code",
   "execution_count": 6,
   "id": "9bf3bf97-86c4-41f4-ab07-7de94ed72344",
   "metadata": {},
   "outputs": [
    {
     "data": {
      "application/vnd.jupyter.widget-view+json": {
       "model_id": "6c031292641d4e668428e227d0cb22e5",
       "version_major": 2,
       "version_minor": 0
      },
      "text/plain": [
       "  0%|          | 0/338127 [00:00<?, ?it/s]"
      ]
     },
     "metadata": {},
     "output_type": "display_data"
    }
   ],
   "source": [
    "with jsonl.open(training_input_file, mode='w') as writer:\n",
    "    for i, row in enumerate(tqdm(dataset[\"train\"], total=len(dataset[\"train\"]))):\n",
    "        query = row[\"summary\"]\n",
    "        pos = [row[\"dialogue\"]]\n",
    "    \n",
    "        neg = [\n",
    "            pick_random(dataset, split=\"train\", far_from=i)[\"dialogue\"]\n",
    "            for _ in range(3)\n",
    "        ]\n",
    "        \n",
    "        writer.write(dict(query=query, pos=pos, neg=neg))"
   ]
  },
  {
   "cell_type": "code",
   "execution_count": 7,
   "id": "e07bc44f-302c-4c7c-b7c6-62c9cd9db3e4",
   "metadata": {},
   "outputs": [
    {
     "data": {
      "application/vnd.jupyter.widget-view+json": {
       "model_id": "5394a57e7aca4e9d9c36b2f7f3b9b0f3",
       "version_major": 2,
       "version_minor": 0
      },
      "text/plain": [
       "  0%|          | 0/12500 [00:00<?, ?it/s]"
      ]
     },
     "metadata": {},
     "output_type": "display_data"
    }
   ],
   "source": [
    "with jsonl.open(eval_input_file, mode='w') as writer:\n",
    "    for i, row in enumerate(tqdm(dataset[\"validation\"], total=eval_size)):\n",
    "        if i > eval_size:\n",
    "            break\n",
    "\n",
    "        query = row[\"summary\"]\n",
    "        pos = [row[\"dialogue\"]]\n",
    "    \n",
    "        neg = [\n",
    "            pick_random(dataset, split=\"validation\", far_from=i)[\"dialogue\"]\n",
    "            for _ in range(3)\n",
    "        ]\n",
    "        \n",
    "        writer.write(dict(query=query, pos=pos, neg=neg))"
   ]
  },
  {
   "cell_type": "markdown",
   "id": "b6c895f9-9ef4-4edc-b65d-722188eaa8bd",
   "metadata": {},
   "source": [
    "### Mine hard negatives"
   ]
  },
  {
   "cell_type": "code",
   "execution_count": 9,
   "id": "b73cf693-4138-429f-8188-0a72b36ed44b",
   "metadata": {},
   "outputs": [],
   "source": [
    "model = FlagModel(\n",
    "    model_name,\n",
    "    query_instruction_for_retrieval=query_prefix,\n",
    ")"
   ]
  },
  {
   "cell_type": "code",
   "execution_count": 10,
   "id": "adc677e6-c28f-49f9-a812-5cd4e93084b3",
   "metadata": {},
   "outputs": [
    {
     "name": "stdout",
     "output_type": "stream",
     "text": [
      "inferencing embedding for corpus (number=37361)--------------\n"
     ]
    },
    {
     "name": "stderr",
     "output_type": "stream",
     "text": [
      "Inference Embeddings: 100%|██████████| 146/146 [00:37<00:00,  3.87it/s]\n"
     ]
    },
    {
     "name": "stdout",
     "output_type": "stream",
     "text": [
      "inferencing embedding for queries (number=338127)--------------\n"
     ]
    },
    {
     "name": "stderr",
     "output_type": "stream",
     "text": [
      "Inference Embeddings: 100%|██████████| 1321/1321 [00:52<00:00, 25.34it/s]\n"
     ]
    },
    {
     "name": "stdout",
     "output_type": "stream",
     "text": [
      "create index and search------------------\n"
     ]
    },
    {
     "name": "stderr",
     "output_type": "stream",
     "text": [
      "Batches: 100%|██████████| 5284/5284 [00:07<00:00, 740.63it/s]\n"
     ]
    }
   ],
   "source": [
    "find_knn_neg(\n",
    "    model,\n",
    "    input_file=training_input_file,\n",
    "    candidate_pool=None,\n",
    "    output_file=training_hn_file,\n",
    "    sample_range=list(range(2, 200)),\n",
    "    negative_number=10,\n",
    "    use_gpu=True,\n",
    ")"
   ]
  },
  {
   "cell_type": "markdown",
   "id": "d408f52e-d8b8-4e6a-86bc-234d2b862a86",
   "metadata": {},
   "source": [
    "### Add processed files to hf dataset"
   ]
  },
  {
   "cell_type": "code",
   "execution_count": null,
   "id": "fd79a43e-7add-4037-9b5f-5bf60db89158",
   "metadata": {},
   "outputs": [],
   "source": [
    "hf_api = HfApi()\n",
    "\n",
    "for path in [\n",
    "    training_input_file,\n",
    "    eval_input_file,\n",
    "    training_hn_file,\n",
    "]:\n",
    "    hf_api.upload_file(\n",
    "        path_or_fileobj=path,\n",
    "        path_in_repo=path.split('/')[-1],\n",
    "        repo_id=hf_repo_name,\n",
    "        repo_type=\"dataset\",\n",
    "    )\n"
   ]
  },
  {
   "cell_type": "code",
   "execution_count": null,
   "id": "78410dd0-80c9-4f27-9a95-4b8a34604e1e",
   "metadata": {},
   "outputs": [],
   "source": []
  }
 ],
 "metadata": {
  "kernelspec": {
   "display_name": "Python 3 (ipykernel)",
   "language": "python",
   "name": "python3"
  },
  "language_info": {
   "codemirror_mode": {
    "name": "ipython",
    "version": 3
   },
   "file_extension": ".py",
   "mimetype": "text/x-python",
   "name": "python",
   "nbconvert_exporter": "python",
   "pygments_lexer": "ipython3",
   "version": "3.10.6"
  }
 },
 "nbformat": 4,
 "nbformat_minor": 5
}
