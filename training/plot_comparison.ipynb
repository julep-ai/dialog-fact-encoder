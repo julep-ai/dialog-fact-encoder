{
 "cells": [
  {
   "cell_type": "markdown",
   "id": "fe53fc09-0942-4e9a-921c-3804a1ede8ac",
   "metadata": {},
   "source": [
    "### Constants"
   ]
  },
  {
   "cell_type": "code",
   "execution_count": 1,
   "id": "94dea7bd-f87b-4559-bd82-dadf3dfd6025",
   "metadata": {},
   "outputs": [],
   "source": [
    "model_name = \"BAAI/bge-base-en-v1.5\"\n",
    "custom_model_name = \"julep-ai/dialog-bge-base\"\n",
    "max_len = 512\n",
    "combined_path = \"./data/combined\""
   ]
  },
  {
   "cell_type": "markdown",
   "id": "6a1ec397-3b13-4e2b-8e0f-9cf127378b8f",
   "metadata": {},
   "source": [
    "### Imports and utils"
   ]
  },
  {
   "cell_type": "code",
   "execution_count": 2,
   "id": "5e40d321-04e7-4048-891c-6748c6354a28",
   "metadata": {},
   "outputs": [],
   "source": [
    "%matplotlib inline\n",
    "\n",
    "from functools import partial\n",
    "import itertools as it\n",
    "import os\n",
    "import random\n",
    "\n",
    "from datasets import load_from_disk\n",
    "from FlagEmbedding import FlagModel\n",
    "import jsonlines as jsonl\n",
    "from lion_pytorch import Lion\n",
    "import matplotlib.pyplot as plt\n",
    "import numpy as np\n",
    "from numpy import dot\n",
    "from numpy.linalg import norm\n",
    "from sentence_transformers import InputExample, SentenceTransformer, losses as ls, models as ml, util\n",
    "from sentence_transformers.evaluation import SimilarityFunction, TripletEvaluator\n",
    "import torch\n",
    "from torch.utils.data import DataLoader, IterableDataset\n",
    "from tqdm.auto import tqdm\n",
    "\n",
    "os.environ[\"CUDA_VISIBLE_DEVICES\"] = \"0,1,2\""
   ]
  },
  {
   "cell_type": "markdown",
   "id": "2eb6f55d-ec09-4bc5-8f1a-31e521ad3121",
   "metadata": {},
   "source": [
    "### Datasets\n",
    "\n",
    "- combined: stacked_samsum + dialogsum\n",
    "- hn_output: hard negatives mined triple set"
   ]
  },
  {
   "cell_type": "code",
   "execution_count": 3,
   "id": "a557a00b-c593-4f54-b84e-8b7f9406d660",
   "metadata": {},
   "outputs": [],
   "source": [
    "combined = load_from_disk(\"./data/combined\")"
   ]
  },
  {
   "cell_type": "markdown",
   "id": "bc7f4744-2c5d-452d-9693-583317d07aca",
   "metadata": {},
   "source": [
    "### Embed using base model (before tuning)"
   ]
  },
  {
   "cell_type": "code",
   "execution_count": 4,
   "id": "3a9b6e6a-4de7-4277-96c1-6b30e140131d",
   "metadata": {},
   "outputs": [],
   "source": [
    "def embed(rows, model_name=model_name, wrap_items=False):\n",
    "    from sentence_transformers import SentenceTransformer\n",
    "\n",
    "    model = SentenceTransformer(model_name)\n",
    "    \n",
    "    dialogues = rows[\"dialogue\"]\n",
    "    summaries = rows[\"summary\"]\n",
    "\n",
    "    if wrap_items:\n",
    "        dialogues = [dict(dialog=dialogue) for dialogue in dialogues]\n",
    "        summaries = [dict(fact=summary) for summary in summaries]\n",
    "\n",
    "    dialogue_embs = model.encode(dialogues).tolist()\n",
    "    summary_embs = model.encode(summaries).tolist()\n",
    "\n",
    "    return dict(\n",
    "        dialogue_emb=dialogue_embs,\n",
    "        summary_emb=summary_embs,\n",
    "    )"
   ]
  },
  {
   "cell_type": "code",
   "execution_count": 5,
   "id": "45b531eb-a85e-44f2-84af-1384bb79c58b",
   "metadata": {
    "scrolled": true
   },
   "outputs": [
    {
     "data": {
      "application/vnd.jupyter.widget-view+json": {
       "model_id": "6a4b91a79019435c999c44f9001eca06",
       "version_major": 2,
       "version_minor": 0
      },
      "text/plain": [
       "Map:   0%|          | 0/13968 [00:00<?, ? examples/s]"
      ]
     },
     "metadata": {},
     "output_type": "display_data"
    },
    {
     "data": {
      "application/vnd.jupyter.widget-view+json": {
       "model_id": "c3360b1898ad4e2b94a3e2d5d6f6d2b0",
       "version_major": 2,
       "version_minor": 0
      },
      "text/plain": [
       "Downloading (…)3ac3f/.gitattributes:   0%|          | 0.00/1.52k [00:00<?, ?B/s]"
      ]
     },
     "metadata": {},
     "output_type": "display_data"
    },
    {
     "data": {
      "application/vnd.jupyter.widget-view+json": {
       "model_id": "562e14c5671e4879a2e6f3189e361701",
       "version_major": 2,
       "version_minor": 0
      },
      "text/plain": [
       "Downloading (…)_Pooling/config.json:   0%|          | 0.00/190 [00:00<?, ?B/s]"
      ]
     },
     "metadata": {},
     "output_type": "display_data"
    },
    {
     "data": {
      "application/vnd.jupyter.widget-view+json": {
       "model_id": "8bc338c9c76641b888e06ee0a1620443",
       "version_major": 2,
       "version_minor": 0
      },
      "text/plain": [
       "Downloading (…)440fe3ac3f/README.md:   0%|          | 0.00/89.0k [00:00<?, ?B/s]"
      ]
     },
     "metadata": {},
     "output_type": "display_data"
    },
    {
     "data": {
      "application/vnd.jupyter.widget-view+json": {
       "model_id": "0ae003ecbed44edab1b14dcaa1ed5ca2",
       "version_major": 2,
       "version_minor": 0
      },
      "text/plain": [
       "Downloading (…)0fe3ac3f/config.json:   0%|          | 0.00/777 [00:00<?, ?B/s]"
      ]
     },
     "metadata": {},
     "output_type": "display_data"
    },
    {
     "data": {
      "application/vnd.jupyter.widget-view+json": {
       "model_id": "c844e511c0a6477c9f5fccb1059d7c9d",
       "version_major": 2,
       "version_minor": 0
      },
      "text/plain": [
       "Downloading (…)ce_transformers.json:   0%|          | 0.00/124 [00:00<?, ?B/s]"
      ]
     },
     "metadata": {},
     "output_type": "display_data"
    },
    {
     "data": {
      "application/vnd.jupyter.widget-view+json": {
       "model_id": "0067683012c74f8a9c989e1d22a10b95",
       "version_major": 2,
       "version_minor": 0
      },
      "text/plain": [
       "Downloading pytorch_model.bin:   0%|          | 0.00/438M [00:00<?, ?B/s]"
      ]
     },
     "metadata": {},
     "output_type": "display_data"
    },
    {
     "data": {
      "application/vnd.jupyter.widget-view+json": {
       "model_id": "ae8fe6cdc50048f6b744c2bf64c8a07d",
       "version_major": 2,
       "version_minor": 0
      },
      "text/plain": [
       "Downloading (…)nce_bert_config.json:   0%|          | 0.00/52.0 [00:00<?, ?B/s]"
      ]
     },
     "metadata": {},
     "output_type": "display_data"
    },
    {
     "data": {
      "application/vnd.jupyter.widget-view+json": {
       "model_id": "fd0a00882e974828bbe7989badc0a03e",
       "version_major": 2,
       "version_minor": 0
      },
      "text/plain": [
       "Downloading (…)cial_tokens_map.json:   0%|          | 0.00/125 [00:00<?, ?B/s]"
      ]
     },
     "metadata": {},
     "output_type": "display_data"
    },
    {
     "data": {
      "application/vnd.jupyter.widget-view+json": {
       "model_id": "c4488063cd4440149599eb77590cac4e",
       "version_major": 2,
       "version_minor": 0
      },
      "text/plain": [
       "Downloading (…)3ac3f/tokenizer.json:   0%|          | 0.00/711k [00:00<?, ?B/s]"
      ]
     },
     "metadata": {},
     "output_type": "display_data"
    },
    {
     "data": {
      "application/vnd.jupyter.widget-view+json": {
       "model_id": "e7ed224914414e608dbef0390b73a31c",
       "version_major": 2,
       "version_minor": 0
      },
      "text/plain": [
       "Downloading (…)okenizer_config.json:   0%|          | 0.00/366 [00:00<?, ?B/s]"
      ]
     },
     "metadata": {},
     "output_type": "display_data"
    },
    {
     "data": {
      "application/vnd.jupyter.widget-view+json": {
       "model_id": "f9e48714c4c841ef8d591f86c848b85a",
       "version_major": 2,
       "version_minor": 0
      },
      "text/plain": [
       "Downloading (…)440fe3ac3f/vocab.txt:   0%|          | 0.00/232k [00:00<?, ?B/s]"
      ]
     },
     "metadata": {},
     "output_type": "display_data"
    },
    {
     "data": {
      "application/vnd.jupyter.widget-view+json": {
       "model_id": "c281f7da87f340acbc0ad1b3dc2a1bd7",
       "version_major": 2,
       "version_minor": 0
      },
      "text/plain": [
       "Downloading (…)fe3ac3f/modules.json:   0%|          | 0.00/229 [00:00<?, ?B/s]"
      ]
     },
     "metadata": {},
     "output_type": "display_data"
    }
   ],
   "source": [
    "base_eval_ds = combined[\"test\"].map(embed, batch_size=500, batched=True)"
   ]
  },
  {
   "cell_type": "code",
   "execution_count": 6,
   "id": "31c72fe6-834c-423a-8dfc-cd968024941a",
   "metadata": {},
   "outputs": [],
   "source": [
    "def calc_cos_sim(row):\n",
    "    dialogue_emb = row[\"dialogue_emb\"]\n",
    "    summary_emb = row[\"summary_emb\"]\n",
    "\n",
    "    a = np.array(dialogue_emb)\n",
    "    b = np.array(summary_emb)\n",
    "\n",
    "    cos_sim = dot(a, b)/(norm(a)*norm(b))\n",
    "\n",
    "    return dict(similarity=cos_sim)"
   ]
  },
  {
   "cell_type": "code",
   "execution_count": 7,
   "id": "908fd3a1-d705-4da3-8d0c-42268b112bc8",
   "metadata": {},
   "outputs": [
    {
     "data": {
      "application/vnd.jupyter.widget-view+json": {
       "model_id": "bf06cf20661040c9a2e43d50abe91c92",
       "version_major": 2,
       "version_minor": 0
      },
      "text/plain": [
       "Map (num_proc=40):   0%|          | 0/13968 [00:00<?, ? examples/s]"
      ]
     },
     "metadata": {},
     "output_type": "display_data"
    }
   ],
   "source": [
    "base_eval_ds = base_eval_ds.map(calc_cos_sim, num_proc=40)"
   ]
  },
  {
   "cell_type": "markdown",
   "id": "ae9bd6f2-51d9-4d52-89ab-a931806aa1e7",
   "metadata": {},
   "source": [
    "### Evaluation (before tuning)"
   ]
  },
  {
   "cell_type": "code",
   "execution_count": 8,
   "id": "40990086-b854-4cce-a8ec-bc4faacb482f",
   "metadata": {},
   "outputs": [
    {
     "data": {
      "text/plain": [
       "1"
      ]
     },
     "execution_count": 8,
     "metadata": {},
     "output_type": "execute_result"
    },
    {
     "data": {
      "image/png": "[encoded data removed]",
      "text/plain": [
       "<Figure size 640x480 with 1 Axes>"
      ]
     },
     "metadata": {},
     "output_type": "display_data"
    }
   ],
   "source": [
    "plt.hist(base_eval_ds[\"similarity\"], bins=1000); 1"
   ]
  },
  {
   "cell_type": "markdown",
   "id": "1e76eafa-62a3-4aef-81c3-4c33eb2236ed",
   "metadata": {},
   "source": [
    "### Evaluation (after tuning)"
   ]
  },
  {
   "cell_type": "code",
   "execution_count": 9,
   "id": "4e6a586e-e468-450d-9d2d-4b0538d8aaf1",
   "metadata": {
    "scrolled": true
   },
   "outputs": [
    {
     "data": {
      "application/vnd.jupyter.widget-view+json": {
       "model_id": "062227131c2245fb8c9579b6a4b429d4",
       "version_major": 2,
       "version_minor": 0
      },
      "text/plain": [
       "Map:   0%|          | 0/13968 [00:00<?, ? examples/s]"
      ]
     },
     "metadata": {},
     "output_type": "display_data"
    }
   ],
   "source": [
    "custom_embed = partial(embed, model_name=custom_model_name, wrap_items=True)\n",
    "custom_eval_ds = combined[\"test\"].map(custom_embed, batched=True, batch_size=500)"
   ]
  },
  {
   "cell_type": "code",
   "execution_count": 10,
   "id": "211dccad-a6b9-4221-bc5d-6205d9949d81",
   "metadata": {},
   "outputs": [
    {
     "data": {
      "application/vnd.jupyter.widget-view+json": {
       "model_id": "a8329e50762349f99de3b31df5e6f7e3",
       "version_major": 2,
       "version_minor": 0
      },
      "text/plain": [
       "Map (num_proc=40):   0%|          | 0/13968 [00:00<?, ? examples/s]"
      ]
     },
     "metadata": {},
     "output_type": "display_data"
    }
   ],
   "source": [
    "custom_eval_ds = custom_eval_ds.map(calc_cos_sim, num_proc=40)"
   ]
  },
  {
   "cell_type": "code",
   "execution_count": 11,
   "id": "e76be2e2-c7c5-4833-acf8-119a72ec6ac3",
   "metadata": {},
   "outputs": [
    {
     "data": {
      "text/plain": [
       "1"
      ]
     },
     "execution_count": 11,
     "metadata": {},
     "output_type": "execute_result"
    },
    {
     "data": {
      "image/png": "[encoded data removed]",
      "text/plain": [
       "<Figure size 640x480 with 1 Axes>"
      ]
     },
     "metadata": {},
     "output_type": "display_data"
    }
   ],
   "source": [
    "plt.hist(custom_eval_ds[\"similarity\"], bins=1000); 1"
   ]
  },
  {
   "cell_type": "code",
   "execution_count": null,
   "id": "6449ada6-9818-440b-92a3-a52bda89b926",
   "metadata": {},
   "outputs": [],
   "source": []
  }
 ],
 "metadata": {
  "kernelspec": {
   "display_name": "Python 3 (ipykernel)",
   "language": "python",
   "name": "python3"
  },
  "language_info": {
   "codemirror_mode": {
    "name": "ipython",
    "version": 3
   },
   "file_extension": ".py",
   "mimetype": "text/x-python",
   "name": "python",
   "nbconvert_exporter": "python",
   "pygments_lexer": "ipython3",
   "version": "3.10.13"
  }
 },
 "nbformat": 4,
 "nbformat_minor": 5
}
