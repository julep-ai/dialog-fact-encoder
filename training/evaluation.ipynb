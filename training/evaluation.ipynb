{
 "cells": [
  {
   "cell_type": "markdown",
   "id": "3947ff7c-3ee8-40dd-b262-2b2b1dd4e15e",
   "metadata": {},
   "source": [
    "## Evaluate different methods\n",
    "\n",
    "**Goal:** Evaluate embedding models to match dialogs with (possibly) relevant facts  "
   ]
  },
  {
   "cell_type": "markdown",
   "id": "fe53fc09-0942-4e9a-921c-3804a1ede8ac",
   "metadata": {},
   "source": [
    "### Constants"
   ]
  },
  {
   "cell_type": "code",
   "execution_count": 2,
   "id": "94dea7bd-f87b-4559-bd82-dadf3dfd6025",
   "metadata": {},
   "outputs": [],
   "source": [
    "base_model_name = \"BAAI/bge-base-en-v1.5\"\n",
    "custom_model_name = \"./prev-model\" # \"julep-ai/dfe-base-en\"\n",
    "max_len = 512"
   ]
  },
  {
   "cell_type": "markdown",
   "id": "6a1ec397-3b13-4e2b-8e0f-9cf127378b8f",
   "metadata": {},
   "source": [
    "### Imports and utils"
   ]
  },
  {
   "cell_type": "code",
   "execution_count": 3,
   "id": "5e40d321-04e7-4048-891c-6748c6354a28",
   "metadata": {},
   "outputs": [],
   "source": [
    "%matplotlib inline\n",
    "\n",
    "from functools import partial\n",
    "\n",
    "from datasets import load_dataset\n",
    "import matplotlib.pyplot as plt\n",
    "import numpy as np\n",
    "from numpy import dot\n",
    "from numpy.linalg import norm\n",
    "from sentence_transformers import SentenceTransformer\n",
    "from sentence_transformers.evaluation import SimilarityFunction, TripletEvaluator\n",
    "from tqdm.auto import tqdm"
   ]
  },
  {
   "cell_type": "markdown",
   "id": "2eb6f55d-ec09-4bc5-8f1a-31e521ad3121",
   "metadata": {},
   "source": [
    "### Datasets\n",
    "\n",
    "- for evaluation: \"stacked_samsum\" (_test_ split)"
   ]
  },
  {
   "cell_type": "code",
   "execution_count": 4,
   "id": "a557a00b-c593-4f54-b84e-8b7f9406d660",
   "metadata": {},
   "outputs": [
    {
     "data": {
      "application/vnd.jupyter.widget-view+json": {
       "model_id": "df94425e2711404aa8dbcfc85332a181",
       "version_major": 2,
       "version_minor": 0
      },
      "text/plain": [
       "Downloading readme:   0%|          | 0.00/750 [00:00<?, ?B/s]"
      ]
     },
     "metadata": {},
     "output_type": "display_data"
    },
    {
     "data": {
      "application/vnd.jupyter.widget-view+json": {
       "model_id": "d4b45c1fb0b74028aba6d12366383e86",
       "version_major": 2,
       "version_minor": 0
      },
      "text/plain": [
       "Downloading data files:   0%|          | 0/3 [00:00<?, ?it/s]"
      ]
     },
     "metadata": {},
     "output_type": "display_data"
    },
    {
     "data": {
      "application/vnd.jupyter.widget-view+json": {
       "model_id": "74b0caa1e7854fa793d137cb4a1eef32",
       "version_major": 2,
       "version_minor": 0
      },
      "text/plain": [
       "Downloading data:   0%|          | 0.00/46.0M [00:00<?, ?B/s]"
      ]
     },
     "metadata": {},
     "output_type": "display_data"
    },
    {
     "data": {
      "application/vnd.jupyter.widget-view+json": {
       "model_id": "3f905a88f3b24a31a3657c729b82151c",
       "version_major": 2,
       "version_minor": 0
      },
      "text/plain": [
       "Downloading data:   0%|          | 0.00/1.99M [00:00<?, ?B/s]"
      ]
     },
     "metadata": {},
     "output_type": "display_data"
    },
    {
     "data": {
      "application/vnd.jupyter.widget-view+json": {
       "model_id": "80b232a3f67f4083ad8c29de0c82d01a",
       "version_major": 2,
       "version_minor": 0
      },
      "text/plain": [
       "Downloading data:   0%|          | 0.00/2.04M [00:00<?, ?B/s]"
      ]
     },
     "metadata": {},
     "output_type": "display_data"
    },
    {
     "data": {
      "application/vnd.jupyter.widget-view+json": {
       "model_id": "ae1918e83dc8496d98ca19a2c987f072",
       "version_major": 2,
       "version_minor": 0
      },
      "text/plain": [
       "Extracting data files:   0%|          | 0/3 [00:00<?, ?it/s]"
      ]
     },
     "metadata": {},
     "output_type": "display_data"
    },
    {
     "data": {
      "application/vnd.jupyter.widget-view+json": {
       "model_id": "88d6d9334f6d4db997689ccabedfc375",
       "version_major": 2,
       "version_minor": 0
      },
      "text/plain": [
       "Generating train split:   0%|          | 0/225418 [00:00<?, ? examples/s]"
      ]
     },
     "metadata": {},
     "output_type": "display_data"
    },
    {
     "data": {
      "application/vnd.jupyter.widget-view+json": {
       "model_id": "8da12fefd58d472888a332a32eb6dc9b",
       "version_major": 2,
       "version_minor": 0
      },
      "text/plain": [
       "Generating validation split:   0%|          | 0/12754 [00:00<?, ? examples/s]"
      ]
     },
     "metadata": {},
     "output_type": "display_data"
    },
    {
     "data": {
      "application/vnd.jupyter.widget-view+json": {
       "model_id": "dbee692bb1f0429f834bc2de0f253beb",
       "version_major": 2,
       "version_minor": 0
      },
      "text/plain": [
       "Generating test split:   0%|          | 0/12254 [00:00<?, ? examples/s]"
      ]
     },
     "metadata": {},
     "output_type": "display_data"
    },
    {
     "data": {
      "application/vnd.jupyter.widget-view+json": {
       "model_id": "c23244da227649aabfd03ec07870ce11",
       "version_major": 2,
       "version_minor": 0
      },
      "text/plain": [
       "Filter:   0%|          | 0/12254 [00:00<?, ? examples/s]"
      ]
     },
     "metadata": {},
     "output_type": "display_data"
    },
    {
     "data": {
      "text/plain": [
       "(3656, 12254)"
      ]
     },
     "execution_count": 4,
     "metadata": {},
     "output_type": "execute_result"
    }
   ],
   "source": [
    "# Remove '#' from the dialog and remove unnecessary columns\n",
    "dataset = load_dataset(\n",
    "    \"julep-ai/dfe-stacked_samsum\", \n",
    "    split=\"test\",\n",
    ")\n",
    "\n",
    "filtered_dataset = dataset.filter(lambda row: row[\"is_truncated\"] or row[\"is_augmented\"])\n",
    "len(filtered_dataset), len(dataset)"
   ]
  },
  {
   "cell_type": "code",
   "execution_count": null,
   "id": "7ba51048-53df-431f-b720-18b547e11f29",
   "metadata": {},
   "outputs": [],
   "source": [
    "dataset = filtered_dataset"
   ]
  },
  {
   "cell_type": "code",
   "execution_count": 1,
   "id": "5781eeb2-0179-4532-9f87-394ab2898015",
   "metadata": {},
   "outputs": [],
   "source": [
    "def truncate_lines(row, num=2, min=3):\n",
    "    \"\"\"\n",
    "    Split dialog into lines and then drop the last `num` lines,\n",
    "    making sure there are at least `min` lines remaining.\n",
    "    \"\"\"\n",
    "\n",
    "    dialogue = row[\"dialogue\"]\n",
    "    lines = dialogue.split(\"\\n\")\n",
    "\n",
    "    # If too short, return as is\n",
    "    if len(lines) - num > min:\n",
    "        dialogue = \"\\n\".join(lines[:-num])\n",
    "\n",
    "    return dict(dialogue=dialogue)"
   ]
  },
  {
   "cell_type": "code",
   "execution_count": null,
   "id": "37993237-fd75-4da7-9d1e-d7ee56e3c16e",
   "metadata": {},
   "outputs": [],
   "source": [
    "dataset = dataset.map(truncate_lines)"
   ]
  },
  {
   "cell_type": "markdown",
   "id": "bc7f4744-2c5d-452d-9693-583317d07aca",
   "metadata": {},
   "source": [
    "### Embed using base model (before tuning)"
   ]
  },
  {
   "cell_type": "code",
   "execution_count": 4,
   "id": "3a9b6e6a-4de7-4277-96c1-6b30e140131d",
   "metadata": {},
   "outputs": [],
   "source": [
    "def embed(rows, model_name, wrap_items=False):\n",
    "    from sentence_transformers import SentenceTransformer\n",
    "\n",
    "    model = SentenceTransformer(model_name)\n",
    "    \n",
    "    dialogues = rows[\"dialogue\"]\n",
    "    summaries = rows[\"summary\"]\n",
    "\n",
    "    if wrap_items:\n",
    "        dialogues = [dict(dialog=dialogue) for dialogue in dialogues]\n",
    "        summaries = [dict(fact=summary) for summary in summaries]\n",
    "\n",
    "    dialogue_embs = model.encode(dialogues).tolist()\n",
    "    summary_embs = model.encode(summaries).tolist()\n",
    "\n",
    "    return dict(\n",
    "        dialogue_emb=dialogue_embs,\n",
    "        summary_emb=summary_embs,\n",
    "    )"
   ]
  },
  {
   "cell_type": "code",
   "execution_count": 5,
   "id": "31c72fe6-834c-423a-8dfc-cd968024941a",
   "metadata": {},
   "outputs": [],
   "source": [
    "def calc_cos_sim(row):\n",
    "    dialogue_emb = row[\"dialogue_emb\"]\n",
    "    summary_emb = row[\"summary_emb\"]\n",
    "\n",
    "    a = np.array(dialogue_emb)\n",
    "    b = np.array(summary_emb)\n",
    "\n",
    "    cos_sim = dot(a, b)/(norm(a)*norm(b))\n",
    "\n",
    "    return dict(similarity=cos_sim)"
   ]
  },
  {
   "cell_type": "code",
   "execution_count": 6,
   "id": "45b531eb-a85e-44f2-84af-1384bb79c58b",
   "metadata": {
    "scrolled": true
   },
   "outputs": [
    {
     "data": {
      "application/vnd.jupyter.widget-view+json": {
       "model_id": "87bf12ff5d0c4eb8be0f7648be99d4e0",
       "version_major": 2,
       "version_minor": 0
      },
      "text/plain": [
       "Map:   0%|          | 0/37328 [00:00<?, ? examples/s]"
      ]
     },
     "metadata": {},
     "output_type": "display_data"
    }
   ],
   "source": [
    "base_eval_ds = dataset.map(\n",
    "    partial(embed, model_name=base_model_name),\n",
    "    batch_size=5000, \n",
    "    batched=True,\n",
    ")"
   ]
  },
  {
   "cell_type": "code",
   "execution_count": 7,
   "id": "908fd3a1-d705-4da3-8d0c-42268b112bc8",
   "metadata": {},
   "outputs": [
    {
     "name": "stderr",
     "output_type": "stream",
     "text": [
      "Parameter 'function'=<function calc_cos_sim at 0x7efa042012d0> of the transform datasets.arrow_dataset.Dataset._map_single couldn't be hashed properly, a random hash was used instead. Make sure your transforms and parameters are serializable with pickle or dill for the dataset fingerprinting and caching to work. If you reuse this transform, the caching mechanism will consider it to be different from the previous calls and recompute everything. This warning is only showed once. Subsequent hashing failures won't be showed.\n"
     ]
    },
    {
     "data": {
      "application/vnd.jupyter.widget-view+json": {
       "model_id": "cb360174fa1b4a92ac5bbeda49dc05ae",
       "version_major": 2,
       "version_minor": 0
      },
      "text/plain": [
       "Map (num_proc=100):   0%|          | 0/37328 [00:00<?, ? examples/s]"
      ]
     },
     "metadata": {},
     "output_type": "display_data"
    }
   ],
   "source": [
    "base_eval_ds = base_eval_ds.map(calc_cos_sim, num_proc=100)"
   ]
  },
  {
   "cell_type": "markdown",
   "id": "ae9bd6f2-51d9-4d52-89ab-a931806aa1e7",
   "metadata": {},
   "source": [
    "### Evaluation (using base model)"
   ]
  },
  {
   "cell_type": "code",
   "execution_count": 8,
   "id": "40990086-b854-4cce-a8ec-bc4faacb482f",
   "metadata": {},
   "outputs": [
    {
     "data": {
      "text/plain": [
       "1"
      ]
     },
     "execution_count": 8,
     "metadata": {},
     "output_type": "execute_result"
    },
    {
     "data": {
      "image/png": "[encoded data removed]",
      "text/plain": [
       "<Figure size 640x480 with 1 Axes>"
      ]
     },
     "metadata": {},
     "output_type": "display_data"
    }
   ],
   "source": [
    "plt.hist(base_eval_ds[\"similarity\"], bins=1000); 1"
   ]
  },
  {
   "cell_type": "markdown",
   "id": "1e76eafa-62a3-4aef-81c3-4c33eb2236ed",
   "metadata": {},
   "source": [
    "### Evaluation (after tuning)"
   ]
  },
  {
   "cell_type": "code",
   "execution_count": 10,
   "id": "4e6a586e-e468-450d-9d2d-4b0538d8aaf1",
   "metadata": {
    "scrolled": true
   },
   "outputs": [
    {
     "data": {
      "application/vnd.jupyter.widget-view+json": {
       "model_id": "cff764b0ebab4b968ad7fa15c4c5380f",
       "version_major": 2,
       "version_minor": 0
      },
      "text/plain": [
       "Map:   0%|          | 0/37328 [00:00<?, ? examples/s]"
      ]
     },
     "metadata": {},
     "output_type": "display_data"
    }
   ],
   "source": [
    "custom_embed = partial(embed, model_name=custom_model_name, wrap_items=True)\n",
    "custom_eval_ds = dataset.map(custom_embed, batched=True, batch_size=5000)"
   ]
  },
  {
   "cell_type": "code",
   "execution_count": 11,
   "id": "211dccad-a6b9-4221-bc5d-6205d9949d81",
   "metadata": {},
   "outputs": [
    {
     "data": {
      "application/vnd.jupyter.widget-view+json": {
       "model_id": "c893708273f94cd3bc9eab940d6d60d2",
       "version_major": 2,
       "version_minor": 0
      },
      "text/plain": [
       "Map (num_proc=100):   0%|          | 0/37328 [00:00<?, ? examples/s]"
      ]
     },
     "metadata": {},
     "output_type": "display_data"
    }
   ],
   "source": [
    "custom_eval_ds = custom_eval_ds.map(calc_cos_sim, num_proc=100)"
   ]
  },
  {
   "cell_type": "code",
   "execution_count": 12,
   "id": "e76be2e2-c7c5-4833-acf8-119a72ec6ac3",
   "metadata": {},
   "outputs": [
    {
     "data": {
      "text/plain": [
       "1"
      ]
     },
     "execution_count": 12,
     "metadata": {},
     "output_type": "execute_result"
    },
    {
     "data": {
      "image/png": "[encoded data removed]",
      "text/plain": [
       "<Figure size 640x480 with 1 Axes>"
      ]
     },
     "metadata": {},
     "output_type": "display_data"
    }
   ],
   "source": [
    "plt.hist(custom_eval_ds[\"similarity\"], bins=1000); 1"
   ]
  },
  {
   "cell_type": "code",
   "execution_count": null,
   "id": "5622684a-9cf5-401c-a017-6baf1be92d7d",
   "metadata": {},
   "outputs": [],
   "source": []
  }
 ],
 "metadata": {
  "kernelspec": {
   "display_name": "Python 3 (ipykernel)",
   "language": "python",
   "name": "python3"
  },
  "language_info": {
   "codemirror_mode": {
    "name": "ipython",
    "version": 3
   },
   "file_extension": ".py",
   "mimetype": "text/x-python",
   "name": "python",
   "nbconvert_exporter": "python",
   "pygments_lexer": "ipython3",
   "version": "3.10.6"
  }
 },
 "nbformat": 4,
 "nbformat_minor": 5
}
