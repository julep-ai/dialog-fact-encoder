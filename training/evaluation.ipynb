{
 "cells": [
  {
   "cell_type": "markdown",
   "id": "3947ff7c-3ee8-40dd-b262-2b2b1dd4e15e",
   "metadata": {},
   "source": [
    "## Evaluate different methods\n",
    "\n",
    "**Goal:** Evaluate embedding models to match dialogs with (possibly) relevant facts  "
   ]
  },
  {
   "cell_type": "markdown",
   "id": "fe53fc09-0942-4e9a-921c-3804a1ede8ac",
   "metadata": {},
   "source": [
    "### Constants"
   ]
  },
  {
   "cell_type": "code",
   "execution_count": 2,
   "id": "94dea7bd-f87b-4559-bd82-dadf3dfd6025",
   "metadata": {},
   "outputs": [],
   "source": [
    "base_model_name = \"BAAI/bge-base-en-v1.5\"\n",
    "custom_model_name = \"julep-ai/dfe-base-en\"\n",
    "max_len = 512\n",
    "batch_size = 128"
   ]
  },
  {
   "cell_type": "markdown",
   "id": "6a1ec397-3b13-4e2b-8e0f-9cf127378b8f",
   "metadata": {},
   "source": [
    "### Imports and utils"
   ]
  },
  {
   "cell_type": "code",
   "execution_count": 3,
   "id": "5e40d321-04e7-4048-891c-6748c6354a28",
   "metadata": {},
   "outputs": [],
   "source": [
    "%matplotlib inline\n",
    "\n",
    "import hashlib, base64\n",
    "from functools import partial\n",
    "\n",
    "from beir.retrieval import models\n",
    "from beir.retrieval.evaluation import EvaluateRetrieval\n",
    "from beir.retrieval.search.dense import DenseRetrievalExactSearch as DRES\n",
    "from datasets import load_dataset\n",
    "import matplotlib.pyplot as plt\n",
    "import numpy as np\n",
    "from numpy import dot\n",
    "from numpy.linalg import norm\n",
    "from sentence_transformers import SentenceTransformer\n",
    "from sentence_transformers.evaluation import SimilarityFunction, TripletEvaluator\n",
    "from tqdm.auto import tqdm"
   ]
  },
  {
   "cell_type": "markdown",
   "id": "2eb6f55d-ec09-4bc5-8f1a-31e521ad3121",
   "metadata": {},
   "source": [
    "### Datasets\n",
    "\n",
    "- for evaluation: \"julep-ai/dfe-stacked_samsum\" (_test_ split)"
   ]
  },
  {
   "cell_type": "code",
   "execution_count": 4,
   "id": "a557a00b-c593-4f54-b84e-8b7f9406d660",
   "metadata": {},
   "outputs": [],
   "source": [
    "# Remove '#' from the dialog and remove unnecessary columns\n",
    "dataset = load_dataset(\n",
    "    \"julep-ai/dfe-stacked_samsum\", \n",
    "    split=\"test\",\n",
    ")"
   ]
  },
  {
   "cell_type": "markdown",
   "id": "bc7f4744-2c5d-452d-9693-583317d07aca",
   "metadata": {},
   "source": [
    "### Embed using base model (before tuning)"
   ]
  },
  {
   "cell_type": "code",
   "execution_count": 4,
   "id": "3a9b6e6a-4de7-4277-96c1-6b30e140131d",
   "metadata": {},
   "outputs": [],
   "source": [
    "def embed(rows, model_name, wrap_items=False):\n",
    "    from sentence_transformers import SentenceTransformer\n",
    "\n",
    "    model = SentenceTransformer(model_name)\n",
    "    \n",
    "    dialogues = rows[\"dialogue\"]\n",
    "    summaries = rows[\"summary\"]\n",
    "\n",
    "    if wrap_items:\n",
    "        dialogues = [dict(dialog=dialogue) for dialogue in dialogues]\n",
    "        summaries = [dict(fact=summary) for summary in summaries]\n",
    "\n",
    "    dialogue_embs = model.encode(dialogues).tolist()\n",
    "    summary_embs = model.encode(summaries).tolist()\n",
    "\n",
    "    return dict(\n",
    "        dialogue_emb=dialogue_embs,\n",
    "        summary_emb=summary_embs,\n",
    "    )"
   ]
  },
  {
   "cell_type": "code",
   "execution_count": 5,
   "id": "31c72fe6-834c-423a-8dfc-cd968024941a",
   "metadata": {},
   "outputs": [],
   "source": [
    "def calc_cos_sim(row):\n",
    "    dialogue_emb = row[\"dialogue_emb\"]\n",
    "    summary_emb = row[\"summary_emb\"]\n",
    "\n",
    "    a = np.array(dialogue_emb)\n",
    "    b = np.array(summary_emb)\n",
    "\n",
    "    cos_sim = dot(a, b)/(norm(a)*norm(b))\n",
    "\n",
    "    return dict(similarity=cos_sim)"
   ]
  },
  {
   "cell_type": "code",
   "execution_count": 6,
   "id": "45b531eb-a85e-44f2-84af-1384bb79c58b",
   "metadata": {
    "scrolled": true
   },
   "outputs": [
    {
     "data": {
      "application/vnd.jupyter.widget-view+json": {
       "model_id": "5c54dd2ef50e464aa964fcc796b9d0fc",
       "version_major": 2,
       "version_minor": 0
      },
      "text/plain": [
       "Map:   0%|          | 0/18381 [00:00<?, ? examples/s]"
      ]
     },
     "metadata": {},
     "output_type": "display_data"
    },
    {
     "data": {
      "application/vnd.jupyter.widget-view+json": {
       "model_id": "ab3ac11149794bcfa202fdc765781f64",
       "version_major": 2,
       "version_minor": 0
      },
      "text/plain": [
       "Downloading (…)714e1/.gitattributes:   0%|          | 0.00/1.52k [00:00<?, ?B/s]"
      ]
     },
     "metadata": {},
     "output_type": "display_data"
    },
    {
     "data": {
      "application/vnd.jupyter.widget-view+json": {
       "model_id": "a8073038ee0d4137bf3f40b0181dff15",
       "version_major": 2,
       "version_minor": 0
      },
      "text/plain": [
       "Downloading (…)_Pooling/config.json:   0%|          | 0.00/190 [00:00<?, ?B/s]"
      ]
     },
     "metadata": {},
     "output_type": "display_data"
    },
    {
     "data": {
      "application/vnd.jupyter.widget-view+json": {
       "model_id": "047360baf72546a08939c38d1137ac3b",
       "version_major": 2,
       "version_minor": 0
      },
      "text/plain": [
       "Downloading (…)c46d0714e1/README.md:   0%|          | 0.00/89.0k [00:00<?, ?B/s]"
      ]
     },
     "metadata": {},
     "output_type": "display_data"
    },
    {
     "data": {
      "application/vnd.jupyter.widget-view+json": {
       "model_id": "5c4f50ba42ab4128ada40467fefc805b",
       "version_major": 2,
       "version_minor": 0
      },
      "text/plain": [
       "Downloading (…)6d0714e1/config.json:   0%|          | 0.00/777 [00:00<?, ?B/s]"
      ]
     },
     "metadata": {},
     "output_type": "display_data"
    },
    {
     "data": {
      "application/vnd.jupyter.widget-view+json": {
       "model_id": "8cfe602da80f4f77a7549a7ddb927c0d",
       "version_major": 2,
       "version_minor": 0
      },
      "text/plain": [
       "Downloading (…)ce_transformers.json:   0%|          | 0.00/124 [00:00<?, ?B/s]"
      ]
     },
     "metadata": {},
     "output_type": "display_data"
    },
    {
     "data": {
      "application/vnd.jupyter.widget-view+json": {
       "model_id": "7dac6c3ea2854ec9af91e745b8fa46c0",
       "version_major": 2,
       "version_minor": 0
      },
      "text/plain": [
       "Downloading pytorch_model.bin:   0%|          | 0.00/438M [00:00<?, ?B/s]"
      ]
     },
     "metadata": {},
     "output_type": "display_data"
    },
    {
     "data": {
      "application/vnd.jupyter.widget-view+json": {
       "model_id": "02c714a0c7cd41c98f7e486361d8daf8",
       "version_major": 2,
       "version_minor": 0
      },
      "text/plain": [
       "Downloading (…)nce_bert_config.json:   0%|          | 0.00/52.0 [00:00<?, ?B/s]"
      ]
     },
     "metadata": {},
     "output_type": "display_data"
    },
    {
     "data": {
      "application/vnd.jupyter.widget-view+json": {
       "model_id": "e95b42d5a81d40f2952c08d9fd4af061",
       "version_major": 2,
       "version_minor": 0
      },
      "text/plain": [
       "Downloading (…)cial_tokens_map.json:   0%|          | 0.00/125 [00:00<?, ?B/s]"
      ]
     },
     "metadata": {},
     "output_type": "display_data"
    },
    {
     "data": {
      "application/vnd.jupyter.widget-view+json": {
       "model_id": "0352dde2df0f41e8b5c2b988178a2eab",
       "version_major": 2,
       "version_minor": 0
      },
      "text/plain": [
       "Downloading (…)714e1/tokenizer.json:   0%|          | 0.00/711k [00:00<?, ?B/s]"
      ]
     },
     "metadata": {},
     "output_type": "display_data"
    },
    {
     "data": {
      "application/vnd.jupyter.widget-view+json": {
       "model_id": "ecbb39b958c346838f35eac71830a15a",
       "version_major": 2,
       "version_minor": 0
      },
      "text/plain": [
       "Downloading (…)okenizer_config.json:   0%|          | 0.00/366 [00:00<?, ?B/s]"
      ]
     },
     "metadata": {},
     "output_type": "display_data"
    },
    {
     "data": {
      "application/vnd.jupyter.widget-view+json": {
       "model_id": "63ef5fd7799d43b8bde272c4038780d6",
       "version_major": 2,
       "version_minor": 0
      },
      "text/plain": [
       "Downloading (…)c46d0714e1/vocab.txt:   0%|          | 0.00/232k [00:00<?, ?B/s]"
      ]
     },
     "metadata": {},
     "output_type": "display_data"
    },
    {
     "data": {
      "application/vnd.jupyter.widget-view+json": {
       "model_id": "77b462824f294f9281d77aae165b1a53",
       "version_major": 2,
       "version_minor": 0
      },
      "text/plain": [
       "Downloading (…)d0714e1/modules.json:   0%|          | 0.00/349 [00:00<?, ?B/s]"
      ]
     },
     "metadata": {},
     "output_type": "display_data"
    }
   ],
   "source": [
    "base_eval_ds = dataset.map(\n",
    "    partial(embed, model_name=base_model_name),\n",
    "    batch_size=batch_size, \n",
    "    batched=True,\n",
    ")"
   ]
  },
  {
   "cell_type": "code",
   "execution_count": 7,
   "id": "908fd3a1-d705-4da3-8d0c-42268b112bc8",
   "metadata": {},
   "outputs": [
    {
     "data": {
      "application/vnd.jupyter.widget-view+json": {
       "model_id": "ed96054c8cb448c7a42b5ec9d235bf2d",
       "version_major": 2,
       "version_minor": 0
      },
      "text/plain": [
       "Map (num_proc=100):   0%|          | 0/18381 [00:00<?, ? examples/s]"
      ]
     },
     "metadata": {},
     "output_type": "display_data"
    }
   ],
   "source": [
    "base_eval_ds = base_eval_ds.map(calc_cos_sim, num_proc=100)"
   ]
  },
  {
   "cell_type": "markdown",
   "id": "ae9bd6f2-51d9-4d52-89ab-a931806aa1e7",
   "metadata": {},
   "source": [
    "### Evaluation (using base model)"
   ]
  },
  {
   "cell_type": "code",
   "execution_count": 8,
   "id": "40990086-b854-4cce-a8ec-bc4faacb482f",
   "metadata": {},
   "outputs": [
    {
     "data": {
      "text/plain": [
       "1"
      ]
     },
     "execution_count": 8,
     "metadata": {},
     "output_type": "execute_result"
    },
    {
     "data": {
      "image/png": "[encoded data removed]",
      "text/plain": [
       "<Figure size 640x480 with 1 Axes>"
      ]
     },
     "metadata": {},
     "output_type": "display_data"
    }
   ],
   "source": [
    "plt.hist(base_eval_ds[\"similarity\"], bins=300, range=(-0.5, 1.0)); 1"
   ]
  },
  {
   "cell_type": "markdown",
   "id": "1e76eafa-62a3-4aef-81c3-4c33eb2236ed",
   "metadata": {},
   "source": [
    "### Evaluation (after tuning)"
   ]
  },
  {
   "cell_type": "code",
   "execution_count": 9,
   "id": "4e6a586e-e468-450d-9d2d-4b0538d8aaf1",
   "metadata": {
    "scrolled": true
   },
   "outputs": [
    {
     "data": {
      "application/vnd.jupyter.widget-view+json": {
       "model_id": "02dd133dba464c2580f6bc8f70ff25d9",
       "version_major": 2,
       "version_minor": 0
      },
      "text/plain": [
       "Map:   0%|          | 0/18381 [00:00<?, ? examples/s]"
      ]
     },
     "metadata": {},
     "output_type": "display_data"
    },
    {
     "data": {
      "application/vnd.jupyter.widget-view+json": {
       "model_id": "4a9add7b94474536be24d2fb7946eef0",
       "version_major": 2,
       "version_minor": 0
      },
      "text/plain": [
       "Downloading (…)3e094/.gitattributes:   0%|          | 0.00/1.52k [00:00<?, ?B/s]"
      ]
     },
     "metadata": {},
     "output_type": "display_data"
    },
    {
     "data": {
      "application/vnd.jupyter.widget-view+json": {
       "model_id": "3ee794851e344071a08cf90aaed28ebc",
       "version_major": 2,
       "version_minor": 0
      },
      "text/plain": [
       "Downloading (…)README-checkpoint.md:   0%|          | 0.00/3.29k [00:00<?, ?B/s]"
      ]
     },
     "metadata": {},
     "output_type": "display_data"
    },
    {
     "data": {
      "application/vnd.jupyter.widget-view+json": {
       "model_id": "165a98cacf0a41f09d6cc71bbdafd5cd",
       "version_major": 2,
       "version_minor": 0
      },
      "text/plain": [
       "Downloading (…)_Pooling/config.json:   0%|          | 0.00/190 [00:00<?, ?B/s]"
      ]
     },
     "metadata": {},
     "output_type": "display_data"
    },
    {
     "data": {
      "application/vnd.jupyter.widget-view+json": {
       "model_id": "e722f34584c34d6b904f01ca3a35eaa4",
       "version_major": 2,
       "version_minor": 0
      },
      "text/plain": [
       "Downloading (…)24_Dense/config.json:   0%|          | 0.00/115 [00:00<?, ?B/s]"
      ]
     },
     "metadata": {},
     "output_type": "display_data"
    },
    {
     "data": {
      "application/vnd.jupyter.widget-view+json": {
       "model_id": "4d04faace35e45728f123a944034b9ef",
       "version_major": 2,
       "version_minor": 0
      },
      "text/plain": [
       "Downloading pytorch_model.bin:   0%|          | 0.00/4.72M [00:00<?, ?B/s]"
      ]
     },
     "metadata": {},
     "output_type": "display_data"
    },
    {
     "data": {
      "application/vnd.jupyter.widget-view+json": {
       "model_id": "d888e6c734514cc19b7ceacd74905ba2",
       "version_major": 2,
       "version_minor": 0
      },
      "text/plain": [
       "Downloading (…)16_Dense/config.json:   0%|          | 0.00/115 [00:00<?, ?B/s]"
      ]
     },
     "metadata": {},
     "output_type": "display_data"
    },
    {
     "data": {
      "application/vnd.jupyter.widget-view+json": {
       "model_id": "72dcfec095c9468f8f3e4270c5f32a6d",
       "version_major": 2,
       "version_minor": 0
      },
      "text/plain": [
       "Downloading pytorch_model.bin:   0%|          | 0.00/4.73M [00:00<?, ?B/s]"
      ]
     },
     "metadata": {},
     "output_type": "display_data"
    },
    {
     "data": {
      "application/vnd.jupyter.widget-view+json": {
       "model_id": "086a25bff9bd4872bed6180718ded7de",
       "version_major": 2,
       "version_minor": 0
      },
      "text/plain": [
       "Downloading (…)12_Dense/config.json:   0%|          | 0.00/116 [00:00<?, ?B/s]"
      ]
     },
     "metadata": {},
     "output_type": "display_data"
    },
    {
     "data": {
      "application/vnd.jupyter.widget-view+json": {
       "model_id": "40b8cb0a64524e63908de728f6e84b01",
       "version_major": 2,
       "version_minor": 0
      },
      "text/plain": [
       "Downloading pytorch_model.bin:   0%|          | 0.00/9.44M [00:00<?, ?B/s]"
      ]
     },
     "metadata": {},
     "output_type": "display_data"
    },
    {
     "data": {
      "application/vnd.jupyter.widget-view+json": {
       "model_id": "cb528314cee9404db6b340322f70f37d",
       "version_major": 2,
       "version_minor": 0
      },
      "text/plain": [
       "Downloading (…)_Dropout/config.json:   0%|          | 0.00/16.0 [00:00<?, ?B/s]"
      ]
     },
     "metadata": {},
     "output_type": "display_data"
    },
    {
     "data": {
      "application/vnd.jupyter.widget-view+json": {
       "model_id": "b8599c2241f84422ba74ca08d891275b",
       "version_major": 2,
       "version_minor": 0
      },
      "text/plain": [
       "Downloading (…)76_Dense/config.json:   0%|          | 0.00/116 [00:00<?, ?B/s]"
      ]
     },
     "metadata": {},
     "output_type": "display_data"
    },
    {
     "data": {
      "application/vnd.jupyter.widget-view+json": {
       "model_id": "4c5322a0bd9040e9926487654161fc9a",
       "version_major": 2,
       "version_minor": 0
      },
      "text/plain": [
       "Downloading pytorch_model.bin:   0%|          | 0.00/9.44M [00:00<?, ?B/s]"
      ]
     },
     "metadata": {},
     "output_type": "display_data"
    },
    {
     "data": {
      "application/vnd.jupyter.widget-view+json": {
       "model_id": "87b936995736486f813506abd18f668f",
       "version_major": 2,
       "version_minor": 0
      },
      "text/plain": [
       "Downloading (…)64_Dense/config.json:   0%|          | 0.00/115 [00:00<?, ?B/s]"
      ]
     },
     "metadata": {},
     "output_type": "display_data"
    },
    {
     "data": {
      "application/vnd.jupyter.widget-view+json": {
       "model_id": "00c1d9f7bfad4c13a1dc1c4cdd1f667a",
       "version_major": 2,
       "version_minor": 0
      },
      "text/plain": [
       "Downloading pytorch_model.bin:   0%|          | 0.00/4.73M [00:00<?, ?B/s]"
      ]
     },
     "metadata": {},
     "output_type": "display_data"
    },
    {
     "data": {
      "application/vnd.jupyter.widget-view+json": {
       "model_id": "e156028425b24de983768f0a9958f698",
       "version_major": 2,
       "version_minor": 0
      },
      "text/plain": [
       "Downloading (…)96_Dense/config.json:   0%|          | 0.00/116 [00:00<?, ?B/s]"
      ]
     },
     "metadata": {},
     "output_type": "display_data"
    },
    {
     "data": {
      "application/vnd.jupyter.widget-view+json": {
       "model_id": "e074079dab7d4a66b8a3a70538b353e5",
       "version_major": 2,
       "version_minor": 0
      },
      "text/plain": [
       "Downloading pytorch_model.bin:   0%|          | 0.00/9.44M [00:00<?, ?B/s]"
      ]
     },
     "metadata": {},
     "output_type": "display_data"
    },
    {
     "data": {
      "application/vnd.jupyter.widget-view+json": {
       "model_id": "c807d89ed3ce4bbd9a4b1f3d7f98b0ac",
       "version_major": 2,
       "version_minor": 0
      },
      "text/plain": [
       "Downloading (…)_Dropout/config.json:   0%|          | 0.00/16.0 [00:00<?, ?B/s]"
      ]
     },
     "metadata": {},
     "output_type": "display_data"
    },
    {
     "data": {
      "application/vnd.jupyter.widget-view+json": {
       "model_id": "dc030dbd4ab94c5b8052fc2bbde4997d",
       "version_major": 2,
       "version_minor": 0
      },
      "text/plain": [
       "Downloading (…)08_Dense/config.json:   0%|          | 0.00/116 [00:00<?, ?B/s]"
      ]
     },
     "metadata": {},
     "output_type": "display_data"
    },
    {
     "data": {
      "application/vnd.jupyter.widget-view+json": {
       "model_id": "99d89d1e803144898c25051f035b6fbf",
       "version_major": 2,
       "version_minor": 0
      },
      "text/plain": [
       "Downloading pytorch_model.bin:   0%|          | 0.00/9.44M [00:00<?, ?B/s]"
      ]
     },
     "metadata": {},
     "output_type": "display_data"
    },
    {
     "data": {
      "application/vnd.jupyter.widget-view+json": {
       "model_id": "344474391bbc48d988777d1a46e62ecb",
       "version_major": 2,
       "version_minor": 0
      },
      "text/plain": [
       "Downloading (…)20_Dense/config.json:   0%|          | 0.00/115 [00:00<?, ?B/s]"
      ]
     },
     "metadata": {},
     "output_type": "display_data"
    },
    {
     "data": {
      "application/vnd.jupyter.widget-view+json": {
       "model_id": "7484588e61994f12894b154280bf234a",
       "version_major": 2,
       "version_minor": 0
      },
      "text/plain": [
       "Downloading pytorch_model.bin:   0%|          | 0.00/4.72M [00:00<?, ?B/s]"
      ]
     },
     "metadata": {},
     "output_type": "display_data"
    },
    {
     "data": {
      "application/vnd.jupyter.widget-view+json": {
       "model_id": "87f0ce803ab945618e51a1d89a59a672",
       "version_major": 2,
       "version_minor": 0
      },
      "text/plain": [
       "Downloading (…)4/2_Asym/config.json:   0%|          | 0.00/1.13k [00:00<?, ?B/s]"
      ]
     },
     "metadata": {},
     "output_type": "display_data"
    },
    {
     "data": {
      "application/vnd.jupyter.widget-view+json": {
       "model_id": "7078562523984d4ea7eaffa8b4d3f9a4",
       "version_major": 2,
       "version_minor": 0
      },
      "text/plain": [
       "Downloading (…)a6f52323e094/LICENSE:   0%|          | 0.00/1.06k [00:00<?, ?B/s]"
      ]
     },
     "metadata": {},
     "output_type": "display_data"
    },
    {
     "data": {
      "application/vnd.jupyter.widget-view+json": {
       "model_id": "a861bf873d99405aa3f4609360816809",
       "version_major": 2,
       "version_minor": 0
      },
      "text/plain": [
       "Downloading (…)f52323e094/README.md:   0%|          | 0.00/11.2k [00:00<?, ?B/s]"
      ]
     },
     "metadata": {},
     "output_type": "display_data"
    },
    {
     "data": {
      "application/vnd.jupyter.widget-view+json": {
       "model_id": "fa8fac7537f6431fa26267ae5554deda",
       "version_major": 2,
       "version_minor": 0
      },
      "text/plain": [
       "Downloading (…)94/added_tokens.json:   0%|          | 0.00/82.0 [00:00<?, ?B/s]"
      ]
     },
     "metadata": {},
     "output_type": "display_data"
    },
    {
     "data": {
      "application/vnd.jupyter.widget-view+json": {
       "model_id": "0c66675047544eb8908461985d09a432",
       "version_major": 2,
       "version_minor": 0
      },
      "text/plain": [
       "Downloading (…)2323e094/config.json:   0%|          | 0.00/782 [00:00<?, ?B/s]"
      ]
     },
     "metadata": {},
     "output_type": "display_data"
    },
    {
     "data": {
      "application/vnd.jupyter.widget-view+json": {
       "model_id": "1d5a061ec8df4ba183739739521403aa",
       "version_major": 2,
       "version_minor": 0
      },
      "text/plain": [
       "Downloading (…)ce_transformers.json:   0%|          | 0.00/124 [00:00<?, ?B/s]"
      ]
     },
     "metadata": {},
     "output_type": "display_data"
    },
    {
     "data": {
      "application/vnd.jupyter.widget-view+json": {
       "model_id": "2a34c6639f344321955977b12f71c2b6",
       "version_major": 2,
       "version_minor": 0
      },
      "text/plain": [
       "Downloading (…)e094/data_prep.ipynb:   0%|          | 0.00/28.2k [00:00<?, ?B/s]"
      ]
     },
     "metadata": {},
     "output_type": "display_data"
    },
    {
     "data": {
      "application/vnd.jupyter.widget-view+json": {
       "model_id": "b808ac265f714647af48b03091453a6d",
       "version_major": 2,
       "version_minor": 0
      },
      "text/plain": [
       "Downloading (…)23e094/data_prep.pdf:   0%|          | 0.00/63.1k [00:00<?, ?B/s]"
      ]
     },
     "metadata": {},
     "output_type": "display_data"
    },
    {
     "data": {
      "application/vnd.jupyter.widget-view+json": {
       "model_id": "9e02fe71f0944546a18e0715071e4aa4",
       "version_major": 2,
       "version_minor": 0
      },
      "text/plain": [
       "Downloading (…)sults-checkpoint.csv:   0%|          | 0.00/1.60k [00:00<?, ?B/s]"
      ]
     },
     "metadata": {},
     "output_type": "display_data"
    },
    {
     "data": {
      "application/vnd.jupyter.widget-view+json": {
       "model_id": "f5c400b94d55464fb50bfc2d0763b2de",
       "version_major": 2,
       "version_minor": 0
      },
      "text/plain": [
       "Downloading (…)aluation_results.csv:   0%|          | 0.00/1.60k [00:00<?, ?B/s]"
      ]
     },
     "metadata": {},
     "output_type": "display_data"
    },
    {
     "data": {
      "application/vnd.jupyter.widget-view+json": {
       "model_id": "a07b467e5db140f38a95f7afa52f0086",
       "version_major": 2,
       "version_minor": 0
      },
      "text/plain": [
       "Downloading pytorch_model.bin:   0%|          | 0.00/438M [00:00<?, ?B/s]"
      ]
     },
     "metadata": {},
     "output_type": "display_data"
    },
    {
     "data": {
      "application/vnd.jupyter.widget-view+json": {
       "model_id": "28bbd1d521484f9eb95ce84431bb9f96",
       "version_major": 2,
       "version_minor": 0
      },
      "text/plain": [
       "Downloading (…)nce_bert_config.json:   0%|          | 0.00/52.0 [00:00<?, ?B/s]"
      ]
     },
     "metadata": {},
     "output_type": "display_data"
    },
    {
     "data": {
      "application/vnd.jupyter.widget-view+json": {
       "model_id": "2ed9d382490b4f1a9736a1712d8e71cc",
       "version_major": 2,
       "version_minor": 0
      },
      "text/plain": [
       "Downloading (…)cial_tokens_map.json:   0%|          | 0.00/125 [00:00<?, ?B/s]"
      ]
     },
     "metadata": {},
     "output_type": "display_data"
    },
    {
     "data": {
      "application/vnd.jupyter.widget-view+json": {
       "model_id": "6ab98dcfdd5249f5b303fcfffd735e08",
       "version_major": 2,
       "version_minor": 0
      },
      "text/plain": [
       "Downloading (…)3e094/tokenizer.json:   0%|          | 0.00/712k [00:00<?, ?B/s]"
      ]
     },
     "metadata": {},
     "output_type": "display_data"
    },
    {
     "data": {
      "application/vnd.jupyter.widget-view+json": {
       "model_id": "a8782be3a6ac4178ae0d8087d4ae457e",
       "version_major": 2,
       "version_minor": 0
      },
      "text/plain": [
       "Downloading (…)okenizer_config.json:   0%|          | 0.00/1.28k [00:00<?, ?B/s]"
      ]
     },
     "metadata": {},
     "output_type": "display_data"
    },
    {
     "data": {
      "application/vnd.jupyter.widget-view+json": {
       "model_id": "ea87180a64d04f84958bd7f8f0facecb",
       "version_major": 2,
       "version_minor": 0
      },
      "text/plain": [
       "Downloading (…)3e094/training.ipynb:   0%|          | 0.00/13.6k [00:00<?, ?B/s]"
      ]
     },
     "metadata": {},
     "output_type": "display_data"
    },
    {
     "data": {
      "application/vnd.jupyter.widget-view+json": {
       "model_id": "8d6ffe5ccbf146049251522550508fe9",
       "version_major": 2,
       "version_minor": 0
      },
      "text/plain": [
       "Downloading (…)323e094/training.pdf:   0%|          | 0.00/46.1k [00:00<?, ?B/s]"
      ]
     },
     "metadata": {},
     "output_type": "display_data"
    },
    {
     "data": {
      "application/vnd.jupyter.widget-view+json": {
       "model_id": "183275534ffe4e088458a55c76a2a7f2",
       "version_major": 2,
       "version_minor": 0
      },
      "text/plain": [
       "Downloading (…)f52323e094/vocab.txt:   0%|          | 0.00/232k [00:00<?, ?B/s]"
      ]
     },
     "metadata": {},
     "output_type": "display_data"
    },
    {
     "data": {
      "application/vnd.jupyter.widget-view+json": {
       "model_id": "e1413e843f6e4a7eb02f4a4b687d79af",
       "version_major": 2,
       "version_minor": 0
      },
      "text/plain": [
       "Downloading (…)323e094/modules.json:   0%|          | 0.00/339 [00:00<?, ?B/s]"
      ]
     },
     "metadata": {},
     "output_type": "display_data"
    },
    {
     "name": "stderr",
     "output_type": "stream",
     "text": [
      "Special tokens have been added in the vocabulary, make sure the associated word embeddings are fine-tuned or trained.\n",
      "Special tokens have been added in the vocabulary, make sure the associated word embeddings are fine-tuned or trained.\n",
      "Special tokens have been added in the vocabulary, make sure the associated word embeddings are fine-tuned or trained.\n",
      "Special tokens have been added in the vocabulary, make sure the associated word embeddings are fine-tuned or trained.\n"
     ]
    }
   ],
   "source": [
    "custom_embed = partial(embed, model_name=custom_model_name, wrap_items=True)\n",
    "custom_eval_ds = dataset.map(custom_embed, batched=True, batch_size=batch_size)"
   ]
  },
  {
   "cell_type": "code",
   "execution_count": 10,
   "id": "211dccad-a6b9-4221-bc5d-6205d9949d81",
   "metadata": {},
   "outputs": [
    {
     "data": {
      "application/vnd.jupyter.widget-view+json": {
       "model_id": "86b5ca33cac2460daaa35c0361d5c950",
       "version_major": 2,
       "version_minor": 0
      },
      "text/plain": [
       "Map (num_proc=100):   0%|          | 0/18381 [00:00<?, ? examples/s]"
      ]
     },
     "metadata": {},
     "output_type": "display_data"
    }
   ],
   "source": [
    "custom_eval_ds = custom_eval_ds.map(calc_cos_sim, num_proc=100)"
   ]
  },
  {
   "cell_type": "code",
   "execution_count": 11,
   "id": "e76be2e2-c7c5-4833-acf8-119a72ec6ac3",
   "metadata": {},
   "outputs": [
    {
     "data": {
      "text/plain": [
       "1"
      ]
     },
     "execution_count": 11,
     "metadata": {},
     "output_type": "execute_result"
    },
    {
     "data": {
      "image/png": "[encoded data removed]",
      "text/plain": [
       "<Figure size 640x480 with 1 Axes>"
      ]
     },
     "metadata": {},
     "output_type": "display_data"
    }
   ],
   "source": [
    "plt.hist(custom_eval_ds[\"similarity\"], bins=300, range=(-0.5, 1.0)); 1"
   ]
  },
  {
   "cell_type": "code",
   "execution_count": 5,
   "id": "6822184d",
   "metadata": {},
   "outputs": [],
   "source": [
    "beir_model = DRES(models.SentenceBERT(base_model_name), batch_size=batch_size)"
   ]
  },
  {
   "cell_type": "code",
   "execution_count": 6,
   "id": "e79c9fc2",
   "metadata": {},
   "outputs": [],
   "source": [
    "beir_retriever = EvaluateRetrieval(beir_model, score_function=\"cos_sim\")"
   ]
  },
  {
   "cell_type": "code",
   "execution_count": 7,
   "id": "a6b47978",
   "metadata": {},
   "outputs": [],
   "source": [
    "hash_str = lambda x: base64.urlsafe_b64encode(hashlib.md5(x.encode()).digest()).decode(\"utf-8\")"
   ]
  },
  {
   "cell_type": "code",
   "execution_count": 8,
   "id": "8ad3d76f",
   "metadata": {},
   "outputs": [
    {
     "data": {
      "application/vnd.jupyter.widget-view+json": {
       "model_id": "9cbcfa7c8a8844ed8bae6673db3223a0",
       "version_major": 2,
       "version_minor": 0
      },
      "text/plain": [
       "  0%|          | 0/18381 [00:00<?, ?it/s]"
      ]
     },
     "metadata": {},
     "output_type": "display_data"
    }
   ],
   "source": [
    "corpus, queries, qrels = {}, {}, {}\n",
    "\n",
    "for row in tqdm(dataset):\n",
    "    dialogue = row[\"dialogue\"]\n",
    "    summary = row[\"summary\"]\n",
    "    dialogue_hash = hash_str(dialogue)\n",
    "    summary_hash = hash_str(summary)\n",
    "\n",
    "    corpus[dialogue_hash] = dict(text=dialogue)\n",
    "    queries[summary_hash] = summary\n",
    "    qrels[summary_hash] = {dialogue_hash: 1}"
   ]
  },
  {
   "cell_type": "code",
   "execution_count": 9,
   "id": "f6d39ac1",
   "metadata": {},
   "outputs": [
    {
     "data": {
      "application/vnd.jupyter.widget-view+json": {
       "model_id": "5733d87d586a4cfabc49cfff869113cd",
       "version_major": 2,
       "version_minor": 0
      },
      "text/plain": [
       "Batches:   0%|          | 0/7 [00:00<?, ?it/s]"
      ]
     },
     "metadata": {},
     "output_type": "display_data"
    },
    {
     "data": {
      "application/vnd.jupyter.widget-view+json": {
       "model_id": "01fdbcf7b8e743cdb2aee268697853f6",
       "version_major": 2,
       "version_minor": 0
      },
      "text/plain": [
       "Batches:   0%|          | 0/17 [00:00<?, ?it/s]"
      ]
     },
     "metadata": {},
     "output_type": "display_data"
    }
   ],
   "source": [
    "results = beir_retriever.retrieve(corpus, queries)"
   ]
  },
  {
   "cell_type": "code",
   "execution_count": 11,
   "id": "bced8bc3",
   "metadata": {},
   "outputs": [],
   "source": [
    "ndcg, _map, recall, precision = beir_retriever.evaluate(qrels, results, beir_retriever.k_values)"
   ]
  },
  {
   "cell_type": "code",
   "execution_count": 12,
   "id": "61087788",
   "metadata": {},
   "outputs": [
    {
     "data": {
      "text/plain": [
       "({'NDCG@1': 0.12698,\n",
       "  'NDCG@3': 0.48957,\n",
       "  'NDCG@5': 0.51238,\n",
       "  'NDCG@10': 0.52607,\n",
       "  'NDCG@100': 0.54023,\n",
       "  'NDCG@1000': 0.5455},\n",
       " {'MAP@1': 0.12698,\n",
       "  'MAP@3': 0.38645,\n",
       "  'MAP@5': 0.39921,\n",
       "  'MAP@10': 0.40479,\n",
       "  'MAP@100': 0.40759,\n",
       "  'MAP@1000': 0.40782},\n",
       " {'Recall@1': 0.12698,\n",
       "  'Recall@3': 0.79365,\n",
       "  'Recall@5': 0.8486,\n",
       "  'Recall@10': 0.89133,\n",
       "  'Recall@100': 0.95849,\n",
       "  'Recall@1000': 0.99878},\n",
       " {'P@1': 0.12698,\n",
       "  'P@3': 0.26455,\n",
       "  'P@5': 0.16972,\n",
       "  'P@10': 0.08913,\n",
       "  'P@100': 0.00958,\n",
       "  'P@1000': 0.001})"
      ]
     },
     "execution_count": 12,
     "metadata": {},
     "output_type": "execute_result"
    }
   ],
   "source": [
    "ndcg, _map, recall, precision"
   ]
  },
  {
   "cell_type": "code",
   "execution_count": 13,
   "id": "4952d20c",
   "metadata": {},
   "outputs": [
    {
     "name": "stderr",
     "output_type": "stream",
     "text": [
      "Special tokens have been added in the vocabulary, make sure the associated word embeddings are fine-tuned or trained.\n"
     ]
    }
   ],
   "source": [
    "class CustomDEModel:\n",
    "    def __init__(self, model_path=None, **kwargs):\n",
    "        self.model = SentenceTransformer(model_path)\n",
    "    \n",
    "    def encode(self, items: list[dict[str, str]], batch_size: int, **kwargs) -> np.ndarray:\n",
    "        return self.model.encode(items, batch_size=batch_size, **kwargs)\n",
    "        \n",
    "    # query function (Returns: Query embeddings as numpy array)\n",
    "    def encode_queries(self, queries: list[str], batch_size: int, **kwargs) -> np.ndarray:\n",
    "        facts = [dict(fact=query) for query in queries]\n",
    "\n",
    "        return self.encode(facts, batch_size=batch_size, **kwargs)\n",
    "    \n",
    "    # corpus function (Returns: Document embeddings as numpy array)  \n",
    "    def encode_corpus(self, corpus: list[dict[str, str]], batch_size: int, **kwargs) -> np.ndarray:\n",
    "        dialogs = [dict(dialog=item[\"text\"]) for item in corpus]\n",
    "\n",
    "        return self.encode(dialogs, batch_size=batch_size, **kwargs)\n",
    "\n",
    "custom_model = DRES(CustomDEModel(model_path=custom_model_name), batch_size=batch_size)"
   ]
  },
  {
   "cell_type": "code",
   "execution_count": 14,
   "id": "16adb152",
   "metadata": {},
   "outputs": [
    {
     "data": {
      "application/vnd.jupyter.widget-view+json": {
       "model_id": "a716228eee2e4c8cbde6cbdf04b5140b",
       "version_major": 2,
       "version_minor": 0
      },
      "text/plain": [
       "Batches:   0%|          | 0/7 [00:00<?, ?it/s]"
      ]
     },
     "metadata": {},
     "output_type": "display_data"
    },
    {
     "data": {
      "application/vnd.jupyter.widget-view+json": {
       "model_id": "86c11834559841ffa01b54213242a418",
       "version_major": 2,
       "version_minor": 0
      },
      "text/plain": [
       "Batches:   0%|          | 0/17 [00:00<?, ?it/s]"
      ]
     },
     "metadata": {},
     "output_type": "display_data"
    }
   ],
   "source": [
    "custom_retriever = EvaluateRetrieval(custom_model, score_function=\"cos_sim\")\n",
    "custom_results = custom_retriever.retrieve(corpus, queries)"
   ]
  },
  {
   "cell_type": "code",
   "execution_count": 17,
   "id": "dba054f1",
   "metadata": {},
   "outputs": [
    {
     "data": {
      "text/plain": [
       "({'NDCG@1': 0.05372,\n",
       "  'NDCG@3': 0.10694,\n",
       "  'NDCG@5': 0.1361,\n",
       "  'NDCG@10': 0.17224,\n",
       "  'NDCG@100': 0.26597,\n",
       "  'NDCG@1000': 0.29186},\n",
       " {'MAP@1': 0.05372,\n",
       "  'MAP@3': 0.09259,\n",
       "  'MAP@5': 0.10877,\n",
       "  'MAP@10': 0.12334,\n",
       "  'MAP@100': 0.14103,\n",
       "  'MAP@1000': 0.14203},\n",
       " {'Recall@1': 0.05372,\n",
       "  'Recall@3': 0.14896,\n",
       "  'Recall@5': 0.21978,\n",
       "  'Recall@10': 0.33333,\n",
       "  'Recall@100': 0.79121,\n",
       "  'Recall@1000': 0.99389},\n",
       " {'P@1': 0.05372,\n",
       "  'P@3': 0.04965,\n",
       "  'P@5': 0.04396,\n",
       "  'P@10': 0.03333,\n",
       "  'P@100': 0.00791,\n",
       "  'P@1000': 0.00099})"
      ]
     },
     "execution_count": 17,
     "metadata": {},
     "output_type": "execute_result"
    }
   ],
   "source": [
    "custom_ndcg, custom_map, custom_recall, custom_precision = custom_retriever.evaluate(qrels, custom_results, custom_retriever.k_values)\n",
    "custom_ndcg, custom_map, custom_recall, custom_precision"
   ]
  },
  {
   "cell_type": "code",
   "execution_count": null,
   "id": "2d213b94",
   "metadata": {},
   "outputs": [],
   "source": []
  }
 ],
 "metadata": {
  "kernelspec": {
   "display_name": "Python 3 (ipykernel)",
   "language": "python",
   "name": "python3"
  },
  "language_info": {
   "codemirror_mode": {
    "name": "ipython",
    "version": 3
   },
   "file_extension": ".py",
   "mimetype": "text/x-python",
   "name": "python",
   "nbconvert_exporter": "python",
   "pygments_lexer": "ipython3",
   "version": "3.10.12"
  }
 },
 "nbformat": 4,
 "nbformat_minor": 5
}
